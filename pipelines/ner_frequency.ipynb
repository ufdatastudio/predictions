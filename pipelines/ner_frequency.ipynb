{
 "cells": [
  {
   "cell_type": "markdown",
   "id": "1b47b81c",
   "metadata": {},
   "source": [
    "# NER Frequency\n",
    "\n",
    "1. Read csv files and load as df\n",
    "2. Use Spacy to extract NERs\n",
    "3. Count the frequency of each NER or NERs of interests"
   ]
  },
  {
   "cell_type": "code",
   "execution_count": 1,
   "id": "89739637",
   "metadata": {},
   "outputs": [],
   "source": [
    "import os, sys\n",
    "\n",
    "import numpy as np\n",
    "import pandas as pd\n",
    "\n",
    "from tqdm import tqdm\n",
    "\n",
    "# Get the current working directory of the notebook\n",
    "notebook_dir = os.getcwd()\n",
    "# Add the parent directory to the system path\n",
    "sys.path.append(os.path.join(notebook_dir, '../'))\n",
    "\n",
    "import log_files\n",
    "from log_files import LogData\n",
    "from data_processing import DataProcessing\n",
    "from feature_extraction import SpacyFeatureExtraction"
   ]
  },
  {
   "cell_type": "code",
   "execution_count": 2,
   "id": "ac10916e",
   "metadata": {},
   "outputs": [],
   "source": [
    "pd.set_option('max_colwidth', 800)\n",
    "pd.set_option('display.max_columns', None)\n",
    "pd.set_option('display.max_rows', None)"
   ]
  },
  {
   "cell_type": "markdown",
   "id": "561302a3",
   "metadata": {},
   "source": [
    "## Read csv files and load as df"
   ]
  },
  {
   "cell_type": "code",
   "execution_count": 3,
   "id": "28f2ba89",
   "metadata": {},
   "outputs": [
    {
     "name": "stdout",
     "output_type": "stream",
     "text": [
      "Start logging batch\n",
<<<<<<< Updated upstream
      "log_directory: /Users/detraviousjamaribrinkley/Documents/Development/research_labs/uf_ds/predictions/pipelines/../data/prediction_logs\n"
=======
      "log_directory: /Users/detraviousjamaribrinkley/Documents/Development/research_labs/uf_ds/predictions/pipelines/../data/prediction_logs\n",
      "save_batch_directory: /Users/detraviousjamaribrinkley/Documents/Development/research_labs/uf_ds/predictions/pipelines/../data/prediction_logs/batch_1-prediction\n",
      "CSV to DF\n",
      "Load saved csv: /Users/detraviousjamaribrinkley/Documents/Development/research_labs/uf_ds/predictions/pipelines/../data/prediction_logs/batch_1-prediction/batch_1-from_df.csv\n",
      "save_batch_directory: /Users/detraviousjamaribrinkley/Documents/Development/research_labs/uf_ds/predictions/pipelines/../data/prediction_logs/batch_2-prediction\n",
      "CSV to DF\n",
      "Load saved csv: /Users/detraviousjamaribrinkley/Documents/Development/research_labs/uf_ds/predictions/pipelines/../data/prediction_logs/batch_2-prediction/batch_2-from_df.csv\n",
      "save_batch_directory: /Users/detraviousjamaribrinkley/Documents/Development/research_labs/uf_ds/predictions/pipelines/../data/prediction_logs/batch_3-prediction\n",
      "CSV to DF\n",
      "Load saved csv: /Users/detraviousjamaribrinkley/Documents/Development/research_labs/uf_ds/predictions/pipelines/../data/prediction_logs/batch_3-prediction/batch_3-from_df.csv\n",
      "save_batch_directory: /Users/detraviousjamaribrinkley/Documents/Development/research_labs/uf_ds/predictions/pipelines/../data/prediction_logs/batch_4-prediction\n",
      "CSV to DF\n",
      "Load saved csv: /Users/detraviousjamaribrinkley/Documents/Development/research_labs/uf_ds/predictions/pipelines/../data/prediction_logs/batch_4-prediction/batch_4-from_df.csv\n",
      "save_batch_directory: /Users/detraviousjamaribrinkley/Documents/Development/research_labs/uf_ds/predictions/pipelines/../data/prediction_logs/batch_5-prediction\n",
      "CSV to DF\n",
      "Load saved csv: /Users/detraviousjamaribrinkley/Documents/Development/research_labs/uf_ds/predictions/pipelines/../data/prediction_logs/batch_5-prediction/batch_5-from_df.csv\n",
      "save_batch_directory: /Users/detraviousjamaribrinkley/Documents/Development/research_labs/uf_ds/predictions/pipelines/../data/prediction_logs/batch_6-prediction\n",
      "CSV to DF\n",
      "Load saved csv: /Users/detraviousjamaribrinkley/Documents/Development/research_labs/uf_ds/predictions/pipelines/../data/prediction_logs/batch_6-prediction/batch_6-from_df.csv\n"
>>>>>>> Stashed changes
     ]
    },
    {
     "ename": "FileNotFoundError",
     "evalue": "[Errno 2] No such file or directory: '/Users/detraviousjamaribrinkley/Documents/Development/research_labs/uf_ds/predictions/pipelines/../data/prediction_logs'",
     "output_type": "error",
     "traceback": [
      "\u001b[31m---------------------------------------------------------------------------\u001b[39m",
      "\u001b[31mFileNotFoundError\u001b[39m                         Traceback (most recent call last)",
      "\u001b[36mCell\u001b[39m\u001b[36m \u001b[39m\u001b[32mIn[3]\u001b[39m\u001b[32m, line 3\u001b[39m\n\u001b[32m      1\u001b[39m log_file_path = \u001b[33m\"\u001b[39m\u001b[33mdata/prediction_logs\u001b[39m\u001b[33m\"\u001b[39m\n\u001b[32m      2\u001b[39m predictions = \u001b[38;5;28;01mTrue\u001b[39;00m\n\u001b[32m----> \u001b[39m\u001b[32m3\u001b[39m predictions_df = \u001b[43mlog_files\u001b[49m\u001b[43m.\u001b[49m\u001b[43mread_data\u001b[49m\u001b[43m(\u001b[49m\u001b[43mnotebook_dir\u001b[49m\u001b[43m,\u001b[49m\u001b[43m \u001b[49m\u001b[43mlog_file_path\u001b[49m\u001b[43m,\u001b[49m\u001b[43m \u001b[49m\u001b[43mpredictions\u001b[49m\u001b[43m)\u001b[49m\n\u001b[32m      4\u001b[39m predictions_df.head(\u001b[32m7\u001b[39m)\n",
      "\u001b[36mFile \u001b[39m\u001b[32m~/Documents/Development/research_labs/uf_ds/predictions/pipelines/../log_files.py:143\u001b[39m, in \u001b[36mread_data\u001b[39m\u001b[34m(notebook_dir, log_file_path, predictions)\u001b[39m\n\u001b[32m    140\u001b[39m log_directory = os.path.join(base_path, log_file_path)\n\u001b[32m    141\u001b[39m \u001b[38;5;28mprint\u001b[39m(\u001b[33mf\u001b[39m\u001b[33m\"\u001b[39m\u001b[33mlog_directory: \u001b[39m\u001b[38;5;132;01m{\u001b[39;00mlog_directory\u001b[38;5;132;01m}\u001b[39;00m\u001b[33m\"\u001b[39m)\n\u001b[32m--> \u001b[39m\u001b[32m143\u001b[39m N = \u001b[38;5;28mlen\u001b[39m(\u001b[43mos\u001b[49m\u001b[43m.\u001b[49m\u001b[43mlistdir\u001b[49m\u001b[43m(\u001b[49m\u001b[43mlog_directory\u001b[49m\u001b[43m)\u001b[49m)\n\u001b[32m    144\u001b[39m \u001b[38;5;66;03m# print(f\"{N}\")\u001b[39;00m\n\u001b[32m    146\u001b[39m dfs = []\n",
      "\u001b[31mFileNotFoundError\u001b[39m: [Errno 2] No such file or directory: '/Users/detraviousjamaribrinkley/Documents/Development/research_labs/uf_ds/predictions/pipelines/../data/prediction_logs'"
     ]
    }
   ],
   "source": [
    "log_file_path = \"data/prediction_logs\"\n",
    "predictions = True\n",
    "predictions_df = log_files.read_data(notebook_dir, log_file_path, predictions)\n",
    "predictions_df.head(7)"
   ]
  },
  {
   "cell_type": "markdown",
   "id": "5df21355-ceb2-4830-88c1-09f6d8b97202",
   "metadata": {
    "tags": []
   },
   "source": [
    "## Use Spacy to extract NERs"
   ]
  },
  {
   "cell_type": "code",
   "execution_count": null,
   "id": "b9b25f31",
   "metadata": {},
<<<<<<< Updated upstream
   "outputs": [],
=======
   "outputs": [
    {
     "name": "stderr",
     "output_type": "stream",
     "text": [
      "51it [00:00, 254.90it/s]"
     ]
    },
    {
     "name": "stdout",
     "output_type": "stream",
     "text": [
      "Spacy Doc (0):  JPMorgan Chase forecasts that the net profit at Amazon potentially decrease in Q3 of 2027.\n",
      "Spacy Doc (1):  On August 21, 2024, Bank of America speculates the revenue at Microsoft will likely increase.\n",
      "Spacy Doc (2):  Citigroup predicts on 2024-08-21, the operating income at Alphabet may rise.\n",
      "Spacy Doc (3):  According to Goldman Sachs, the research and development expenses at Facebook would fall in 2025.\n"
     ]
    },
    {
     "name": "stderr",
     "output_type": "stream",
     "text": [
      "562it [00:01, 472.13it/s]\n"
     ]
    }
   ],
>>>>>>> Stashed changes
   "source": [
    "disable_components = [\"\"]\n",
    "spacy_fe = SpacyFeatureExtraction(predictions_df, \"Base Sentence\")\n",
    "ner_features_df = spacy_fe.extract_ner_features(disable_components)"
   ]
  },
  {
   "cell_type": "code",
   "execution_count": null,
   "id": "680ec3b7-e4ba-4e95-a6fe-7fdd08e0c7bd",
   "metadata": {
    "tags": []
   },
   "outputs": [],
   "source": [
    "ner_features_df.head(34)"
   ]
  },
  {
   "cell_type": "markdown",
   "id": "6c8f154b-9533-4a2c-9a5a-22fefd8180ad",
   "metadata": {},
   "source": [
    "## Count the frequency of each NER or NERs of interests"
   ]
  },
  {
   "cell_type": "code",
   "execution_count": null,
   "id": "2f252f22-0008-4937-b286-65525b4baa46",
   "metadata": {},
<<<<<<< Updated upstream
   "outputs": [],
=======
   "outputs": [
    {
     "name": "stdout",
     "output_type": "stream",
     "text": [
      "Term\n",
      "Amazon                                                                  22\n",
      "Goldman Sachs                                                           18\n",
      "Microsoft                                                               15\n",
      "the Los Angeles Lakers                                                  15\n",
      "Q2                                                                      14\n",
      "the New England Patriots                                                13\n",
      "The World Health Organization                                           12\n",
      "the Boston Celtics                                                      11\n",
      "Johnson & Johnson                                                       11\n",
      "Harvard University                                                       9\n",
      "Tesla                                                                    9\n",
      "The American Heart Association                                           9\n",
      "Morgan Stanley                                                           8\n",
      "Wells Fargo                                                              8\n",
      "CDC                                                                      8\n",
      "the New York Yankees                                                     7\n",
      "the National Oceanic and Atmospheric Administration                      7\n",
      "The National Oceanic and Atmospheric Administration                      7\n",
      "The Weather Channel                                                      7\n",
      "Procter & Gamble                                                         7\n",
      "Alphabet                                                                 7\n",
      "Visa                                                                     7\n",
      "Citigroup                                                                7\n",
      "Bank of America                                                          7\n",
      "Google                                                                   6\n",
      "the Federal Reserve                                                      6\n",
      "AccuWeather                                                              6\n",
      "ExxonMobil                                                               5\n",
      "Coca-Cola                                                                5\n",
      "ESPN                                                                     5\n",
      "JPMorgan Chase                                                           5\n",
      "BlackRock                                                                5\n",
      "the World Health Organization                                            5\n",
      "JPMorgan                                                                 5\n",
      "the International Energy Agency                                          5\n",
      "the New York Giants                                                      4\n",
      "Walmart                                                                  4\n",
      "Apple                                                                    4\n",
      "NOAA                                                                     4\n",
      "the American Meteorological Society                                      3\n",
      "Cowboys                                                                  3\n",
      "the Environmental Protection Agency                                      3\n",
      "NFL                                                                      3\n",
      "Moody's                                                                  2\n",
      "the National Institutes of Health                                        2\n",
      "Tech                                                                     2\n",
      "Facebook                                                                 2\n",
      "Harvard                                                                  2\n",
      "Intel                                                                    2\n",
      "the Brookings Institution                                                2\n",
      "Research                                                                 2\n",
      "The World Bank                                                           2\n",
      "the American Heart Association                                           2\n",
      "The Federal Reserve                                                      2\n",
      "CNN                                                                      2\n",
      "GPA                                                                      2\n",
      "NIH                                                                      2\n",
      "The Weather Underground                                                  2\n",
      "Steelers                                                                 2\n",
      "The European Weather Agency                                              2\n",
      "Stanford University                                                      2\n",
      "The National Weather Service                                             2\n",
      "Chevron                                                                  2\n",
      "JP Morgan Chase                                                          2\n",
      "The Congressional Budget Office                                          2\n",
      "The Centers for Disease Control and Prevention's                         2\n",
      "The Center for Strategic and International Studies                       2\n",
      "Apple Inc.                                                               1\n",
      "FC Barcelona                                                             1\n",
      "IPO                                                                      1\n",
      "the New York Knicks                                                      1\n",
      "Fox Sports                                                               1\n",
      "MIT                                                                      1\n",
      "Financial                                                                1\n",
      "Bleacher Report                                                          1\n",
      "the University of Texas                                                  1\n",
      "Nike                                                                     1\n",
      "UBS                                                                      1\n",
      "U.S. Treasury                                                            1\n",
      "EV                                                                       1\n",
      "Green Motors Corporation                                                 1\n",
      "the Australian Bureau of Meteorology                                     1\n",
      "the New York Rangers                                                     1\n",
      "Microsoft Corporation                                                    1\n",
      "City University                                                          1\n",
      "the FC Barcelona                                                         1\n",
      "the Seattle Seahawks                                                     1\n",
      "Barclays                                                                 1\n",
      "the Toronto Raptors                                                      1\n",
      "Mavericks                                                                1\n",
      "Q2 2027                                                                  1\n",
      "Meta Platforms                                                           1\n",
      "the New York Times                                                       1\n",
      "GreenTech Solutions                                                      1\n",
      "Tech Innovators                                                          1\n",
      "AI                                                                       1\n",
      "the Chicago Bulls                                                        1\n",
      "NASA                                                                     1\n",
      "College Student                                                          1\n",
      "the Mayo Clinic                                                          1\n",
      "NBA                                                                      1\n",
      "CBS                                                                      1\n",
      "Fox News                                                                 1\n",
      "the Cleveland Cavaliers                                                  1\n",
      "the Weather Service                                                      1\n",
      "the Weather Network                                                      1\n",
      "The Brookings Institution                                                1\n",
      "WHO                                                                      1\n",
      "iPhones                                                                  1\n",
      "Boeing                                                                   1\n",
      "Tesla Motors                                                             1\n",
      "the Los Angeles Rams                                                     1\n",
      "the Weather Channel                                                      1\n",
      "the National Security Agency                                             1\n",
      "the Department of Defense                                                1\n",
      "the US Senate                                                            1\n",
      "Ford                                                                     1\n",
      "Mastercard                                                               1\n",
      "the St. Louis Weather Bureau                                             1\n",
      "the United Nations                                                       1\n",
      "the Weather Company                                                      1\n",
      "the Colorado Climate Center                                              1\n",
      "the World Meteorological Organization                                    1\n",
      "the Miami Weather Bureau                                                 1\n",
      "the Chicago Weather Bureau                                               1\n",
      "the European Central Bank                                                1\n",
      "The European Central Bank's                                              1\n",
      "The International Energy Agency                                          1\n",
      "CFO                                                                      1\n",
      "the National Bureau of Economic Research                                 1\n",
      "The Centers for Disease Control and Prevention                           1\n",
      "the Centers for Disease Control and Prevention                           1\n",
      "the University of California                                             1\n",
      "The National Institute of Health                                         1\n",
      "The National Institute of Diabetes and Digestive and Kidney Diseases     1\n",
      "Pfizer                                                                   1\n",
      "Samsung                                                                  1\n",
      "Name: count, dtype: int64\n"
     ]
    }
   ],
>>>>>>> Stashed changes
   "source": [
    "org_df = ner_features_df[ner_features_df['NER Label'] == 'ORG']\n",
    "\n",
    "# Count frequency of each 'org' entity\n",
    "org_counts = org_df['Term'].value_counts()\n",
    "\n",
    "print(org_counts)"
   ]
  },
  {
   "cell_type": "code",
   "execution_count": null,
   "id": "1a0f8fba-b85f-4658-9504-0a962b4980df",
   "metadata": {},
<<<<<<< Updated upstream
   "outputs": [],
=======
   "outputs": [
    {
     "data": {
      "text/plain": [
       "12864"
      ]
     },
     "execution_count": 7,
     "metadata": {},
     "output_type": "execute_result"
    }
   ],
>>>>>>> Stashed changes
   "source": [
    "ner_features_df.size"
   ]
  },
  {
   "cell_type": "code",
   "execution_count": null,
   "id": "3f0aabc8-10f5-4345-9aae-c646419eb37d",
   "metadata": {},
   "outputs": [],
   "source": [
    "filtered_df = ner_features_df[ner_features_df['Sentence'].str.contains('CFO', case=False, na=False)]\n",
    "filtered_df"
   ]
  },
  {
   "cell_type": "code",
   "execution_count": null,
   "id": "5891ca84-ac3b-4fd1-89ae-9973ed58c84d",
   "metadata": {},
   "outputs": [],
   "source": [
    "filtered_df = ner_features_df[ner_features_df['Sentence'].str.contains('iPhones', case=False, na=False)]\n",
    "filtered_df"
   ]
  },
  {
   "cell_type": "code",
   "execution_count": null,
   "id": "70cc44b4-0005-44d6-acfd-11dd85084cea",
   "metadata": {},
   "outputs": [],
   "source": []
  }
 ],
 "metadata": {
  "kernelspec": {
   "display_name": ".venv_predictions",
   "language": "python",
   "name": "python3"
  },
  "language_info": {
   "codemirror_mode": {
    "name": "ipython",
    "version": 3
   },
   "file_extension": ".py",
   "mimetype": "text/x-python",
   "name": "python",
   "nbconvert_exporter": "python",
   "pygments_lexer": "ipython3",
   "version": "3.11.12"
  }
 },
 "nbformat": 4,
 "nbformat_minor": 5
}
