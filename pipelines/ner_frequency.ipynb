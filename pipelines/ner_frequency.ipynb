{
 "cells": [
  {
   "cell_type": "markdown",
   "id": "1b47b81c",
   "metadata": {},
   "source": [
    "# NER Frequency\n",
    "\n",
    "1. Read csv files and load as df\n",
    "2. Use Spacy to extract NERs\n",
    "3. Count the frequency of each NER or NERs of interests"
   ]
  },
  {
   "cell_type": "code",
   "execution_count": 1,
   "id": "89739637",
   "metadata": {},
   "outputs": [],
   "source": [
    "import os, sys\n",
    "\n",
    "import numpy as np\n",
    "import pandas as pd\n",
    "\n",
    "from tqdm import tqdm\n",
    "\n",
    "# Get the current working directory of the notebook\n",
    "notebook_dir = os.getcwd()\n",
    "# Add the parent directory to the system path\n",
    "sys.path.append(os.path.join(notebook_dir, '../'))\n",
    "\n",
    "import log_files\n",
    "from log_files import LogData\n",
    "from data_processing import DataProcessing\n",
    "from feature_extraction import SpacyFeatureExtraction"
   ]
  },
  {
   "cell_type": "code",
   "execution_count": 2,
   "id": "ac10916e",
   "metadata": {},
   "outputs": [],
   "source": [
    "pd.set_option('max_colwidth', 800)\n",
    "pd.set_option('display.max_columns', None)\n",
    "pd.set_option('display.max_rows', None)"
   ]
  },
  {
   "cell_type": "markdown",
   "id": "561302a3",
   "metadata": {},
   "source": [
    "## Read csv files and load as df"
   ]
  },
  {
   "cell_type": "code",
   "execution_count": 3,
   "id": "28f2ba89",
   "metadata": {},
   "outputs": [
    {
     "name": "stdout",
     "output_type": "stream",
     "text": [
      "Start logging batch\n",
      "log_directory: /Users/detraviousjamaribrinkley/Documents/Development/research_labs/uf_ds/predictions/pipelines/../data/prediction_logs\n"
     ]
    },
    {
     "ename": "FileNotFoundError",
     "evalue": "[Errno 2] No such file or directory: '/Users/detraviousjamaribrinkley/Documents/Development/research_labs/uf_ds/predictions/pipelines/../data/prediction_logs'",
     "output_type": "error",
     "traceback": [
      "\u001b[31m---------------------------------------------------------------------------\u001b[39m",
      "\u001b[31mFileNotFoundError\u001b[39m                         Traceback (most recent call last)",
      "\u001b[36mCell\u001b[39m\u001b[36m \u001b[39m\u001b[32mIn[3]\u001b[39m\u001b[32m, line 3\u001b[39m\n\u001b[32m      1\u001b[39m log_file_path = \u001b[33m\"\u001b[39m\u001b[33mdata/prediction_logs\u001b[39m\u001b[33m\"\u001b[39m\n\u001b[32m      2\u001b[39m predictions = \u001b[38;5;28;01mTrue\u001b[39;00m\n\u001b[32m----> \u001b[39m\u001b[32m3\u001b[39m predictions_df = \u001b[43mlog_files\u001b[49m\u001b[43m.\u001b[49m\u001b[43mread_data\u001b[49m\u001b[43m(\u001b[49m\u001b[43mnotebook_dir\u001b[49m\u001b[43m,\u001b[49m\u001b[43m \u001b[49m\u001b[43mlog_file_path\u001b[49m\u001b[43m,\u001b[49m\u001b[43m \u001b[49m\u001b[43mpredictions\u001b[49m\u001b[43m)\u001b[49m\n\u001b[32m      4\u001b[39m predictions_df.head(\u001b[32m7\u001b[39m)\n",
      "\u001b[36mFile \u001b[39m\u001b[32m~/Documents/Development/research_labs/uf_ds/predictions/pipelines/../log_files.py:143\u001b[39m, in \u001b[36mread_data\u001b[39m\u001b[34m(notebook_dir, log_file_path, predictions)\u001b[39m\n\u001b[32m    140\u001b[39m log_directory = os.path.join(base_path, log_file_path)\n\u001b[32m    141\u001b[39m \u001b[38;5;28mprint\u001b[39m(\u001b[33mf\u001b[39m\u001b[33m\"\u001b[39m\u001b[33mlog_directory: \u001b[39m\u001b[38;5;132;01m{\u001b[39;00mlog_directory\u001b[38;5;132;01m}\u001b[39;00m\u001b[33m\"\u001b[39m)\n\u001b[32m--> \u001b[39m\u001b[32m143\u001b[39m N = \u001b[38;5;28mlen\u001b[39m(\u001b[43mos\u001b[49m\u001b[43m.\u001b[49m\u001b[43mlistdir\u001b[49m\u001b[43m(\u001b[49m\u001b[43mlog_directory\u001b[49m\u001b[43m)\u001b[49m)\n\u001b[32m    144\u001b[39m \u001b[38;5;66;03m# print(f\"{N}\")\u001b[39;00m\n\u001b[32m    146\u001b[39m dfs = []\n",
      "\u001b[31mFileNotFoundError\u001b[39m: [Errno 2] No such file or directory: '/Users/detraviousjamaribrinkley/Documents/Development/research_labs/uf_ds/predictions/pipelines/../data/prediction_logs'"
     ]
    }
   ],
   "source": [
    "log_file_path = \"data/prediction_logs\"\n",
    "predictions = True\n",
    "predictions_df = log_files.read_data(notebook_dir, log_file_path, predictions)\n",
    "predictions_df.head(7)"
   ]
  },
  {
   "cell_type": "markdown",
   "id": "5df21355-ceb2-4830-88c1-09f6d8b97202",
   "metadata": {
    "tags": []
   },
   "source": [
    "## Use Spacy to extract NERs"
   ]
  },
  {
   "cell_type": "code",
   "execution_count": null,
   "id": "b9b25f31",
   "metadata": {},
   "outputs": [],
   "source": [
    "disable_components = [\"\"]\n",
    "spacy_fe = SpacyFeatureExtraction(predictions_df, \"Base Sentence\")\n",
    "ner_features_df = spacy_fe.extract_ner_features(disable_components)"
   ]
  },
  {
   "cell_type": "code",
   "execution_count": null,
   "id": "680ec3b7-e4ba-4e95-a6fe-7fdd08e0c7bd",
   "metadata": {
    "tags": []
   },
   "outputs": [],
   "source": [
    "ner_features_df.head(34)"
   ]
  },
  {
   "cell_type": "markdown",
   "id": "6c8f154b-9533-4a2c-9a5a-22fefd8180ad",
   "metadata": {},
   "source": [
    "## Count the frequency of each NER or NERs of interests"
   ]
  },
  {
   "cell_type": "code",
   "execution_count": null,
   "id": "2f252f22-0008-4937-b286-65525b4baa46",
   "metadata": {},
   "outputs": [],
   "source": [
    "org_df = ner_features_df[ner_features_df['NER Label'] == 'ORG']\n",
    "\n",
    "# Count frequency of each 'org' entity\n",
    "org_counts = org_df['Term'].value_counts()\n",
    "\n",
    "print(org_counts)"
   ]
  },
  {
   "cell_type": "code",
   "execution_count": null,
   "id": "1a0f8fba-b85f-4658-9504-0a962b4980df",
   "metadata": {},
   "outputs": [],
   "source": [
    "ner_features_df.size"
   ]
  },
  {
   "cell_type": "code",
   "execution_count": null,
   "id": "3f0aabc8-10f5-4345-9aae-c646419eb37d",
   "metadata": {},
   "outputs": [],
   "source": [
    "filtered_df = ner_features_df[ner_features_df['Sentence'].str.contains('CFO', case=False, na=False)]\n",
    "filtered_df"
   ]
  },
  {
   "cell_type": "code",
   "execution_count": null,
   "id": "5891ca84-ac3b-4fd1-89ae-9973ed58c84d",
   "metadata": {},
   "outputs": [],
   "source": [
    "filtered_df = ner_features_df[ner_features_df['Sentence'].str.contains('iPhones', case=False, na=False)]\n",
    "filtered_df"
   ]
  },
  {
   "cell_type": "code",
   "execution_count": null,
   "id": "70cc44b4-0005-44d6-acfd-11dd85084cea",
   "metadata": {},
   "outputs": [],
   "source": []
  }
 ],
 "metadata": {
  "kernelspec": {
   "display_name": ".venv_predictions",
   "language": "python",
   "name": "python3"
  },
  "language_info": {
   "codemirror_mode": {
    "name": "ipython",
    "version": 3
   },
   "file_extension": ".py",
   "mimetype": "text/x-python",
   "name": "python",
   "nbconvert_exporter": "python",
   "pygments_lexer": "ipython3",
   "version": "3.11.12"
  }
 },
 "nbformat": 4,
 "nbformat_minor": 5
}
