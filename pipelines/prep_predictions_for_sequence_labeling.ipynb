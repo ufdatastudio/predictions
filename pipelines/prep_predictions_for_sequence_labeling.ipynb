{
 "cells": [
  {
   "cell_type": "markdown",
   "id": "1b47b81c",
   "metadata": {},
   "source": [
    "# Prepare Predictions for Sequence Labeling\n",
    "\n",
    "1. Read csv files and load as df\n",
    "2. Properly format for sequence labeling\n",
    "3. Choose to save or not"
   ]
  },
  {
   "cell_type": "code",
   "execution_count": 1,
   "id": "89739637",
   "metadata": {},
   "outputs": [
    {
     "name": "stderr",
     "output_type": "stream",
     "text": [
      "/apps/jupyterhub/3.1.1/lib/python3.11/site-packages/torch/cuda/__init__.py:654: UserWarning: Can't initialize NVML\n",
      "  warnings.warn(\"Can't initialize NVML\")\n"
     ]
    }
   ],
   "source": [
    "import os, sys\n",
    "\n",
    "import pandas as pd\n",
    "import numpy as np\n",
    "\n",
    "# Get the current working directory of the notebook\n",
    "notebook_dir = os.getcwd()\n",
    "# Add the parent directory to the system path\n",
    "sys.path.append(os.path.join(notebook_dir, '../'))\n",
    "\n",
    "import log_files\n",
    "from log_files import LogData\n",
    "from data_processing import DataProcessing\n",
    "from feature_extraction import SpacyFeatureExtraction"
   ]
  },
  {
   "cell_type": "code",
   "execution_count": 2,
   "id": "ac10916e",
   "metadata": {},
   "outputs": [],
   "source": [
    "pd.set_option('max_colwidth', 800)\n",
    "pd.set_option('display.max_columns', None)\n",
    "pd.set_option('display.max_rows', None)"
   ]
  },
  {
   "cell_type": "markdown",
   "id": "561302a3",
   "metadata": {},
   "source": [
    "## Read csv files and load as df\n",
    "\n",
    "- Use the structure from `1-generate_predictions-all_domains.ipynb`"
   ]
  },
  {
   "cell_type": "code",
   "execution_count": 3,
   "id": "28f2ba89",
   "metadata": {},
   "outputs": [
    {
     "name": "stdout",
     "output_type": "stream",
     "text": [
      "Start logging batch\n"
     ]
    },
    {
     "name": "stderr",
     "output_type": "stream",
     "text": [
      " 16%|█▌        | 48/308 [00:00<00:00, 475.55it/s]"
     ]
    },
    {
     "name": "stdout",
     "output_type": "stream",
     "text": [
      "save_batch_directory: /orange/ufdatastudios/dj.brinkley/predictions/pipelines/../data/prediction_logs/batch_1-prediction\n",
      "save_batch_directory: /orange/ufdatastudios/dj.brinkley/predictions/pipelines/../data/prediction_logs/batch_2-prediction\n"
     ]
    },
    {
     "name": "stderr",
     "output_type": "stream",
     "text": [
      "100%|██████████| 308/308 [00:00<00:00, 545.48it/s]\n"
     ]
    },
    {
     "data": {
      "text/html": [
       "<div>\n",
       "<style scoped>\n",
       "    .dataframe tbody tr th:only-of-type {\n",
       "        vertical-align: middle;\n",
       "    }\n",
       "\n",
       "    .dataframe tbody tr th {\n",
       "        vertical-align: top;\n",
       "    }\n",
       "\n",
       "    .dataframe thead th {\n",
       "        text-align: right;\n",
       "    }\n",
       "</style>\n",
       "<table border=\"1\" class=\"dataframe\">\n",
       "  <thead>\n",
       "    <tr style=\"text-align: right;\">\n",
       "      <th></th>\n",
       "      <th>Base Sentence</th>\n",
       "      <th>Sentence Label</th>\n",
       "      <th>Domain</th>\n",
       "      <th>Model Name</th>\n",
       "      <th>API Name</th>\n",
       "      <th>Batch ID</th>\n",
       "      <th>Template Number</th>\n",
       "    </tr>\n",
       "  </thead>\n",
       "  <tbody>\n",
       "    <tr>\n",
       "      <th>0</th>\n",
       "      <td>Detravious, a financial analyst forecasts that the stock price at Johnson &amp; Johnson will likely decrease in 2027 Q2.</td>\n",
       "      <td>1</td>\n",
       "      <td>finance</td>\n",
       "      <td>llama-3.1-8b-instant</td>\n",
       "      <td>GROQ_CLOUD</td>\n",
       "      <td>0</td>\n",
       "      <td>1</td>\n",
       "    </tr>\n",
       "    <tr>\n",
       "      <th>1</th>\n",
       "      <td>On August 21, 2024, Goldman Sachs speculates that the operating cash flow at Microsoft will likely increase.</td>\n",
       "      <td>1</td>\n",
       "      <td>finance</td>\n",
       "      <td>llama-3.1-8b-instant</td>\n",
       "      <td>GROQ_CLOUD</td>\n",
       "      <td>0</td>\n",
       "      <td>2</td>\n",
       "    </tr>\n",
       "    <tr>\n",
       "      <th>2</th>\n",
       "      <td>Morgan Stanley predicts that on September 15, 2025, the S&amp;P 500 composite index will likely rise.</td>\n",
       "      <td>1</td>\n",
       "      <td>finance</td>\n",
       "      <td>llama-3.1-8b-instant</td>\n",
       "      <td>GROQ_CLOUD</td>\n",
       "      <td>0</td>\n",
       "      <td>3</td>\n",
       "    </tr>\n",
       "    <tr>\n",
       "      <th>3</th>\n",
       "      <td>According to Apple, the projected revenue at Amazon will likely fall in Q4 2026.</td>\n",
       "      <td>1</td>\n",
       "      <td>finance</td>\n",
       "      <td>llama-3.1-8b-instant</td>\n",
       "      <td>GROQ_CLOUD</td>\n",
       "      <td>0</td>\n",
       "      <td>4</td>\n",
       "    </tr>\n",
       "    <tr>\n",
       "      <th>4</th>\n",
       "      <td>In Q2 2025, Wells Fargo envisions that the U.S. dollar index will likely stay stable.</td>\n",
       "      <td>1</td>\n",
       "      <td>finance</td>\n",
       "      <td>llama-3.1-8b-instant</td>\n",
       "      <td>GROQ_CLOUD</td>\n",
       "      <td>0</td>\n",
       "      <td>5</td>\n",
       "    </tr>\n",
       "    <tr>\n",
       "      <th>5</th>\n",
       "      <td>The Dow Jones Industrial Average will likely rise in Q3 2027, according to JPMorgan Chase.</td>\n",
       "      <td>1</td>\n",
       "      <td>finance</td>\n",
       "      <td>llama-3.1-8b-instant</td>\n",
       "      <td>GROQ_CLOUD</td>\n",
       "      <td>0</td>\n",
       "      <td>6</td>\n",
       "    </tr>\n",
       "    <tr>\n",
       "      <th>6</th>\n",
       "      <td>The World Health Organization forecasts that the obesity rates at urban health centers in the United States will likely decrease in 2027.</td>\n",
       "      <td>1</td>\n",
       "      <td>health</td>\n",
       "      <td>llama-3.1-8b-instant</td>\n",
       "      <td>GROQ_CLOUD</td>\n",
       "      <td>0</td>\n",
       "      <td>1</td>\n",
       "    </tr>\n",
       "  </tbody>\n",
       "</table>\n",
       "</div>"
      ],
      "text/plain": [
       "                                                                                                                               Base Sentence  \\\n",
       "0                       Detravious, a financial analyst forecasts that the stock price at Johnson & Johnson will likely decrease in 2027 Q2.   \n",
       "1                               On August 21, 2024, Goldman Sachs speculates that the operating cash flow at Microsoft will likely increase.   \n",
       "2                                          Morgan Stanley predicts that on September 15, 2025, the S&P 500 composite index will likely rise.   \n",
       "3                                                           According to Apple, the projected revenue at Amazon will likely fall in Q4 2026.   \n",
       "4                                                      In Q2 2025, Wells Fargo envisions that the U.S. dollar index will likely stay stable.   \n",
       "5                                                 The Dow Jones Industrial Average will likely rise in Q3 2027, according to JPMorgan Chase.   \n",
       "6  The World Health Organization forecasts that the obesity rates at urban health centers in the United States will likely decrease in 2027.   \n",
       "\n",
       "   Sentence Label   Domain            Model Name    API Name  Batch ID  \\\n",
       "0               1  finance  llama-3.1-8b-instant  GROQ_CLOUD         0   \n",
       "1               1  finance  llama-3.1-8b-instant  GROQ_CLOUD         0   \n",
       "2               1  finance  llama-3.1-8b-instant  GROQ_CLOUD         0   \n",
       "3               1  finance  llama-3.1-8b-instant  GROQ_CLOUD         0   \n",
       "4               1  finance  llama-3.1-8b-instant  GROQ_CLOUD         0   \n",
       "5               1  finance  llama-3.1-8b-instant  GROQ_CLOUD         0   \n",
       "6               1   health  llama-3.1-8b-instant  GROQ_CLOUD         0   \n",
       "\n",
       "   Template Number  \n",
       "0                1  \n",
       "1                2  \n",
       "2                3  \n",
       "3                4  \n",
       "4                5  \n",
       "5                6  \n",
       "6                1  "
      ]
     },
     "execution_count": 3,
     "metadata": {},
     "output_type": "execute_result"
    }
   ],
   "source": [
    "log_file_path = \"data/prediction_logs\"\n",
    "predictions = True\n",
    "predictions_df = log_files.read_data(notebook_dir, log_file_path, predictions)\n",
    "predictions_df.head(7)"
   ]
  },
  {
   "cell_type": "markdown",
   "id": "6a6d88f5-157f-49a4-8676-0cb242933c84",
   "metadata": {},
   "source": [
    "## Properly format for sequence labeling"
   ]
  },
  {
   "cell_type": "code",
   "execution_count": null,
   "id": "fb2d70db",
   "metadata": {},
   "outputs": [
    {
     "name": "stderr",
     "output_type": "stream",
     "text": [
      " 71%|███████   | 16084/22784 [01:26<00:35, 188.94it/s]"
     ]
    }
   ],
   "source": [
    "# sentences = DataProcessing.df_to_list(predictions_df, \"Base Sentence\")\n",
    "sfe_class = SpacyFeatureExtraction(predictions_df, \"Base Sentence\")\n",
    "words_df = sfe_class.pre_sequence_labeling_coversion()\n",
    "words_df.head(3)"
   ]
  },
  {
   "cell_type": "markdown",
   "id": "fd733b54-5e13-4199-986e-f2110629a0e2",
   "metadata": {},
   "source": [
    "## Choose to save or not"
   ]
  },
  {
   "cell_type": "code",
   "execution_count": null,
   "id": "1a4e6e31-dcd7-48e0-b938-94be0314fe1c",
   "metadata": {
    "tags": []
   },
   "outputs": [],
   "source": [
    "save = False\n",
    "\n",
    "if save == True:\n",
    "    save_path = notebook_dir + '/../data/tagging/train'\n",
    "    words_df.to_csv(save_path, sep='\\t') "
   ]
  }
 ],
 "metadata": {
  "kernelspec": {
   "display_name": "Python 3 (ipykernel)",
   "language": "python",
   "name": "python3"
  },
  "language_info": {
   "codemirror_mode": {
    "name": "ipython",
    "version": 3
   },
   "file_extension": ".py",
   "mimetype": "text/x-python",
   "name": "python",
   "nbconvert_exporter": "python",
   "pygments_lexer": "ipython3",
   "version": "3.11.3"
  }
 },
 "nbformat": 4,
 "nbformat_minor": 5
}
