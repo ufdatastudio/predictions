{
 "cells": [
  {
   "cell_type": "markdown",
   "id": "4d07b218-d976-477f-928a-ea93a3ade44d",
   "metadata": {},
   "source": [
    "# HMM"
   ]
  },
  {
   "cell_type": "code",
   "execution_count": 1,
   "id": "caebdb0e-e9e4-4427-97e4-0e316858069a",
   "metadata": {
    "tags": []
   },
   "outputs": [
    {
     "data": {
      "text/plain": [
       "{'a': {'a': 0.6, 'p': 0.4},\n",
       " 't': {'a': 0.3, 'h': 0.4, 'i': 0.3},\n",
       " 'h': {'e': 1.0},\n",
       " 'e': {'t': 1.0},\n",
       " 'p': {'p': 1.0},\n",
       " 'i': {'t': 0.4, 'p': 0.6}}"
      ]
     },
     "execution_count": 1,
     "metadata": {},
     "output_type": "execute_result"
    }
   ],
   "source": [
    "# Simple graph using dictionary (also called an adjacency list)\n",
    "markov_model = {\n",
    "    'a': {'a': 0.6, 'p': 0.4},\n",
    "    't': {'a': 0.3, 'h': 0.4, 'i': 0.3},\n",
    "    'h': {'e': 1.0},\n",
    "    'e': {'t': 1.0},\n",
    "    'p': {'p': 1.0},\n",
    "    'i': {'t': 0.4, 'p': 0.6},\n",
    "}\n",
    "markov_model"
   ]
  },
  {
   "cell_type": "markdown",
   "id": "ab812119-dc3d-488d-bedc-c0c1779f1ef0",
   "metadata": {},
   "source": [
    "$$\n",
    "\\pi * x_i * \\prod_{t=1}^{T-1} a * x_t * x_{t + 1}\n",
    "$$"
   ]
  },
  {
   "cell_type": "code",
   "execution_count": 12,
   "id": "63083d2a-1706-4086-88a2-283faac05cf2",
   "metadata": {
    "tags": []
   },
   "outputs": [],
   "source": [
    "def markov_model_prob(markov_model: dict[dict], rvs: tuple[str]) -> float:\n",
    "    \"\"\"\n",
    "    Parameters:\n",
    "    -----------\n",
    "    markov_model: `dict[dict]`\n",
    "        The states with values\n",
    "        \n",
    "    rvs: `tuple[str]`\n",
    "        The random variables of interest\n",
    "    \"\"\"\n",
    "    rv_1, rv_2, rv_3 = rvs\n",
    "    p_1 = 1.0 # P(t)\n",
    "    p_2 = markov_model[rv_1][rv_2] # P(i|t)\n",
    "    p_3 = markov_model[rv_2][rv_3] # P(i|t)\n",
    "    \n",
    "    all_ps = p_1 * p_2 * p_3\n",
    "    \n",
    "    return all_ps"
   ]
  },
  {
   "cell_type": "code",
   "execution_count": 13,
   "id": "11e14a7e-8383-4372-a634-79701a66ad40",
   "metadata": {
    "tags": []
   },
   "outputs": [
    {
     "data": {
      "text/plain": [
       "0.18"
      ]
     },
     "execution_count": 13,
     "metadata": {},
     "output_type": "execute_result"
    }
   ],
   "source": [
    "rvs = ('t', 'i', 'p')\n",
    "markov_model_prob(markov_model, rvs)"
   ]
  },
  {
   "cell_type": "code",
   "execution_count": null,
   "id": "9d3b9edf-dc63-41b3-8377-af691e64f954",
   "metadata": {},
   "outputs": [],
   "source": []
  }
 ],
 "metadata": {
  "kernelspec": {
   "display_name": "Class-PSB6088",
   "language": "python",
   "name": "class-psb6088"
  },
  "language_info": {
   "codemirror_mode": {
    "name": "ipython",
    "version": 3
   },
   "file_extension": ".py",
   "mimetype": "text/x-python",
   "name": "python",
   "nbconvert_exporter": "python",
   "pygments_lexer": "ipython3",
   "version": "3.13.1"
  }
 },
 "nbformat": 4,
 "nbformat_minor": 5
}
