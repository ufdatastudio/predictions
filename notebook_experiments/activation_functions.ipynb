{
 "cells": [
  {
   "cell_type": "markdown",
   "id": "6540182f",
   "metadata": {},
   "source": [
    "# Activation Functions"
   ]
  },
  {
   "cell_type": "markdown",
   "id": "f680c5bd",
   "metadata": {},
   "source": [
    "## Sigmoid\n",
    "\n",
    "$$\n",
    "\n",
    "f(x) = \\frac{e^x}{e^x + 1}\n",
    "\n",
    "$$\n",
    "\n",
    "e * e * e ... x times\n",
    "\n",
    "exponentiation [repeated multiplication of e by itself x times]\n",
    "\n",
    "[Implementing exponentiation without a standard math library](https://ben.land/post/2021/02/24/power-without-math-lib/)"
   ]
  },
  {
   "cell_type": "code",
   "execution_count": 1,
   "id": "32eb82a1",
   "metadata": {},
   "outputs": [],
   "source": [
    "def times_base_by_itself(power_x, base_e: float = 2.718):\n",
    "    exponentiation = 1\n",
    "    for i in range(power_x):\n",
    "        exponentiation = exponentiation * base_e\n",
    "        print(i, exponentiation)\n",
    "    return exponentiation"
   ]
  },
  {
   "cell_type": "code",
   "execution_count": 2,
   "id": "8543a109",
   "metadata": {},
   "outputs": [],
   "source": [
    "def activate_sigmoid(x: int) -> float:\n",
    "    power_x = times_base_by_itself(x)\n",
    "    return power_x / (power_x + 1)\n"
   ]
  },
  {
   "cell_type": "code",
   "execution_count": 3,
   "id": "d1446a99",
   "metadata": {},
   "outputs": [
    {
     "name": "stdout",
     "output_type": "stream",
     "text": [
      "0 2.718\n",
      "1 7.387524\n",
      "2 20.079290231999998\n"
     ]
    },
    {
     "data": {
      "text/plain": [
       "0.9525600725169616"
      ]
     },
     "execution_count": 3,
     "metadata": {},
     "output_type": "execute_result"
    }
   ],
   "source": [
    "activate_sigmoid(3)"
   ]
  },
  {
   "cell_type": "code",
   "execution_count": null,
   "id": "b7ea139c",
   "metadata": {},
   "outputs": [],
   "source": []
  }
 ],
 "metadata": {
  "kernelspec": {
   "display_name": "predictions",
   "language": "python",
   "name": "python3"
  },
  "language_info": {
   "codemirror_mode": {
    "name": "ipython",
    "version": 3
   },
   "file_extension": ".py",
   "mimetype": "text/x-python",
   "name": "python",
   "nbconvert_exporter": "python",
   "pygments_lexer": "ipython3",
   "version": "3.12.2"
  }
 },
 "nbformat": 4,
 "nbformat_minor": 5
}
