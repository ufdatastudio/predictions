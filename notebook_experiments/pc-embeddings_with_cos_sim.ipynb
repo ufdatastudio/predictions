{
 "cells": [
  {
   "cell_type": "markdown",
   "id": "b96bc64c",
   "metadata": {},
   "source": [
    "# Embeddings"
   ]
  },
  {
   "cell_type": "code",
   "execution_count": 1,
   "id": "cd452ba2",
   "metadata": {},
   "outputs": [],
   "source": [
    "import os, sys\n",
    "\n",
    "import numpy as np\n",
    "import pandas as pd\n",
    "\n",
    "from tqdm import tqdm\n",
    "\n",
    "# Get the current working directory of the notebook\n",
    "notebook_dir = os.getcwd()\n",
    "# Add the parent directory to the system path\n",
    "sys.path.append(os.path.join(notebook_dir, '../'))\n",
    "\n",
    "import log_files\n",
    "from metrics import Metrics\n",
    "from data_processing import DataProcessing\n",
    "from feature_extraction import SpacyFeatureExtraction, TfidfFeatureExtraction, SentenceTransformerFeatureExtraction, BertFeatureExtraction"
   ]
  },
  {
   "cell_type": "code",
   "execution_count": 2,
   "id": "2e30c6c3",
   "metadata": {},
   "outputs": [],
   "source": [
    "pd.set_option('max_colwidth', 800)\n",
    "pd.set_option('display.max_columns', None)\n",
    "pd.set_option('display.max_rows', None)"
   ]
  },
  {
   "cell_type": "markdown",
   "id": "ba09a1bc",
   "metadata": {},
   "source": [
    "## Read csv files and load as df"
   ]
  },
  {
   "cell_type": "code",
   "execution_count": 3,
   "id": "ec24c04f",
   "metadata": {},
   "outputs": [
    {
     "name": "stdout",
     "output_type": "stream",
     "text": [
      "Start logging batch\n",
      "log_directory: /Users/detraviousjamaribrinkley/Documents/Development/research_labs/uf_ds/predictions/notebook_experiments/../data/prediction_logs\n",
      "save_batch_directory: /Users/detraviousjamaribrinkley/Documents/Development/research_labs/uf_ds/predictions/notebook_experiments/../data/prediction_logs/batch_1-prediction\n",
      "CSV to DF\n",
      "Load saved csv: /Users/detraviousjamaribrinkley/Documents/Development/research_labs/uf_ds/predictions/notebook_experiments/../data/prediction_logs/batch_1-prediction/batch_1-from_df.csv\n",
      "save_batch_directory: /Users/detraviousjamaribrinkley/Documents/Development/research_labs/uf_ds/predictions/notebook_experiments/../data/prediction_logs/batch_2-prediction\n",
      "CSV to DF\n",
      "Load saved csv: /Users/detraviousjamaribrinkley/Documents/Development/research_labs/uf_ds/predictions/notebook_experiments/../data/prediction_logs/batch_2-prediction/batch_2-from_df.csv\n",
      "save_batch_directory: /Users/detraviousjamaribrinkley/Documents/Development/research_labs/uf_ds/predictions/notebook_experiments/../data/prediction_logs/batch_3-prediction\n",
      "CSV to DF\n",
      "Load saved csv: /Users/detraviousjamaribrinkley/Documents/Development/research_labs/uf_ds/predictions/notebook_experiments/../data/prediction_logs/batch_3-prediction/batch_3-from_df.csv\n",
      "save_batch_directory: /Users/detraviousjamaribrinkley/Documents/Development/research_labs/uf_ds/predictions/notebook_experiments/../data/prediction_logs/batch_4-prediction\n",
      "CSV to DF\n",
      "Load saved csv: /Users/detraviousjamaribrinkley/Documents/Development/research_labs/uf_ds/predictions/notebook_experiments/../data/prediction_logs/batch_4-prediction/batch_4-from_df.csv\n",
      "save_batch_directory: /Users/detraviousjamaribrinkley/Documents/Development/research_labs/uf_ds/predictions/notebook_experiments/../data/prediction_logs/batch_5-prediction\n",
      "CSV to DF\n",
      "Load saved csv: /Users/detraviousjamaribrinkley/Documents/Development/research_labs/uf_ds/predictions/notebook_experiments/../data/prediction_logs/batch_5-prediction/batch_5-from_df.csv\n",
      "save_batch_directory: /Users/detraviousjamaribrinkley/Documents/Development/research_labs/uf_ds/predictions/notebook_experiments/../data/prediction_logs/batch_6-prediction\n",
      "CSV to DF\n",
      "Load saved csv: /Users/detraviousjamaribrinkley/Documents/Development/research_labs/uf_ds/predictions/notebook_experiments/../data/prediction_logs/batch_6-prediction/batch_6-from_df.csv\n",
      "save_batch_directory: /Users/detraviousjamaribrinkley/Documents/Development/research_labs/uf_ds/predictions/notebook_experiments/../data/prediction_logs/batch_7-prediction\n",
      "CSV to DF\n",
      "Load saved csv: /Users/detraviousjamaribrinkley/Documents/Development/research_labs/uf_ds/predictions/notebook_experiments/../data/prediction_logs/batch_7-prediction/batch_7-from_df.csv\n",
      "save_batch_directory: /Users/detraviousjamaribrinkley/Documents/Development/research_labs/uf_ds/predictions/notebook_experiments/../data/prediction_logs/batch_8-prediction\n",
      "CSV to DF\n",
      "Load saved csv: /Users/detraviousjamaribrinkley/Documents/Development/research_labs/uf_ds/predictions/notebook_experiments/../data/prediction_logs/batch_8-prediction/batch_8-from_df.csv\n"
     ]
    },
    {
     "data": {
      "text/html": [
       "<div>\n",
       "<style scoped>\n",
       "    .dataframe tbody tr th:only-of-type {\n",
       "        vertical-align: middle;\n",
       "    }\n",
       "\n",
       "    .dataframe tbody tr th {\n",
       "        vertical-align: top;\n",
       "    }\n",
       "\n",
       "    .dataframe thead th {\n",
       "        text-align: right;\n",
       "    }\n",
       "</style>\n",
       "<table border=\"1\" class=\"dataframe\">\n",
       "  <thead>\n",
       "    <tr style=\"text-align: right;\">\n",
       "      <th></th>\n",
       "      <th>Base Sentence</th>\n",
       "      <th>Sentence Label</th>\n",
       "      <th>Domain</th>\n",
       "      <th>Model Name</th>\n",
       "      <th>API Name</th>\n",
       "      <th>Batch ID</th>\n",
       "      <th>Template Number</th>\n",
       "    </tr>\n",
       "  </thead>\n",
       "  <tbody>\n",
       "    <tr>\n",
       "      <th>0</th>\n",
       "      <td>JPMorgan Chase forecasts that the net profit at Amazon potentially decrease in Q3 of 2027.</td>\n",
       "      <td>1</td>\n",
       "      <td>finance</td>\n",
       "      <td>llama-3.1-70b-instruct</td>\n",
       "      <td>NAVI_GATOR</td>\n",
       "      <td>0</td>\n",
       "      <td>1</td>\n",
       "    </tr>\n",
       "    <tr>\n",
       "      <th>1</th>\n",
       "      <td>On August 21, 2024, Bank of America speculates the revenue at Microsoft will likely increase.</td>\n",
       "      <td>1</td>\n",
       "      <td>finance</td>\n",
       "      <td>llama-3.1-70b-instruct</td>\n",
       "      <td>NAVI_GATOR</td>\n",
       "      <td>0</td>\n",
       "      <td>2</td>\n",
       "    </tr>\n",
       "    <tr>\n",
       "      <th>2</th>\n",
       "      <td>Citigroup predicts on 2024-08-21, the operating income at Alphabet may rise.</td>\n",
       "      <td>1</td>\n",
       "      <td>finance</td>\n",
       "      <td>llama-3.1-70b-instruct</td>\n",
       "      <td>NAVI_GATOR</td>\n",
       "      <td>0</td>\n",
       "      <td>3</td>\n",
       "    </tr>\n",
       "    <tr>\n",
       "      <th>3</th>\n",
       "      <td>According to Goldman Sachs, the research and development expenses at Facebook would fall in 2025.</td>\n",
       "      <td>1</td>\n",
       "      <td>finance</td>\n",
       "      <td>llama-3.1-70b-instruct</td>\n",
       "      <td>NAVI_GATOR</td>\n",
       "      <td>0</td>\n",
       "      <td>4</td>\n",
       "    </tr>\n",
       "    <tr>\n",
       "      <th>4</th>\n",
       "      <td>In 21 August 2024, Morgan Stanley envisions that the gross profit at Johnson &amp; Johnson has some probability to remain stable.</td>\n",
       "      <td>1</td>\n",
       "      <td>finance</td>\n",
       "      <td>llama-3.1-70b-instruct</td>\n",
       "      <td>NAVI_GATOR</td>\n",
       "      <td>0</td>\n",
       "      <td>5</td>\n",
       "    </tr>\n",
       "    <tr>\n",
       "      <th>5</th>\n",
       "      <td>The stock price at Visa should stay same in Q2 of 2026, according to Wells Fargo.</td>\n",
       "      <td>1</td>\n",
       "      <td>finance</td>\n",
       "      <td>llama-3.1-70b-instruct</td>\n",
       "      <td>NAVI_GATOR</td>\n",
       "      <td>0</td>\n",
       "      <td>6</td>\n",
       "    </tr>\n",
       "    <tr>\n",
       "      <th>6</th>\n",
       "      <td>JPMorgan forecasts that the revenue at Microsoft potentially decrease in Q3 of 2027.</td>\n",
       "      <td>1</td>\n",
       "      <td>finance</td>\n",
       "      <td>llama-3.3-70b-instruct</td>\n",
       "      <td>NAVI_GATOR</td>\n",
       "      <td>0</td>\n",
       "      <td>1</td>\n",
       "    </tr>\n",
       "  </tbody>\n",
       "</table>\n",
       "</div>"
      ],
      "text/plain": [
       "                                                                                                                   Base Sentence  \\\n",
       "0                                     JPMorgan Chase forecasts that the net profit at Amazon potentially decrease in Q3 of 2027.   \n",
       "1                                  On August 21, 2024, Bank of America speculates the revenue at Microsoft will likely increase.   \n",
       "2                                                   Citigroup predicts on 2024-08-21, the operating income at Alphabet may rise.   \n",
       "3                              According to Goldman Sachs, the research and development expenses at Facebook would fall in 2025.   \n",
       "4  In 21 August 2024, Morgan Stanley envisions that the gross profit at Johnson & Johnson has some probability to remain stable.   \n",
       "5                                              The stock price at Visa should stay same in Q2 of 2026, according to Wells Fargo.   \n",
       "6                                           JPMorgan forecasts that the revenue at Microsoft potentially decrease in Q3 of 2027.   \n",
       "\n",
       "   Sentence Label   Domain              Model Name    API Name  Batch ID  \\\n",
       "0               1  finance  llama-3.1-70b-instruct  NAVI_GATOR         0   \n",
       "1               1  finance  llama-3.1-70b-instruct  NAVI_GATOR         0   \n",
       "2               1  finance  llama-3.1-70b-instruct  NAVI_GATOR         0   \n",
       "3               1  finance  llama-3.1-70b-instruct  NAVI_GATOR         0   \n",
       "4               1  finance  llama-3.1-70b-instruct  NAVI_GATOR         0   \n",
       "5               1  finance  llama-3.1-70b-instruct  NAVI_GATOR         0   \n",
       "6               1  finance  llama-3.3-70b-instruct  NAVI_GATOR         0   \n",
       "\n",
       "   Template Number  \n",
       "0                1  \n",
       "1                2  \n",
       "2                3  \n",
       "3                4  \n",
       "4                5  \n",
       "5                6  \n",
       "6                1  "
      ]
     },
     "execution_count": 3,
     "metadata": {},
     "output_type": "execute_result"
    }
   ],
   "source": [
    "log_file_path = \"data/prediction_logs\"\n",
    "predictions = True\n",
    "predictions_df = log_files.read_data(notebook_dir, log_file_path, predictions)\n",
    "predictions_df.head(7)"
   ]
  },
  {
   "cell_type": "code",
   "execution_count": 4,
   "id": "938db367",
   "metadata": {},
   "outputs": [
    {
     "name": "stdout",
     "output_type": "stream",
     "text": [
      "Start logging batch\n",
      "log_directory: /Users/detraviousjamaribrinkley/Documents/Development/research_labs/uf_ds/predictions/notebook_experiments/../data/observation_logs\n",
      "save_batch_directory: /Users/detraviousjamaribrinkley/Documents/Development/research_labs/uf_ds/predictions/notebook_experiments/../data/observation_logs/batch_1-observation\n",
      "CSV to DF\n",
      "Load saved csv: /Users/detraviousjamaribrinkley/Documents/Development/research_labs/uf_ds/predictions/notebook_experiments/../data/observation_logs/batch_1-observation/batch_1-from_df.csv\n",
      "save_batch_directory: /Users/detraviousjamaribrinkley/Documents/Development/research_labs/uf_ds/predictions/notebook_experiments/../data/observation_logs/batch_2-observation\n",
      "CSV to DF\n",
      "Load saved csv: /Users/detraviousjamaribrinkley/Documents/Development/research_labs/uf_ds/predictions/notebook_experiments/../data/observation_logs/batch_2-observation/batch_2-from_df.csv\n",
      "save_batch_directory: /Users/detraviousjamaribrinkley/Documents/Development/research_labs/uf_ds/predictions/notebook_experiments/../data/observation_logs/batch_3-observation\n",
      "CSV to DF\n",
      "Load saved csv: /Users/detraviousjamaribrinkley/Documents/Development/research_labs/uf_ds/predictions/notebook_experiments/../data/observation_logs/batch_3-observation/batch_3-from_df.csv\n",
      "save_batch_directory: /Users/detraviousjamaribrinkley/Documents/Development/research_labs/uf_ds/predictions/notebook_experiments/../data/observation_logs/batch_4-observation\n",
      "CSV to DF\n",
      "Load saved csv: /Users/detraviousjamaribrinkley/Documents/Development/research_labs/uf_ds/predictions/notebook_experiments/../data/observation_logs/batch_4-observation/batch_4-from_df.csv\n",
      "save_batch_directory: /Users/detraviousjamaribrinkley/Documents/Development/research_labs/uf_ds/predictions/notebook_experiments/../data/observation_logs/batch_5-observation\n",
      "CSV to DF\n",
      "Load saved csv: /Users/detraviousjamaribrinkley/Documents/Development/research_labs/uf_ds/predictions/notebook_experiments/../data/observation_logs/batch_5-observation/batch_5-from_df.csv\n",
      "save_batch_directory: /Users/detraviousjamaribrinkley/Documents/Development/research_labs/uf_ds/predictions/notebook_experiments/../data/observation_logs/batch_6-observation\n",
      "CSV to DF\n",
      "Load saved csv: /Users/detraviousjamaribrinkley/Documents/Development/research_labs/uf_ds/predictions/notebook_experiments/../data/observation_logs/batch_6-observation/batch_6-from_df.csv\n",
      "save_batch_directory: /Users/detraviousjamaribrinkley/Documents/Development/research_labs/uf_ds/predictions/notebook_experiments/../data/observation_logs/batch_7-observation\n",
      "CSV to DF\n",
      "Load saved csv: /Users/detraviousjamaribrinkley/Documents/Development/research_labs/uf_ds/predictions/notebook_experiments/../data/observation_logs/batch_7-observation/batch_7-from_df.csv\n",
      "save_batch_directory: /Users/detraviousjamaribrinkley/Documents/Development/research_labs/uf_ds/predictions/notebook_experiments/../data/observation_logs/batch_8-observation\n",
      "CSV to DF\n",
      "Load saved csv: /Users/detraviousjamaribrinkley/Documents/Development/research_labs/uf_ds/predictions/notebook_experiments/../data/observation_logs/batch_8-observation/batch_8-from_df.csv\n",
      "save_batch_directory: /Users/detraviousjamaribrinkley/Documents/Development/research_labs/uf_ds/predictions/notebook_experiments/../data/observation_logs/batch_9-observation\n",
      "CSV to DF\n",
      "Load saved csv: /Users/detraviousjamaribrinkley/Documents/Development/research_labs/uf_ds/predictions/notebook_experiments/../data/observation_logs/batch_9-observation/batch_9-from_df.csv\n",
      "save_batch_directory: /Users/detraviousjamaribrinkley/Documents/Development/research_labs/uf_ds/predictions/notebook_experiments/../data/observation_logs/batch_10-observation\n",
      "CSV to DF\n",
      "Load saved csv: /Users/detraviousjamaribrinkley/Documents/Development/research_labs/uf_ds/predictions/notebook_experiments/../data/observation_logs/batch_10-observation/batch_10-from_df.csv\n",
      "save_batch_directory: /Users/detraviousjamaribrinkley/Documents/Development/research_labs/uf_ds/predictions/notebook_experiments/../data/observation_logs/batch_11-observation\n",
      "CSV to DF\n",
      "Load saved csv: /Users/detraviousjamaribrinkley/Documents/Development/research_labs/uf_ds/predictions/notebook_experiments/../data/observation_logs/batch_11-observation/batch_11-from_df.csv\n",
      "save_batch_directory: /Users/detraviousjamaribrinkley/Documents/Development/research_labs/uf_ds/predictions/notebook_experiments/../data/observation_logs/batch_12-observation\n",
      "CSV to DF\n",
      "Load saved csv: /Users/detraviousjamaribrinkley/Documents/Development/research_labs/uf_ds/predictions/notebook_experiments/../data/observation_logs/batch_12-observation/batch_12-from_df.csv\n",
      "save_batch_directory: /Users/detraviousjamaribrinkley/Documents/Development/research_labs/uf_ds/predictions/notebook_experiments/../data/observation_logs/batch_13-observation\n",
      "CSV to DF\n",
      "Load saved csv: /Users/detraviousjamaribrinkley/Documents/Development/research_labs/uf_ds/predictions/notebook_experiments/../data/observation_logs/batch_13-observation/batch_13-from_df.csv\n",
      "save_batch_directory: /Users/detraviousjamaribrinkley/Documents/Development/research_labs/uf_ds/predictions/notebook_experiments/../data/observation_logs/batch_14-observation\n",
      "CSV to DF\n",
      "Load saved csv: /Users/detraviousjamaribrinkley/Documents/Development/research_labs/uf_ds/predictions/notebook_experiments/../data/observation_logs/batch_14-observation/batch_14-from_df.csv\n",
      "save_batch_directory: /Users/detraviousjamaribrinkley/Documents/Development/research_labs/uf_ds/predictions/notebook_experiments/../data/observation_logs/batch_15-observation\n",
      "CSV to DF\n",
      "Load saved csv: /Users/detraviousjamaribrinkley/Documents/Development/research_labs/uf_ds/predictions/notebook_experiments/../data/observation_logs/batch_15-observation/batch_15-from_df.csv\n",
      "save_batch_directory: /Users/detraviousjamaribrinkley/Documents/Development/research_labs/uf_ds/predictions/notebook_experiments/../data/observation_logs/batch_16-observation\n",
      "CSV to DF\n",
      "Load saved csv: /Users/detraviousjamaribrinkley/Documents/Development/research_labs/uf_ds/predictions/notebook_experiments/../data/observation_logs/batch_16-observation/batch_16-from_df.csv\n",
      "save_batch_directory: /Users/detraviousjamaribrinkley/Documents/Development/research_labs/uf_ds/predictions/notebook_experiments/../data/observation_logs/batch_17-observation\n",
      "CSV to DF\n",
      "Load saved csv: /Users/detraviousjamaribrinkley/Documents/Development/research_labs/uf_ds/predictions/notebook_experiments/../data/observation_logs/batch_17-observation/batch_17-from_df.csv\n"
     ]
    },
    {
     "data": {
      "text/html": [
       "<div>\n",
       "<style scoped>\n",
       "    .dataframe tbody tr th:only-of-type {\n",
       "        vertical-align: middle;\n",
       "    }\n",
       "\n",
       "    .dataframe tbody tr th {\n",
       "        vertical-align: top;\n",
       "    }\n",
       "\n",
       "    .dataframe thead th {\n",
       "        text-align: right;\n",
       "    }\n",
       "</style>\n",
       "<table border=\"1\" class=\"dataframe\">\n",
       "  <thead>\n",
       "    <tr style=\"text-align: right;\">\n",
       "      <th></th>\n",
       "      <th>Base Sentence</th>\n",
       "      <th>Sentence Label</th>\n",
       "      <th>Domain</th>\n",
       "      <th>Model Name</th>\n",
       "      <th>API Name</th>\n",
       "      <th>Batch ID</th>\n",
       "      <th>Template Number</th>\n",
       "    </tr>\n",
       "  </thead>\n",
       "  <tbody>\n",
       "    <tr>\n",
       "      <th>0</th>\n",
       "      <td>The financial analyst at Goldman Sachs observed that the operating income at Tesla had increased in the first quarter of 2024.</td>\n",
       "      <td>0</td>\n",
       "      <td>finance</td>\n",
       "      <td>llama-3.1-70b-instruct</td>\n",
       "      <td>NAVI_GATOR</td>\n",
       "      <td>0</td>\n",
       "      <td>1</td>\n",
       "    </tr>\n",
       "    <tr>\n",
       "      <th>1</th>\n",
       "      <td>On 2024-08-20 to 2025-08-20, Morgan Stanley speculates the stock price at Amazon will likely rise.</td>\n",
       "      <td>0</td>\n",
       "      <td>finance</td>\n",
       "      <td>llama-3.1-70b-instruct</td>\n",
       "      <td>NAVI_GATOR</td>\n",
       "      <td>0</td>\n",
       "      <td>2</td>\n",
       "    </tr>\n",
       "    <tr>\n",
       "      <th>2</th>\n",
       "      <td>A young investor predicts on 2025-03-15, the S&amp;P 500 index may rise.</td>\n",
       "      <td>0</td>\n",
       "      <td>finance</td>\n",
       "      <td>llama-3.1-70b-instruct</td>\n",
       "      <td>NAVI_GATOR</td>\n",
       "      <td>0</td>\n",
       "      <td>3</td>\n",
       "    </tr>\n",
       "    <tr>\n",
       "      <th>3</th>\n",
       "      <td>According to Bank of America, the net profit at Microsoft would fall in the second quarter of 2026.</td>\n",
       "      <td>0</td>\n",
       "      <td>finance</td>\n",
       "      <td>llama-3.1-70b-instruct</td>\n",
       "      <td>NAVI_GATOR</td>\n",
       "      <td>0</td>\n",
       "      <td>4</td>\n",
       "    </tr>\n",
       "    <tr>\n",
       "      <th>4</th>\n",
       "      <td>In 2027-01-01 to 2027-12-31, Wells Fargo envisions that the interest rates at the Federal Reserve have some probability to remain stable.</td>\n",
       "      <td>0</td>\n",
       "      <td>finance</td>\n",
       "      <td>llama-3.1-70b-instruct</td>\n",
       "      <td>NAVI_GATOR</td>\n",
       "      <td>0</td>\n",
       "      <td>5</td>\n",
       "    </tr>\n",
       "    <tr>\n",
       "      <th>5</th>\n",
       "      <td>The trading volume at Apple should stay same in the fourth quarter of 2025, according to a financial expert at JPMorgan Chase.</td>\n",
       "      <td>0</td>\n",
       "      <td>finance</td>\n",
       "      <td>llama-3.1-70b-instruct</td>\n",
       "      <td>NAVI_GATOR</td>\n",
       "      <td>0</td>\n",
       "      <td>6</td>\n",
       "    </tr>\n",
       "    <tr>\n",
       "      <th>6</th>\n",
       "      <td>JPMorgan observed that the net profit at Microsoft had risen in September 2023.</td>\n",
       "      <td>0</td>\n",
       "      <td>finance</td>\n",
       "      <td>llama-3.3-70b-instruct</td>\n",
       "      <td>NAVI_GATOR</td>\n",
       "      <td>0</td>\n",
       "      <td>1</td>\n",
       "    </tr>\n",
       "  </tbody>\n",
       "</table>\n",
       "</div>"
      ],
      "text/plain": [
       "                                                                                                                               Base Sentence  \\\n",
       "0             The financial analyst at Goldman Sachs observed that the operating income at Tesla had increased in the first quarter of 2024.   \n",
       "1                                         On 2024-08-20 to 2025-08-20, Morgan Stanley speculates the stock price at Amazon will likely rise.   \n",
       "2                                                                       A young investor predicts on 2025-03-15, the S&P 500 index may rise.   \n",
       "3                                        According to Bank of America, the net profit at Microsoft would fall in the second quarter of 2026.   \n",
       "4  In 2027-01-01 to 2027-12-31, Wells Fargo envisions that the interest rates at the Federal Reserve have some probability to remain stable.   \n",
       "5             The trading volume at Apple should stay same in the fourth quarter of 2025, according to a financial expert at JPMorgan Chase.   \n",
       "6                                                            JPMorgan observed that the net profit at Microsoft had risen in September 2023.   \n",
       "\n",
       "   Sentence Label   Domain              Model Name    API Name  Batch ID  \\\n",
       "0               0  finance  llama-3.1-70b-instruct  NAVI_GATOR         0   \n",
       "1               0  finance  llama-3.1-70b-instruct  NAVI_GATOR         0   \n",
       "2               0  finance  llama-3.1-70b-instruct  NAVI_GATOR         0   \n",
       "3               0  finance  llama-3.1-70b-instruct  NAVI_GATOR         0   \n",
       "4               0  finance  llama-3.1-70b-instruct  NAVI_GATOR         0   \n",
       "5               0  finance  llama-3.1-70b-instruct  NAVI_GATOR         0   \n",
       "6               0  finance  llama-3.3-70b-instruct  NAVI_GATOR         0   \n",
       "\n",
       "   Template Number  \n",
       "0                1  \n",
       "1                2  \n",
       "2                3  \n",
       "3                4  \n",
       "4                5  \n",
       "5                6  \n",
       "6                1  "
      ]
     },
     "execution_count": 4,
     "metadata": {},
     "output_type": "execute_result"
    }
   ],
   "source": [
    "log_file_path = \"data/observation_logs\"\n",
    "predictions = False\n",
    "observations_df = log_files.read_data(notebook_dir, log_file_path, predictions)\n",
    "observations_df.head(7)"
   ]
  },
  {
   "cell_type": "code",
   "execution_count": 5,
   "id": "686e6649",
   "metadata": {},
   "outputs": [
    {
     "data": {
      "text/plain": [
       "(694, 1891)"
      ]
     },
     "execution_count": 5,
     "metadata": {},
     "output_type": "execute_result"
    }
   ],
   "source": [
    "col_name = 'Base Sentence'\n",
    "predictions = DataProcessing.df_to_list(predictions_df, col_name)\n",
    "observations = DataProcessing.df_to_list(observations_df, col_name)\n",
    "len(predictions), len(observations)"
   ]
  },
  {
   "cell_type": "markdown",
   "id": "6f238924",
   "metadata": {},
   "source": [
    "## Extract Embeddings with Spacy"
   ]
  },
  {
   "cell_type": "code",
   "execution_count": 6,
   "id": "b69e63d7",
   "metadata": {},
   "outputs": [
    {
     "data": {
      "text/html": [
       "<div>\n",
       "<style scoped>\n",
       "    .dataframe tbody tr th:only-of-type {\n",
       "        vertical-align: middle;\n",
       "    }\n",
       "\n",
       "    .dataframe tbody tr th {\n",
       "        vertical-align: top;\n",
       "    }\n",
       "\n",
       "    .dataframe thead th {\n",
       "        text-align: right;\n",
       "    }\n",
       "</style>\n",
       "<table border=\"1\" class=\"dataframe\">\n",
       "  <thead>\n",
       "    <tr style=\"text-align: right;\">\n",
       "      <th></th>\n",
       "      <th>Prediction</th>\n",
       "      <th>Observation</th>\n",
       "      <th>Entailment Label</th>\n",
       "    </tr>\n",
       "  </thead>\n",
       "  <tbody>\n",
       "    <tr>\n",
       "      <th>0</th>\n",
       "      <td>Citigroup predicts on 2024-08-21, the operating income at Alphabet may rise.</td>\n",
       "      <td>In Q2 2025, a financial research advisor envisions that the research and development expenses at Google has some probability to remain stable.</td>\n",
       "      <td>NEUTRAL</td>\n",
       "    </tr>\n",
       "    <tr>\n",
       "      <th>1</th>\n",
       "      <td>JPMorgan Chase forecasts that the net profit at Amazon potentially decrease in Q3 of 2027.</td>\n",
       "      <td>According to the financial top executive at BlackRock, the stock price at Amazon may rise in Q4 2028.</td>\n",
       "      <td>NEUTRAL</td>\n",
       "    </tr>\n",
       "    <tr>\n",
       "      <th>2</th>\n",
       "      <td>JPMorgan Chase forecasts that the net profit at Amazon potentially decrease in Q3 of 2027.</td>\n",
       "      <td>In the fourth quarter of 2027, Wells Fargo envisions that the operating cash flow at Intel has some probability to remain stable.</td>\n",
       "      <td>NEUTRAL</td>\n",
       "    </tr>\n",
       "    <tr>\n",
       "      <th>3</th>\n",
       "      <td>JPMorgan Chase forecasts that the net profit at Amazon potentially decrease in Q3 of 2027.</td>\n",
       "      <td>Intel stock price should stay the same in January 2028, according to a financial expert at Harvard University.</td>\n",
       "      <td>NEUTRAL</td>\n",
       "    </tr>\n",
       "    <tr>\n",
       "      <th>4</th>\n",
       "      <td>JPMorgan Chase forecasts that the net profit at Amazon potentially decrease in Q3 of 2027.</td>\n",
       "      <td>On March 1, 2029, the financial advisor at Wells Fargo envisions that the inflation rate at the Federal Reserve has some probability to remain stable.</td>\n",
       "      <td>NEUTRAL</td>\n",
       "    </tr>\n",
       "    <tr>\n",
       "      <th>5</th>\n",
       "      <td>JPMorgan Chase forecasts that the net profit at Amazon potentially decrease in Q3 of 2027.</td>\n",
       "      <td>On November 10, 2022, to November 10, 2023, Citigroup speculates the research and development expenses at Amazon will likely increase.</td>\n",
       "      <td>NEUTRAL</td>\n",
       "    </tr>\n",
       "    <tr>\n",
       "      <th>6</th>\n",
       "      <td>JPMorgan Chase forecasts that the net profit at Amazon potentially decrease in Q3 of 2027.</td>\n",
       "      <td>The trading volume at Apple should stay same in the fourth quarter of 2025, according to a financial expert at JPMorgan Chase.</td>\n",
       "      <td>NEUTRAL</td>\n",
       "    </tr>\n",
       "    <tr>\n",
       "      <th>7</th>\n",
       "      <td>On August 21, 2024, Bank of America speculates the revenue at Microsoft will likely increase.</td>\n",
       "      <td>According to Bank of America, the net profit at Microsoft would fall in the second quarter of 2026.</td>\n",
       "      <td>NEUTRAL</td>\n",
       "    </tr>\n",
       "    <tr>\n",
       "      <th>8</th>\n",
       "      <td>On August 21, 2024, Bank of America speculates the revenue at Microsoft will likely increase.</td>\n",
       "      <td>Apple stock price decreased in August 2024, according to Roger.</td>\n",
       "      <td>NEUTRAL</td>\n",
       "    </tr>\n",
       "    <tr>\n",
       "      <th>9</th>\n",
       "      <td>On August 21, 2024, Bank of America speculates the revenue at Microsoft will likely increase.</td>\n",
       "      <td>Intel stock price should stay the same in January 2028, according to a financial expert at Harvard University.</td>\n",
       "      <td>NEUTRAL</td>\n",
       "    </tr>\n",
       "    <tr>\n",
       "      <th>10</th>\n",
       "      <td>On August 21, 2024, Bank of America speculates the revenue at Microsoft will likely increase.</td>\n",
       "      <td>The trading volume at Alibaba remained stable, according to the research advisor at Bank of America.</td>\n",
       "      <td>NEUTRAL</td>\n",
       "    </tr>\n",
       "    <tr>\n",
       "      <th>11</th>\n",
       "      <td>On August 21, 2024, Bank of America speculates the revenue at Microsoft will likely increase.</td>\n",
       "      <td>The trading volume at Apple should stay same in the fourth quarter of 2025, according to a financial expert at JPMorgan Chase.</td>\n",
       "      <td>NEUTRAL</td>\n",
       "    </tr>\n",
       "  </tbody>\n",
       "</table>\n",
       "</div>"
      ],
      "text/plain": [
       "                                                                                       Prediction  \\\n",
       "0                    Citigroup predicts on 2024-08-21, the operating income at Alphabet may rise.   \n",
       "1      JPMorgan Chase forecasts that the net profit at Amazon potentially decrease in Q3 of 2027.   \n",
       "2      JPMorgan Chase forecasts that the net profit at Amazon potentially decrease in Q3 of 2027.   \n",
       "3      JPMorgan Chase forecasts that the net profit at Amazon potentially decrease in Q3 of 2027.   \n",
       "4      JPMorgan Chase forecasts that the net profit at Amazon potentially decrease in Q3 of 2027.   \n",
       "5      JPMorgan Chase forecasts that the net profit at Amazon potentially decrease in Q3 of 2027.   \n",
       "6      JPMorgan Chase forecasts that the net profit at Amazon potentially decrease in Q3 of 2027.   \n",
       "7   On August 21, 2024, Bank of America speculates the revenue at Microsoft will likely increase.   \n",
       "8   On August 21, 2024, Bank of America speculates the revenue at Microsoft will likely increase.   \n",
       "9   On August 21, 2024, Bank of America speculates the revenue at Microsoft will likely increase.   \n",
       "10  On August 21, 2024, Bank of America speculates the revenue at Microsoft will likely increase.   \n",
       "11  On August 21, 2024, Bank of America speculates the revenue at Microsoft will likely increase.   \n",
       "\n",
       "                                                                                                                                               Observation  \\\n",
       "0           In Q2 2025, a financial research advisor envisions that the research and development expenses at Google has some probability to remain stable.   \n",
       "1                                                    According to the financial top executive at BlackRock, the stock price at Amazon may rise in Q4 2028.   \n",
       "2                        In the fourth quarter of 2027, Wells Fargo envisions that the operating cash flow at Intel has some probability to remain stable.   \n",
       "3                                           Intel stock price should stay the same in January 2028, according to a financial expert at Harvard University.   \n",
       "4   On March 1, 2029, the financial advisor at Wells Fargo envisions that the inflation rate at the Federal Reserve has some probability to remain stable.   \n",
       "5                   On November 10, 2022, to November 10, 2023, Citigroup speculates the research and development expenses at Amazon will likely increase.   \n",
       "6                           The trading volume at Apple should stay same in the fourth quarter of 2025, according to a financial expert at JPMorgan Chase.   \n",
       "7                                                      According to Bank of America, the net profit at Microsoft would fall in the second quarter of 2026.   \n",
       "8                                                                                          Apple stock price decreased in August 2024, according to Roger.   \n",
       "9                                           Intel stock price should stay the same in January 2028, according to a financial expert at Harvard University.   \n",
       "10                                                    The trading volume at Alibaba remained stable, according to the research advisor at Bank of America.   \n",
       "11                          The trading volume at Apple should stay same in the fourth quarter of 2025, according to a financial expert at JPMorgan Chase.   \n",
       "\n",
       "   Entailment Label  \n",
       "0           NEUTRAL  \n",
       "1           NEUTRAL  \n",
       "2           NEUTRAL  \n",
       "3           NEUTRAL  \n",
       "4           NEUTRAL  \n",
       "5           NEUTRAL  \n",
       "6           NEUTRAL  \n",
       "7           NEUTRAL  \n",
       "8           NEUTRAL  \n",
       "9           NEUTRAL  \n",
       "10          NEUTRAL  \n",
       "11          NEUTRAL  "
      ]
     },
     "execution_count": 6,
     "metadata": {},
     "output_type": "execute_result"
    }
   ],
   "source": [
    "by_prediction_df = pd.read_csv('../data/entailment/entailment-v1.csv')  \n",
    "by_prediction_df"
   ]
  },
  {
   "cell_type": "code",
   "execution_count": 7,
   "id": "c6e3f2b5",
   "metadata": {},
   "outputs": [
    {
     "data": {
      "text/html": [
       "<div>\n",
       "<style scoped>\n",
       "    .dataframe tbody tr th:only-of-type {\n",
       "        vertical-align: middle;\n",
       "    }\n",
       "\n",
       "    .dataframe tbody tr th {\n",
       "        vertical-align: top;\n",
       "    }\n",
       "\n",
       "    .dataframe thead th {\n",
       "        text-align: right;\n",
       "    }\n",
       "</style>\n",
       "<table border=\"1\" class=\"dataframe\">\n",
       "  <thead>\n",
       "    <tr style=\"text-align: right;\">\n",
       "      <th></th>\n",
       "      <th>Prediction</th>\n",
       "      <th>Observation</th>\n",
       "      <th>Entailment Label</th>\n",
       "    </tr>\n",
       "  </thead>\n",
       "  <tbody>\n",
       "    <tr>\n",
       "      <th>0</th>\n",
       "      <td>Citigroup predicts on 2024-08-21, the operating income at Alphabet may rise.</td>\n",
       "      <td>In Q2 2025, a financial research advisor envisions that the research and development expenses at Google has some probability to remain stable.</td>\n",
       "      <td>NEUTRAL</td>\n",
       "    </tr>\n",
       "    <tr>\n",
       "      <th>1</th>\n",
       "      <td>JPMorgan Chase forecasts that the net profit at Amazon potentially decrease in Q3 of 2027.</td>\n",
       "      <td>According to the financial top executive at BlackRock, the stock price at Amazon may rise in Q4 2028.</td>\n",
       "      <td>NEUTRAL</td>\n",
       "    </tr>\n",
       "    <tr>\n",
       "      <th>2</th>\n",
       "      <td>JPMorgan Chase forecasts that the net profit at Amazon potentially decrease in Q3 of 2027.</td>\n",
       "      <td>In the fourth quarter of 2027, Wells Fargo envisions that the operating cash flow at Intel has some probability to remain stable.</td>\n",
       "      <td>NEUTRAL</td>\n",
       "    </tr>\n",
       "    <tr>\n",
       "      <th>3</th>\n",
       "      <td>JPMorgan Chase forecasts that the net profit at Amazon potentially decrease in Q3 of 2027.</td>\n",
       "      <td>Intel stock price should stay the same in January 2028, according to a financial expert at Harvard University.</td>\n",
       "      <td>NEUTRAL</td>\n",
       "    </tr>\n",
       "    <tr>\n",
       "      <th>4</th>\n",
       "      <td>JPMorgan Chase forecasts that the net profit at Amazon potentially decrease in Q3 of 2027.</td>\n",
       "      <td>On March 1, 2029, the financial advisor at Wells Fargo envisions that the inflation rate at the Federal Reserve has some probability to remain stable.</td>\n",
       "      <td>NEUTRAL</td>\n",
       "    </tr>\n",
       "    <tr>\n",
       "      <th>5</th>\n",
       "      <td>JPMorgan Chase forecasts that the net profit at Amazon potentially decrease in Q3 of 2027.</td>\n",
       "      <td>On November 10, 2022, to November 10, 2023, Citigroup speculates the research and development expenses at Amazon will likely increase.</td>\n",
       "      <td>NEUTRAL</td>\n",
       "    </tr>\n",
       "    <tr>\n",
       "      <th>6</th>\n",
       "      <td>JPMorgan Chase forecasts that the net profit at Amazon potentially decrease in Q3 of 2027.</td>\n",
       "      <td>The trading volume at Apple should stay same in the fourth quarter of 2025, according to a financial expert at JPMorgan Chase.</td>\n",
       "      <td>NEUTRAL</td>\n",
       "    </tr>\n",
       "    <tr>\n",
       "      <th>7</th>\n",
       "      <td>On August 21, 2024, Bank of America speculates the revenue at Microsoft will likely increase.</td>\n",
       "      <td>According to Bank of America, the net profit at Microsoft would fall in the second quarter of 2026.</td>\n",
       "      <td>NEUTRAL</td>\n",
       "    </tr>\n",
       "    <tr>\n",
       "      <th>8</th>\n",
       "      <td>On August 21, 2024, Bank of America speculates the revenue at Microsoft will likely increase.</td>\n",
       "      <td>Apple stock price decreased in August 2024, according to Roger.</td>\n",
       "      <td>NEUTRAL</td>\n",
       "    </tr>\n",
       "    <tr>\n",
       "      <th>9</th>\n",
       "      <td>On August 21, 2024, Bank of America speculates the revenue at Microsoft will likely increase.</td>\n",
       "      <td>Intel stock price should stay the same in January 2028, according to a financial expert at Harvard University.</td>\n",
       "      <td>NEUTRAL</td>\n",
       "    </tr>\n",
       "    <tr>\n",
       "      <th>10</th>\n",
       "      <td>On August 21, 2024, Bank of America speculates the revenue at Microsoft will likely increase.</td>\n",
       "      <td>The trading volume at Alibaba remained stable, according to the research advisor at Bank of America.</td>\n",
       "      <td>NEUTRAL</td>\n",
       "    </tr>\n",
       "    <tr>\n",
       "      <th>11</th>\n",
       "      <td>On August 21, 2024, Bank of America speculates the revenue at Microsoft will likely increase.</td>\n",
       "      <td>The trading volume at Apple should stay same in the fourth quarter of 2025, according to a financial expert at JPMorgan Chase.</td>\n",
       "      <td>NEUTRAL</td>\n",
       "    </tr>\n",
       "  </tbody>\n",
       "</table>\n",
       "</div>"
      ],
      "text/plain": [
       "                                                                                       Prediction  \\\n",
       "0                    Citigroup predicts on 2024-08-21, the operating income at Alphabet may rise.   \n",
       "1      JPMorgan Chase forecasts that the net profit at Amazon potentially decrease in Q3 of 2027.   \n",
       "2      JPMorgan Chase forecasts that the net profit at Amazon potentially decrease in Q3 of 2027.   \n",
       "3      JPMorgan Chase forecasts that the net profit at Amazon potentially decrease in Q3 of 2027.   \n",
       "4      JPMorgan Chase forecasts that the net profit at Amazon potentially decrease in Q3 of 2027.   \n",
       "5      JPMorgan Chase forecasts that the net profit at Amazon potentially decrease in Q3 of 2027.   \n",
       "6      JPMorgan Chase forecasts that the net profit at Amazon potentially decrease in Q3 of 2027.   \n",
       "7   On August 21, 2024, Bank of America speculates the revenue at Microsoft will likely increase.   \n",
       "8   On August 21, 2024, Bank of America speculates the revenue at Microsoft will likely increase.   \n",
       "9   On August 21, 2024, Bank of America speculates the revenue at Microsoft will likely increase.   \n",
       "10  On August 21, 2024, Bank of America speculates the revenue at Microsoft will likely increase.   \n",
       "11  On August 21, 2024, Bank of America speculates the revenue at Microsoft will likely increase.   \n",
       "\n",
       "                                                                                                                                               Observation  \\\n",
       "0           In Q2 2025, a financial research advisor envisions that the research and development expenses at Google has some probability to remain stable.   \n",
       "1                                                    According to the financial top executive at BlackRock, the stock price at Amazon may rise in Q4 2028.   \n",
       "2                        In the fourth quarter of 2027, Wells Fargo envisions that the operating cash flow at Intel has some probability to remain stable.   \n",
       "3                                           Intel stock price should stay the same in January 2028, according to a financial expert at Harvard University.   \n",
       "4   On March 1, 2029, the financial advisor at Wells Fargo envisions that the inflation rate at the Federal Reserve has some probability to remain stable.   \n",
       "5                   On November 10, 2022, to November 10, 2023, Citigroup speculates the research and development expenses at Amazon will likely increase.   \n",
       "6                           The trading volume at Apple should stay same in the fourth quarter of 2025, according to a financial expert at JPMorgan Chase.   \n",
       "7                                                      According to Bank of America, the net profit at Microsoft would fall in the second quarter of 2026.   \n",
       "8                                                                                          Apple stock price decreased in August 2024, according to Roger.   \n",
       "9                                           Intel stock price should stay the same in January 2028, according to a financial expert at Harvard University.   \n",
       "10                                                    The trading volume at Alibaba remained stable, according to the research advisor at Bank of America.   \n",
       "11                          The trading volume at Apple should stay same in the fourth quarter of 2025, according to a financial expert at JPMorgan Chase.   \n",
       "\n",
       "   Entailment Label  \n",
       "0           NEUTRAL  \n",
       "1           NEUTRAL  \n",
       "2           NEUTRAL  \n",
       "3           NEUTRAL  \n",
       "4           NEUTRAL  \n",
       "5           NEUTRAL  \n",
       "6           NEUTRAL  \n",
       "7           NEUTRAL  \n",
       "8           NEUTRAL  \n",
       "9           NEUTRAL  \n",
       "10          NEUTRAL  \n",
       "11          NEUTRAL  "
      ]
     },
     "execution_count": 7,
     "metadata": {},
     "output_type": "execute_result"
    }
   ],
   "source": [
    "by_prediction_df"
   ]
  },
  {
   "cell_type": "code",
   "execution_count": 8,
   "id": "0f8501a9",
   "metadata": {},
   "outputs": [
    {
     "name": "stderr",
     "output_type": "stream",
     "text": [
      "100%|██████████| 12/12 [00:00<00:00, 300.81it/s]\n",
      "100%|██████████| 12/12 [00:00<00:00, 249.83it/s]\n",
      "100%|██████████| 12/12 [00:00<00:00, 5379.04it/s]\n"
     ]
    },
    {
     "data": {
      "text/html": [
       "<div>\n",
       "<style scoped>\n",
       "    .dataframe tbody tr th:only-of-type {\n",
       "        vertical-align: middle;\n",
       "    }\n",
       "\n",
       "    .dataframe tbody tr th {\n",
       "        vertical-align: top;\n",
       "    }\n",
       "\n",
       "    .dataframe thead th {\n",
       "        text-align: right;\n",
       "    }\n",
       "</style>\n",
       "<table border=\"1\" class=\"dataframe\">\n",
       "  <thead>\n",
       "    <tr style=\"text-align: right;\">\n",
       "      <th></th>\n",
       "      <th>Prediction</th>\n",
       "      <th>Observation</th>\n",
       "      <th>Entailment Label</th>\n",
       "      <th>Spacy</th>\n",
       "    </tr>\n",
       "  </thead>\n",
       "  <tbody>\n",
       "    <tr>\n",
       "      <th>0</th>\n",
       "      <td>Citigroup predicts on 2024-08-21, the operating income at Alphabet may rise.</td>\n",
       "      <td>In Q2 2025, a financial research advisor envisions that the research and development expenses at Google has some probability to remain stable.</td>\n",
       "      <td>NEUTRAL</td>\n",
       "      <td>0.773352</td>\n",
       "    </tr>\n",
       "    <tr>\n",
       "      <th>1</th>\n",
       "      <td>JPMorgan Chase forecasts that the net profit at Amazon potentially decrease in Q3 of 2027.</td>\n",
       "      <td>According to the financial top executive at BlackRock, the stock price at Amazon may rise in Q4 2028.</td>\n",
       "      <td>NEUTRAL</td>\n",
       "      <td>0.866826</td>\n",
       "    </tr>\n",
       "    <tr>\n",
       "      <th>2</th>\n",
       "      <td>JPMorgan Chase forecasts that the net profit at Amazon potentially decrease in Q3 of 2027.</td>\n",
       "      <td>In the fourth quarter of 2027, Wells Fargo envisions that the operating cash flow at Intel has some probability to remain stable.</td>\n",
       "      <td>NEUTRAL</td>\n",
       "      <td>0.865429</td>\n",
       "    </tr>\n",
       "    <tr>\n",
       "      <th>3</th>\n",
       "      <td>JPMorgan Chase forecasts that the net profit at Amazon potentially decrease in Q3 of 2027.</td>\n",
       "      <td>Intel stock price should stay the same in January 2028, according to a financial expert at Harvard University.</td>\n",
       "      <td>NEUTRAL</td>\n",
       "      <td>0.812578</td>\n",
       "    </tr>\n",
       "    <tr>\n",
       "      <th>4</th>\n",
       "      <td>JPMorgan Chase forecasts that the net profit at Amazon potentially decrease in Q3 of 2027.</td>\n",
       "      <td>On March 1, 2029, the financial advisor at Wells Fargo envisions that the inflation rate at the Federal Reserve has some probability to remain stable.</td>\n",
       "      <td>NEUTRAL</td>\n",
       "      <td>0.845318</td>\n",
       "    </tr>\n",
       "    <tr>\n",
       "      <th>5</th>\n",
       "      <td>JPMorgan Chase forecasts that the net profit at Amazon potentially decrease in Q3 of 2027.</td>\n",
       "      <td>On November 10, 2022, to November 10, 2023, Citigroup speculates the research and development expenses at Amazon will likely increase.</td>\n",
       "      <td>NEUTRAL</td>\n",
       "      <td>0.815297</td>\n",
       "    </tr>\n",
       "    <tr>\n",
       "      <th>6</th>\n",
       "      <td>JPMorgan Chase forecasts that the net profit at Amazon potentially decrease in Q3 of 2027.</td>\n",
       "      <td>The trading volume at Apple should stay same in the fourth quarter of 2025, according to a financial expert at JPMorgan Chase.</td>\n",
       "      <td>NEUTRAL</td>\n",
       "      <td>0.859226</td>\n",
       "    </tr>\n",
       "    <tr>\n",
       "      <th>7</th>\n",
       "      <td>On August 21, 2024, Bank of America speculates the revenue at Microsoft will likely increase.</td>\n",
       "      <td>According to Bank of America, the net profit at Microsoft would fall in the second quarter of 2026.</td>\n",
       "      <td>NEUTRAL</td>\n",
       "      <td>0.927874</td>\n",
       "    </tr>\n",
       "    <tr>\n",
       "      <th>8</th>\n",
       "      <td>On August 21, 2024, Bank of America speculates the revenue at Microsoft will likely increase.</td>\n",
       "      <td>Apple stock price decreased in August 2024, according to Roger.</td>\n",
       "      <td>NEUTRAL</td>\n",
       "      <td>0.876008</td>\n",
       "    </tr>\n",
       "    <tr>\n",
       "      <th>9</th>\n",
       "      <td>On August 21, 2024, Bank of America speculates the revenue at Microsoft will likely increase.</td>\n",
       "      <td>Intel stock price should stay the same in January 2028, according to a financial expert at Harvard University.</td>\n",
       "      <td>NEUTRAL</td>\n",
       "      <td>0.900117</td>\n",
       "    </tr>\n",
       "    <tr>\n",
       "      <th>10</th>\n",
       "      <td>On August 21, 2024, Bank of America speculates the revenue at Microsoft will likely increase.</td>\n",
       "      <td>The trading volume at Alibaba remained stable, according to the research advisor at Bank of America.</td>\n",
       "      <td>NEUTRAL</td>\n",
       "      <td>0.882334</td>\n",
       "    </tr>\n",
       "    <tr>\n",
       "      <th>11</th>\n",
       "      <td>On August 21, 2024, Bank of America speculates the revenue at Microsoft will likely increase.</td>\n",
       "      <td>The trading volume at Apple should stay same in the fourth quarter of 2025, according to a financial expert at JPMorgan Chase.</td>\n",
       "      <td>NEUTRAL</td>\n",
       "      <td>0.890518</td>\n",
       "    </tr>\n",
       "  </tbody>\n",
       "</table>\n",
       "</div>"
      ],
      "text/plain": [
       "                                                                                       Prediction  \\\n",
       "0                    Citigroup predicts on 2024-08-21, the operating income at Alphabet may rise.   \n",
       "1      JPMorgan Chase forecasts that the net profit at Amazon potentially decrease in Q3 of 2027.   \n",
       "2      JPMorgan Chase forecasts that the net profit at Amazon potentially decrease in Q3 of 2027.   \n",
       "3      JPMorgan Chase forecasts that the net profit at Amazon potentially decrease in Q3 of 2027.   \n",
       "4      JPMorgan Chase forecasts that the net profit at Amazon potentially decrease in Q3 of 2027.   \n",
       "5      JPMorgan Chase forecasts that the net profit at Amazon potentially decrease in Q3 of 2027.   \n",
       "6      JPMorgan Chase forecasts that the net profit at Amazon potentially decrease in Q3 of 2027.   \n",
       "7   On August 21, 2024, Bank of America speculates the revenue at Microsoft will likely increase.   \n",
       "8   On August 21, 2024, Bank of America speculates the revenue at Microsoft will likely increase.   \n",
       "9   On August 21, 2024, Bank of America speculates the revenue at Microsoft will likely increase.   \n",
       "10  On August 21, 2024, Bank of America speculates the revenue at Microsoft will likely increase.   \n",
       "11  On August 21, 2024, Bank of America speculates the revenue at Microsoft will likely increase.   \n",
       "\n",
       "                                                                                                                                               Observation  \\\n",
       "0           In Q2 2025, a financial research advisor envisions that the research and development expenses at Google has some probability to remain stable.   \n",
       "1                                                    According to the financial top executive at BlackRock, the stock price at Amazon may rise in Q4 2028.   \n",
       "2                        In the fourth quarter of 2027, Wells Fargo envisions that the operating cash flow at Intel has some probability to remain stable.   \n",
       "3                                           Intel stock price should stay the same in January 2028, according to a financial expert at Harvard University.   \n",
       "4   On March 1, 2029, the financial advisor at Wells Fargo envisions that the inflation rate at the Federal Reserve has some probability to remain stable.   \n",
       "5                   On November 10, 2022, to November 10, 2023, Citigroup speculates the research and development expenses at Amazon will likely increase.   \n",
       "6                           The trading volume at Apple should stay same in the fourth quarter of 2025, according to a financial expert at JPMorgan Chase.   \n",
       "7                                                      According to Bank of America, the net profit at Microsoft would fall in the second quarter of 2026.   \n",
       "8                                                                                          Apple stock price decreased in August 2024, according to Roger.   \n",
       "9                                           Intel stock price should stay the same in January 2028, according to a financial expert at Harvard University.   \n",
       "10                                                    The trading volume at Alibaba remained stable, according to the research advisor at Bank of America.   \n",
       "11                          The trading volume at Apple should stay same in the fourth quarter of 2025, according to a financial expert at JPMorgan Chase.   \n",
       "\n",
       "   Entailment Label     Spacy  \n",
       "0           NEUTRAL  0.773352  \n",
       "1           NEUTRAL  0.866826  \n",
       "2           NEUTRAL  0.865429  \n",
       "3           NEUTRAL  0.812578  \n",
       "4           NEUTRAL  0.845318  \n",
       "5           NEUTRAL  0.815297  \n",
       "6           NEUTRAL  0.859226  \n",
       "7           NEUTRAL  0.927874  \n",
       "8           NEUTRAL  0.876008  \n",
       "9           NEUTRAL  0.900117  \n",
       "10          NEUTRAL  0.882334  \n",
       "11          NEUTRAL  0.890518  "
      ]
     },
     "execution_count": 8,
     "metadata": {},
     "output_type": "execute_result"
    }
   ],
   "source": [
    "disable_components = [\"\"]\n",
    "# pred_spacy_fe = SpacyFeatureExtraction(predictions_df, \"Base Sentence\")\n",
    "spacy_fe_pred = SpacyFeatureExtraction(by_prediction_df, 'Prediction')\n",
    "spacy_embeddings_pred = spacy_fe_pred.sentence_feature_extraction()\n",
    "\n",
    "spacy_fe_obser = SpacyFeatureExtraction(by_prediction_df, 'Observation')\n",
    "obser_embeddings_pred = spacy_fe_obser.sentence_feature_extraction()\n",
    "\n",
    "spacy_cs_metrics = Metrics.get_cosine_similarity(spacy_embeddings_pred, obser_embeddings_pred)\n",
    "by_prediction_df['Spacy'] = spacy_cs_metrics\n",
    "by_prediction_df"
   ]
  },
  {
   "cell_type": "markdown",
   "id": "43f14538",
   "metadata": {},
   "source": [
    "## Extract Embeddings with Sentence Transformer"
   ]
  },
  {
   "cell_type": "code",
   "execution_count": 9,
   "id": "18da8f76",
   "metadata": {},
   "outputs": [
    {
     "name": "stderr",
     "output_type": "stream",
     "text": [
      "  0%|          | 0/12 [00:00<?, ?it/s]"
     ]
    },
    {
     "data": {
      "application/vnd.jupyter.widget-view+json": {
       "model_id": "5363e2ce12da4427bfab065255c90b39",
       "version_major": 2,
       "version_minor": 0
      },
      "text/plain": [
       "Batches:   0%|          | 0/1 [00:00<?, ?it/s]"
      ]
     },
     "metadata": {},
     "output_type": "display_data"
    },
    {
     "data": {
      "application/vnd.jupyter.widget-view+json": {
       "model_id": "d83414f51d284ce2af1d5e1942971490",
       "version_major": 2,
       "version_minor": 0
      },
      "text/plain": [
       "Batches:   0%|          | 0/1 [00:00<?, ?it/s]"
      ]
     },
     "metadata": {},
     "output_type": "display_data"
    },
    {
     "data": {
      "application/vnd.jupyter.widget-view+json": {
       "model_id": "26afa9d79dd045b18129f7b753f5ab67",
       "version_major": 2,
       "version_minor": 0
      },
      "text/plain": [
       "Batches:   0%|          | 0/1 [00:00<?, ?it/s]"
      ]
     },
     "metadata": {},
     "output_type": "display_data"
    },
    {
     "data": {
      "application/vnd.jupyter.widget-view+json": {
       "model_id": "a1dd89c97a554e86b85812e2cf89095d",
       "version_major": 2,
       "version_minor": 0
      },
      "text/plain": [
       "Batches:   0%|          | 0/1 [00:00<?, ?it/s]"
      ]
     },
     "metadata": {},
     "output_type": "display_data"
    },
    {
     "name": "stderr",
     "output_type": "stream",
     "text": [
      " 33%|███▎      | 4/12 [00:00<00:00, 38.82it/s]"
     ]
    },
    {
     "data": {
      "application/vnd.jupyter.widget-view+json": {
       "model_id": "b67e3297bcdb4c76a611da7ab0f7911e",
       "version_major": 2,
       "version_minor": 0
      },
      "text/plain": [
       "Batches:   0%|          | 0/1 [00:00<?, ?it/s]"
      ]
     },
     "metadata": {},
     "output_type": "display_data"
    },
    {
     "data": {
      "application/vnd.jupyter.widget-view+json": {
       "model_id": "33840a9b07d74071b4dc367852e3e713",
       "version_major": 2,
       "version_minor": 0
      },
      "text/plain": [
       "Batches:   0%|          | 0/1 [00:00<?, ?it/s]"
      ]
     },
     "metadata": {},
     "output_type": "display_data"
    },
    {
     "data": {
      "application/vnd.jupyter.widget-view+json": {
       "model_id": "1d40138e59f1462abc8bda6c08482117",
       "version_major": 2,
       "version_minor": 0
      },
      "text/plain": [
       "Batches:   0%|          | 0/1 [00:00<?, ?it/s]"
      ]
     },
     "metadata": {},
     "output_type": "display_data"
    },
    {
     "data": {
      "application/vnd.jupyter.widget-view+json": {
       "model_id": "7439b263ecb04ffd986fdc080607af3e",
       "version_major": 2,
       "version_minor": 0
      },
      "text/plain": [
       "Batches:   0%|          | 0/1 [00:00<?, ?it/s]"
      ]
     },
     "metadata": {},
     "output_type": "display_data"
    },
    {
     "data": {
      "application/vnd.jupyter.widget-view+json": {
       "model_id": "ef05260ce2c1460e809615816828d202",
       "version_major": 2,
       "version_minor": 0
      },
      "text/plain": [
       "Batches:   0%|          | 0/1 [00:00<?, ?it/s]"
      ]
     },
     "metadata": {},
     "output_type": "display_data"
    },
    {
     "data": {
      "application/vnd.jupyter.widget-view+json": {
       "model_id": "8e64356ac8334ec89ca7791d0814916c",
       "version_major": 2,
       "version_minor": 0
      },
      "text/plain": [
       "Batches:   0%|          | 0/1 [00:00<?, ?it/s]"
      ]
     },
     "metadata": {},
     "output_type": "display_data"
    },
    {
     "data": {
      "application/vnd.jupyter.widget-view+json": {
       "model_id": "43c060915ac94c6ebf2406c07d82547b",
       "version_major": 2,
       "version_minor": 0
      },
      "text/plain": [
       "Batches:   0%|          | 0/1 [00:00<?, ?it/s]"
      ]
     },
     "metadata": {},
     "output_type": "display_data"
    },
    {
     "data": {
      "application/vnd.jupyter.widget-view+json": {
       "model_id": "de0017ad91c54ee0a3acd06dd8831d25",
       "version_major": 2,
       "version_minor": 0
      },
      "text/plain": [
       "Batches:   0%|          | 0/1 [00:00<?, ?it/s]"
      ]
     },
     "metadata": {},
     "output_type": "display_data"
    },
    {
     "name": "stderr",
     "output_type": "stream",
     "text": [
      "100%|██████████| 12/12 [00:00<00:00, 57.19it/s]\n",
      "  0%|          | 0/12 [00:00<?, ?it/s]"
     ]
    },
    {
     "data": {
      "application/vnd.jupyter.widget-view+json": {
       "model_id": "a1373a421e064092ac3c56c25c79088f",
       "version_major": 2,
       "version_minor": 0
      },
      "text/plain": [
       "Batches:   0%|          | 0/1 [00:00<?, ?it/s]"
      ]
     },
     "metadata": {},
     "output_type": "display_data"
    },
    {
     "data": {
      "application/vnd.jupyter.widget-view+json": {
       "model_id": "96d3bebe85f84db7a9abe465baf908ce",
       "version_major": 2,
       "version_minor": 0
      },
      "text/plain": [
       "Batches:   0%|          | 0/1 [00:00<?, ?it/s]"
      ]
     },
     "metadata": {},
     "output_type": "display_data"
    },
    {
     "data": {
      "application/vnd.jupyter.widget-view+json": {
       "model_id": "66d54283b87b4c2eb8c5bb7e21171323",
       "version_major": 2,
       "version_minor": 0
      },
      "text/plain": [
       "Batches:   0%|          | 0/1 [00:00<?, ?it/s]"
      ]
     },
     "metadata": {},
     "output_type": "display_data"
    },
    {
     "name": "stderr",
     "output_type": "stream",
     "text": [
      " 25%|██▌       | 3/12 [00:00<00:00, 25.76it/s]"
     ]
    },
    {
     "data": {
      "application/vnd.jupyter.widget-view+json": {
       "model_id": "86a0d43d9e114796892aeb5cecd26845",
       "version_major": 2,
       "version_minor": 0
      },
      "text/plain": [
       "Batches:   0%|          | 0/1 [00:00<?, ?it/s]"
      ]
     },
     "metadata": {},
     "output_type": "display_data"
    },
    {
     "data": {
      "application/vnd.jupyter.widget-view+json": {
       "model_id": "ca5198219d204fe3ac614784a03d62d7",
       "version_major": 2,
       "version_minor": 0
      },
      "text/plain": [
       "Batches:   0%|          | 0/1 [00:00<?, ?it/s]"
      ]
     },
     "metadata": {},
     "output_type": "display_data"
    },
    {
     "data": {
      "application/vnd.jupyter.widget-view+json": {
       "model_id": "776cfe2139c24136807113c7aa142898",
       "version_major": 2,
       "version_minor": 0
      },
      "text/plain": [
       "Batches:   0%|          | 0/1 [00:00<?, ?it/s]"
      ]
     },
     "metadata": {},
     "output_type": "display_data"
    },
    {
     "data": {
      "application/vnd.jupyter.widget-view+json": {
       "model_id": "466b6ebcc7a8489683ea09ba701eb4dc",
       "version_major": 2,
       "version_minor": 0
      },
      "text/plain": [
       "Batches:   0%|          | 0/1 [00:00<?, ?it/s]"
      ]
     },
     "metadata": {},
     "output_type": "display_data"
    },
    {
     "data": {
      "application/vnd.jupyter.widget-view+json": {
       "model_id": "bfc82d1cbd494e0c8afc267ac4140093",
       "version_major": 2,
       "version_minor": 0
      },
      "text/plain": [
       "Batches:   0%|          | 0/1 [00:00<?, ?it/s]"
      ]
     },
     "metadata": {},
     "output_type": "display_data"
    },
    {
     "name": "stderr",
     "output_type": "stream",
     "text": [
      " 67%|██████▋   | 8/12 [00:00<00:00, 37.91it/s]"
     ]
    },
    {
     "data": {
      "application/vnd.jupyter.widget-view+json": {
       "model_id": "f6e3e901c9c547ae96b5387b35c662c6",
       "version_major": 2,
       "version_minor": 0
      },
      "text/plain": [
       "Batches:   0%|          | 0/1 [00:00<?, ?it/s]"
      ]
     },
     "metadata": {},
     "output_type": "display_data"
    },
    {
     "data": {
      "application/vnd.jupyter.widget-view+json": {
       "model_id": "b36e1dfda8224355a8f8848f3d5545b1",
       "version_major": 2,
       "version_minor": 0
      },
      "text/plain": [
       "Batches:   0%|          | 0/1 [00:00<?, ?it/s]"
      ]
     },
     "metadata": {},
     "output_type": "display_data"
    },
    {
     "data": {
      "application/vnd.jupyter.widget-view+json": {
       "model_id": "da669df6bfc94664a9bdd1e5cc7c12f9",
       "version_major": 2,
       "version_minor": 0
      },
      "text/plain": [
       "Batches:   0%|          | 0/1 [00:00<?, ?it/s]"
      ]
     },
     "metadata": {},
     "output_type": "display_data"
    },
    {
     "data": {
      "application/vnd.jupyter.widget-view+json": {
       "model_id": "459b7a4661ed43edbb0f9ba95a840aab",
       "version_major": 2,
       "version_minor": 0
      },
      "text/plain": [
       "Batches:   0%|          | 0/1 [00:00<?, ?it/s]"
      ]
     },
     "metadata": {},
     "output_type": "display_data"
    },
    {
     "name": "stderr",
     "output_type": "stream",
     "text": [
      "100%|██████████| 12/12 [00:00<00:00, 41.30it/s]\n",
      "100%|██████████| 12/12 [00:00<00:00, 4325.88it/s]\n"
     ]
    },
    {
     "data": {
      "text/html": [
       "<div>\n",
       "<style scoped>\n",
       "    .dataframe tbody tr th:only-of-type {\n",
       "        vertical-align: middle;\n",
       "    }\n",
       "\n",
       "    .dataframe tbody tr th {\n",
       "        vertical-align: top;\n",
       "    }\n",
       "\n",
       "    .dataframe thead th {\n",
       "        text-align: right;\n",
       "    }\n",
       "</style>\n",
       "<table border=\"1\" class=\"dataframe\">\n",
       "  <thead>\n",
       "    <tr style=\"text-align: right;\">\n",
       "      <th></th>\n",
       "      <th>Prediction</th>\n",
       "      <th>Observation</th>\n",
       "      <th>Entailment Label</th>\n",
       "      <th>Spacy</th>\n",
       "      <th>SentenceTransformer</th>\n",
       "    </tr>\n",
       "  </thead>\n",
       "  <tbody>\n",
       "    <tr>\n",
       "      <th>0</th>\n",
       "      <td>Citigroup predicts on 2024-08-21, the operating income at Alphabet may rise.</td>\n",
       "      <td>In Q2 2025, a financial research advisor envisions that the research and development expenses at Google has some probability to remain stable.</td>\n",
       "      <td>NEUTRAL</td>\n",
       "      <td>0.773352</td>\n",
       "      <td>0.328824</td>\n",
       "    </tr>\n",
       "    <tr>\n",
       "      <th>1</th>\n",
       "      <td>JPMorgan Chase forecasts that the net profit at Amazon potentially decrease in Q3 of 2027.</td>\n",
       "      <td>According to the financial top executive at BlackRock, the stock price at Amazon may rise in Q4 2028.</td>\n",
       "      <td>NEUTRAL</td>\n",
       "      <td>0.866826</td>\n",
       "      <td>0.644740</td>\n",
       "    </tr>\n",
       "    <tr>\n",
       "      <th>2</th>\n",
       "      <td>JPMorgan Chase forecasts that the net profit at Amazon potentially decrease in Q3 of 2027.</td>\n",
       "      <td>In the fourth quarter of 2027, Wells Fargo envisions that the operating cash flow at Intel has some probability to remain stable.</td>\n",
       "      <td>NEUTRAL</td>\n",
       "      <td>0.865429</td>\n",
       "      <td>0.311582</td>\n",
       "    </tr>\n",
       "    <tr>\n",
       "      <th>3</th>\n",
       "      <td>JPMorgan Chase forecasts that the net profit at Amazon potentially decrease in Q3 of 2027.</td>\n",
       "      <td>Intel stock price should stay the same in January 2028, according to a financial expert at Harvard University.</td>\n",
       "      <td>NEUTRAL</td>\n",
       "      <td>0.812578</td>\n",
       "      <td>0.321734</td>\n",
       "    </tr>\n",
       "    <tr>\n",
       "      <th>4</th>\n",
       "      <td>JPMorgan Chase forecasts that the net profit at Amazon potentially decrease in Q3 of 2027.</td>\n",
       "      <td>On March 1, 2029, the financial advisor at Wells Fargo envisions that the inflation rate at the Federal Reserve has some probability to remain stable.</td>\n",
       "      <td>NEUTRAL</td>\n",
       "      <td>0.845318</td>\n",
       "      <td>0.282765</td>\n",
       "    </tr>\n",
       "    <tr>\n",
       "      <th>5</th>\n",
       "      <td>JPMorgan Chase forecasts that the net profit at Amazon potentially decrease in Q3 of 2027.</td>\n",
       "      <td>On November 10, 2022, to November 10, 2023, Citigroup speculates the research and development expenses at Amazon will likely increase.</td>\n",
       "      <td>NEUTRAL</td>\n",
       "      <td>0.815297</td>\n",
       "      <td>0.490033</td>\n",
       "    </tr>\n",
       "    <tr>\n",
       "      <th>6</th>\n",
       "      <td>JPMorgan Chase forecasts that the net profit at Amazon potentially decrease in Q3 of 2027.</td>\n",
       "      <td>The trading volume at Apple should stay same in the fourth quarter of 2025, according to a financial expert at JPMorgan Chase.</td>\n",
       "      <td>NEUTRAL</td>\n",
       "      <td>0.859226</td>\n",
       "      <td>0.489393</td>\n",
       "    </tr>\n",
       "    <tr>\n",
       "      <th>7</th>\n",
       "      <td>On August 21, 2024, Bank of America speculates the revenue at Microsoft will likely increase.</td>\n",
       "      <td>According to Bank of America, the net profit at Microsoft would fall in the second quarter of 2026.</td>\n",
       "      <td>NEUTRAL</td>\n",
       "      <td>0.927874</td>\n",
       "      <td>0.771568</td>\n",
       "    </tr>\n",
       "    <tr>\n",
       "      <th>8</th>\n",
       "      <td>On August 21, 2024, Bank of America speculates the revenue at Microsoft will likely increase.</td>\n",
       "      <td>Apple stock price decreased in August 2024, according to Roger.</td>\n",
       "      <td>NEUTRAL</td>\n",
       "      <td>0.876008</td>\n",
       "      <td>0.375553</td>\n",
       "    </tr>\n",
       "    <tr>\n",
       "      <th>9</th>\n",
       "      <td>On August 21, 2024, Bank of America speculates the revenue at Microsoft will likely increase.</td>\n",
       "      <td>Intel stock price should stay the same in January 2028, according to a financial expert at Harvard University.</td>\n",
       "      <td>NEUTRAL</td>\n",
       "      <td>0.900117</td>\n",
       "      <td>0.394057</td>\n",
       "    </tr>\n",
       "    <tr>\n",
       "      <th>10</th>\n",
       "      <td>On August 21, 2024, Bank of America speculates the revenue at Microsoft will likely increase.</td>\n",
       "      <td>The trading volume at Alibaba remained stable, according to the research advisor at Bank of America.</td>\n",
       "      <td>NEUTRAL</td>\n",
       "      <td>0.882334</td>\n",
       "      <td>0.159729</td>\n",
       "    </tr>\n",
       "    <tr>\n",
       "      <th>11</th>\n",
       "      <td>On August 21, 2024, Bank of America speculates the revenue at Microsoft will likely increase.</td>\n",
       "      <td>The trading volume at Apple should stay same in the fourth quarter of 2025, according to a financial expert at JPMorgan Chase.</td>\n",
       "      <td>NEUTRAL</td>\n",
       "      <td>0.890518</td>\n",
       "      <td>0.403852</td>\n",
       "    </tr>\n",
       "  </tbody>\n",
       "</table>\n",
       "</div>"
      ],
      "text/plain": [
       "                                                                                       Prediction  \\\n",
       "0                    Citigroup predicts on 2024-08-21, the operating income at Alphabet may rise.   \n",
       "1      JPMorgan Chase forecasts that the net profit at Amazon potentially decrease in Q3 of 2027.   \n",
       "2      JPMorgan Chase forecasts that the net profit at Amazon potentially decrease in Q3 of 2027.   \n",
       "3      JPMorgan Chase forecasts that the net profit at Amazon potentially decrease in Q3 of 2027.   \n",
       "4      JPMorgan Chase forecasts that the net profit at Amazon potentially decrease in Q3 of 2027.   \n",
       "5      JPMorgan Chase forecasts that the net profit at Amazon potentially decrease in Q3 of 2027.   \n",
       "6      JPMorgan Chase forecasts that the net profit at Amazon potentially decrease in Q3 of 2027.   \n",
       "7   On August 21, 2024, Bank of America speculates the revenue at Microsoft will likely increase.   \n",
       "8   On August 21, 2024, Bank of America speculates the revenue at Microsoft will likely increase.   \n",
       "9   On August 21, 2024, Bank of America speculates the revenue at Microsoft will likely increase.   \n",
       "10  On August 21, 2024, Bank of America speculates the revenue at Microsoft will likely increase.   \n",
       "11  On August 21, 2024, Bank of America speculates the revenue at Microsoft will likely increase.   \n",
       "\n",
       "                                                                                                                                               Observation  \\\n",
       "0           In Q2 2025, a financial research advisor envisions that the research and development expenses at Google has some probability to remain stable.   \n",
       "1                                                    According to the financial top executive at BlackRock, the stock price at Amazon may rise in Q4 2028.   \n",
       "2                        In the fourth quarter of 2027, Wells Fargo envisions that the operating cash flow at Intel has some probability to remain stable.   \n",
       "3                                           Intel stock price should stay the same in January 2028, according to a financial expert at Harvard University.   \n",
       "4   On March 1, 2029, the financial advisor at Wells Fargo envisions that the inflation rate at the Federal Reserve has some probability to remain stable.   \n",
       "5                   On November 10, 2022, to November 10, 2023, Citigroup speculates the research and development expenses at Amazon will likely increase.   \n",
       "6                           The trading volume at Apple should stay same in the fourth quarter of 2025, according to a financial expert at JPMorgan Chase.   \n",
       "7                                                      According to Bank of America, the net profit at Microsoft would fall in the second quarter of 2026.   \n",
       "8                                                                                          Apple stock price decreased in August 2024, according to Roger.   \n",
       "9                                           Intel stock price should stay the same in January 2028, according to a financial expert at Harvard University.   \n",
       "10                                                    The trading volume at Alibaba remained stable, according to the research advisor at Bank of America.   \n",
       "11                          The trading volume at Apple should stay same in the fourth quarter of 2025, according to a financial expert at JPMorgan Chase.   \n",
       "\n",
       "   Entailment Label     Spacy  SentenceTransformer  \n",
       "0           NEUTRAL  0.773352             0.328824  \n",
       "1           NEUTRAL  0.866826             0.644740  \n",
       "2           NEUTRAL  0.865429             0.311582  \n",
       "3           NEUTRAL  0.812578             0.321734  \n",
       "4           NEUTRAL  0.845318             0.282765  \n",
       "5           NEUTRAL  0.815297             0.490033  \n",
       "6           NEUTRAL  0.859226             0.489393  \n",
       "7           NEUTRAL  0.927874             0.771568  \n",
       "8           NEUTRAL  0.876008             0.375553  \n",
       "9           NEUTRAL  0.900117             0.394057  \n",
       "10          NEUTRAL  0.882334             0.159729  \n",
       "11          NEUTRAL  0.890518             0.403852  "
      ]
     },
     "execution_count": 9,
     "metadata": {},
     "output_type": "execute_result"
    }
   ],
   "source": [
    "st_fe_pred = SentenceTransformerFeatureExtraction(by_prediction_df, 'Prediction')\n",
    "st_embeddings_pred = st_fe_pred.sentence_feature_extraction()\n",
    "\n",
    "st_fe_obser = SentenceTransformerFeatureExtraction(by_prediction_df, 'Observation')\n",
    "st_embeddings_obser = st_fe_obser.sentence_feature_extraction()\n",
    "\n",
    "st_cs_metrics = Metrics.get_cosine_similarity(st_embeddings_pred, st_embeddings_obser)\n",
    "by_prediction_df['SentenceTransformer'] = st_cs_metrics\n",
    "by_prediction_df"
   ]
  },
  {
   "cell_type": "markdown",
   "id": "e793a354",
   "metadata": {},
   "source": [
    "## Extract Embeddings with Bert "
   ]
  },
  {
   "cell_type": "code",
   "execution_count": 10,
   "id": "0bbb346f",
   "metadata": {},
   "outputs": [
    {
     "name": "stderr",
     "output_type": "stream",
     "text": [
      "100%|██████████| 12/12 [00:00<00:00, 34.77it/s]\n",
      "100%|██████████| 12/12 [00:00<00:00, 33.87it/s]\n",
      "100%|██████████| 12/12 [00:00<00:00, 6845.05it/s]\n"
     ]
    },
    {
     "data": {
      "text/html": [
       "<div>\n",
       "<style scoped>\n",
       "    .dataframe tbody tr th:only-of-type {\n",
       "        vertical-align: middle;\n",
       "    }\n",
       "\n",
       "    .dataframe tbody tr th {\n",
       "        vertical-align: top;\n",
       "    }\n",
       "\n",
       "    .dataframe thead th {\n",
       "        text-align: right;\n",
       "    }\n",
       "</style>\n",
       "<table border=\"1\" class=\"dataframe\">\n",
       "  <thead>\n",
       "    <tr style=\"text-align: right;\">\n",
       "      <th></th>\n",
       "      <th>Prediction</th>\n",
       "      <th>Observation</th>\n",
       "      <th>Entailment Label</th>\n",
       "      <th>Spacy</th>\n",
       "      <th>SentenceTransformer</th>\n",
       "      <th>BERT</th>\n",
       "    </tr>\n",
       "  </thead>\n",
       "  <tbody>\n",
       "    <tr>\n",
       "      <th>0</th>\n",
       "      <td>Citigroup predicts on 2024-08-21, the operating income at Alphabet may rise.</td>\n",
       "      <td>In Q2 2025, a financial research advisor envisions that the research and development expenses at Google has some probability to remain stable.</td>\n",
       "      <td>NEUTRAL</td>\n",
       "      <td>0.773352</td>\n",
       "      <td>0.328824</td>\n",
       "      <td>0.899819</td>\n",
       "    </tr>\n",
       "    <tr>\n",
       "      <th>1</th>\n",
       "      <td>JPMorgan Chase forecasts that the net profit at Amazon potentially decrease in Q3 of 2027.</td>\n",
       "      <td>According to the financial top executive at BlackRock, the stock price at Amazon may rise in Q4 2028.</td>\n",
       "      <td>NEUTRAL</td>\n",
       "      <td>0.866826</td>\n",
       "      <td>0.644740</td>\n",
       "      <td>0.941268</td>\n",
       "    </tr>\n",
       "    <tr>\n",
       "      <th>2</th>\n",
       "      <td>JPMorgan Chase forecasts that the net profit at Amazon potentially decrease in Q3 of 2027.</td>\n",
       "      <td>In the fourth quarter of 2027, Wells Fargo envisions that the operating cash flow at Intel has some probability to remain stable.</td>\n",
       "      <td>NEUTRAL</td>\n",
       "      <td>0.865429</td>\n",
       "      <td>0.311582</td>\n",
       "      <td>0.896069</td>\n",
       "    </tr>\n",
       "    <tr>\n",
       "      <th>3</th>\n",
       "      <td>JPMorgan Chase forecasts that the net profit at Amazon potentially decrease in Q3 of 2027.</td>\n",
       "      <td>Intel stock price should stay the same in January 2028, according to a financial expert at Harvard University.</td>\n",
       "      <td>NEUTRAL</td>\n",
       "      <td>0.812578</td>\n",
       "      <td>0.321734</td>\n",
       "      <td>0.903572</td>\n",
       "    </tr>\n",
       "    <tr>\n",
       "      <th>4</th>\n",
       "      <td>JPMorgan Chase forecasts that the net profit at Amazon potentially decrease in Q3 of 2027.</td>\n",
       "      <td>On March 1, 2029, the financial advisor at Wells Fargo envisions that the inflation rate at the Federal Reserve has some probability to remain stable.</td>\n",
       "      <td>NEUTRAL</td>\n",
       "      <td>0.845318</td>\n",
       "      <td>0.282765</td>\n",
       "      <td>0.819832</td>\n",
       "    </tr>\n",
       "    <tr>\n",
       "      <th>5</th>\n",
       "      <td>JPMorgan Chase forecasts that the net profit at Amazon potentially decrease in Q3 of 2027.</td>\n",
       "      <td>On November 10, 2022, to November 10, 2023, Citigroup speculates the research and development expenses at Amazon will likely increase.</td>\n",
       "      <td>NEUTRAL</td>\n",
       "      <td>0.815297</td>\n",
       "      <td>0.490033</td>\n",
       "      <td>0.913402</td>\n",
       "    </tr>\n",
       "    <tr>\n",
       "      <th>6</th>\n",
       "      <td>JPMorgan Chase forecasts that the net profit at Amazon potentially decrease in Q3 of 2027.</td>\n",
       "      <td>The trading volume at Apple should stay same in the fourth quarter of 2025, according to a financial expert at JPMorgan Chase.</td>\n",
       "      <td>NEUTRAL</td>\n",
       "      <td>0.859226</td>\n",
       "      <td>0.489393</td>\n",
       "      <td>0.918903</td>\n",
       "    </tr>\n",
       "    <tr>\n",
       "      <th>7</th>\n",
       "      <td>On August 21, 2024, Bank of America speculates the revenue at Microsoft will likely increase.</td>\n",
       "      <td>According to Bank of America, the net profit at Microsoft would fall in the second quarter of 2026.</td>\n",
       "      <td>NEUTRAL</td>\n",
       "      <td>0.927874</td>\n",
       "      <td>0.771568</td>\n",
       "      <td>0.918560</td>\n",
       "    </tr>\n",
       "    <tr>\n",
       "      <th>8</th>\n",
       "      <td>On August 21, 2024, Bank of America speculates the revenue at Microsoft will likely increase.</td>\n",
       "      <td>Apple stock price decreased in August 2024, according to Roger.</td>\n",
       "      <td>NEUTRAL</td>\n",
       "      <td>0.876008</td>\n",
       "      <td>0.375553</td>\n",
       "      <td>0.888524</td>\n",
       "    </tr>\n",
       "    <tr>\n",
       "      <th>9</th>\n",
       "      <td>On August 21, 2024, Bank of America speculates the revenue at Microsoft will likely increase.</td>\n",
       "      <td>Intel stock price should stay the same in January 2028, according to a financial expert at Harvard University.</td>\n",
       "      <td>NEUTRAL</td>\n",
       "      <td>0.900117</td>\n",
       "      <td>0.394057</td>\n",
       "      <td>0.874122</td>\n",
       "    </tr>\n",
       "    <tr>\n",
       "      <th>10</th>\n",
       "      <td>On August 21, 2024, Bank of America speculates the revenue at Microsoft will likely increase.</td>\n",
       "      <td>The trading volume at Alibaba remained stable, according to the research advisor at Bank of America.</td>\n",
       "      <td>NEUTRAL</td>\n",
       "      <td>0.882334</td>\n",
       "      <td>0.159729</td>\n",
       "      <td>0.842496</td>\n",
       "    </tr>\n",
       "    <tr>\n",
       "      <th>11</th>\n",
       "      <td>On August 21, 2024, Bank of America speculates the revenue at Microsoft will likely increase.</td>\n",
       "      <td>The trading volume at Apple should stay same in the fourth quarter of 2025, according to a financial expert at JPMorgan Chase.</td>\n",
       "      <td>NEUTRAL</td>\n",
       "      <td>0.890518</td>\n",
       "      <td>0.403852</td>\n",
       "      <td>0.880021</td>\n",
       "    </tr>\n",
       "  </tbody>\n",
       "</table>\n",
       "</div>"
      ],
      "text/plain": [
       "                                                                                       Prediction  \\\n",
       "0                    Citigroup predicts on 2024-08-21, the operating income at Alphabet may rise.   \n",
       "1      JPMorgan Chase forecasts that the net profit at Amazon potentially decrease in Q3 of 2027.   \n",
       "2      JPMorgan Chase forecasts that the net profit at Amazon potentially decrease in Q3 of 2027.   \n",
       "3      JPMorgan Chase forecasts that the net profit at Amazon potentially decrease in Q3 of 2027.   \n",
       "4      JPMorgan Chase forecasts that the net profit at Amazon potentially decrease in Q3 of 2027.   \n",
       "5      JPMorgan Chase forecasts that the net profit at Amazon potentially decrease in Q3 of 2027.   \n",
       "6      JPMorgan Chase forecasts that the net profit at Amazon potentially decrease in Q3 of 2027.   \n",
       "7   On August 21, 2024, Bank of America speculates the revenue at Microsoft will likely increase.   \n",
       "8   On August 21, 2024, Bank of America speculates the revenue at Microsoft will likely increase.   \n",
       "9   On August 21, 2024, Bank of America speculates the revenue at Microsoft will likely increase.   \n",
       "10  On August 21, 2024, Bank of America speculates the revenue at Microsoft will likely increase.   \n",
       "11  On August 21, 2024, Bank of America speculates the revenue at Microsoft will likely increase.   \n",
       "\n",
       "                                                                                                                                               Observation  \\\n",
       "0           In Q2 2025, a financial research advisor envisions that the research and development expenses at Google has some probability to remain stable.   \n",
       "1                                                    According to the financial top executive at BlackRock, the stock price at Amazon may rise in Q4 2028.   \n",
       "2                        In the fourth quarter of 2027, Wells Fargo envisions that the operating cash flow at Intel has some probability to remain stable.   \n",
       "3                                           Intel stock price should stay the same in January 2028, according to a financial expert at Harvard University.   \n",
       "4   On March 1, 2029, the financial advisor at Wells Fargo envisions that the inflation rate at the Federal Reserve has some probability to remain stable.   \n",
       "5                   On November 10, 2022, to November 10, 2023, Citigroup speculates the research and development expenses at Amazon will likely increase.   \n",
       "6                           The trading volume at Apple should stay same in the fourth quarter of 2025, according to a financial expert at JPMorgan Chase.   \n",
       "7                                                      According to Bank of America, the net profit at Microsoft would fall in the second quarter of 2026.   \n",
       "8                                                                                          Apple stock price decreased in August 2024, according to Roger.   \n",
       "9                                           Intel stock price should stay the same in January 2028, according to a financial expert at Harvard University.   \n",
       "10                                                    The trading volume at Alibaba remained stable, according to the research advisor at Bank of America.   \n",
       "11                          The trading volume at Apple should stay same in the fourth quarter of 2025, according to a financial expert at JPMorgan Chase.   \n",
       "\n",
       "   Entailment Label     Spacy  SentenceTransformer      BERT  \n",
       "0           NEUTRAL  0.773352             0.328824  0.899819  \n",
       "1           NEUTRAL  0.866826             0.644740  0.941268  \n",
       "2           NEUTRAL  0.865429             0.311582  0.896069  \n",
       "3           NEUTRAL  0.812578             0.321734  0.903572  \n",
       "4           NEUTRAL  0.845318             0.282765  0.819832  \n",
       "5           NEUTRAL  0.815297             0.490033  0.913402  \n",
       "6           NEUTRAL  0.859226             0.489393  0.918903  \n",
       "7           NEUTRAL  0.927874             0.771568  0.918560  \n",
       "8           NEUTRAL  0.876008             0.375553  0.888524  \n",
       "9           NEUTRAL  0.900117             0.394057  0.874122  \n",
       "10          NEUTRAL  0.882334             0.159729  0.842496  \n",
       "11          NEUTRAL  0.890518             0.403852  0.880021  "
      ]
     },
     "execution_count": 10,
     "metadata": {},
     "output_type": "execute_result"
    }
   ],
   "source": [
    "bert_fe_pred = BertFeatureExtraction(by_prediction_df, 'Prediction')\n",
    "bert_embeddings_pred = bert_fe_pred.sentence_feature_extraction()\n",
    "\n",
    "bert_fe_obser = BertFeatureExtraction(by_prediction_df, 'Observation')\n",
    "bert_embeddings_obser = bert_fe_obser.sentence_feature_extraction()\n",
    "\n",
    "bert_cs_metrics = Metrics.get_cosine_similarity(bert_embeddings_pred, bert_embeddings_obser)\n",
    "by_prediction_df['BERT'] = bert_cs_metrics\n",
    "by_prediction_df"
   ]
  },
  {
   "cell_type": "markdown",
   "id": "d2f15edc",
   "metadata": {},
   "source": [
    "## Extract Embeddings with TF x IDF"
   ]
  },
  {
   "cell_type": "code",
   "execution_count": 11,
   "id": "f565a229",
   "metadata": {},
   "outputs": [],
   "source": [
    "# tfidf_fe_pred = TfidfFeatureExtraction(by_prediction_df, 'Prediction')\n",
    "# tfidf_pred_df = tfidf_fe_pred.feature_scores(max_features=300)\n",
    "# tfidf_pred_df[:1]\n",
    "# tfidf_embedding_pred = tfidf_pred_df.iloc[:1 , 2:].to_numpy()\n",
    "\n",
    "# tfidf_fe_obser = TfidfFeatureExtraction(by_prediction_df, 'Observation')\n",
    "# tfidf_obser_df = tfidf_fe_obser.feature_scores(max_features=300)\n",
    "# tfidf_obser_df[:1]\n",
    "# tfidf_embedding_obser = tfidf_obser_df.iloc[:1 , 2:].to_numpy()\n",
    "\n",
    "# tfidf_cs_metrics = Metrics.get_cosine_similarity(tfidf_embedding_pred, tfidf_embedding_obser)\n",
    "# by_prediction_df['TF x IDF'] = tfidf_cs_metrics\n",
    "# by_prediction_df"
   ]
  },
  {
   "cell_type": "code",
   "execution_count": 12,
   "id": "7fe8de78",
   "metadata": {},
   "outputs": [
    {
     "data": {
      "text/html": [
       "<div>\n",
       "<style scoped>\n",
       "    .dataframe tbody tr th:only-of-type {\n",
       "        vertical-align: middle;\n",
       "    }\n",
       "\n",
       "    .dataframe tbody tr th {\n",
       "        vertical-align: top;\n",
       "    }\n",
       "\n",
       "    .dataframe thead th {\n",
       "        text-align: right;\n",
       "    }\n",
       "</style>\n",
       "<table border=\"1\" class=\"dataframe\">\n",
       "  <thead>\n",
       "    <tr style=\"text-align: right;\">\n",
       "      <th></th>\n",
       "      <th></th>\n",
       "      <th></th>\n",
       "      <th></th>\n",
       "      <th></th>\n",
       "      <th></th>\n",
       "    </tr>\n",
       "    <tr>\n",
       "      <th>Prediction</th>\n",
       "      <th>Observation</th>\n",
       "      <th>Entailment Label</th>\n",
       "      <th>Spacy</th>\n",
       "      <th>SentenceTransformer</th>\n",
       "      <th>BERT</th>\n",
       "    </tr>\n",
       "  </thead>\n",
       "  <tbody>\n",
       "    <tr>\n",
       "      <th>Citigroup predicts on 2024-08-21, the operating income at Alphabet may rise.</th>\n",
       "      <th>In Q2 2025, a financial research advisor envisions that the research and development expenses at Google has some probability to remain stable.</th>\n",
       "      <th>NEUTRAL</th>\n",
       "      <th>0.773352</th>\n",
       "      <th>0.328824</th>\n",
       "      <th>0.899819</th>\n",
       "    </tr>\n",
       "    <tr>\n",
       "      <th rowspan=\"6\" valign=\"top\">JPMorgan Chase forecasts that the net profit at Amazon potentially decrease in Q3 of 2027.</th>\n",
       "      <th>According to the financial top executive at BlackRock, the stock price at Amazon may rise in Q4 2028.</th>\n",
       "      <th>NEUTRAL</th>\n",
       "      <th>0.866826</th>\n",
       "      <th>0.644740</th>\n",
       "      <th>0.941268</th>\n",
       "    </tr>\n",
       "    <tr>\n",
       "      <th>In the fourth quarter of 2027, Wells Fargo envisions that the operating cash flow at Intel has some probability to remain stable.</th>\n",
       "      <th>NEUTRAL</th>\n",
       "      <th>0.865429</th>\n",
       "      <th>0.311582</th>\n",
       "      <th>0.896069</th>\n",
       "    </tr>\n",
       "    <tr>\n",
       "      <th>Intel stock price should stay the same in January 2028, according to a financial expert at Harvard University.</th>\n",
       "      <th>NEUTRAL</th>\n",
       "      <th>0.812578</th>\n",
       "      <th>0.321734</th>\n",
       "      <th>0.903572</th>\n",
       "    </tr>\n",
       "    <tr>\n",
       "      <th>On March 1, 2029, the financial advisor at Wells Fargo envisions that the inflation rate at the Federal Reserve has some probability to remain stable.</th>\n",
       "      <th>NEUTRAL</th>\n",
       "      <th>0.845318</th>\n",
       "      <th>0.282765</th>\n",
       "      <th>0.819832</th>\n",
       "    </tr>\n",
       "    <tr>\n",
       "      <th>On November 10, 2022, to November 10, 2023, Citigroup speculates the research and development expenses at Amazon will likely increase.</th>\n",
       "      <th>NEUTRAL</th>\n",
       "      <th>0.815297</th>\n",
       "      <th>0.490033</th>\n",
       "      <th>0.913402</th>\n",
       "    </tr>\n",
       "    <tr>\n",
       "      <th>The trading volume at Apple should stay same in the fourth quarter of 2025, according to a financial expert at JPMorgan Chase.</th>\n",
       "      <th>NEUTRAL</th>\n",
       "      <th>0.859226</th>\n",
       "      <th>0.489393</th>\n",
       "      <th>0.918903</th>\n",
       "    </tr>\n",
       "    <tr>\n",
       "      <th rowspan=\"5\" valign=\"top\">On August 21, 2024, Bank of America speculates the revenue at Microsoft will likely increase.</th>\n",
       "      <th>According to Bank of America, the net profit at Microsoft would fall in the second quarter of 2026.</th>\n",
       "      <th>NEUTRAL</th>\n",
       "      <th>0.927874</th>\n",
       "      <th>0.771568</th>\n",
       "      <th>0.918560</th>\n",
       "    </tr>\n",
       "    <tr>\n",
       "      <th>Apple stock price decreased in August 2024, according to Roger.</th>\n",
       "      <th>NEUTRAL</th>\n",
       "      <th>0.876008</th>\n",
       "      <th>0.375553</th>\n",
       "      <th>0.888524</th>\n",
       "    </tr>\n",
       "    <tr>\n",
       "      <th>Intel stock price should stay the same in January 2028, according to a financial expert at Harvard University.</th>\n",
       "      <th>NEUTRAL</th>\n",
       "      <th>0.900117</th>\n",
       "      <th>0.394057</th>\n",
       "      <th>0.874122</th>\n",
       "    </tr>\n",
       "    <tr>\n",
       "      <th>The trading volume at Alibaba remained stable, according to the research advisor at Bank of America.</th>\n",
       "      <th>NEUTRAL</th>\n",
       "      <th>0.882334</th>\n",
       "      <th>0.159729</th>\n",
       "      <th>0.842496</th>\n",
       "    </tr>\n",
       "    <tr>\n",
       "      <th>The trading volume at Apple should stay same in the fourth quarter of 2025, according to a financial expert at JPMorgan Chase.</th>\n",
       "      <th>NEUTRAL</th>\n",
       "      <th>0.890518</th>\n",
       "      <th>0.403852</th>\n",
       "      <th>0.880021</th>\n",
       "    </tr>\n",
       "  </tbody>\n",
       "</table>\n",
       "</div>"
      ],
      "text/plain": [
       "Empty DataFrame\n",
       "Columns: []\n",
       "Index: [(Citigroup predicts on 2024-08-21, the operating income at Alphabet may rise., In Q2 2025, a financial research advisor envisions that the research and development expenses at Google has some probability to remain stable., NEUTRAL, 0.7733518481254578, 0.3288244605064392, 0.8998185396194458), (JPMorgan Chase forecasts that the net profit at Amazon potentially decrease in Q3 of 2027., According to the financial top executive at BlackRock, the stock price at Amazon may rise in Q4 2028., NEUTRAL, 0.8668255805969238, 0.6447398662567139, 0.9412680864334106), (JPMorgan Chase forecasts that the net profit at Amazon potentially decrease in Q3 of 2027., In the fourth quarter of 2027, Wells Fargo envisions that the operating cash flow at Intel has some probability to remain stable., NEUTRAL, 0.8654288053512573, 0.31158241629600525, 0.8960685729980469), (JPMorgan Chase forecasts that the net profit at Amazon potentially decrease in Q3 of 2027., Intel stock price should stay the same in January 2028, according to a financial expert at Harvard University., NEUTRAL, 0.8125780820846558, 0.321733683347702, 0.9035715460777283), (JPMorgan Chase forecasts that the net profit at Amazon potentially decrease in Q3 of 2027., On March 1, 2029, the financial advisor at Wells Fargo envisions that the inflation rate at the Federal Reserve has some probability to remain stable., NEUTRAL, 0.8453179597854614, 0.2827652394771576, 0.8198323249816895), (JPMorgan Chase forecasts that the net profit at Amazon potentially decrease in Q3 of 2027., On November 10, 2022, to November 10, 2023, Citigroup speculates the research and development expenses at Amazon will likely increase., NEUTRAL, 0.8152968883514404, 0.4900325536727905, 0.9134016633033752), (JPMorgan Chase forecasts that the net profit at Amazon potentially decrease in Q3 of 2027., The trading volume at Apple should stay same in the fourth quarter of 2025, according to a financial expert at JPMorgan Chase., NEUTRAL, 0.8592255115509033, 0.4893929362297058, 0.9189028739929199), (On August 21, 2024, Bank of America speculates the revenue at Microsoft will likely increase., According to Bank of America, the net profit at Microsoft would fall in the second quarter of 2026., NEUTRAL, 0.9278740882873535, 0.7715675234794617, 0.9185597896575928), (On August 21, 2024, Bank of America speculates the revenue at Microsoft will likely increase., Apple stock price decreased in August 2024, according to Roger., NEUTRAL, 0.8760083913803101, 0.37555310130119324, 0.8885236978530884), (On August 21, 2024, Bank of America speculates the revenue at Microsoft will likely increase., Intel stock price should stay the same in January 2028, according to a financial expert at Harvard University., NEUTRAL, 0.9001173377037048, 0.3940570652484894, 0.8741218447685242), (On August 21, 2024, Bank of America speculates the revenue at Microsoft will likely increase., The trading volume at Alibaba remained stable, according to the research advisor at Bank of America., NEUTRAL, 0.8823338747024536, 0.15972918272018433, 0.8424957990646362), (On August 21, 2024, Bank of America speculates the revenue at Microsoft will likely increase., The trading volume at Apple should stay same in the fourth quarter of 2025, according to a financial expert at JPMorgan Chase., NEUTRAL, 0.8905181884765625, 0.40385186672210693, 0.8800209760665894)]"
      ]
     },
     "execution_count": 12,
     "metadata": {},
     "output_type": "execute_result"
    }
   ],
   "source": [
    "pred_obser_features_df = pd.pivot_table(by_prediction_df, values='Entailment Label', index=['Prediction', 'Observation', 'Entailment Label', 'Spacy', 'SentenceTransformer', 'BERT'])\n",
    "pred_obser_features_df"
   ]
  },
  {
   "cell_type": "code",
   "execution_count": null,
   "id": "ad790600",
   "metadata": {},
   "outputs": [],
   "source": []
  }
 ],
 "metadata": {
  "kernelspec": {
   "display_name": ".venv_predictions",
   "language": "python",
   "name": "python3"
  },
  "language_info": {
   "codemirror_mode": {
    "name": "ipython",
    "version": 3
   },
   "file_extension": ".py",
   "mimetype": "text/x-python",
   "name": "python",
   "nbconvert_exporter": "python",
   "pygments_lexer": "ipython3",
   "version": "3.11.12"
  }
 },
 "nbformat": 4,
 "nbformat_minor": 5
}
