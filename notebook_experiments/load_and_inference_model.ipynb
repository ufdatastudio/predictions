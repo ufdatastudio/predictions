{
 "cells": [
  {
   "cell_type": "markdown",
   "id": "56ebea19",
   "metadata": {},
   "source": [
    "# Load Model for Inference"
   ]
  },
  {
   "cell_type": "code",
   "execution_count": null,
   "id": "410e129d",
   "metadata": {},
   "outputs": [],
   "source": [
    "import os\n",
    "import sys\n",
    "import pickle, types\n",
    "import types\n",
    "import importlib.util\n",
    "\n",
    "import pandas as pd\n",
    "\n",
    "\n",
    "from pathlib import Path\n",
    "from IPython.display import Image\n",
    "\n",
    "# Get the current working directory of the notebook\n",
    "notebook_dir = os.getcwd()\n",
    "# Add the parent directory to the system path\n",
    "sys.path.append(os.path.join(notebook_dir, '../'))\n",
    "\n",
    "import log_files\n",
    "from data_processing import DataProcessing\n",
    "from feature_extraction import TfidfFeatureExtraction, SpacyFeatureExtraction\n",
    "\n",
    "# Absolute path to your local classification_models.py file\n",
    "project_root = \"/Users/detraviousjamaribrinkley/Documents/Development/research_labs/uf_ds/predictions\"\n",
    "module_path = os.path.join(project_root, \"classification_models.py\")\n",
    "\n",
    "# Dynamically load the module so it overrides any installed package\n",
    "spec = importlib.util.spec_from_file_location(\"classification_models\", module_path)\n",
    "classification_models = importlib.util.module_from_spec(spec)\n",
    "spec.loader.exec_module(classification_models)\n",
    "\n",
    "# Inject into sys.modules so pickle uses this\n",
    "sys.modules[\"classification_models\"] = classification_models\n",
    "\n",
    "# ✅ Now you can use the classes\n",
    "SkLearnSGDClassifier = classification_models.SkLearnSGDClassifier\n",
    "SkLearnPerceptronModel = classification_models.SkLearnPerceptronModel\n",
    "EvaluationMetric = classification_models.EvaluationMetric"
   ]
  },
  {
   "cell_type": "code",
   "execution_count": 2,
   "id": "8d70678f",
   "metadata": {},
   "outputs": [],
   "source": [
    "pd.set_option('max_colwidth', 800)\n",
    "pd.set_option('display.max_columns', None)\n",
    "pd.set_option('display.max_rows', None)"
   ]
  },
  {
   "cell_type": "code",
   "execution_count": 3,
   "id": "43bf9b14",
   "metadata": {},
   "outputs": [
    {
     "data": {
      "text/plain": [
       "'Emily Chen forecasts that the net profit at Tesla (TSLA) will decrease by 15% to $5 billion in FY 2027, Raj Patel speculates that the stock price of ExxonMobil (XOM) could rise by 8% to $120 by Q4 of 2026., There is a high probability that the revenue at Microsoft (MSFT) will reach $200 billion in FY 2029., On Thursday April 10 2025 Sarah Lee envisions that the operating income at Apple (AAPL) will increase by 10% to $80 billion in FY 2026., Michael Brown predicts that the dividend yield at Chevron (CVX) will rise to 5% by Q3 of 2027., It is anticipated that the market share of Alphabet (GOOGL) will grow by 3% in FY 2028., Hey how are you?, Joe Hall thinks that the earnings before interest and taxes (EBIT) at 3M (MMM) will decrease by 90% to $10 million in FY 2028 which Raj stated on Monday, December 16 2024., Malique Mell on Monday December 16 2024 predicted that the earnings before interest and taxes (EBIT) at 3M (MMM) will drop by 90% reaching $10 million in FY 2028., Raj Jensen predicts that the earnings before interest and taxes EBIT) at 3M (MMM) will decrease by 90% to $10 million in FY 2028., The weather today is sunny with a chance of rain in the evening. I enjoy reading books and watching movies during my free time.'"
      ]
     },
     "execution_count": 3,
     "metadata": {},
     "output_type": "execute_result"
    }
   ],
   "source": [
    "# custom_sentences = [\n",
    "#     \"Emily Chen forecasts that the net profit at Tesla (TSLA) will decrease by 15% to $5 billion in FY 2027.\",\n",
    "#     \"Raj Patel speculates that the stock price of ExxonMobil (XOM) could rise by 8% to $120 by Q4 of 2026.\",\n",
    "#     \"There is a high probability that the revenue at Microsoft (MSFT) will reach $200 billion in FY 2029.\",\n",
    "#     \"On Thursday, April 10, 2025, Sarah Lee envisions that the operating income at Apple (AAPL) will increase by 10% to $80 billion in FY 2026.\",\n",
    "#     \"Michael Brown predicts that the dividend yield at Chevron (CVX) will rise to 5% by Q3 of 2027.\",\n",
    "#     \"It is anticipated that the market share of Alphabet (GOOGL) will grow by 3% in FY 2028.\",\n",
    "#     \"Hey, how are you?\",\n",
    "#     \"Joe Hall thinks that the earnings before interest and taxes (EBIT) at 3M (MMM) will decrease by 90% to $10 million in FY 2028, which Raj stated on Monday, December 16, 2024.\",\n",
    "#     \"Malique Mell, on Monday, December 16, 2024, predicted that the earnings before interest and taxes (EBIT) at 3M (MMM) will drop by 90%, reaching $10 million in FY 2028.\",\n",
    "#     \"Raj Jensen predicts that the earnings before interest and taxes (EBIT) at 3M (MMM) will decrease by 90% to $10 million in FY 2028.\",\n",
    "#     \"The weather today is sunny with a chance of rain in the evening.\",\n",
    "#     \"I enjoy reading books and watching movies during my free time.\"\n",
    "# ]\n",
    "\n",
    "\"Emily Chen forecasts that the net profit at Tesla (TSLA) will decrease by 15% to $5 billion in FY 2027, Raj Patel speculates that the stock price of ExxonMobil (XOM) could rise by 8% to $120 by Q4 of 2026., There is a high probability that the revenue at Microsoft (MSFT) will reach $200 billion in FY 2029., On Thursday April 10 2025 Sarah Lee envisions that the operating income at Apple (AAPL) will increase by 10% to $80 billion in FY 2026., Michael Brown predicts that the dividend yield at Chevron (CVX) will rise to 5% by Q3 of 2027., It is anticipated that the market share of Alphabet (GOOGL) will grow by 3% in FY 2028., Hey how are you?, Joe Hall thinks that the earnings before interest and taxes (EBIT) at 3M (MMM) will decrease by 90% to $10 million in FY 2028 which Raj stated on Monday, December 16 2024., Malique Mell on Monday December 16 2024 predicted that the earnings before interest and taxes (EBIT) at 3M (MMM) will drop by 90% reaching $10 million in FY 2028., Raj Jensen predicts that the earnings before interest and taxes EBIT) at 3M (MMM) will decrease by 90% to $10 million in FY 2028., The weather today is sunny with a chance of rain in the evening. I enjoy reading books and watching movies during my free time.\"\n",
    "\n",
    "\n",
    "custom_sentences = \"Emily Chen forecasts that the net profit at Tesla (TSLA) will decrease by 15% to $5 billion in FY 2027, Raj Patel speculates that the stock price of ExxonMobil (XOM) could rise by 8% to $120 by Q4 of 2026., There is a high probability that the revenue at Microsoft (MSFT) will reach $200 billion in FY 2029., On Thursday April 10 2025 Sarah Lee envisions that the operating income at Apple (AAPL) will increase by 10% to $80 billion in FY 2026., Michael Brown predicts that the dividend yield at Chevron (CVX) will rise to 5% by Q3 of 2027., It is anticipated that the market share of Alphabet (GOOGL) will grow by 3% in FY 2028., Hey how are you?, Joe Hall thinks that the earnings before interest and taxes (EBIT) at 3M (MMM) will decrease by 90% to $10 million in FY 2028 which Raj stated on Monday, December 16 2024., Malique Mell on Monday December 16 2024 predicted that the earnings before interest and taxes (EBIT) at 3M (MMM) will drop by 90% reaching $10 million in FY 2028., Raj Jensen predicts that the earnings before interest and taxes EBIT) at 3M (MMM) will decrease by 90% to $10 million in FY 2028., The weather today is sunny with a chance of rain in the evening. I enjoy reading books and watching movies during my free time.\"\n",
    "custom_sentences"
   ]
  },
  {
   "cell_type": "code",
   "execution_count": 5,
   "id": "30846a9d",
   "metadata": {},
   "outputs": [
    {
     "data": {
      "text/plain": [
       "['Emily Chen forecasts that the net profit at Tesla (TSLA) will decrease by 15% to $5 billion in FY 2027',\n",
       " ' Raj Patel speculates that the stock price of ExxonMobil (XOM) could rise by 8% to $120 by Q4 of 2026.',\n",
       " ' There is a high probability that the revenue at Microsoft (MSFT) will reach $200 billion in FY 2029.',\n",
       " ' On Thursday April 10 2025 Sarah Lee envisions that the operating income at Apple (AAPL) will increase by 10% to $80 billion in FY 2026.',\n",
       " ' Michael Brown predicts that the dividend yield at Chevron (CVX) will rise to 5% by Q3 of 2027.',\n",
       " ' It is anticipated that the market share of Alphabet (GOOGL) will grow by 3% in FY 2028.',\n",
       " ' Hey how are you?',\n",
       " ' Joe Hall thinks that the earnings before interest and taxes (EBIT) at 3M (MMM) will decrease by 90% to $10 million in FY 2028 which Raj stated on Monday',\n",
       " ' December 16 2024.',\n",
       " ' Malique Mell on Monday December 16 2024 predicted that the earnings before interest and taxes (EBIT) at 3M (MMM) will drop by 90% reaching $10 million in FY 2028.',\n",
       " ' Raj Jensen predicts that the earnings before interest and taxes EBIT) at 3M (MMM) will decrease by 90% to $10 million in FY 2028.',\n",
       " ' The weather today is sunny with a chance of rain in the evening. I enjoy reading books and watching movies during my free time.']"
      ]
     },
     "execution_count": 5,
     "metadata": {},
     "output_type": "execute_result"
    }
   ],
   "source": [
    "input_list = custom_sentences.split(\",\")\n",
    "input_list"
   ]
  },
  {
   "cell_type": "code",
   "execution_count": 6,
   "id": "7bf2fd19",
   "metadata": {},
   "outputs": [
    {
     "data": {
      "text/html": [
       "<div>\n",
       "<style scoped>\n",
       "    .dataframe tbody tr th:only-of-type {\n",
       "        vertical-align: middle;\n",
       "    }\n",
       "\n",
       "    .dataframe tbody tr th {\n",
       "        vertical-align: top;\n",
       "    }\n",
       "\n",
       "    .dataframe thead th {\n",
       "        text-align: right;\n",
       "    }\n",
       "</style>\n",
       "<table border=\"1\" class=\"dataframe\">\n",
       "  <thead>\n",
       "    <tr style=\"text-align: right;\">\n",
       "      <th></th>\n",
       "      <th>Base Sentence</th>\n",
       "    </tr>\n",
       "  </thead>\n",
       "  <tbody>\n",
       "    <tr>\n",
       "      <th>0</th>\n",
       "      <td>Emily Chen forecasts that the net profit at Tesla (TSLA) will decrease by 15% to $5 billion in FY 2027</td>\n",
       "    </tr>\n",
       "    <tr>\n",
       "      <th>1</th>\n",
       "      <td>Raj Patel speculates that the stock price of ExxonMobil (XOM) could rise by 8% to $120 by Q4 of 2026.</td>\n",
       "    </tr>\n",
       "    <tr>\n",
       "      <th>2</th>\n",
       "      <td>There is a high probability that the revenue at Microsoft (MSFT) will reach $200 billion in FY 2029.</td>\n",
       "    </tr>\n",
       "    <tr>\n",
       "      <th>3</th>\n",
       "      <td>On Thursday April 10 2025 Sarah Lee envisions that the operating income at Apple (AAPL) will increase by 10% to $80 billion in FY 2026.</td>\n",
       "    </tr>\n",
       "    <tr>\n",
       "      <th>4</th>\n",
       "      <td>Michael Brown predicts that the dividend yield at Chevron (CVX) will rise to 5% by Q3 of 2027.</td>\n",
       "    </tr>\n",
       "    <tr>\n",
       "      <th>5</th>\n",
       "      <td>It is anticipated that the market share of Alphabet (GOOGL) will grow by 3% in FY 2028.</td>\n",
       "    </tr>\n",
       "    <tr>\n",
       "      <th>6</th>\n",
       "      <td>Hey how are you?</td>\n",
       "    </tr>\n",
       "    <tr>\n",
       "      <th>7</th>\n",
       "      <td>Joe Hall thinks that the earnings before interest and taxes (EBIT) at 3M (MMM) will decrease by 90% to $10 million in FY 2028 which Raj stated on Monday</td>\n",
       "    </tr>\n",
       "    <tr>\n",
       "      <th>8</th>\n",
       "      <td>December 16 2024.</td>\n",
       "    </tr>\n",
       "    <tr>\n",
       "      <th>9</th>\n",
       "      <td>Malique Mell on Monday December 16 2024 predicted that the earnings before interest and taxes (EBIT) at 3M (MMM) will drop by 90% reaching $10 million in FY 2028.</td>\n",
       "    </tr>\n",
       "    <tr>\n",
       "      <th>10</th>\n",
       "      <td>Raj Jensen predicts that the earnings before interest and taxes EBIT) at 3M (MMM) will decrease by 90% to $10 million in FY 2028.</td>\n",
       "    </tr>\n",
       "    <tr>\n",
       "      <th>11</th>\n",
       "      <td>The weather today is sunny with a chance of rain in the evening. I enjoy reading books and watching movies during my free time.</td>\n",
       "    </tr>\n",
       "  </tbody>\n",
       "</table>\n",
       "</div>"
      ],
      "text/plain": [
       "                                                                                                                                                          Base Sentence\n",
       "0                                                                Emily Chen forecasts that the net profit at Tesla (TSLA) will decrease by 15% to $5 billion in FY 2027\n",
       "1                                                                 Raj Patel speculates that the stock price of ExxonMobil (XOM) could rise by 8% to $120 by Q4 of 2026.\n",
       "2                                                                  There is a high probability that the revenue at Microsoft (MSFT) will reach $200 billion in FY 2029.\n",
       "3                               On Thursday April 10 2025 Sarah Lee envisions that the operating income at Apple (AAPL) will increase by 10% to $80 billion in FY 2026.\n",
       "4                                                                        Michael Brown predicts that the dividend yield at Chevron (CVX) will rise to 5% by Q3 of 2027.\n",
       "5                                                                               It is anticipated that the market share of Alphabet (GOOGL) will grow by 3% in FY 2028.\n",
       "6                                                                                                                                                      Hey how are you?\n",
       "7              Joe Hall thinks that the earnings before interest and taxes (EBIT) at 3M (MMM) will decrease by 90% to $10 million in FY 2028 which Raj stated on Monday\n",
       "8                                                                                                                                                     December 16 2024.\n",
       "9    Malique Mell on Monday December 16 2024 predicted that the earnings before interest and taxes (EBIT) at 3M (MMM) will drop by 90% reaching $10 million in FY 2028.\n",
       "10                                    Raj Jensen predicts that the earnings before interest and taxes EBIT) at 3M (MMM) will decrease by 90% to $10 million in FY 2028.\n",
       "11                                      The weather today is sunny with a chance of rain in the evening. I enjoy reading books and watching movies during my free time."
      ]
     },
     "execution_count": 6,
     "metadata": {},
     "output_type": "execute_result"
    }
   ],
   "source": [
    "user_input_df = pd.DataFrame(input_list, columns=['Base Sentence'])\n",
    "user_input_df"
   ]
  },
  {
   "cell_type": "code",
   "execution_count": 7,
   "id": "7d1242f3",
   "metadata": {},
   "outputs": [
    {
     "data": {
      "text/plain": [
       "<Compressed Sparse Row sparse matrix of dtype 'float64'\n",
       "\twith 220 stored elements and shape (12, 117)>"
      ]
     },
     "execution_count": 7,
     "metadata": {},
     "output_type": "execute_result"
    }
   ],
   "source": [
    "max_features = None\n",
    "\n",
    "tf_idf_feature_extractor = TfidfFeatureExtraction(user_input_df, 'Base Sentence')\n",
    "custom_sentences_features = tf_idf_feature_extractor.word_feature_extraction(max_features=512)\n",
    "custom_sentences_features"
   ]
  },
  {
   "cell_type": "code",
   "execution_count": 8,
   "id": "eb2d23b9",
   "metadata": {},
   "outputs": [],
   "source": [
    "MODEL_PATH = os.path.join(notebook_dir, '../models/', 'sgd_model_117.pkl')\n",
    "with open(MODEL_PATH, 'rb') as f:\n",
    "    SkLearnSGDClassifier = pickle.load(f)"
   ]
  },
  {
   "cell_type": "code",
   "execution_count": 9,
   "id": "48d73da5",
   "metadata": {},
   "outputs": [
    {
     "name": "stderr",
     "output_type": "stream",
     "text": [
      "/Users/detraviousjamaribrinkley/Documents/Development/research_labs/uf_ds/predictions/.venv_predictions/lib/python3.11/site-packages/sklearn/utils/validation.py:2739: UserWarning: X does not have valid feature names, but SGDClassifier was fitted with feature names\n",
      "  warnings.warn(\n"
     ]
    },
    {
     "data": {
      "text/plain": [
       "0     1\n",
       "1     1\n",
       "2     0\n",
       "3     0\n",
       "4     0\n",
       "5     0\n",
       "6     1\n",
       "7     1\n",
       "8     0\n",
       "9     1\n",
       "10    1\n",
       "11    1\n",
       "dtype: int64"
      ]
     },
     "execution_count": 9,
     "metadata": {},
     "output_type": "execute_result"
    }
   ],
   "source": [
    "custom_sentences_predictions = SkLearnSGDClassifier.predict(custom_sentences_features)\n",
    "custom_sentences_predictions"
   ]
  },
  {
   "cell_type": "code",
   "execution_count": 10,
   "id": "4cfef6c2",
   "metadata": {},
   "outputs": [
    {
     "data": {
      "text/html": [
       "<div>\n",
       "<style scoped>\n",
       "    .dataframe tbody tr th:only-of-type {\n",
       "        vertical-align: middle;\n",
       "    }\n",
       "\n",
       "    .dataframe tbody tr th {\n",
       "        vertical-align: top;\n",
       "    }\n",
       "\n",
       "    .dataframe thead th {\n",
       "        text-align: right;\n",
       "    }\n",
       "</style>\n",
       "<table border=\"1\" class=\"dataframe\">\n",
       "  <thead>\n",
       "    <tr style=\"text-align: right;\">\n",
       "      <th></th>\n",
       "      <th>Base Sentence</th>\n",
       "      <th>SDG Classifier Prediction</th>\n",
       "    </tr>\n",
       "  </thead>\n",
       "  <tbody>\n",
       "    <tr>\n",
       "      <th>0</th>\n",
       "      <td>Emily Chen forecasts that the net profit at Tesla (TSLA) will decrease by 15% to $5 billion in FY 2027</td>\n",
       "      <td>1</td>\n",
       "    </tr>\n",
       "    <tr>\n",
       "      <th>1</th>\n",
       "      <td>Raj Patel speculates that the stock price of ExxonMobil (XOM) could rise by 8% to $120 by Q4 of 2026.</td>\n",
       "      <td>1</td>\n",
       "    </tr>\n",
       "    <tr>\n",
       "      <th>2</th>\n",
       "      <td>There is a high probability that the revenue at Microsoft (MSFT) will reach $200 billion in FY 2029.</td>\n",
       "      <td>0</td>\n",
       "    </tr>\n",
       "    <tr>\n",
       "      <th>3</th>\n",
       "      <td>On Thursday April 10 2025 Sarah Lee envisions that the operating income at Apple (AAPL) will increase by 10% to $80 billion in FY 2026.</td>\n",
       "      <td>0</td>\n",
       "    </tr>\n",
       "    <tr>\n",
       "      <th>4</th>\n",
       "      <td>Michael Brown predicts that the dividend yield at Chevron (CVX) will rise to 5% by Q3 of 2027.</td>\n",
       "      <td>0</td>\n",
       "    </tr>\n",
       "    <tr>\n",
       "      <th>5</th>\n",
       "      <td>It is anticipated that the market share of Alphabet (GOOGL) will grow by 3% in FY 2028.</td>\n",
       "      <td>0</td>\n",
       "    </tr>\n",
       "    <tr>\n",
       "      <th>6</th>\n",
       "      <td>Hey how are you?</td>\n",
       "      <td>1</td>\n",
       "    </tr>\n",
       "    <tr>\n",
       "      <th>7</th>\n",
       "      <td>Joe Hall thinks that the earnings before interest and taxes (EBIT) at 3M (MMM) will decrease by 90% to $10 million in FY 2028 which Raj stated on Monday</td>\n",
       "      <td>1</td>\n",
       "    </tr>\n",
       "    <tr>\n",
       "      <th>8</th>\n",
       "      <td>December 16 2024.</td>\n",
       "      <td>0</td>\n",
       "    </tr>\n",
       "    <tr>\n",
       "      <th>9</th>\n",
       "      <td>Malique Mell on Monday December 16 2024 predicted that the earnings before interest and taxes (EBIT) at 3M (MMM) will drop by 90% reaching $10 million in FY 2028.</td>\n",
       "      <td>1</td>\n",
       "    </tr>\n",
       "    <tr>\n",
       "      <th>10</th>\n",
       "      <td>Raj Jensen predicts that the earnings before interest and taxes EBIT) at 3M (MMM) will decrease by 90% to $10 million in FY 2028.</td>\n",
       "      <td>1</td>\n",
       "    </tr>\n",
       "    <tr>\n",
       "      <th>11</th>\n",
       "      <td>The weather today is sunny with a chance of rain in the evening. I enjoy reading books and watching movies during my free time.</td>\n",
       "      <td>1</td>\n",
       "    </tr>\n",
       "  </tbody>\n",
       "</table>\n",
       "</div>"
      ],
      "text/plain": [
       "                                                                                                                                                          Base Sentence  \\\n",
       "0                                                                Emily Chen forecasts that the net profit at Tesla (TSLA) will decrease by 15% to $5 billion in FY 2027   \n",
       "1                                                                 Raj Patel speculates that the stock price of ExxonMobil (XOM) could rise by 8% to $120 by Q4 of 2026.   \n",
       "2                                                                  There is a high probability that the revenue at Microsoft (MSFT) will reach $200 billion in FY 2029.   \n",
       "3                               On Thursday April 10 2025 Sarah Lee envisions that the operating income at Apple (AAPL) will increase by 10% to $80 billion in FY 2026.   \n",
       "4                                                                        Michael Brown predicts that the dividend yield at Chevron (CVX) will rise to 5% by Q3 of 2027.   \n",
       "5                                                                               It is anticipated that the market share of Alphabet (GOOGL) will grow by 3% in FY 2028.   \n",
       "6                                                                                                                                                      Hey how are you?   \n",
       "7              Joe Hall thinks that the earnings before interest and taxes (EBIT) at 3M (MMM) will decrease by 90% to $10 million in FY 2028 which Raj stated on Monday   \n",
       "8                                                                                                                                                     December 16 2024.   \n",
       "9    Malique Mell on Monday December 16 2024 predicted that the earnings before interest and taxes (EBIT) at 3M (MMM) will drop by 90% reaching $10 million in FY 2028.   \n",
       "10                                    Raj Jensen predicts that the earnings before interest and taxes EBIT) at 3M (MMM) will decrease by 90% to $10 million in FY 2028.   \n",
       "11                                      The weather today is sunny with a chance of rain in the evening. I enjoy reading books and watching movies during my free time.   \n",
       "\n",
       "    SDG Classifier Prediction  \n",
       "0                           1  \n",
       "1                           1  \n",
       "2                           0  \n",
       "3                           0  \n",
       "4                           0  \n",
       "5                           0  \n",
       "6                           1  \n",
       "7                           1  \n",
       "8                           0  \n",
       "9                           1  \n",
       "10                          1  \n",
       "11                          1  "
      ]
     },
     "execution_count": 10,
     "metadata": {},
     "output_type": "execute_result"
    }
   ],
   "source": [
    "DataProcessing.join_predictions_with_sentences(user_input_df, custom_sentences_predictions, SkLearnSGDClassifier)\n"
   ]
  },
  {
   "cell_type": "code",
   "execution_count": null,
   "id": "e073da8d",
   "metadata": {},
   "outputs": [],
   "source": []
  }
 ],
 "metadata": {
  "kernelspec": {
   "display_name": ".venv_predictions",
   "language": "python",
   "name": "python3"
  },
  "language_info": {
   "codemirror_mode": {
    "name": "ipython",
    "version": 3
   },
   "file_extension": ".py",
   "mimetype": "text/x-python",
   "name": "python",
   "nbconvert_exporter": "python",
   "pygments_lexer": "ipython3",
   "version": "3.11.12"
  }
 },
 "nbformat": 4,
 "nbformat_minor": 5
}
