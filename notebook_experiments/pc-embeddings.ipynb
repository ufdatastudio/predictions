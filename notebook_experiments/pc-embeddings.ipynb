{
 "cells": [
  {
   "cell_type": "markdown",
   "id": "b96bc64c",
   "metadata": {},
   "source": [
    "# Embeddings"
   ]
  },
  {
   "cell_type": "code",
   "execution_count": 2,
   "id": "cd452ba2",
   "metadata": {},
   "outputs": [],
   "source": [
    "import os, sys\n",
    "\n",
    "import numpy as np\n",
    "import pandas as pd\n",
    "\n",
    "from tqdm import tqdm\n",
    "\n",
    "# Get the current working directory of the notebook\n",
    "notebook_dir = os.getcwd()\n",
    "# Add the parent directory to the system path\n",
    "sys.path.append(os.path.join(notebook_dir, '../predictions/'))\n",
    "\n",
    "import log_files\n",
    "from log_files import LogData\n",
    "from data_processing import DataProcessing\n",
    "from feature_extraction import SpacyFeatureExtraction, TfidfFeatureExtraction"
   ]
  },
  {
   "cell_type": "code",
   "execution_count": 3,
   "id": "2e30c6c3",
   "metadata": {},
   "outputs": [],
   "source": [
    "pd.set_option('max_colwidth', 800)\n",
    "pd.set_option('display.max_columns', None)\n",
    "pd.set_option('display.max_rows', None)"
   ]
  },
  {
   "cell_type": "markdown",
   "id": "ba09a1bc",
   "metadata": {},
   "source": [
    "## Read csv files and load as df"
   ]
  },
  {
   "cell_type": "code",
   "execution_count": 4,
   "id": "ec24c04f",
   "metadata": {},
   "outputs": [
    {
     "name": "stdout",
     "output_type": "stream",
     "text": [
      "Start logging batch\n",
      "log_directory: /Users/detraviousjamaribrinkley/Documents/Development/research_labs/uf_ds/scratch-predictions/notebook_experiments/../data/prediction_logs\n",
      "save_batch_directory: /Users/detraviousjamaribrinkley/Documents/Development/research_labs/uf_ds/scratch-predictions/notebook_experiments/../data/prediction_logs/batch_1-prediction\n",
      "CSV to DF\n",
      "Load saved csv: /Users/detraviousjamaribrinkley/Documents/Development/research_labs/uf_ds/scratch-predictions/notebook_experiments/../data/prediction_logs/batch_1-prediction/batch_1-from_df.csv\n",
      "save_batch_directory: /Users/detraviousjamaribrinkley/Documents/Development/research_labs/uf_ds/scratch-predictions/notebook_experiments/../data/prediction_logs/batch_2-prediction\n",
      "CSV to DF\n",
      "Load saved csv: /Users/detraviousjamaribrinkley/Documents/Development/research_labs/uf_ds/scratch-predictions/notebook_experiments/../data/prediction_logs/batch_2-prediction/batch_2-from_df.csv\n",
      "save_batch_directory: /Users/detraviousjamaribrinkley/Documents/Development/research_labs/uf_ds/scratch-predictions/notebook_experiments/../data/prediction_logs/batch_3-prediction\n",
      "CSV to DF\n",
      "Load saved csv: /Users/detraviousjamaribrinkley/Documents/Development/research_labs/uf_ds/scratch-predictions/notebook_experiments/../data/prediction_logs/batch_3-prediction/batch_3-from_df.csv\n",
      "save_batch_directory: /Users/detraviousjamaribrinkley/Documents/Development/research_labs/uf_ds/scratch-predictions/notebook_experiments/../data/prediction_logs/batch_4-prediction\n",
      "CSV to DF\n",
      "Load saved csv: /Users/detraviousjamaribrinkley/Documents/Development/research_labs/uf_ds/scratch-predictions/notebook_experiments/../data/prediction_logs/batch_4-prediction/batch_4-from_df.csv\n",
      "save_batch_directory: /Users/detraviousjamaribrinkley/Documents/Development/research_labs/uf_ds/scratch-predictions/notebook_experiments/../data/prediction_logs/batch_5-prediction\n",
      "CSV to DF\n",
      "Load saved csv: /Users/detraviousjamaribrinkley/Documents/Development/research_labs/uf_ds/scratch-predictions/notebook_experiments/../data/prediction_logs/batch_5-prediction/batch_5-from_df.csv\n"
     ]
    },
    {
     "data": {
      "text/html": [
       "<div>\n",
       "<style scoped>\n",
       "    .dataframe tbody tr th:only-of-type {\n",
       "        vertical-align: middle;\n",
       "    }\n",
       "\n",
       "    .dataframe tbody tr th {\n",
       "        vertical-align: top;\n",
       "    }\n",
       "\n",
       "    .dataframe thead th {\n",
       "        text-align: right;\n",
       "    }\n",
       "</style>\n",
       "<table border=\"1\" class=\"dataframe\">\n",
       "  <thead>\n",
       "    <tr style=\"text-align: right;\">\n",
       "      <th></th>\n",
       "      <th>Base Sentence</th>\n",
       "      <th>Sentence Label</th>\n",
       "      <th>Domain</th>\n",
       "      <th>Model Name</th>\n",
       "      <th>API Name</th>\n",
       "      <th>Batch ID</th>\n",
       "      <th>Template Number</th>\n",
       "    </tr>\n",
       "  </thead>\n",
       "  <tbody>\n",
       "    <tr>\n",
       "      <th>0</th>\n",
       "      <td>JPMorgan Chase forecasts that the net profit at Amazon potentially decrease in Q3 of 2027.</td>\n",
       "      <td>1</td>\n",
       "      <td>finance</td>\n",
       "      <td>llama-3.1-70b-instruct</td>\n",
       "      <td>NAVI_GATOR</td>\n",
       "      <td>0</td>\n",
       "      <td>1</td>\n",
       "    </tr>\n",
       "    <tr>\n",
       "      <th>1</th>\n",
       "      <td>On August 21, 2024, Bank of America speculates the revenue at Microsoft will likely increase.</td>\n",
       "      <td>1</td>\n",
       "      <td>finance</td>\n",
       "      <td>llama-3.1-70b-instruct</td>\n",
       "      <td>NAVI_GATOR</td>\n",
       "      <td>0</td>\n",
       "      <td>2</td>\n",
       "    </tr>\n",
       "    <tr>\n",
       "      <th>2</th>\n",
       "      <td>Citigroup predicts on 2024-08-21, the operating income at Alphabet may rise.</td>\n",
       "      <td>1</td>\n",
       "      <td>finance</td>\n",
       "      <td>llama-3.1-70b-instruct</td>\n",
       "      <td>NAVI_GATOR</td>\n",
       "      <td>0</td>\n",
       "      <td>3</td>\n",
       "    </tr>\n",
       "    <tr>\n",
       "      <th>3</th>\n",
       "      <td>According to Goldman Sachs, the research and development expenses at Facebook would fall in 2025.</td>\n",
       "      <td>1</td>\n",
       "      <td>finance</td>\n",
       "      <td>llama-3.1-70b-instruct</td>\n",
       "      <td>NAVI_GATOR</td>\n",
       "      <td>0</td>\n",
       "      <td>4</td>\n",
       "    </tr>\n",
       "    <tr>\n",
       "      <th>4</th>\n",
       "      <td>In 21 August 2024, Morgan Stanley envisions that the gross profit at Johnson &amp; Johnson has some probability to remain stable.</td>\n",
       "      <td>1</td>\n",
       "      <td>finance</td>\n",
       "      <td>llama-3.1-70b-instruct</td>\n",
       "      <td>NAVI_GATOR</td>\n",
       "      <td>0</td>\n",
       "      <td>5</td>\n",
       "    </tr>\n",
       "    <tr>\n",
       "      <th>5</th>\n",
       "      <td>The stock price at Visa should stay same in Q2 of 2026, according to Wells Fargo.</td>\n",
       "      <td>1</td>\n",
       "      <td>finance</td>\n",
       "      <td>llama-3.1-70b-instruct</td>\n",
       "      <td>NAVI_GATOR</td>\n",
       "      <td>0</td>\n",
       "      <td>6</td>\n",
       "    </tr>\n",
       "    <tr>\n",
       "      <th>6</th>\n",
       "      <td>JPMorgan forecasts that the revenue at Microsoft potentially decrease in Q3 of 2027.</td>\n",
       "      <td>1</td>\n",
       "      <td>finance</td>\n",
       "      <td>llama-3.3-70b-instruct</td>\n",
       "      <td>NAVI_GATOR</td>\n",
       "      <td>0</td>\n",
       "      <td>1</td>\n",
       "    </tr>\n",
       "  </tbody>\n",
       "</table>\n",
       "</div>"
      ],
      "text/plain": [
       "                                                                                                                   Base Sentence  \\\n",
       "0                                     JPMorgan Chase forecasts that the net profit at Amazon potentially decrease in Q3 of 2027.   \n",
       "1                                  On August 21, 2024, Bank of America speculates the revenue at Microsoft will likely increase.   \n",
       "2                                                   Citigroup predicts on 2024-08-21, the operating income at Alphabet may rise.   \n",
       "3                              According to Goldman Sachs, the research and development expenses at Facebook would fall in 2025.   \n",
       "4  In 21 August 2024, Morgan Stanley envisions that the gross profit at Johnson & Johnson has some probability to remain stable.   \n",
       "5                                              The stock price at Visa should stay same in Q2 of 2026, according to Wells Fargo.   \n",
       "6                                           JPMorgan forecasts that the revenue at Microsoft potentially decrease in Q3 of 2027.   \n",
       "\n",
       "   Sentence Label   Domain              Model Name    API Name  Batch ID  \\\n",
       "0               1  finance  llama-3.1-70b-instruct  NAVI_GATOR         0   \n",
       "1               1  finance  llama-3.1-70b-instruct  NAVI_GATOR         0   \n",
       "2               1  finance  llama-3.1-70b-instruct  NAVI_GATOR         0   \n",
       "3               1  finance  llama-3.1-70b-instruct  NAVI_GATOR         0   \n",
       "4               1  finance  llama-3.1-70b-instruct  NAVI_GATOR         0   \n",
       "5               1  finance  llama-3.1-70b-instruct  NAVI_GATOR         0   \n",
       "6               1  finance  llama-3.3-70b-instruct  NAVI_GATOR         0   \n",
       "\n",
       "   Template Number  \n",
       "0                1  \n",
       "1                2  \n",
       "2                3  \n",
       "3                4  \n",
       "4                5  \n",
       "5                6  \n",
       "6                1  "
      ]
     },
     "execution_count": 4,
     "metadata": {},
     "output_type": "execute_result"
    }
   ],
   "source": [
    "log_file_path = \"data/prediction_logs\"\n",
    "predictions = True\n",
    "predictions_df = log_files.read_data(notebook_dir, log_file_path, predictions)\n",
    "predictions_df.head(7)"
   ]
  },
  {
   "cell_type": "code",
   "execution_count": null,
   "id": "938db367",
   "metadata": {},
   "outputs": [],
   "source": [
    "log_file_path = \"data/observation_logs\"\n",
    "predictions = False\n",
    "observations_df = log_files.read_data(notebook_dir, log_file_path, predictions)\n",
    "observations_df.head(7)"
   ]
  },
  {
   "cell_type": "code",
   "execution_count": null,
   "id": "686e6649",
   "metadata": {},
   "outputs": [],
   "source": [
    "col_name = 'Base Sentence'\n",
    "predictions = DataProcessing.df_to_list(predictions_df, col_name)\n",
    "observations = DataProcessing.df_to_list(observations_df, col_name)\n",
    "len(predictions), len(observations)"
   ]
  },
  {
   "cell_type": "markdown",
   "id": "6f238924",
   "metadata": {},
   "source": [
    "## Extract Spacy embeddings"
   ]
  },
  {
   "cell_type": "code",
   "execution_count": null,
   "id": "0f8501a9",
   "metadata": {},
   "outputs": [],
   "source": [
    "disable_components = [\"\"]\n",
    "pred_spacy_fe = SpacyFeatureExtraction(predictions_df, \"Base Sentence\")\n",
    "pred_sentence_features = pred_spacy_fe.sentence_feature_extraction()\n",
    "\n",
    "obser_spacy_fe = SpacyFeatureExtraction(observations_df, \"Base Sentence\")\n",
    "obser_sentence_features = obser_spacy_fe.sentence_feature_extraction()"
   ]
  },
  {
   "cell_type": "code",
   "execution_count": null,
   "id": "f27c451e",
   "metadata": {},
   "outputs": [],
   "source": [
    "spacy_pred_sent_embedding = pred_sentence_features[0]\n",
    "spacy_obser_sent_embedding = obser_sentence_features[0]\n",
    "# spacy_pred_sent_embedding.shape"
   ]
  },
  {
   "cell_type": "code",
   "execution_count": null,
   "id": "660bf8e4",
   "metadata": {},
   "outputs": [],
   "source": [
    "from sentence_transformers import SentenceTransformer\n",
    "\n",
    "model = SentenceTransformer(\"all-MiniLM-L6-v2\")\n",
    "\n",
    "sentences = [] \n",
    "sentences.append(predictions[0])\n",
    "sentences.append(observations[0])\n",
    "print(sentences)\n",
    "\n",
    "embeddings = model.encode(sentences)\n",
    "print(embeddings.shape)\n",
    "# => (3, 384)\n",
    "\n",
    "\n",
    "# spacy_pred_sent_embedding.shape\n",
    "\n",
    "similarities = model.similarity(embeddings, embeddings)\n",
    "print(similarities)\n",
    "# tensor([[1.0000, 0.6660, 0.1046],\n",
    "#         [0.6660, 1.0000, 0.1411],\n",
    "#         [0.1046, 0.1411, 1.0000]])\n",
    "\n",
    "sent_transformer_pred_sent_embedding = model.encode(predictions[0])\n",
    "sent_transformer_obser_sent_embedding = model.encode(observations[0])\n",
    "similarities = model.similarity(sent_transformer_pred_sent_embedding, sent_transformer_obser_sent_embedding)\n",
    "print(similarities)\n"
   ]
  },
  {
   "cell_type": "code",
   "execution_count": null,
   "id": "b8a4d468",
   "metadata": {},
   "outputs": [],
   "source": [
    "import torch\n",
    "from transformers import AutoTokenizer, AutoModel\n",
    "\n",
    "from transformers import BertTokenizer, BertModel\n",
    "def get_bert_embeddings(sentence: str):\n",
    "    tokenizer = BertTokenizer.from_pretrained('bert-base-uncased')\n",
    "    model = BertModel.from_pretrained(\"bert-base-uncased\")\n",
    "    # text = \"Replace me by any text you'd like.\"\n",
    "    encoded_input = tokenizer(sentence, return_tensors='pt')\n",
    "    # Get hidden states from BERT\n",
    "    with torch.no_grad():\n",
    "        output = model(**encoded_input)\n",
    "\n",
    "    # Extract embeddings for [CLS] token\n",
    "    sentence_embedding = output.last_hidden_state[:, 0, :].squeeze()\n",
    "\n",
    "    return sentence_embedding"
   ]
  },
  {
   "cell_type": "code",
   "execution_count": null,
   "id": "fe802e86",
   "metadata": {},
   "outputs": [],
   "source": [
    "bert_pred_sent_embedding = get_bert_embeddings(predictions[0])\n",
    "bert_obser_sent_embedding = get_bert_embeddings(observations[0])"
   ]
  },
  {
   "cell_type": "code",
   "execution_count": null,
   "id": "f565a229",
   "metadata": {},
   "outputs": [],
   "source": [
    "pred_tfidf_fe = TfidfFeatureExtraction(predictions_df, 'Base Sentence')\n",
    "obser_tfidf_fe = TfidfFeatureExtraction(observations_df, 'Base Sentence')\n",
    "\n",
    "pred_tfidf_df = pred_tfidf_fe.feature_scores(max_features=300)\n",
    "obser_tfidf_df = obser_tfidf_fe.feature_scores(max_features=300)"
   ]
  },
  {
   "cell_type": "code",
   "execution_count": null,
   "id": "6fa99f84",
   "metadata": {},
   "outputs": [],
   "source": [
    "pred_tfidf_df[:1]"
   ]
  },
  {
   "cell_type": "code",
   "execution_count": null,
   "id": "bdd545d8",
   "metadata": {},
   "outputs": [],
   "source": [
    "tfidf_pred_embedding = pred_tfidf_df.iloc[:1 , 2:].to_numpy()"
   ]
  },
  {
   "cell_type": "code",
   "execution_count": null,
   "id": "d27e1989",
   "metadata": {},
   "outputs": [],
   "source": [
    "obser_tfidf_df[:1]"
   ]
  },
  {
   "cell_type": "code",
   "execution_count": null,
   "id": "57df96b4",
   "metadata": {},
   "outputs": [],
   "source": [
    "tfidf_obser_embedding = obser_tfidf_df.iloc[:1 , 2:].to_numpy()\n",
    "tfidf_obser_embedding"
   ]
  },
  {
   "cell_type": "code",
   "execution_count": null,
   "id": "cf6287dc",
   "metadata": {},
   "outputs": [],
   "source": [
    "from sklearn.metrics.pairwise import cosine_similarity\n",
    "\n",
    "def get_cosine_similarity(prediction_embeddings: np.array, observation_embeddings: np.array):\n",
    "\n",
    "    # make them (1 × vector_dim) for sklearn\n",
    "    pred_sent_embedding_reshaped = prediction_embeddings.reshape(1, -1)\n",
    "    obser_sent_embedding_reshaped = observation_embeddings.reshape(1, -1)\n",
    "\n",
    "    sim = cosine_similarity(pred_sent_embedding_reshaped, obser_sent_embedding_reshaped)[0, 0]\n",
    "    \n",
    "    return sim"
   ]
  },
  {
   "cell_type": "code",
   "execution_count": null,
   "id": "ed7ecb0a",
   "metadata": {},
   "outputs": [],
   "source": [
    "spacy_cs_metric = get_cosine_similarity(spacy_pred_sent_embedding, spacy_obser_sent_embedding)\n",
    "sent_tranformer_cs_metric = get_cosine_similarity(sent_transformer_pred_sent_embedding, sent_transformer_obser_sent_embedding)\n",
    "bert_cs_metric = get_cosine_similarity(bert_pred_sent_embedding, bert_obser_sent_embedding)\n",
    "tfidf_cs_metric = get_cosine_similarity(tfidf_pred_embedding, tfidf_obser_embedding)\n",
    "\n",
    "spacy_cs_metric, sent_tranformer_cs_metric, bert_cs_metric, tfidf_cs_metric"
   ]
  },
  {
   "cell_type": "code",
   "execution_count": null,
   "id": "369afa43",
   "metadata": {},
   "outputs": [],
   "source": []
  }
 ],
 "metadata": {
  "kernelspec": {
   "display_name": ".venv",
   "language": "python",
   "name": "python3"
  },
  "language_info": {
   "codemirror_mode": {
    "name": "ipython",
    "version": 3
   },
   "file_extension": ".py",
   "mimetype": "text/x-python",
   "name": "python",
   "nbconvert_exporter": "python",
   "pygments_lexer": "ipython3",
   "version": "3.11.12"
  }
 },
 "nbformat": 4,
 "nbformat_minor": 5
}
