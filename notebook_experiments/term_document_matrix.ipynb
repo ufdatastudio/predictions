{
 "cells": [
  {
   "cell_type": "markdown",
   "id": "c6443b15",
   "metadata": {},
   "source": [
    "# Term-Document Matrix"
   ]
  },
  {
   "cell_type": "code",
   "execution_count": 1,
   "id": "345690b4",
   "metadata": {},
   "outputs": [],
   "source": [
    "import os, sys, spacy\n",
    "\n",
    "import pandas as pd\n",
    "# import gensim.downloader as api\n",
    "\n",
    "# Get the current working directory of the notebook\n",
    "notebook_dir = os.getcwd()\n",
    "# Add the parent directory to the system path\n",
    "sys.path.append(os.path.join(notebook_dir, '../'))\n",
    "\n",
    "from data_processing import DataProcessing"
   ]
  },
  {
   "cell_type": "markdown",
   "id": "0f7b5a72",
   "metadata": {},
   "source": [
    "[Speech and Language Processing (3rd ed. draft)](https://web.stanford.edu/~jurafsky/slp3/) --- CH 6\n",
    "![Term Document Matrix](term_doc.png)"
   ]
  },
  {
   "cell_type": "code",
   "execution_count": 2,
   "id": "f1cf1aa2",
   "metadata": {},
   "outputs": [],
   "source": [
    "def extract_terms(doc):\n",
    "    \"\"\"Extract terms (also called words) from a document (text file or string).\n",
    "\n",
    "    Parameters:\n",
    "    -----------\n",
    "    doc: `str`\n",
    "        A document with words\n",
    "\n",
    "    Returns:\n",
    "    --------\n",
    "    words: `list`\n",
    "        The words from the doc \n",
    "    \"\"\"\n",
    "\n",
    "    return doc.split()"
   ]
  },
  {
   "cell_type": "code",
   "execution_count": 3,
   "id": "707153b7",
   "metadata": {},
   "outputs": [],
   "source": [
    "document_1 = \"I'm a Kingdom Man Man Kingdom\"\n",
    "document_2 = \"I'm Kingdom Man I'm a Kingdom Man I'm a Kingdom Man\"\n"
   ]
  },
  {
   "cell_type": "code",
   "execution_count": 4,
   "id": "46dd0d20",
   "metadata": {},
   "outputs": [],
   "source": [
    "d1_words = extract_terms(document_1)\n",
    "d2_words = extract_terms(document_2)\n",
    "docs_words = []\n",
    "docs_words.append(d1_words)\n",
    "docs_words.append(d2_words)"
   ]
  },
  {
   "cell_type": "code",
   "execution_count": 5,
   "id": "4bb83d2d",
   "metadata": {},
   "outputs": [],
   "source": [
    "def get_word_counts(words: list[str], doc_name: str): \n",
    "    word_count_dic = {}\n",
    "    for word in words:\n",
    "        if word in word_count_dic:\n",
    "            word_count_dic[word] = word_count_dic[word] + 1\n",
    "\n",
    "        else: # Word not in \n",
    "            word_count_dic[word] = 1\n",
    "    \n",
    "    word_count_df = pd.DataFrame(word_count_dic.keys(), columns=[\"Word\"])\n",
    "    word_count_df[f\"{doc_name} Count\"] = word_count_dic.values()\n",
    "    return word_count_df"
   ]
  },
  {
   "cell_type": "code",
   "execution_count": 6,
   "id": "15bf3de3",
   "metadata": {},
   "outputs": [
    {
     "data": {
      "text/html": [
       "<div>\n",
       "<style scoped>\n",
       "    .dataframe tbody tr th:only-of-type {\n",
       "        vertical-align: middle;\n",
       "    }\n",
       "\n",
       "    .dataframe tbody tr th {\n",
       "        vertical-align: top;\n",
       "    }\n",
       "\n",
       "    .dataframe thead th {\n",
       "        text-align: right;\n",
       "    }\n",
       "</style>\n",
       "<table border=\"1\" class=\"dataframe\">\n",
       "  <thead>\n",
       "    <tr style=\"text-align: right;\">\n",
       "      <th></th>\n",
       "      <th>Word</th>\n",
       "      <th>Doc 1 Count</th>\n",
       "    </tr>\n",
       "  </thead>\n",
       "  <tbody>\n",
       "    <tr>\n",
       "      <th>0</th>\n",
       "      <td>I'm</td>\n",
       "      <td>1</td>\n",
       "    </tr>\n",
       "    <tr>\n",
       "      <th>1</th>\n",
       "      <td>a</td>\n",
       "      <td>1</td>\n",
       "    </tr>\n",
       "    <tr>\n",
       "      <th>2</th>\n",
       "      <td>Kingdom</td>\n",
       "      <td>2</td>\n",
       "    </tr>\n",
       "    <tr>\n",
       "      <th>3</th>\n",
       "      <td>Man</td>\n",
       "      <td>2</td>\n",
       "    </tr>\n",
       "  </tbody>\n",
       "</table>\n",
       "</div>"
      ],
      "text/plain": [
       "      Word  Doc 1 Count\n",
       "0      I'm            1\n",
       "1        a            1\n",
       "2  Kingdom            2\n",
       "3      Man            2"
      ]
     },
     "execution_count": 6,
     "metadata": {},
     "output_type": "execute_result"
    }
   ],
   "source": [
    "d1_word_count_df = get_word_counts(d1_words, doc_name=\"Doc 1\")\n",
    "d1_word_count_df"
   ]
  },
  {
   "cell_type": "code",
   "execution_count": 7,
   "id": "daa1fc6c",
   "metadata": {},
   "outputs": [
    {
     "data": {
      "text/html": [
       "<div>\n",
       "<style scoped>\n",
       "    .dataframe tbody tr th:only-of-type {\n",
       "        vertical-align: middle;\n",
       "    }\n",
       "\n",
       "    .dataframe tbody tr th {\n",
       "        vertical-align: top;\n",
       "    }\n",
       "\n",
       "    .dataframe thead th {\n",
       "        text-align: right;\n",
       "    }\n",
       "</style>\n",
       "<table border=\"1\" class=\"dataframe\">\n",
       "  <thead>\n",
       "    <tr style=\"text-align: right;\">\n",
       "      <th></th>\n",
       "      <th>Word</th>\n",
       "      <th>Doc 2 Count</th>\n",
       "    </tr>\n",
       "  </thead>\n",
       "  <tbody>\n",
       "    <tr>\n",
       "      <th>0</th>\n",
       "      <td>I'm</td>\n",
       "      <td>3</td>\n",
       "    </tr>\n",
       "    <tr>\n",
       "      <th>1</th>\n",
       "      <td>Kingdom</td>\n",
       "      <td>3</td>\n",
       "    </tr>\n",
       "    <tr>\n",
       "      <th>2</th>\n",
       "      <td>Man</td>\n",
       "      <td>3</td>\n",
       "    </tr>\n",
       "    <tr>\n",
       "      <th>3</th>\n",
       "      <td>a</td>\n",
       "      <td>2</td>\n",
       "    </tr>\n",
       "  </tbody>\n",
       "</table>\n",
       "</div>"
      ],
      "text/plain": [
       "      Word  Doc 2 Count\n",
       "0      I'm            3\n",
       "1  Kingdom            3\n",
       "2      Man            3\n",
       "3        a            2"
      ]
     },
     "execution_count": 7,
     "metadata": {},
     "output_type": "execute_result"
    }
   ],
   "source": [
    "d2_word_count_df = get_word_counts(d2_words, \"Doc 2\")\n",
    "d2_word_count_df"
   ]
  },
  {
   "cell_type": "code",
   "execution_count": 8,
   "id": "25676d16",
   "metadata": {},
   "outputs": [],
   "source": [
    "def create_term_doc_matrix(docs_words: list, doc_name: str, group_by_col_name: str) -> pd.DataFrame:\n",
    "    dfs = []\n",
    "    for doc_word_idx in range(len(docs_words)):\n",
    "        doc_word = docs_words[doc_word_idx]\n",
    "        \n",
    "        doc_N = doc_word_idx + 1\n",
    "        df = get_word_counts(doc_word, f\"{doc_name} {doc_N}\")\n",
    "        dfs.append(df)\n",
    "\n",
    "    docs_df = DataProcessing.concat_dfs(dfs)\n",
    "    term_doc_matrix = docs_df.groupby(group_by_col_name).sum()\n",
    "\n",
    "    return term_doc_matrix"
   ]
  },
  {
   "cell_type": "code",
   "execution_count": null,
   "id": "4e9e3538",
   "metadata": {},
   "outputs": [],
   "source": []
  }
 ],
 "metadata": {
  "kernelspec": {
   "display_name": ".venv_predictions",
   "language": "python",
   "name": "python3"
  },
  "language_info": {
   "codemirror_mode": {
    "name": "ipython",
    "version": 3
   },
   "file_extension": ".py",
   "mimetype": "text/x-python",
   "name": "python",
   "nbconvert_exporter": "python",
   "pygments_lexer": "ipython3",
   "version": "3.11.12"
  }
 },
 "nbformat": 4,
 "nbformat_minor": 5
}
