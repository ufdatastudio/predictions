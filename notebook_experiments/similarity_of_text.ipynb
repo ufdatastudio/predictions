{
 "cells": [
  {
   "cell_type": "markdown",
   "metadata": {},
   "source": [
    "# How similar is the text?"
   ]
  },
  {
   "cell_type": "code",
   "execution_count": 1,
   "metadata": {},
   "outputs": [
    {
     "name": "stderr",
     "output_type": "stream",
     "text": [
      "[nltk_data] Downloading package wordnet to\n",
      "[nltk_data]     /Users/detraviousjamaribrinkley/nltk_data...\n",
      "[nltk_data]   Package wordnet is already up-to-date!\n"
     ]
    }
   ],
   "source": [
    "import os, sys, spacy\n",
    "\n",
    "import pandas as pd\n",
    "# import gensim.downloader as api\n",
    "\n",
    "# Get the current working directory of the notebook\n",
    "notebook_dir = os.getcwd()\n",
    "# Add the parent directory to the system path\n",
    "sys.path.append(os.path.join(notebook_dir, '../'))\n",
    "\n",
    "from feature_extraction import SpacyFeatureExtraction\n",
    "from data_processing import DataProcessing\n",
    "from clean_predictions import PredictionDataCleaner"
   ]
  },
  {
   "cell_type": "code",
   "execution_count": 2,
   "metadata": {},
   "outputs": [],
   "source": [
    "# load_nlp_model = spacy.load(\"en_core_web_md\")\n",
    "# pretrained_word_two_vec_model = api.load('word2vec-google-news-300')"
   ]
  },
  {
   "cell_type": "code",
   "execution_count": 3,
   "metadata": {},
   "outputs": [],
   "source": [
    "mappings = {\n",
    "    \"I predict it will be sunny on 4 April 2025.\" : [\"It was sunny on 4 April 2025.\", \"It was not sunny on 4 April 2025.\"],\n",
    "    \"Apple's stock will rise by 10%.\" : [\"Apple's stock rose by 11%.\", \"Apple's stock rose by 900%.\", \"Apple's stock rose by 10%.\"]\n",
    "}\n",
    "\n",
    "mappings = {\n",
    "    \"Tesla's stock will rise by 10%.\" : [\"Apple's stock will rise by 10%.\", \"Apple's stock rose by 11%.\", \"Apple's stock rose by 10%.\", \"Apple's stock rose by 900%.\"]\n",
    "}\n",
    "\n",
    "mappings = {\n",
    "    \"Tesla's stock will rise by 10%.\" : [\"Apple's stock will rise by 10%.\", \"Apple's stock rose by 11%.\", \"Apple's stock rose by 10%.\", \"Apple's stock rose by 900%.\"],\n",
    "    \"Apple's stock will rise by 10%.\" : [\"Apple's stock will rise by 10%.\", \"Apple's stock rose by 11%.\", \"Apple's stock rose by 900%.\", \"Apple's stock rose by 10%.\"]\n",
    "}"
   ]
  },
  {
   "cell_type": "code",
   "execution_count": 4,
   "metadata": {},
   "outputs": [
    {
     "name": "stdout",
     "output_type": "stream",
     "text": [
      "Prediction: Tesla's stock will rise by 10%.\n",
      "    Observation: Apple's stock will rise by 10%.\n",
      "    Similarity: 0.9796735644340515\n",
      "\n",
      "    Observation: Apple's stock rose by 11%.\n",
      "    Similarity: 0.8603723049163818\n",
      "\n",
      "    Observation: Apple's stock rose by 10%.\n",
      "    Similarity: 0.8691261410713196\n",
      "\n",
      "    Observation: Apple's stock rose by 900%.\n",
      "    Similarity: 0.8487552404403687\n",
      "\n",
      "Prediction: Apple's stock will rise by 10%.\n",
      "    Observation: Apple's stock will rise by 10%.\n",
      "    Similarity: 1.0\n",
      "\n",
      "    Observation: Apple's stock rose by 11%.\n",
      "    Similarity: 0.8647665977478027\n",
      "\n",
      "    Observation: Apple's stock rose by 900%.\n",
      "    Similarity: 0.8541026711463928\n",
      "\n",
      "    Observation: Apple's stock rose by 10%.\n",
      "    Similarity: 0.8756679892539978\n",
      "\n"
     ]
    },
    {
     "name": "stderr",
     "output_type": "stream",
     "text": [
      "/var/folders/78/9z0b45fx1xqbwxh8vk97lcfh0000gn/T/ipykernel_80493/312081125.py:18: UserWarning: [W007] The model you're using has no word vectors loaded, so the result of the Doc.similarity method will be based on the tagger, parser and NER, which may not give useful similarity judgements. This may happen if you're using one of the small models, e.g. `en_core_web_sm`, which don't ship with word vectors and only use context-sensitive tensors. You can always add your own word vectors, or use one of the larger models instead if available.\n",
      "  similarity = prediction_doc.similarity(observation_doc)\n"
     ]
    }
   ],
   "source": [
    "load_nlp_model = spacy.load(\"en_core_web_sm\")\n",
    "\n",
    "all_mappings = {} # Mapping of predictions to observations\n",
    "pom_mappings = {} # Mapping of predictions to observations to metrics/scoresl pos can be misleading\n",
    "\n",
    "oms = []\n",
    "for prediction in mappings.keys():\n",
    "    print(f\"Prediction: {prediction}\")\n",
    "\n",
    "    om_mappings = {} # Mapping of observations to metrics/scores\n",
    "\n",
    "    for observation in mappings[prediction]:\n",
    "        print(f\"    Observation: {observation}\")\n",
    "\n",
    "        # Calculate the similarity score\n",
    "        prediction_doc = load_nlp_model(prediction)\n",
    "        observation_doc = load_nlp_model(observation)\n",
    "        similarity = prediction_doc.similarity(observation_doc)\n",
    "        print(f\"    Similarity: {similarity}\")\n",
    "        om_mappings[observation] = [similarity]\n",
    "        print()   \n",
    "        # print(f\"    OM Mapping: {om_mappings}\")\n",
    "    pom_mappings[prediction] = om_mappings\n"
   ]
  },
  {
   "cell_type": "code",
   "execution_count": 5,
   "metadata": {},
   "outputs": [],
   "source": [
    "# pom_mappings"
   ]
  },
  {
   "cell_type": "code",
   "execution_count": 6,
   "metadata": {},
   "outputs": [
    {
     "data": {
      "text/html": [
       "<div>\n",
       "<style scoped>\n",
       "    .dataframe tbody tr th:only-of-type {\n",
       "        vertical-align: middle;\n",
       "    }\n",
       "\n",
       "    .dataframe tbody tr th {\n",
       "        vertical-align: top;\n",
       "    }\n",
       "\n",
       "    .dataframe thead th {\n",
       "        text-align: right;\n",
       "    }\n",
       "</style>\n",
       "<table border=\"1\" class=\"dataframe\">\n",
       "  <thead>\n",
       "    <tr style=\"text-align: right;\">\n",
       "      <th></th>\n",
       "      <th>Prediction</th>\n",
       "      <th>Observation</th>\n",
       "      <th>Spacy Similarity</th>\n",
       "    </tr>\n",
       "  </thead>\n",
       "  <tbody>\n",
       "    <tr>\n",
       "      <th>0</th>\n",
       "      <td>Tesla's stock will rise by 10%.</td>\n",
       "      <td>Apple's stock will rise by 10%.</td>\n",
       "      <td>0.979674</td>\n",
       "    </tr>\n",
       "    <tr>\n",
       "      <th>1</th>\n",
       "      <td>Tesla's stock will rise by 10%.</td>\n",
       "      <td>Apple's stock rose by 11%.</td>\n",
       "      <td>0.860372</td>\n",
       "    </tr>\n",
       "    <tr>\n",
       "      <th>2</th>\n",
       "      <td>Tesla's stock will rise by 10%.</td>\n",
       "      <td>Apple's stock rose by 10%.</td>\n",
       "      <td>0.869126</td>\n",
       "    </tr>\n",
       "    <tr>\n",
       "      <th>3</th>\n",
       "      <td>Tesla's stock will rise by 10%.</td>\n",
       "      <td>Apple's stock rose by 900%.</td>\n",
       "      <td>0.848755</td>\n",
       "    </tr>\n",
       "    <tr>\n",
       "      <th>4</th>\n",
       "      <td>Apple's stock will rise by 10%.</td>\n",
       "      <td>Apple's stock will rise by 10%.</td>\n",
       "      <td>1.000000</td>\n",
       "    </tr>\n",
       "    <tr>\n",
       "      <th>5</th>\n",
       "      <td>Apple's stock will rise by 10%.</td>\n",
       "      <td>Apple's stock rose by 11%.</td>\n",
       "      <td>0.864767</td>\n",
       "    </tr>\n",
       "    <tr>\n",
       "      <th>6</th>\n",
       "      <td>Apple's stock will rise by 10%.</td>\n",
       "      <td>Apple's stock rose by 900%.</td>\n",
       "      <td>0.854103</td>\n",
       "    </tr>\n",
       "    <tr>\n",
       "      <th>7</th>\n",
       "      <td>Apple's stock will rise by 10%.</td>\n",
       "      <td>Apple's stock rose by 10%.</td>\n",
       "      <td>0.875668</td>\n",
       "    </tr>\n",
       "  </tbody>\n",
       "</table>\n",
       "</div>"
      ],
      "text/plain": [
       "                        Prediction                      Observation  \\\n",
       "0  Tesla's stock will rise by 10%.  Apple's stock will rise by 10%.   \n",
       "1  Tesla's stock will rise by 10%.       Apple's stock rose by 11%.   \n",
       "2  Tesla's stock will rise by 10%.       Apple's stock rose by 10%.   \n",
       "3  Tesla's stock will rise by 10%.      Apple's stock rose by 900%.   \n",
       "4  Apple's stock will rise by 10%.  Apple's stock will rise by 10%.   \n",
       "5  Apple's stock will rise by 10%.       Apple's stock rose by 11%.   \n",
       "6  Apple's stock will rise by 10%.      Apple's stock rose by 900%.   \n",
       "7  Apple's stock will rise by 10%.       Apple's stock rose by 10%.   \n",
       "\n",
       "   Spacy Similarity  \n",
       "0          0.979674  \n",
       "1          0.860372  \n",
       "2          0.869126  \n",
       "3          0.848755  \n",
       "4          1.000000  \n",
       "5          0.864767  \n",
       "6          0.854103  \n",
       "7          0.875668  "
      ]
     },
     "execution_count": 6,
     "metadata": {},
     "output_type": "execute_result"
    }
   ],
   "source": [
    "# Flatten the dictionary into a list of rows\n",
    "data = []\n",
    "for prediction, observations in pom_mappings.items():\n",
    "    for observation, scores in observations.items():\n",
    "        data.append([prediction, observation, scores[0]])\n",
    "\n",
    "# Create the DataFrame\n",
    "df = pd.DataFrame(data, columns=['Prediction', 'Observation', 'Spacy Similarity'])\n",
    "\n",
    "# Display the DataFrame\n",
    "df"
   ]
  },
  {
   "cell_type": "markdown",
   "metadata": {},
   "source": [
    "Comparison\n",
    "1. No focus on #s, more on words"
   ]
  },
  {
   "cell_type": "code",
   "execution_count": 7,
   "metadata": {},
   "outputs": [
    {
     "name": "stderr",
     "output_type": "stream",
     "text": [
      "/var/folders/78/9z0b45fx1xqbwxh8vk97lcfh0000gn/T/ipykernel_80493/1472597426.py:4: UserWarning: [W007] The model you're using has no word vectors loaded, so the result of the Doc.similarity method will be based on the tagger, parser and NER, which may not give useful similarity judgements. This may happen if you're using one of the small models, e.g. `en_core_web_sm`, which don't ship with word vectors and only use context-sensitive tensors. You can always add your own word vectors, or use one of the larger models instead if available.\n",
      "  similarity = prediction_doc.similarity(observation_doc)\n"
     ]
    },
    {
     "data": {
      "text/plain": [
       "0.905285656452179"
      ]
     },
     "execution_count": 7,
     "metadata": {},
     "output_type": "execute_result"
    }
   ],
   "source": [
    "prediction_doc = load_nlp_model(\"10\")\n",
    "observation_doc = load_nlp_model(\"10.5\")\n",
    "observation_doc_2 = load_nlp_model(\"11\")\n",
    "similarity = prediction_doc.similarity(observation_doc)\n",
    "similarity"
   ]
  },
  {
   "cell_type": "code",
   "execution_count": 8,
   "metadata": {},
   "outputs": [
    {
     "name": "stderr",
     "output_type": "stream",
     "text": [
      "/var/folders/78/9z0b45fx1xqbwxh8vk97lcfh0000gn/T/ipykernel_80493/4256136358.py:1: UserWarning: [W007] The model you're using has no word vectors loaded, so the result of the Doc.similarity method will be based on the tagger, parser and NER, which may not give useful similarity judgements. This may happen if you're using one of the small models, e.g. `en_core_web_sm`, which don't ship with word vectors and only use context-sensitive tensors. You can always add your own word vectors, or use one of the larger models instead if available.\n",
      "  similarity = prediction_doc.similarity(observation_doc_2)\n"
     ]
    },
    {
     "data": {
      "text/plain": [
       "0.9179838299751282"
      ]
     },
     "execution_count": 8,
     "metadata": {},
     "output_type": "execute_result"
    }
   ],
   "source": [
    "similarity = prediction_doc.similarity(observation_doc_2)\n",
    "similarity"
   ]
  },
  {
   "cell_type": "code",
   "execution_count": null,
   "metadata": {},
   "outputs": [],
   "source": []
  },
  {
   "cell_type": "code",
   "execution_count": 9,
   "metadata": {},
   "outputs": [
    {
     "data": {
      "text/plain": [
       "array([-0.51404536,  0.47212395,  2.1167736 , -0.01427092,  2.304752  ,\n",
       "       -1.0668137 , -0.06749481,  0.66065943, -0.70772064,  0.23928517,\n",
       "        0.09734118,  0.8460709 , -0.755668  ,  0.8960749 , -0.26032454,\n",
       "        0.16389662, -1.0758107 , -0.5154206 , -0.7502026 ,  0.7043408 ,\n",
       "       -0.7463641 ,  0.38031653,  0.21543202,  0.6452693 ,  0.87040865,\n",
       "       -0.61593455,  1.05369   , -0.49514434, -0.4676479 , -0.17752272,\n",
       "        0.7325282 ,  0.55586946,  0.88514817,  0.30887413, -1.32146   ,\n",
       "        0.62450695, -0.8645719 ,  1.2338357 ,  0.06461638,  0.25332135,\n",
       "       -0.19295019, -0.41858703, -0.30587524,  1.6967193 ,  0.06577613,\n",
       "       -0.30093968, -1.0996366 ,  0.03003848, -0.6891021 , -0.5832361 ,\n",
       "        1.6293421 , -0.47455692,  0.7497319 , -0.3446849 ,  1.0593346 ,\n",
       "       -0.86161125,  0.8103587 , -1.4620582 ,  1.1137573 ,  0.6238946 ,\n",
       "        0.36318153, -1.1489872 , -0.23594345, -0.6001305 , -0.8199844 ,\n",
       "        0.45873585, -0.69914055, -0.17779215, -0.29248324,  0.08196087,\n",
       "       -0.80194205, -0.41874537,  0.45125878, -0.4966424 , -0.7747156 ,\n",
       "       -0.60412204, -0.1445629 , -0.58926785, -0.5975632 ,  0.33165336,\n",
       "       -1.4186412 ,  0.42643937, -0.01576048, -0.1592808 ,  0.02403086,\n",
       "       -0.24311066, -0.3714037 ,  0.16646317, -0.5488101 ,  0.814614  ,\n",
       "        0.609883  ,  0.16354881, -0.31437838,  1.3054274 , -0.646146  ,\n",
       "        0.8616775 ], dtype=float32)"
      ]
     },
     "execution_count": 9,
     "metadata": {},
     "output_type": "execute_result"
    }
   ],
   "source": [
    "pdv = prediction_doc.vector # 10\n",
    "pdv"
   ]
  },
  {
   "cell_type": "code",
   "execution_count": 10,
   "metadata": {},
   "outputs": [
    {
     "data": {
      "text/plain": [
       "array([-0.9080646 ,  0.60812   ,  1.4975039 ,  0.13347982,  2.5056555 ,\n",
       "       -1.0367268 , -0.41098732,  0.04090451, -0.03050857,  0.02576262,\n",
       "        0.40703857,  1.0539262 , -0.93506014,  0.7434075 ,  0.5084373 ,\n",
       "        0.1645258 , -0.5799797 , -0.16927415, -0.31959233,  0.2709655 ,\n",
       "       -0.58717155,  0.6172501 , -0.0513019 ,  0.55981296,  0.75056744,\n",
       "       -0.35704023,  0.43813536, -0.97806215,  0.02455415, -0.15885383,\n",
       "        0.6677189 ,  0.34640923,  1.0869428 ,  0.5519073 , -1.3556136 ,\n",
       "        0.8847004 , -1.1715791 ,  1.5448284 ,  0.19212052,  0.31458473,\n",
       "        0.5867995 , -0.3479625 , -0.69754386,  1.4195383 ,  0.1293885 ,\n",
       "       -0.48202336, -1.4765706 ,  0.3098717 , -0.2429516 , -0.45504564,\n",
       "        1.3766425 , -0.09753078,  0.6110693 , -0.41896328,  1.7492323 ,\n",
       "       -0.64795494,  0.9188087 , -1.1608398 ,  0.5957721 ,  0.5372187 ,\n",
       "        0.40344074, -1.5717208 , -0.24523644, -0.7100303 , -0.36703974,\n",
       "        0.3511196 , -0.46021885, -0.11563586, -0.61490935, -0.02838266,\n",
       "       -0.946501  , -0.48096174, -0.27110696, -0.47293848, -0.65624094,\n",
       "       -0.3602777 ,  0.11374518, -0.57506883, -0.500084  ,  0.04410005,\n",
       "       -1.5093651 , -0.17970273, -0.21229132,  0.43384504, -0.19210348,\n",
       "       -0.20159978,  0.19897777,  0.10727204, -0.41898918,  1.3740734 ,\n",
       "        0.45789978,  0.33682275, -0.8051033 ,  0.88959885, -0.7694051 ,\n",
       "        0.7502258 ], dtype=float32)"
      ]
     },
     "execution_count": 10,
     "metadata": {},
     "output_type": "execute_result"
    }
   ],
   "source": [
    "odv_1 = observation_doc.vector # 10.5\n",
    "odv_1"
   ]
  },
  {
   "cell_type": "markdown",
   "metadata": {},
   "source": [
    "[Five most popular similarity measures implementation in python](https://dataaspirant.com/five-most-popular-similarity-measures-implementation-in-python/)"
   ]
  },
  {
   "cell_type": "code",
   "execution_count": 11,
   "metadata": {},
   "outputs": [
    {
     "data": {
      "text/plain": [
       "array([-0.68726933,  0.44313243,  1.9566882 , -0.12224837,  3.1766698 ,\n",
       "       -0.8449706 ,  0.05103832,  0.17347622, -0.68932265, -0.22568631,\n",
       "        0.09421295,  0.87212455, -0.84420013,  0.8801198 ,  0.10539109,\n",
       "        0.09293109, -1.2549573 , -0.29545903, -0.7306085 ,  0.30259234,\n",
       "       -0.529282  ,  0.5353837 , -0.14207791,  0.6489821 ,  1.1178412 ,\n",
       "       -0.7218921 ,  0.40414548, -0.61696273, -0.33863628,  0.00572854,\n",
       "        0.85412717,  0.331739  ,  0.6515338 ,  0.02570403, -1.2833562 ,\n",
       "        0.4394375 , -0.98294103,  1.1191581 , -0.00796512, -0.1222468 ,\n",
       "       -0.5577816 , -0.6038265 , -0.36920086,  1.9369545 ,  0.40224832,\n",
       "       -0.7073438 , -0.8292583 ,  0.00955082, -0.45049372, -0.701581  ,\n",
       "        0.7993792 , -0.33022267,  0.6545384 , -0.37628552,  1.5513656 ,\n",
       "       -0.41906103,  0.96519375, -1.3322203 ,  1.1946062 ,  0.8410806 ,\n",
       "        0.14936131, -1.4467378 , -0.25206405, -0.3211716 , -0.61483   ,\n",
       "        0.16205597, -0.05807042, -0.3855081 ,  0.01195437, -0.42263657,\n",
       "       -0.25963637, -0.34498945, -0.13034321, -0.4203091 , -0.9610305 ,\n",
       "       -0.49162894, -0.22667192, -0.06374888, -0.76264405,  0.5625277 ,\n",
       "       -0.98660314,  0.18070558, -0.11955836,  0.4801497 , -0.26444006,\n",
       "       -0.31797153, -0.1690287 ,  0.60457075, -0.54131424,  1.2216917 ,\n",
       "        0.41447383, -0.07944629, -0.15629628,  1.3723904 , -0.73629   ,\n",
       "       -0.0783487 ], dtype=float32)"
      ]
     },
     "execution_count": 11,
     "metadata": {},
     "output_type": "execute_result"
    }
   ],
   "source": [
    "odv_2 = observation_doc_2.vector # 11\n",
    "odv_2"
   ]
  },
  {
   "cell_type": "markdown",
   "metadata": {},
   "source": [
    "- Pearson and Spearman Correlations\n",
    "    - 1 perfect positive relationship\n",
    "    - 0 no relationship\n",
    "    -  -1 perfect negative relationshp\n",
    "- Reference: https://mccormickml.com/2019/11/05/GLUE/"
   ]
  },
  {
   "cell_type": "code",
   "execution_count": 12,
   "metadata": {},
   "outputs": [
    {
     "data": {
      "text/plain": [
       "(PearsonRResult(statistic=np.float32(0.9053422), pvalue=np.float64(9.874054448912602e-37)),\n",
       " PearsonRResult(statistic=np.float32(0.9180417), pvalue=np.float64(1.5265596637168872e-39)),\n",
       " SignificanceResult(statistic=np.float64(0.8960661964188823), pvalue=np.float64(6.418927061722937e-35)),\n",
       " SignificanceResult(statistic=np.float64(0.909020618556701), pvalue=np.float64(1.671555071979663e-37)))"
      ]
     },
     "execution_count": 12,
     "metadata": {},
     "output_type": "execute_result"
    }
   ],
   "source": [
    "from scipy import stats\n",
    "p_result_1 = stats.pearsonr(pdv, odv_1)\n",
    "p_result_2 = stats.pearsonr(pdv, odv_2)\n",
    "\n",
    "s_result_1 = stats.spearmanr(pdv, odv_1)\n",
    "s_result_2 = stats.spearmanr(pdv, odv_2)\n",
    "\n",
    "p_result_1, p_result_2, s_result_1, s_result_2"
   ]
  },
  {
   "cell_type": "code",
   "execution_count": 13,
   "metadata": {},
   "outputs": [
    {
     "name": "stderr",
     "output_type": "stream",
     "text": [
      "/var/folders/78/9z0b45fx1xqbwxh8vk97lcfh0000gn/T/ipykernel_80493/3207375201.py:4: UserWarning: [W007] The model you're using has no word vectors loaded, so the result of the Doc.similarity method will be based on the tagger, parser and NER, which may not give useful similarity judgements. This may happen if you're using one of the small models, e.g. `en_core_web_sm`, which don't ship with word vectors and only use context-sensitive tensors. You can always add your own word vectors, or use one of the larger models instead if available.\n",
      "  similarity = prediction_doc.similarity(observation_doc)\n"
     ]
    },
    {
     "data": {
      "text/plain": [
       "0.8370019197463989"
      ]
     },
     "execution_count": 13,
     "metadata": {},
     "output_type": "execute_result"
    }
   ],
   "source": [
    "prediction_doc = load_nlp_model(\"Apple's stock will rise by 10%..\")\n",
    "prediction_doc = load_nlp_model(\"Apple's stock rose by 10%.\")\n",
    "observation_doc = load_nlp_model(\"Apple's stock did not rise by 11%.\")\n",
    "similarity = prediction_doc.similarity(observation_doc)\n",
    "similarity"
   ]
  },
  {
   "cell_type": "code",
   "execution_count": 15,
   "metadata": {},
   "outputs": [],
   "source": [
    "# from math import*\n",
    "\n",
    "# def square_rooted(x):\n",
    "\n",
    "#     return round(sqrt(sum([a*a for a in x])),3)\n",
    "\n",
    "# def cosine_similarity(x,y):\n",
    "\n",
    "#     numerator = sum(a*b for a,b in zip(x,y))\n",
    "#     denominator = square_rooted(x)*square_rooted(y)\n",
    "#     return round(numerator/float(denominator),3)\n",
    "\n",
    "# cosine_similarity(pdv, odv)"
   ]
  },
  {
   "cell_type": "code",
   "execution_count": null,
   "metadata": {},
   "outputs": [
    {
     "name": "stderr",
     "output_type": "stream",
     "text": [
      "/var/folders/78/9z0b45fx1xqbwxh8vk97lcfh0000gn/T/ipykernel_80493/1590756390.py:6: UserWarning: [W007] The model you're using has no word vectors loaded, so the result of the Doc.similarity method will be based on the tagger, parser and NER, which may not give useful similarity judgements. This may happen if you're using one of the small models, e.g. `en_core_web_sm`, which don't ship with word vectors and only use context-sensitive tensors. You can always add your own word vectors, or use one of the larger models instead if available.\n",
      "  similarity = prediction_doc.similarity(observation_doc)\n"
     ]
    },
    {
     "data": {
      "text/plain": [
       "0.905285656452179"
      ]
     },
     "execution_count": 16,
     "metadata": {},
     "output_type": "execute_result"
    }
   ],
   "source": [
    "# Load on sentence and NOT only word\n",
    "prediction_doc = load_nlp_model(\"JP Morgan Chase\")\n",
    "observation_doc = load_nlp_model(\"Chase\")\n",
    "observation_doc_2 = load_nlp_model(\"11\")\n",
    "\n",
    "similarity = prediction_doc.similarity(observation_doc)\n",
    "similarity"
   ]
  },
  {
   "cell_type": "code",
   "execution_count": null,
   "metadata": {},
   "outputs": [],
   "source": [
    "similarity = prediction_doc.similarity(observation_doc_2)\n",
    "similarity"
   ]
  },
  {
   "cell_type": "code",
   "execution_count": null,
   "metadata": {},
   "outputs": [],
   "source": []
  },
  {
   "cell_type": "code",
   "execution_count": null,
   "metadata": {},
   "outputs": [],
   "source": [
    "from transformers import BertTokenizer\n",
    "\n",
    "# Load the BERT tokenizer\n",
    "tokenizer = BertTokenizer.from_pretrained('bert-base-uncased')\n",
    "\n",
    "# Example sentences\n",
    "sentence1 = \"Apple's stock rose by 10%.\"\n",
    "sentence2 = \"Apple's stock rose by 10.5%.\"\n",
    "\n",
    "# Tokenize the sentences\n",
    "tokens1 = tokenizer.tokenize(sentence1)\n",
    "tokens2 = tokenizer.tokenize(sentence2)\n",
    "\n",
    "# Add [CLS] and [SEP] tokens\n",
    "tokens = ['[CLS]'] + tokens1 + ['[SEP]'] + tokens2 + ['[SEP]']\n",
    "print(\"Token:\", tokens)\n",
    "\n",
    "# Convert tokens to input IDs\n",
    "input_ids = tokenizer.convert_tokens_to_ids(tokens)\n",
    "\n",
    "# Display the tokens and input IDs\n",
    "print(\"Input IDs:\", input_ids)\n",
    "\n",
    "from transformers import BertTokenizer, BertModel\n",
    "import torch\n",
    "from sklearn.metrics.pairwise import cosine_similarity\n",
    "\n",
    "# Load the BERT tokenizer and model\n",
    "tokenizer = BertTokenizer.from_pretrained('bert-base-uncased')\n",
    "model = BertModel.from_pretrained('bert-base-uncased')\n",
    "\n",
    "# Convert tokens to input IDs\n",
    "input_ids1 = torch.tensor(tokenizer.convert_tokens_to_ids(tokens1)).unsqueeze(0)  # Batch size 1\n",
    "input_ids2 = torch.tensor(tokenizer.convert_tokens_to_ids(tokens2)).unsqueeze(0)  # Batch size 1\n",
    "\n",
    "# Obtain the BERT embeddings\n",
    "with torch.no_grad():\n",
    "    outputs1 = model(input_ids1)\n",
    "    outputs2 = model(input_ids2)\n",
    "    embeddings1 = outputs1.last_hidden_state[:, 0, :]  # [CLS] token\n",
    "    embeddings2 = outputs2.last_hidden_state[:, 0, :]  # [CLS] token\n",
    "\n",
    "# Calculate similarity\n",
    "similarity_score = cosine_similarity(embeddings1, embeddings2)\n",
    "print(\"Similarity Score:\", similarity_score)"
   ]
  },
  {
   "cell_type": "code",
   "execution_count": null,
   "metadata": {},
   "outputs": [],
   "source": [
    "mappings = {\n",
    "    \"Prediction\": [\"I am predicting it will be sunny on 4 April 2025.\", \"Apple's stock will be rising by 10%.\", \"Apple's stock will be rising by 10%.\"],\n",
    "    \"Observation\": [\"It was sunny on 4 April 2025\", \"Apple's stock is rising by 900%.\",  \"Apple's stock rose by 900%.\"]\n",
    "}\n",
    "\n",
    "df = pd.DataFrame(mappings)\n",
    "df\n"
   ]
  },
  {
   "cell_type": "code",
   "execution_count": null,
   "metadata": {},
   "outputs": [],
   "source": [
    "pd.set_option('max_colwidth', 800)\n",
    "pd.set_option('display.max_columns', None)\n",
    "pd.set_option('display.max_rows', None)\n",
    "\n",
    "clean_data = PredictionDataCleaner(df)"
   ]
  },
  {
   "cell_type": "code",
   "execution_count": null,
   "metadata": {},
   "outputs": [],
   "source": [
    "updated_predictions_df = clean_data.lemmatize(col_name='Prediction', lem_col_name='Predictions Lem')\n",
    "updated_predictions_df"
   ]
  },
  {
   "cell_type": "code",
   "execution_count": null,
   "metadata": {},
   "outputs": [],
   "source": [
    "updated_observations_df = clean_data.lemmatize(col_name='Observation', lem_col_name='Observations Lem')\n",
    "updated_observations_df"
   ]
  },
  {
   "cell_type": "code",
   "execution_count": null,
   "metadata": {},
   "outputs": [],
   "source": [
    "lem_df = updated_predictions_df.merge(updated_observations_df)\n",
    "lem_df"
   ]
  },
  {
   "cell_type": "markdown",
   "metadata": {},
   "source": [
    "- Issues above are: \n",
    "\n",
    "    1. \"'s\" isn't joined to Apple\n",
    "    2. It doesn't consider \"will be rising\" as a single future tense phrase, thus breaks it up into words (with only one future tense word of \"rising\")"
   ]
  },
  {
   "cell_type": "code",
   "execution_count": null,
   "metadata": {},
   "outputs": [],
   "source": []
  },
  {
   "cell_type": "code",
   "execution_count": null,
   "metadata": {},
   "outputs": [],
   "source": [
    "import nltk\n",
    "nltk.download('wordnet')\n",
    "  \n",
    "from nltk.tokenize import word_tokenize\n",
    "from nltk.stem import WordNetLemmatizer\n",
    "\n",
    "lem = WordNetLemmatizer()"
   ]
  },
  {
   "cell_type": "code",
   "execution_count": null,
   "metadata": {},
   "outputs": [],
   "source": [
    "lem.lemmatize('predicting')"
   ]
  },
  {
   "cell_type": "code",
   "execution_count": null,
   "metadata": {},
   "outputs": [],
   "source": [
    "lem.lemmatize('rising')"
   ]
  },
  {
   "cell_type": "code",
   "execution_count": null,
   "metadata": {},
   "outputs": [],
   "source": [
    "lem.lemmatize('rocks')"
   ]
  },
  {
   "cell_type": "code",
   "execution_count": null,
   "metadata": {},
   "outputs": [],
   "source": [
    "import spacy\n",
    "\n",
    "nlp = spacy.load(\"en_core_web_sm\")\n",
    "doc = nlp(\"predicting, predicts, rising, rises, rocks, rose, will be rising, is rising by.\")\n",
    "doc = nlp(\"I am predicting it will be sunny on 4 April 2025.\")\n",
    "\n",
    "words_lemmas_list = [token.lemma_ for token in doc]\n",
    "print(words_lemmas_list)\n"
   ]
  },
  {
   "cell_type": "code",
   "execution_count": null,
   "metadata": {},
   "outputs": [],
   "source": []
  }
 ],
 "metadata": {
  "kernelspec": {
   "display_name": ".venv_predictions",
   "language": "python",
   "name": "python3"
  },
  "language_info": {
   "codemirror_mode": {
    "name": "ipython",
    "version": 3
   },
   "file_extension": ".py",
   "mimetype": "text/x-python",
   "name": "python",
   "nbconvert_exporter": "python",
   "pygments_lexer": "ipython3",
   "version": "3.11.12"
  }
 },
 "nbformat": 4,
 "nbformat_minor": 2
}
