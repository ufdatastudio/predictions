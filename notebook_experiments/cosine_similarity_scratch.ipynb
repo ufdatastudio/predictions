{
 "cells": [
  {
   "cell_type": "markdown",
   "id": "4d4bb1a0",
   "metadata": {},
   "source": [
    "# Cosine Similarity"
   ]
  },
  {
   "cell_type": "code",
   "execution_count": 1,
   "id": "a525bec6",
   "metadata": {},
   "outputs": [],
   "source": [
    "import pandas as pd"
   ]
  },
  {
   "cell_type": "code",
   "execution_count": 2,
   "id": "fa753cb7",
   "metadata": {},
   "outputs": [
    {
     "data": {
      "text/html": [
       "<div>\n",
       "<style scoped>\n",
       "    .dataframe tbody tr th:only-of-type {\n",
       "        vertical-align: middle;\n",
       "    }\n",
       "\n",
       "    .dataframe tbody tr th {\n",
       "        vertical-align: top;\n",
       "    }\n",
       "\n",
       "    .dataframe thead th {\n",
       "        text-align: right;\n",
       "    }\n",
       "</style>\n",
       "<table border=\"1\" class=\"dataframe\">\n",
       "  <thead>\n",
       "    <tr style=\"text-align: right;\">\n",
       "      <th></th>\n",
       "      <th>word</th>\n",
       "      <th>pie</th>\n",
       "      <th>data</th>\n",
       "      <th>computer</th>\n",
       "    </tr>\n",
       "  </thead>\n",
       "  <tbody>\n",
       "    <tr>\n",
       "      <th>0</th>\n",
       "      <td>cherry</td>\n",
       "      <td>442</td>\n",
       "      <td>8</td>\n",
       "      <td>2</td>\n",
       "    </tr>\n",
       "    <tr>\n",
       "      <th>1</th>\n",
       "      <td>digital</td>\n",
       "      <td>5</td>\n",
       "      <td>1683</td>\n",
       "      <td>1670</td>\n",
       "    </tr>\n",
       "    <tr>\n",
       "      <th>2</th>\n",
       "      <td>information</td>\n",
       "      <td>5</td>\n",
       "      <td>3982</td>\n",
       "      <td>3325</td>\n",
       "    </tr>\n",
       "  </tbody>\n",
       "</table>\n",
       "</div>"
      ],
      "text/plain": [
       "          word  pie  data  computer\n",
       "0       cherry  442     8         2\n",
       "1      digital    5  1683      1670\n",
       "2  information    5  3982      3325"
      ]
     },
     "execution_count": 2,
     "metadata": {},
     "output_type": "execute_result"
    }
   ],
   "source": [
    "col_names = ['word', 'pie', 'data', 'computer']\n",
    "df = pd.DataFrame(columns=col_names)\n",
    "df['word'] = ['cherry', 'digital', 'information']\n",
    "df['pie'] = [442, 5, 5]\n",
    "df['data'] = [8, 1683, 3982]\n",
    "df['computer'] = [2, 1670, 3325]\n",
    "df"
   ]
  },
  {
   "cell_type": "code",
   "execution_count": 27,
   "id": "5415ae3a",
   "metadata": {},
   "outputs": [],
   "source": [
    "def dot_product(v: list, w: list) -> float:\n",
    "    \"\"\"Computer the dot product between v and w\n",
    "    \n",
    "    Parameters:\n",
    "    -----------\n",
    "    v: `list`\n",
    "        Value for ...  \n",
    "    w: `list`\n",
    "        Value for ...   \n",
    "    N: `int`\n",
    "        Vocabulary size   \n",
    "    \"\"\"\n",
    "    N = len(v)\n",
    "\n",
    "    mults = []\n",
    "    for i in range(N):\n",
    "        v_i = v[i]\n",
    "        w_i = w[i]\n",
    "\n",
    "        dot_product = v_i * w_i\n",
    "        print(f\"{v_i} * {w_i} = {dot_product}\")\n",
    "        mults.append(dot_product)\n",
    "    \n",
    "    sum_all = sum(mults)\n",
    "    print(sum_all)        "
   ]
  },
  {
   "cell_type": "code",
   "execution_count": 28,
   "id": "406aa853",
   "metadata": {},
   "outputs": [
    {
     "name": "stdout",
     "output_type": "stream",
     "text": [
      "1 * 2 = 2\n",
      "1 * 2 = 2\n",
      "1 * 2 = 2\n",
      "6\n"
     ]
    }
   ],
   "source": [
    "dot_product(v=[1, 1, 1], w=[2, 2, 2])"
   ]
  },
  {
   "cell_type": "markdown",
   "id": "d37a99c1",
   "metadata": {},
   "source": [
    "# References\n",
    "\n",
    "1. BOOK: [Vector Semantics and Embeddings](https://web.stanford.edu/~jurafsky/slp3/) "
   ]
  },
  {
   "cell_type": "markdown",
   "id": "2212805c",
   "metadata": {},
   "source": []
  }
 ],
 "metadata": {
  "kernelspec": {
   "display_name": ".venv_predictions",
   "language": "python",
   "name": "python3"
  },
  "language_info": {
   "codemirror_mode": {
    "name": "ipython",
    "version": 3
   },
   "file_extension": ".py",
   "mimetype": "text/x-python",
   "name": "python",
   "nbconvert_exporter": "python",
   "pygments_lexer": "ipython3",
   "version": "3.11.12"
  }
 },
 "nbformat": 4,
 "nbformat_minor": 5
}
