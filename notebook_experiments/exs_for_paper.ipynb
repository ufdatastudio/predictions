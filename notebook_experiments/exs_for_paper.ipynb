{
 "cells": [
  {
   "cell_type": "markdown",
   "metadata": {},
   "source": [
    "# Examples for Paper\n",
    "\n",
    "- Update so I can enter a single sentence and I'll get POS or NER. For now, can use https://parts-of-speech.info/"
   ]
  },
  {
   "cell_type": "code",
   "execution_count": 1,
   "metadata": {},
   "outputs": [
    {
     "name": "stderr",
     "output_type": "stream",
     "text": [
      "/apps/jupyterhub/3.1.1/lib/python3.11/site-packages/torch/cuda/__init__.py:654: UserWarning: Can't initialize NVML\n",
      "  warnings.warn(\"Can't initialize NVML\")\n"
     ]
    }
   ],
   "source": [
    "import os\n",
    "import sys\n",
    "\n",
    "import pandas as pd\n",
    "\n",
    "from spacy import displacy\n",
    "from IPython.display import Image\n",
    "\n",
    "# Get the current working directory of the notebook\n",
    "notebook_dir = os.getcwd()\n",
    "# Add the parent directory to the system path\n",
    "sys.path.append(os.path.join(notebook_dir, '../'))\n",
    "\n",
    "from data_processing import DataProcessing\n",
    "from feature_extraction import TfidfFeatureExtraction, SpacyFeatureExtraction"
   ]
  },
  {
   "cell_type": "code",
   "execution_count": 2,
   "metadata": {},
   "outputs": [],
   "source": [
    "pd.set_option('max_colwidth', 800)\n",
    "pd.set_option('display.max_columns', None)\n",
    "pd.set_option('display.max_rows', None)"
   ]
  },
  {
   "cell_type": "markdown",
   "metadata": {},
   "source": [
    "## Example in Introduction"
   ]
  },
  {
   "cell_type": "code",
   "execution_count": 3,
   "metadata": {},
   "outputs": [],
   "source": [
    "colors = {\n",
    "    \"Person\": \"#fc9ce7\",\n",
    "    \"Organization\": \"#fad0c4\",\n",
    "    \"Word\": \"#08e76d\",\n",
    "    \"Exact Time\": \"#a6c1ee\",\n",
    "    \"Forecast Time\": \"#fcb69f\",\n",
    "    \"Attribute\": \"#c2e9fb\",\n",
    "    \"Verb\": \"#f9e24f\",\n",
    "    \"Metric\": \"#ffb214\",\n",
    "    \"Slope\": \"#21f7f6\",\n",
    "    \"Location\": \"#61040c\"\n",
    "}"
   ]
  },
  {
   "cell_type": "code",
   "execution_count": 4,
   "metadata": {},
   "outputs": [],
   "source": [
    "def create_visualization(text, entities, title, colors):\n",
    "    doc_data = {\n",
    "        \"text\": text,\n",
    "        \"ents\": entities,\n",
    "        # \"title\": title\n",
    "    }\n",
    "\n",
    "    options = {\"colors\": colors}\n",
    "\n",
    "    # Render the visualization\n",
    "    html = displacy.render(doc_data, style=\"ent\", manual=True, jupyter=True, options=options)"
   ]
  },
  {
   "cell_type": "code",
   "execution_count": 5,
   "metadata": {},
   "outputs": [],
   "source": [
    "text = \"obesity\"\n"
   ]
  },
  {
   "cell_type": "code",
   "execution_count": 6,
   "metadata": {},
   "outputs": [],
   "source": [
    "# # Your text and custom entities\n",
    "# text = \"According to David Harper from Weather Underground, on Fri, August 9, 2024, the air quality index in Los Angeles is likely to improve by 20% in the time frame of 21 Aug 2024.\"\n",
    "# entities = [\n",
    "#     {\"start\": 12, \"end\": 26, \"label\": \"Person\"},\n",
    "#     {\"start\": 30, \"end\": 50, \"label\": \"Organization\"},\n",
    "#     {\"start\": 55, \"end\": 74, \"label\": \"Exact Time\"},\n",
    "#     {\"start\": 79, \"end\": 97, \"label\": \"Attribute\"},\n",
    "#     {\"start\": 100, \"end\": 112, \"label\": \"Location\"},\n",
    "#     {\"start\": 113, \"end\": 123, \"label\": \"Verb\"},\n",
    "#     {\"start\": 126, \"end\": 134, \"label\": \"Slope\"},\n",
    "#     {\"start\": 136, \"end\": 140, \"label\": \"Metric\"},\n",
    "#     {\"start\": 161, \"end\": 173, \"label\": \"Forecast Time\"}\n",
    "# ]\n",
    "# create_visualization(text, entities, colors)"
   ]
  },
  {
   "cell_type": "code",
   "execution_count": 7,
   "metadata": {},
   "outputs": [
    {
     "data": {
      "text/html": [
       "<span class=\"tex2jax_ignore\"><div class=\"entities\" style=\"line-height: 2.5; direction: ltr\">\n",
       "<mark class=\"entity\" style=\"background: #fc9ce7; padding: 0.45em 0.6em; margin: 0 0.25em; line-height: 1; border-radius: 0.35em;\">\n",
       "    A trusted expert\n",
       "    <span style=\"font-size: 0.8em; font-weight: bold; line-height: 1; border-radius: 0.35em; vertical-align: middle; margin-left: 0.5rem\">Person</span>\n",
       "</mark>\n",
       " \n",
       "<mark class=\"entity\" style=\"background: #08e76d; padding: 0.45em 0.6em; margin: 0 0.25em; line-height: 1; border-radius: 0.35em;\">\n",
       "    speculates\n",
       "    <span style=\"font-size: 0.8em; font-weight: bold; line-height: 1; border-radius: 0.35em; vertical-align: middle; margin-left: 0.5rem\">Word</span>\n",
       "</mark>\n",
       " on \n",
       "<mark class=\"entity\" style=\"background: #a6c1ee; padding: 0.45em 0.6em; margin: 0 0.25em; line-height: 1; border-radius: 0.35em;\">\n",
       "    23 October 2024\n",
       "    <span style=\"font-size: 0.8em; font-weight: bold; line-height: 1; border-radius: 0.35em; vertical-align: middle; margin-left: 0.5rem\">Exact Time</span>\n",
       "</mark>\n",
       " that the\n",
       "<mark class=\"entity\" style=\"background: #c2e9fb; padding: 0.45em 0.6em; margin: 0 0.25em; line-height: 1; border-radius: 0.35em;\">\n",
       "     global vaccination rate for measles \n",
       "    <span style=\"font-size: 0.8em; font-weight: bold; line-height: 1; border-radius: 0.35em; vertical-align: middle; margin-left: 0.5rem\">Attribute</span>\n",
       "</mark>\n",
       "in the \n",
       "<mark class=\"entity\" style=\"background: #fad0c4; padding: 0.45em 0.6em; margin: 0 0.25em; line-height: 1; border-radius: 0.35em;\">\n",
       "    US\n",
       "    <span style=\"font-size: 0.8em; font-weight: bold; line-height: 1; border-radius: 0.35em; vertical-align: middle; margin-left: 0.5rem\">Organization</span>\n",
       "</mark>\n",
       " \n",
       "<mark class=\"entity\" style=\"background: #f9e24f; padding: 0.45em 0.6em; margin: 0 0.25em; line-height: 1; border-radius: 0.35em;\">\n",
       "    should \n",
       "    <span style=\"font-size: 0.8em; font-weight: bold; line-height: 1; border-radius: 0.35em; vertical-align: middle; margin-left: 0.5rem\">Verb</span>\n",
       "</mark>\n",
       "\n",
       "<mark class=\"entity\" style=\"background: #21f7f6; padding: 0.45em 0.6em; margin: 0 0.25em; line-height: 1; border-radius: 0.35em;\">\n",
       "    stay stable \n",
       "    <span style=\"font-size: 0.8em; font-weight: bold; line-height: 1; border-radius: 0.35em; vertical-align: middle; margin-left: 0.5rem\">Slope</span>\n",
       "</mark>\n",
       "at \n",
       "<mark class=\"entity\" style=\"background: #ffb214; padding: 0.45em 0.6em; margin: 0 0.25em; line-height: 1; border-radius: 0.35em;\">\n",
       "    100K people \n",
       "    <span style=\"font-size: 0.8em; font-weight: bold; line-height: 1; border-radius: 0.35em; vertical-align: middle; margin-left: 0.5rem\">Metric</span>\n",
       "</mark>\n",
       "in \n",
       "<mark class=\"entity\" style=\"background: #fcb69f; padding: 0.45em 0.6em; margin: 0 0.25em; line-height: 1; border-radius: 0.35em;\">\n",
       "    2027 Quarter 4\n",
       "    <span style=\"font-size: 0.8em; font-weight: bold; line-height: 1; border-radius: 0.35em; vertical-align: middle; margin-left: 0.5rem\">Forecast Time</span>\n",
       "</mark>\n",
       ".</div></span>"
      ],
      "text/plain": [
       "<IPython.core.display.HTML object>"
      ]
     },
     "metadata": {},
     "output_type": "display_data"
    }
   ],
   "source": [
    "title = \"Health Prediction Example\"\n",
    "text = \"A trusted expert speculates on 23 October 2024 that the global vaccination rate for measles in the US should stay stable at 100K people in 2027 Quarter 4.\"\n",
    "entities = [\n",
    "    {\"start\": 0, \"end\": 16, \"label\": \"Person\"},\n",
    "    {\"start\": 17, \"end\": 27, \"label\": \"Word\"},\n",
    "    {\"start\": 31, \"end\": 46, \"label\": \"Exact Time\"},\n",
    "    {\"start\": 55, \"end\": 92, \"label\": \"Attribute\"},\n",
    "    {\"start\": 99, \"end\": 101, \"label\": \"Organization\"},\n",
    "    {\"start\": 102, \"end\": 109, \"label\": \"Verb\"},\n",
    "    {\"start\": 109, \"end\": 121, \"label\": \"Slope\"},\n",
    "    {\"start\": 124, \"end\": 136, \"label\": \"Metric\"},\n",
    "    {\"start\": 139, \"end\": 153, \"label\": \"Forecast Time\"}\n",
    "]\n",
    "\n",
    "create_visualization(text, entities, title, colors)\n",
    "\n",
    "# [A trusted expert] [speculates] on [23 October 2024] that the [global vaccination rate for measles] in the [US] [should] [stay stable] at [100K people] in [2027 Quarter 4]."
   ]
  },
  {
   "cell_type": "markdown",
   "metadata": {},
   "source": [
    "## Example in Comprehensive Text Corpus"
   ]
  },
  {
   "cell_type": "code",
   "execution_count": 8,
   "metadata": {},
   "outputs": [],
   "source": [
    "colors = {\n",
    "    \"Prediction Source\": \"#fc9ce7\",\n",
    "    \"Prediction Target\": \"#fad0c4\",\n",
    "    \"Prediction Date\": \"#08e76d\",\n",
    "    \"Prediction Outcome\": \"#a6c1ee\",\n",
    "}\n"
   ]
  },
  {
   "cell_type": "code",
   "execution_count": 18,
   "metadata": {},
   "outputs": [],
   "source": [
    "def create_visualization(text, entities, title, colors):\n",
    "    doc_data = {\n",
    "        \"text\": text,\n",
    "        \"ents\": entities,\n",
    "        # \"title\": title\n",
    "    }\n",
    "\n",
    "    options = {\"ents\": list(colors.keys()), \"colors\": colors}\n",
    "\n",
    "    # Render the visualization\n",
    "    html = displacy.render(doc_data, style=\"ent\", manual=True, jupyter=True, options=options)"
   ]
  },
  {
   "cell_type": "code",
   "execution_count": 19,
   "metadata": {},
   "outputs": [],
   "source": [
    "# Do the below for POS"
   ]
  },
  {
   "cell_type": "code",
   "execution_count": 21,
   "metadata": {},
   "outputs": [
    {
     "data": {
      "text/html": [
       "<span class=\"tex2jax_ignore\"><div class=\"entities\" style=\"line-height: 2.5; direction: ltr\">On [ $p_t$ ], [ $p_p$ ] [ $p_w$ ] that the [ $p_a$ ] at [ $p_o$ ] [ $p_v$ ] [ $p_s$ ] by [ $p_m$ ] in [ $p_f$ ].</div></span>"
      ],
      "text/plain": [
       "<IPython.core.display.HTML object>"
      ]
     },
     "metadata": {},
     "output_type": "display_data"
    },
    {
     "name": "stdout",
     "output_type": "stream",
     "text": [
      "\n",
      "\n",
      "\n"
     ]
    },
    {
     "data": {
      "text/html": [
       "<span class=\"tex2jax_ignore\"><div class=\"entities\" style=\"line-height: 2.5; direction: ltr\">On \n",
       "<mark class=\"entity\" style=\"background: #08e76d; padding: 0.45em 0.6em; margin: 0 0.25em; line-height: 1; border-radius: 0.35em;\">\n",
       "    Sunday, 20 April 2025\n",
       "    <span style=\"font-size: 0.8em; font-weight: bold; line-height: 1; border-radius: 0.35em; vertical-align: middle; margin-left: 0.5rem\">Prediction Date</span>\n",
       "</mark>\n",
       ", \n",
       "<mark class=\"entity\" style=\"background: #fc9ce7; padding: 0.45em 0.6em; margin: 0 0.25em; line-height: 1; border-radius: 0.35em;\">\n",
       "    Detravious, an investor forecasts\n",
       "    <span style=\"font-size: 0.8em; font-weight: bold; line-height: 1; border-radius: 0.35em; vertical-align: middle; margin-left: 0.5rem\">Prediction Source</span>\n",
       "</mark>\n",
       " that the \n",
       "<mark class=\"entity\" style=\"background: #a6c1ee; padding: 0.45em 0.6em; margin: 0 0.25em; line-height: 1; border-radius: 0.35em;\">\n",
       "    stock price\n",
       "    <span style=\"font-size: 0.8em; font-weight: bold; line-height: 1; border-radius: 0.35em; vertical-align: middle; margin-left: 0.5rem\">Prediction Outcome</span>\n",
       "</mark>\n",
       " at \n",
       "<mark class=\"entity\" style=\"background: #fad0c4; padding: 0.45em 0.6em; margin: 0 0.25em; line-height: 1; border-radius: 0.35em;\">\n",
       "    Apple\n",
       "    <span style=\"font-size: 0.8em; font-weight: bold; line-height: 1; border-radius: 0.35em; vertical-align: middle; margin-left: 0.5rem\">Prediction Target</span>\n",
       "</mark>\n",
       " will likely \n",
       "<mark class=\"entity\" style=\"background: #a6c1ee; padding: 0.45em 0.6em; margin: 0 0.25em; line-height: 1; border-radius: 0.35em;\">\n",
       "    increase by 5 percent \n",
       "    <span style=\"font-size: 0.8em; font-weight: bold; line-height: 1; border-radius: 0.35em; vertical-align: middle; margin-left: 0.5rem\">Prediction Outcome</span>\n",
       "</mark>\n",
       "in \n",
       "<mark class=\"entity\" style=\"background: #08e76d; padding: 0.45em 0.6em; margin: 0 0.25em; line-height: 1; border-radius: 0.35em;\">\n",
       "    Q4 of 2025\n",
       "    <span style=\"font-size: 0.8em; font-weight: bold; line-height: 1; border-radius: 0.35em; vertical-align: middle; margin-left: 0.5rem\">Prediction Date</span>\n",
       "</mark>\n",
       ".</div></span>"
      ],
      "text/plain": [
       "<IPython.core.display.HTML object>"
      ]
     },
     "metadata": {},
     "output_type": "display_data"
    },
    {
     "name": "stdout",
     "output_type": "stream",
     "text": [
      "\n",
      "\n",
      "\n"
     ]
    }
   ],
   "source": [
    "# title = \"Financial Prediction Template 1\"\n",
    "text = \"On [ $p_t$ ], [ $p_p$ ] [ $p_w$ ] that the [ $p_a$ ] at [ $p_o$ ] [ $p_v$ ] [ $p_s$ ] by [ $p_m$ ] in [ $p_f$ ].\"\n",
    "entities = [\n",
    "    {\"start\": 3, \"end\": 12, \"label\": \"p_t\"},\n",
    "    {\"start\": 14, \"end\": 23, \"label\": \"p_p\"},\n",
    "    {\"start\": 24, \"end\": 33, \"label\": \"p_w\"},\n",
    "    {\"start\": 43, \"end\": 53, \"label\": \"p_a\"},\n",
    "    {\"start\": 55, \"end\": 65, \"label\": \"p_o\"},\n",
    "    {\"start\": 66, \"end\": 76, \"label\": \"p_v\"},\n",
    "    {\"start\": 76, \"end\": 86, \"label\": \"p_s\"},\n",
    "    {\"start\": 89, \"end\": 99, \"label\": \"p_m\"},\n",
    "    {\"start\": 102, \"end\": 111, \"label\": \"p_f\"}\n",
    "]\n",
    "create_visualization(text, entities, title, colors)\n",
    "print()\n",
    "print()\n",
    "print()\n",
    "# title = \"Financial Prediction Example\"\n",
    "\n",
    "text = \"On Sunday, 20 April 2025, Detravious, an investor forecasts that the stock price at Apple will likely increase by 5 percent in Q4 of 2025.\"\n",
    "entities = [\n",
    "    {\"start\": 3, \"end\": 24, \"label\": \"Prediction Date\"},\n",
    "    {\"start\": 26, \"end\": 59, \"label\": \"Prediction Source\"},\n",
    "    {\"start\": 69, \"end\": 80, \"label\": \"Prediction Outcome\"},\n",
    "    {\"start\": 84, \"end\": 89, \"label\": \"Prediction Target\"},\n",
    "    {\"start\": 102, \"end\": 124, \"label\": \"Prediction Outcome\"},\n",
    "    {\"start\": 127, \"end\": 137, \"label\": \"Prediction Date\"}\n",
    "]\n",
    "\n",
    "create_visualization(text, entities, title, colors)\n",
    "print()\n",
    "print()\n",
    "print()"
   ]
  },
  {
   "cell_type": "code",
   "execution_count": 12,
   "metadata": {},
   "outputs": [
    {
     "data": {
      "text/html": [
       "<div>\n",
       "<style scoped>\n",
       "    .dataframe tbody tr th:only-of-type {\n",
       "        vertical-align: middle;\n",
       "    }\n",
       "\n",
       "    .dataframe tbody tr th {\n",
       "        vertical-align: top;\n",
       "    }\n",
       "\n",
       "    .dataframe thead th {\n",
       "        text-align: right;\n",
       "    }\n",
       "</style>\n",
       "<table border=\"1\" class=\"dataframe\">\n",
       "  <thead>\n",
       "    <tr style=\"text-align: right;\">\n",
       "      <th></th>\n",
       "      <th>Base Sentence</th>\n",
       "      <th>Sentence Label</th>\n",
       "    </tr>\n",
       "  </thead>\n",
       "  <tbody>\n",
       "    <tr>\n",
       "      <th>0</th>\n",
       "      <td>On Monday, December 16, 2024, Detravious, an investor forecasts that the revenue at Apple will likely increase by 5 percent to $20 billion in 2025 Q1.</td>\n",
       "      <td>1</td>\n",
       "    </tr>\n",
       "  </tbody>\n",
       "</table>\n",
       "</div>"
      ],
      "text/plain": [
       "                                                                                                                                            Base Sentence  \\\n",
       "0  On Monday, December 16, 2024, Detravious, an investor forecasts that the revenue at Apple will likely increase by 5 percent to $20 billion in 2025 Q1.   \n",
       "\n",
       "   Sentence Label  \n",
       "0               1  "
      ]
     },
     "execution_count": 12,
     "metadata": {},
     "output_type": "execute_result"
    }
   ],
   "source": [
    "ex_text = \"On Monday, December 16, 2024, Detravious, an investor forecasts that the revenue at Apple will likely increase by 5 percent to $20 billion in 2025 Q1.\"\n",
    "label = 1\n",
    "ex_df = pd.DataFrame([ex_text], columns=[\"Base Sentence\"])\n",
    "ex_df[\"Sentence Label\"] = label\n",
    "ex_df"
   ]
  },
  {
   "cell_type": "code",
   "execution_count": 13,
   "metadata": {},
   "outputs": [
    {
     "data": {
      "text/plain": [
       "<Compressed Sparse Row sparse matrix of dtype 'float64'\n",
       "\twith 25 stored elements and shape (1, 25)>"
      ]
     },
     "execution_count": 13,
     "metadata": {},
     "output_type": "execute_result"
    }
   ],
   "source": [
    "max_features = None\n",
    "\n",
    "tf_idf_feature_extractor = TfidfFeatureExtraction(ex_df, 'Base Sentence')\n",
    "tfidf_vectorized_features = tf_idf_feature_extractor.word_feature_extraction(max_features)\n",
    "tfidf_vectorized_features"
   ]
  },
  {
   "cell_type": "code",
   "execution_count": 14,
   "metadata": {},
   "outputs": [],
   "source": [
    "# tfidf_vectorized_features_df = tf_idf_feature_extractor.feature_scores(max_features)\n",
    "# tfidf_vectorized_features_df"
   ]
  },
  {
   "cell_type": "code",
   "execution_count": 15,
   "metadata": {},
   "outputs": [
    {
     "data": {
      "text/plain": [
       "<feature_extraction.SpacyFeatureExtraction at 0x14b2ae6221d0>"
      ]
     },
     "execution_count": 15,
     "metadata": {},
     "output_type": "execute_result"
    }
   ],
   "source": [
    "# initialize the spacy model\n",
    "spacy_feature_extractor = SpacyFeatureExtraction(ex_df, 'Base Sentence')\n",
    "spacy_feature_extractor"
   ]
  },
  {
   "cell_type": "code",
   "execution_count": 16,
   "metadata": {},
   "outputs": [
    {
     "data": {
      "text/plain": [
       "['On Monday, December 16, 2024, Detravious, an investor forecasts that the\\xa0revenue at Apple will likely increase by 5 percent to $20 billion\\xa0in\\xa02025 Q1.']"
      ]
     },
     "execution_count": 16,
     "metadata": {},
     "output_type": "execute_result"
    }
   ],
   "source": [
    "only_predictions = DataProcessing.df_to_list(ex_df, 'Base Sentence')\n",
    "only_predictions"
   ]
  },
  {
   "cell_type": "code",
   "execution_count": 17,
   "metadata": {},
   "outputs": [
    {
     "ename": "AttributeError",
     "evalue": "'SpacyFeatureExtraction' object has no attribute 'extract_entities'",
     "output_type": "error",
     "traceback": [
      "\u001b[0;31m---------------------------------------------------------------------------\u001b[0m",
      "\u001b[0;31mAttributeError\u001b[0m                            Traceback (most recent call last)",
      "Cell \u001b[0;32mIn[17], line 2\u001b[0m\n\u001b[1;32m      1\u001b[0m word_leveL_disable_components \u001b[38;5;241m=\u001b[39m [\u001b[38;5;124m\"\u001b[39m\u001b[38;5;124mlemmatizer\u001b[39m\u001b[38;5;124m\"\u001b[39m]\n\u001b[0;32m----> 2\u001b[0m word_level_pos_tags, word_level_pos_mappings, word_level_ner_entities, word_level_ner_mappings \u001b[38;5;241m=\u001b[39m \u001b[43mspacy_feature_extractor\u001b[49m\u001b[38;5;241;43m.\u001b[39;49m\u001b[43mextract_entities\u001b[49m(only_predictions, word_leveL_disable_components, visualize\u001b[38;5;241m=\u001b[39m\u001b[38;5;28;01mTrue\u001b[39;00m)\n",
      "\u001b[0;31mAttributeError\u001b[0m: 'SpacyFeatureExtraction' object has no attribute 'extract_entities'"
     ]
    }
   ],
   "source": [
    "word_leveL_disable_components = [\"lemmatizer\"]\n",
    "word_level_pos_tags, word_level_pos_mappings, word_level_ner_entities, word_level_ner_mappings = spacy_feature_extractor.extract_entities(only_predictions, word_leveL_disable_components, visualize=True)"
   ]
  },
  {
   "cell_type": "code",
   "execution_count": null,
   "metadata": {},
   "outputs": [],
   "source": [
    "all_word_level_pos_df = DataProcessing.convert_to_df(word_level_pos_tags, mapping=word_level_pos_mappings)\n",
    "all_word_level_pos_df"
   ]
  },
  {
   "cell_type": "code",
   "execution_count": null,
   "metadata": {},
   "outputs": [],
   "source": [
    "all_word_level_ner_df = DataProcessing.convert_to_df(word_level_ner_entities, word_level_ner_mappings)\n",
    "all_word_level_ner_df"
   ]
  },
  {
   "cell_type": "code",
   "execution_count": null,
   "metadata": {},
   "outputs": [],
   "source": [
    "# word_level_tags_entities = [all_word_level_pos_df, all_word_level_ner_df]\n",
    "# word_level_tags_entities_df = DataProcessing.concat_dfs(word_level_tags_entities, axis=1, ignore_index=False)\n",
    "# word_level_tags_entities_df"
   ]
  },
  {
   "cell_type": "code",
   "execution_count": null,
   "metadata": {},
   "outputs": [],
   "source": [
    "# encoded_word_level_tags_entities_df = DataProcessing.encode_tags_entities_df(word_level_tags_entities_df, sentence_and_label_df=ex_df)\n",
    "# encoded_word_level_tags_entities_df"
   ]
  },
  {
   "cell_type": "code",
   "execution_count": null,
   "metadata": {},
   "outputs": [],
   "source": [
    "# import spacy\n",
    "# from spacy import displacy\n",
    "\n",
    "\n",
    "# nlp = spacy.load(\"en_core_web_sm\")\n",
    "# doc = nlp(ex_text)\n",
    "# displacy.serve(doc, style=\"ent\", auto_select_port=True)"
   ]
  },
  {
   "cell_type": "code",
   "execution_count": null,
   "metadata": {},
   "outputs": [],
   "source": []
  },
  {
   "cell_type": "markdown",
   "metadata": {},
   "source": [
    "## Non-paper example"
   ]
  },
  {
   "cell_type": "code",
   "execution_count": null,
   "metadata": {},
   "outputs": [],
   "source": [
    "import spacy\n",
    "from spacy import displacy\n",
    "\n",
    "# Load a blank model\n",
    "nlp = spacy.blank(\"en\")\n",
    "\n",
    "# Your text and custom entities\n",
    "text = \"My name is John Smith and I live in Paris\"\n",
    "entities = [\n",
    "    {\"start\": 11, \"end\": 21, \"label\": \"Person\"},\n",
    "    {\"start\": 36, \"end\": 41, \"label\": \"Location\"}\n",
    "]\n",
    "\n",
    "# Create a dictionary for displaCy\n",
    "doc_data = {\n",
    "    \"text\": text,\n",
    "    \"ents\": entities,\n",
    "    \"title\": None\n",
    "}\n",
    "\n",
    "# Render the visualization\n",
    "html = displacy.render(doc_data, style=\"ent\", manual=True, jupyter=True)\n"
   ]
  },
  {
   "cell_type": "code",
   "execution_count": null,
   "metadata": {},
   "outputs": [],
   "source": [
    "import spacy\n",
    "from spacy import displacy\n",
    "\n",
    "nlp = spacy.load(\"en_core_web_sm\")\n",
    "ex_text = \"On Monday, December 16, 2024, Detravious, an investor forecasts that the revenue at Apple should likely increase by 5 percent to $20 billion in 2025 Q1.\"\n",
    "\n",
    "doc = nlp(ex_text)\n",
    "sentence_spans = list(doc.sents)\n",
    "# displacy.serve(sentence_spans, style=\"dep\")\n",
    "html = displacy.render(sentence_spans, style=\"span\", jupyter=True)"
   ]
  },
  {
   "cell_type": "code",
   "execution_count": null,
   "metadata": {},
   "outputs": [],
   "source": []
  }
 ],
 "metadata": {
  "kernelspec": {
   "display_name": "Python 3 (ipykernel)",
   "language": "python",
   "name": "python3"
  },
  "language_info": {
   "codemirror_mode": {
    "name": "ipython",
    "version": 3
   },
   "file_extension": ".py",
   "mimetype": "text/x-python",
   "name": "python",
   "nbconvert_exporter": "python",
   "pygments_lexer": "ipython3",
   "version": "3.11.3"
  }
 },
 "nbformat": 4,
 "nbformat_minor": 4
}
