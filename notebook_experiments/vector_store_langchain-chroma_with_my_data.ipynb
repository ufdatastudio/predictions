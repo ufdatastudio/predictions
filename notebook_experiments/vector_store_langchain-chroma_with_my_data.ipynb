{
 "cells": [
  {
   "cell_type": "markdown",
   "id": "3c55bd95",
   "metadata": {},
   "source": [
    "# Top K with Vector Stores\n",
    "\n",
    "Tools:\n",
    "1. LangChain: standardize way to implement (set up, create, and query) multiple vector stores\n",
    "2. Vector Stores:\n",
    "    1. Chroma\n",
    "3. Embedding Models\n",
    "    1. HuggingFace\n",
    "\n",
    "[LangChain-Chroma](https://python.langchain.com/docs/integrations/vectorstores/chroma/)"
   ]
  },
  {
   "cell_type": "code",
   "execution_count": 1,
   "id": "40f7a3b2",
   "metadata": {},
   "outputs": [],
   "source": [
    "import os\n",
    "import sys\n",
    "\n",
    "import pandas as pd\n",
    "\n",
    "from tqdm import tqdm\n",
    "from uuid import uuid4\n",
    "\n",
    "from langchain_chroma import Chroma\n",
    "from langchain_huggingface import HuggingFaceEmbeddings\n",
    "\n",
    "from langchain_core.documents import Document\n",
    "\n",
    "# Get the current working directory of the notebook\n",
    "notebook_dir = os.getcwd()\n",
    "# Add the parent directory to the system path\n",
    "sys.path.append(os.path.join(notebook_dir, '../'))\n",
    "\n",
    "import log_files\n",
    "from data_processing import DataProcessing"
   ]
  },
  {
   "cell_type": "code",
   "execution_count": 2,
   "id": "00c842ae",
   "metadata": {},
   "outputs": [],
   "source": [
    "pd.set_option('max_colwidth', 800)\n",
    "pd.set_option('display.max_columns', None)\n",
    "pd.set_option('display.max_rows', None)"
   ]
  },
  {
   "cell_type": "markdown",
   "id": "1ceb9510",
   "metadata": {},
   "source": [
    "## Load Prediction and Observations Data"
   ]
  },
  {
   "cell_type": "code",
   "execution_count": 3,
   "id": "4f8bc549",
   "metadata": {},
   "outputs": [
    {
     "name": "stdout",
     "output_type": "stream",
     "text": [
      "Start logging batch\n",
      "log_directory: /Users/detraviousjamaribrinkley/Documents/Development/research_labs/uf_ds/predictions/notebook_experiments/../data/prediction_logs\n",
      "save_batch_directory: /Users/detraviousjamaribrinkley/Documents/Development/research_labs/uf_ds/predictions/notebook_experiments/../data/prediction_logs/batch_1-prediction\n",
      "CSV to DF\n",
      "Load saved csv: /Users/detraviousjamaribrinkley/Documents/Development/research_labs/uf_ds/predictions/notebook_experiments/../data/prediction_logs/batch_1-prediction/batch_1-from_df.csv\n",
      "save_batch_directory: /Users/detraviousjamaribrinkley/Documents/Development/research_labs/uf_ds/predictions/notebook_experiments/../data/prediction_logs/batch_2-prediction\n",
      "CSV to DF\n",
      "Load saved csv: /Users/detraviousjamaribrinkley/Documents/Development/research_labs/uf_ds/predictions/notebook_experiments/../data/prediction_logs/batch_2-prediction/batch_2-from_df.csv\n",
      "save_batch_directory: /Users/detraviousjamaribrinkley/Documents/Development/research_labs/uf_ds/predictions/notebook_experiments/../data/prediction_logs/batch_3-prediction\n",
      "CSV to DF\n",
      "Load saved csv: /Users/detraviousjamaribrinkley/Documents/Development/research_labs/uf_ds/predictions/notebook_experiments/../data/prediction_logs/batch_3-prediction/batch_3-from_df.csv\n",
      "save_batch_directory: /Users/detraviousjamaribrinkley/Documents/Development/research_labs/uf_ds/predictions/notebook_experiments/../data/prediction_logs/batch_4-prediction\n",
      "CSV to DF\n",
      "Load saved csv: /Users/detraviousjamaribrinkley/Documents/Development/research_labs/uf_ds/predictions/notebook_experiments/../data/prediction_logs/batch_4-prediction/batch_4-from_df.csv\n",
      "save_batch_directory: /Users/detraviousjamaribrinkley/Documents/Development/research_labs/uf_ds/predictions/notebook_experiments/../data/prediction_logs/batch_5-prediction\n",
      "CSV to DF\n",
      "Load saved csv: /Users/detraviousjamaribrinkley/Documents/Development/research_labs/uf_ds/predictions/notebook_experiments/../data/prediction_logs/batch_5-prediction/batch_5-from_df.csv\n",
      "save_batch_directory: /Users/detraviousjamaribrinkley/Documents/Development/research_labs/uf_ds/predictions/notebook_experiments/../data/prediction_logs/batch_6-prediction\n",
      "CSV to DF\n",
      "Load saved csv: /Users/detraviousjamaribrinkley/Documents/Development/research_labs/uf_ds/predictions/notebook_experiments/../data/prediction_logs/batch_6-prediction/batch_6-from_df.csv\n",
      "save_batch_directory: /Users/detraviousjamaribrinkley/Documents/Development/research_labs/uf_ds/predictions/notebook_experiments/../data/prediction_logs/batch_7-prediction\n",
      "CSV to DF\n",
      "Load saved csv: /Users/detraviousjamaribrinkley/Documents/Development/research_labs/uf_ds/predictions/notebook_experiments/../data/prediction_logs/batch_7-prediction/batch_7-from_df.csv\n",
      "save_batch_directory: /Users/detraviousjamaribrinkley/Documents/Development/research_labs/uf_ds/predictions/notebook_experiments/../data/prediction_logs/batch_8-prediction\n",
      "CSV to DF\n",
      "Load saved csv: /Users/detraviousjamaribrinkley/Documents/Development/research_labs/uf_ds/predictions/notebook_experiments/../data/prediction_logs/batch_8-prediction/batch_8-from_df.csv\n",
      "save_batch_directory: /Users/detraviousjamaribrinkley/Documents/Development/research_labs/uf_ds/predictions/notebook_experiments/../data/prediction_logs/batch_9-prediction\n",
      "CSV to DF\n",
      "Load saved csv: /Users/detraviousjamaribrinkley/Documents/Development/research_labs/uf_ds/predictions/notebook_experiments/../data/prediction_logs/batch_9-prediction/batch_9-from_df.csv\n",
      "Start logging batch\n",
      "log_directory: /Users/detraviousjamaribrinkley/Documents/Development/research_labs/uf_ds/predictions/notebook_experiments/../data/observation_logs\n",
      "save_batch_directory: /Users/detraviousjamaribrinkley/Documents/Development/research_labs/uf_ds/predictions/notebook_experiments/../data/observation_logs/batch_1-observation\n",
      "CSV to DF\n",
      "Load saved csv: /Users/detraviousjamaribrinkley/Documents/Development/research_labs/uf_ds/predictions/notebook_experiments/../data/observation_logs/batch_1-observation/batch_1-from_df.csv\n",
      "save_batch_directory: /Users/detraviousjamaribrinkley/Documents/Development/research_labs/uf_ds/predictions/notebook_experiments/../data/observation_logs/batch_2-observation\n",
      "CSV to DF\n",
      "Load saved csv: /Users/detraviousjamaribrinkley/Documents/Development/research_labs/uf_ds/predictions/notebook_experiments/../data/observation_logs/batch_2-observation/batch_2-from_df.csv\n",
      "save_batch_directory: /Users/detraviousjamaribrinkley/Documents/Development/research_labs/uf_ds/predictions/notebook_experiments/../data/observation_logs/batch_3-observation\n",
      "CSV to DF\n",
      "Load saved csv: /Users/detraviousjamaribrinkley/Documents/Development/research_labs/uf_ds/predictions/notebook_experiments/../data/observation_logs/batch_3-observation/batch_3-from_df.csv\n",
      "save_batch_directory: /Users/detraviousjamaribrinkley/Documents/Development/research_labs/uf_ds/predictions/notebook_experiments/../data/observation_logs/batch_4-observation\n",
      "CSV to DF\n",
      "Load saved csv: /Users/detraviousjamaribrinkley/Documents/Development/research_labs/uf_ds/predictions/notebook_experiments/../data/observation_logs/batch_4-observation/batch_4-from_df.csv\n",
      "save_batch_directory: /Users/detraviousjamaribrinkley/Documents/Development/research_labs/uf_ds/predictions/notebook_experiments/../data/observation_logs/batch_5-observation\n",
      "CSV to DF\n",
      "Load saved csv: /Users/detraviousjamaribrinkley/Documents/Development/research_labs/uf_ds/predictions/notebook_experiments/../data/observation_logs/batch_5-observation/batch_5-from_df.csv\n",
      "save_batch_directory: /Users/detraviousjamaribrinkley/Documents/Development/research_labs/uf_ds/predictions/notebook_experiments/../data/observation_logs/batch_6-observation\n",
      "CSV to DF\n",
      "Load saved csv: /Users/detraviousjamaribrinkley/Documents/Development/research_labs/uf_ds/predictions/notebook_experiments/../data/observation_logs/batch_6-observation/batch_6-from_df.csv\n",
      "save_batch_directory: /Users/detraviousjamaribrinkley/Documents/Development/research_labs/uf_ds/predictions/notebook_experiments/../data/observation_logs/batch_7-observation\n",
      "CSV to DF\n",
      "Load saved csv: /Users/detraviousjamaribrinkley/Documents/Development/research_labs/uf_ds/predictions/notebook_experiments/../data/observation_logs/batch_7-observation/batch_7-from_df.csv\n",
      "save_batch_directory: /Users/detraviousjamaribrinkley/Documents/Development/research_labs/uf_ds/predictions/notebook_experiments/../data/observation_logs/batch_8-observation\n",
      "CSV to DF\n",
      "Load saved csv: /Users/detraviousjamaribrinkley/Documents/Development/research_labs/uf_ds/predictions/notebook_experiments/../data/observation_logs/batch_8-observation/batch_8-from_df.csv\n",
      "save_batch_directory: /Users/detraviousjamaribrinkley/Documents/Development/research_labs/uf_ds/predictions/notebook_experiments/../data/observation_logs/batch_9-observation\n",
      "CSV to DF\n",
      "Load saved csv: /Users/detraviousjamaribrinkley/Documents/Development/research_labs/uf_ds/predictions/notebook_experiments/../data/observation_logs/batch_9-observation/batch_9-from_df.csv\n",
      "save_batch_directory: /Users/detraviousjamaribrinkley/Documents/Development/research_labs/uf_ds/predictions/notebook_experiments/../data/observation_logs/batch_10-observation\n",
      "CSV to DF\n",
      "Load saved csv: /Users/detraviousjamaribrinkley/Documents/Development/research_labs/uf_ds/predictions/notebook_experiments/../data/observation_logs/batch_10-observation/batch_10-from_df.csv\n",
      "save_batch_directory: /Users/detraviousjamaribrinkley/Documents/Development/research_labs/uf_ds/predictions/notebook_experiments/../data/observation_logs/batch_11-observation\n",
      "CSV to DF\n",
      "Load saved csv: /Users/detraviousjamaribrinkley/Documents/Development/research_labs/uf_ds/predictions/notebook_experiments/../data/observation_logs/batch_11-observation/batch_11-from_df.csv\n",
      "save_batch_directory: /Users/detraviousjamaribrinkley/Documents/Development/research_labs/uf_ds/predictions/notebook_experiments/../data/observation_logs/batch_12-observation\n",
      "CSV to DF\n",
      "Load saved csv: /Users/detraviousjamaribrinkley/Documents/Development/research_labs/uf_ds/predictions/notebook_experiments/../data/observation_logs/batch_12-observation/batch_12-from_df.csv\n",
      "save_batch_directory: /Users/detraviousjamaribrinkley/Documents/Development/research_labs/uf_ds/predictions/notebook_experiments/../data/observation_logs/batch_13-observation\n",
      "CSV to DF\n",
      "Load saved csv: /Users/detraviousjamaribrinkley/Documents/Development/research_labs/uf_ds/predictions/notebook_experiments/../data/observation_logs/batch_13-observation/batch_13-from_df.csv\n",
      "save_batch_directory: /Users/detraviousjamaribrinkley/Documents/Development/research_labs/uf_ds/predictions/notebook_experiments/../data/observation_logs/batch_14-observation\n",
      "CSV to DF\n",
      "Load saved csv: /Users/detraviousjamaribrinkley/Documents/Development/research_labs/uf_ds/predictions/notebook_experiments/../data/observation_logs/batch_14-observation/batch_14-from_df.csv\n",
      "save_batch_directory: /Users/detraviousjamaribrinkley/Documents/Development/research_labs/uf_ds/predictions/notebook_experiments/../data/observation_logs/batch_15-observation\n",
      "CSV to DF\n",
      "Load saved csv: /Users/detraviousjamaribrinkley/Documents/Development/research_labs/uf_ds/predictions/notebook_experiments/../data/observation_logs/batch_15-observation/batch_15-from_df.csv\n",
      "save_batch_directory: /Users/detraviousjamaribrinkley/Documents/Development/research_labs/uf_ds/predictions/notebook_experiments/../data/observation_logs/batch_16-observation\n",
      "CSV to DF\n",
      "Load saved csv: /Users/detraviousjamaribrinkley/Documents/Development/research_labs/uf_ds/predictions/notebook_experiments/../data/observation_logs/batch_16-observation/batch_16-from_df.csv\n",
      "save_batch_directory: /Users/detraviousjamaribrinkley/Documents/Development/research_labs/uf_ds/predictions/notebook_experiments/../data/observation_logs/batch_17-observation\n",
      "CSV to DF\n",
      "Load saved csv: /Users/detraviousjamaribrinkley/Documents/Development/research_labs/uf_ds/predictions/notebook_experiments/../data/observation_logs/batch_17-observation/batch_17-from_df.csv\n",
      "save_batch_directory: /Users/detraviousjamaribrinkley/Documents/Development/research_labs/uf_ds/predictions/notebook_experiments/../data/observation_logs/batch_18-observation\n",
      "CSV to DF\n",
      "Load saved csv: /Users/detraviousjamaribrinkley/Documents/Development/research_labs/uf_ds/predictions/notebook_experiments/../data/observation_logs/batch_18-observation/batch_18-from_df.csv\n"
     ]
    },
    {
     "data": {
      "text/plain": [
       "(705, 1903)"
      ]
     },
     "execution_count": 3,
     "metadata": {},
     "output_type": "execute_result"
    }
   ],
   "source": [
    "log_file_path = \"data/prediction_logs\"\n",
    "predictions = True\n",
    "predictions_df = log_files.read_data(notebook_dir, log_file_path, predictions)\n",
    "\n",
    "log_file_path = \"data/observation_logs\"\n",
    "predictions = False\n",
    "observations_df = log_files.read_data(notebook_dir, log_file_path, predictions)\n",
    "\n",
    "col_name = 'Base Sentence'\n",
    "predictions = DataProcessing.df_to_list(predictions_df, col_name)\n",
    "observations = DataProcessing.df_to_list(observations_df, col_name)\n",
    "len(predictions), len(observations)"
   ]
  },
  {
   "cell_type": "markdown",
   "id": "40d67893",
   "metadata": {},
   "source": [
    "## Embedding Model(s)"
   ]
  },
  {
   "cell_type": "code",
   "execution_count": 4,
   "id": "d8b9317c",
   "metadata": {},
   "outputs": [
    {
     "ename": "AttributeError",
     "evalue": "'MessageFactory' object has no attribute 'GetPrototype'",
     "output_type": "error",
     "traceback": [
      "\u001b[31m---------------------------------------------------------------------------\u001b[39m",
      "\u001b[31mAttributeError\u001b[39m                            Traceback (most recent call last)",
      "\u001b[31mAttributeError\u001b[39m: 'MessageFactory' object has no attribute 'GetPrototype'"
     ]
    },
    {
     "ename": "AttributeError",
     "evalue": "'MessageFactory' object has no attribute 'GetPrototype'",
     "output_type": "error",
     "traceback": [
      "\u001b[31m---------------------------------------------------------------------------\u001b[39m",
      "\u001b[31mAttributeError\u001b[39m                            Traceback (most recent call last)",
      "\u001b[31mAttributeError\u001b[39m: 'MessageFactory' object has no attribute 'GetPrototype'"
     ]
    },
    {
     "ename": "AttributeError",
     "evalue": "'MessageFactory' object has no attribute 'GetPrototype'",
     "output_type": "error",
     "traceback": [
      "\u001b[31m---------------------------------------------------------------------------\u001b[39m",
      "\u001b[31mAttributeError\u001b[39m                            Traceback (most recent call last)",
      "\u001b[31mAttributeError\u001b[39m: 'MessageFactory' object has no attribute 'GetPrototype'"
     ]
    },
    {
     "ename": "AttributeError",
     "evalue": "'MessageFactory' object has no attribute 'GetPrototype'",
     "output_type": "error",
     "traceback": [
      "\u001b[31m---------------------------------------------------------------------------\u001b[39m",
      "\u001b[31mAttributeError\u001b[39m                            Traceback (most recent call last)",
      "\u001b[31mAttributeError\u001b[39m: 'MessageFactory' object has no attribute 'GetPrototype'"
     ]
    },
    {
     "ename": "AttributeError",
     "evalue": "'MessageFactory' object has no attribute 'GetPrototype'",
     "output_type": "error",
     "traceback": [
      "\u001b[31m---------------------------------------------------------------------------\u001b[39m",
      "\u001b[31mAttributeError\u001b[39m                            Traceback (most recent call last)",
      "\u001b[31mAttributeError\u001b[39m: 'MessageFactory' object has no attribute 'GetPrototype'"
     ]
    }
   ],
   "source": [
    "embeddings = HuggingFaceEmbeddings(model_name=\"sentence-transformers/all-mpnet-base-v2\")"
   ]
  },
  {
   "cell_type": "markdown",
   "id": "45b42815",
   "metadata": {},
   "source": [
    "#"
   ]
  },
  {
   "cell_type": "markdown",
   "id": "6e1743eb",
   "metadata": {},
   "source": [
    "## Create Vector Store: Collect Name + Connect Embedding Model(s)\n",
    "\n",
    "- Collection [store your embeddings, documents, and any additional metadata.][[Getting Started with Chroma](https://docs.trychroma.com/docs/overview/getting-started)]\n",
    "- Collections index your embeddings and documents, and enable efficient retrieval and filtering."
   ]
  },
  {
   "cell_type": "code",
   "execution_count": 5,
   "id": "d6290858",
   "metadata": {},
   "outputs": [],
   "source": [
    "vector_store = Chroma(\n",
    "    collection_name=\"prediction_collection\",\n",
    "    embedding_function=embeddings,\n",
    ")"
   ]
  },
  {
   "cell_type": "markdown",
   "id": "14964bfd",
   "metadata": {},
   "source": [
    "## Create a Chroma Client"
   ]
  },
  {
   "cell_type": "code",
   "execution_count": 6,
   "id": "482738fd",
   "metadata": {},
   "outputs": [],
   "source": [
    "import chromadb\n",
    "\n",
    "client = chromadb.Client()"
   ]
  },
  {
   "cell_type": "markdown",
   "id": "7e8ad8b4",
   "metadata": {},
   "source": [
    "## Add Observations to Vector Store"
   ]
  },
  {
   "cell_type": "code",
   "execution_count": 7,
   "id": "ac61ad6f",
   "metadata": {},
   "outputs": [],
   "source": [
    "# observations_df.loc"
   ]
  },
  {
   "cell_type": "code",
   "execution_count": 8,
   "id": "949be6a0",
   "metadata": {},
   "outputs": [
    {
     "name": "stderr",
     "output_type": "stream",
     "text": [
      "1903it [00:00, 72789.75it/s]\n"
     ]
    }
   ],
   "source": [
    "documents = []\n",
    "\n",
    "for index, row in tqdm(observations_df.iterrows()):\n",
    "    # print(f\"\"\"Index: {index},\n",
    "    #       Name: {row['Base Sentence']},\n",
    "    #       Sentence Label: {row['Sentence Label']},\n",
    "    #       Domain: {row['Domain']},\n",
    "    #       Model Name: {row['Model Name']},\n",
    "    #       API Name: {row['API Name']},\n",
    "    #       Template Number: {row['Template Number']}\n",
    "    #       \"\"\")\n",
    "    idx = index\n",
    "    base_sentence = row['Base Sentence']\n",
    "    sentence_label = row['Sentence Label']\n",
    "    domain = row['Domain']\n",
    "    model_name = row['Model Name']\n",
    "    api_name = row['API Name']\n",
    "    template_number = row['Template Number']\n",
    "\n",
    "    document = Document(\n",
    "        page_content=base_sentence,\n",
    "        metadata={\"sentence_label\": sentence_label,\n",
    "                  \"domain\": domain,\n",
    "                  \"model_name\": model_name,\n",
    "                  \"api_name\": api_name,\n",
    "                  \"template_number\": template_number\n",
    "                  },\n",
    "        id=idx,)\n",
    "    \n",
    "    documents.append(document)\n",
    "\n",
    "# documents"
   ]
  },
  {
   "cell_type": "code",
   "execution_count": 9,
   "id": "237fe07a",
   "metadata": {},
   "outputs": [],
   "source": [
    "uuids = [str(uuid4()) for _ in range(len(documents))]\n",
    "# uuids"
   ]
  },
  {
   "cell_type": "markdown",
   "id": "b4acf0af",
   "metadata": {},
   "source": [
    "## Query Vector Store"
   ]
  },
  {
   "cell_type": "code",
   "execution_count": 10,
   "id": "d404ceb5",
   "metadata": {},
   "outputs": [
    {
     "data": {
      "text/plain": [
       "['JPMorgan Chase forecasts that the net profit at Amazon potentially decrease in Q3 of 2027.',\n",
       " 'On August 21, 2024, Bank of America speculates the revenue at Microsoft will likely increase.',\n",
       " 'Citigroup predicts on 2024-08-21, the operating income at Alphabet may rise.']"
      ]
     },
     "execution_count": 10,
     "metadata": {},
     "output_type": "execute_result"
    }
   ],
   "source": [
    "predictions[:3]"
   ]
  },
  {
   "cell_type": "code",
   "execution_count": null,
   "id": "727d2a6b",
   "metadata": {},
   "outputs": [
    {
     "name": "stdout",
     "output_type": "stream",
     "text": [
      "0 JPMorgan Chase forecasts that the net profit at Amazon potentially decrease in Q3 of 2027.\n",
      "-------Similarity-------\n",
      "\n",
      "-------Similarity with score-------\n",
      "\n",
      "-------Similarity by vector-------\n",
      "\n",
      "-------Retriever-------\n",
      "1 On August 21, 2024, Bank of America speculates the revenue at Microsoft will likely increase.\n",
      "-------Similarity-------\n",
      "\n",
      "-------Similarity with score-------\n",
      "\n",
      "-------Similarity by vector-------\n",
      "\n",
      "-------Retriever-------\n",
      "2 Citigroup predicts on 2024-08-21, the operating income at Alphabet may rise.\n",
      "-------Similarity-------\n",
      "\n",
      "-------Similarity with score-------\n",
      "\n",
      "-------Similarity by vector-------\n",
      "\n",
      "-------Retriever-------\n"
     ]
    }
   ],
   "source": [
    "for idx, prediction in enumerate(predictions):\n",
    "    print(idx, prediction)\n",
    "    print(\"-------Similarity-------\")\n",
    "    results = vector_store.similarity_search(\n",
    "        prediction,\n",
    "        k=3,\n",
    "    )\n",
    "    for res in results:\n",
    "        print(f\"* {res.page_content} [{res.metadata}]\")\n",
    "\n",
    "    print()\n",
    "    print(\"-------Similarity with score-------\")\n",
    "    results = vector_store.similarity_search_with_score(\n",
    "        prediction, k=1,\n",
    "    )\n",
    "    for res, score in results:\n",
    "        print(f\"* [SIM={score:3f}] {res.page_content} [{res.metadata}]\")\n",
    "\n",
    "    print()\n",
    "    print(\"-------Similarity by vector-------\")\n",
    "    results = vector_store.similarity_search_by_vector(\n",
    "        embedding=embeddings.embed_query(prediction), k=3\n",
    "    )\n",
    "    for doc in results:\n",
    "        print(f\"* {doc.page_content} [{doc.metadata}]\")\n",
    "\n",
    "    print()\n",
    "    print(\"-------Retriever-------\")\n",
    "    retriever = vector_store.as_retriever(\n",
    "        search_type=\"mmr\", search_kwargs={\"k\": 3, \"fetch_k\": 5}\n",
    "    )\n",
    "    retriever.invoke(prediction)"
   ]
  },
  {
   "cell_type": "code",
   "execution_count": null,
   "id": "2e079cea",
   "metadata": {},
   "outputs": [],
   "source": []
  }
 ],
 "metadata": {
  "kernelspec": {
   "display_name": ".venv_predictions",
   "language": "python",
   "name": "python3"
  },
  "language_info": {
   "codemirror_mode": {
    "name": "ipython",
    "version": 3
   },
   "file_extension": ".py",
   "mimetype": "text/x-python",
   "name": "python",
   "nbconvert_exporter": "python",
   "pygments_lexer": "ipython3",
   "version": "3.11.12"
  }
 },
 "nbformat": 4,
 "nbformat_minor": 5
}
