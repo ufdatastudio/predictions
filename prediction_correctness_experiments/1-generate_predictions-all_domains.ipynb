{
 "cells": [
  {
   "cell_type": "markdown",
   "id": "5fc9e2f4",
   "metadata": {},
   "source": [
    "# 1-Generate Predictions using LangChain\n",
    "\n",
    "- **Goal:** Prediction Recognition\n",
    "\n",
    "- **Purpose:** To implement step 1 with sub steps of prediction recognition pipeline. See steps\n",
    "    1. Generate predictions\n",
    "        1. Create several prediction prompts templates\n",
    "        2. Utilize open-source LLMs to generate predictions\n",
    "\n",
    "- **Misc:**\n",
    "    - `%store`: Cell magic will store the variable of interest so we can load in another notebook"
   ]
  },
  {
   "cell_type": "markdown",
   "id": "b26029c3",
   "metadata": {},
   "source": [
    "Entities: You already have Representative Angela, Economist Dr. Henry, Meteorologist Nina, etc. Can we have at least one example per template? Other ex are analyst, expert, top executive,  senior level person, college student, research advisor, professional, military member, etc\n",
    "- Alex, a health expert\n",
    "- Angela Cortez, a member of Congress\n",
    "- Dr. Anna Lee --> Anna Lee, Ph.D.\n",
    "\n",
    "Future verb tense: A more balanced distribution/usage of the below\n",
    "- Update \"will likely\" to will (without likely) may, would, be going to, should, etc (can google more)\n",
    "- Can use rise/increase/as much as, fall/decrease/as little as, change, stay stable, high/low chance/probability/degree of, etc. (can google more)\n",
    "\n",
    "Date: We write the date differently in many cases below. Want this to be represented in the dataset.  Try to  disperse the same usage to other templates and other domains. For example: T2 for Health all have [Month, date, year] and similarly for T5 in Health [Month Year] are all grouped within one template.  See example dates below\n",
    "- (1) Wednesday, August 21, 2024; (2) Wed, August 21, 2024; (3) 08/21/2024; (4) 08/21/2024; (5) 21/08/2024; (6) 21 August 2024; (7) 2024/08/21; (8) 2024-08-21; (9) August 21, 2024; (10) Aug 21, 2024; (11) 21 August 2024, (12) 21 Aug 2024, Q3 of 2027, 2029 of Q3, etc (with removing day of week), first week of Fall, Q2 of 2033, 2045 Q3, etc.\n",
    "- Differentiate the month, date, and year. "
   ]
  },
  {
   "cell_type": "code",
   "execution_count": 1,
   "id": "01a3b011",
   "metadata": {},
   "outputs": [],
   "source": [
    "import os, sys\n",
    "\n",
    "import pandas as pd\n",
    "\n",
    "from tqdm import tqdm\n",
    "from langchain_core.prompts import PipelinePromptTemplate, PromptTemplate\n",
    "\n",
    "# Get the current working directory of the notebook\n",
    "notebook_dir = os.getcwd()\n",
    "# Add the parent directory to the system path\n",
    "sys.path.append(os.path.join(notebook_dir, '../'))\n",
    "\n",
    "from log_files import LogData\n",
    "from data_processing import DataProcessing\n",
    "from text_generation_models import TextGenerationModelFactory"
   ]
  },
  {
   "cell_type": "markdown",
   "id": "a598b119",
   "metadata": {},
   "source": [
    "## Text Generation Models"
   ]
  },
  {
   "cell_type": "code",
   "execution_count": 2,
   "id": "b6f573fb",
   "metadata": {},
   "outputs": [],
   "source": [
    "tgmf = TextGenerationModelFactory()\n",
    "\n",
    "llama_versatile_generation_model = tgmf.create_instance(model_name='llama-3.3-70b-versatile')\n",
    "llama_instant_generation_model = tgmf.create_instance('llama-3.1-8b-instant')\n",
    "llama_70b_8192_generation_model = tgmf.create_instance('llama3-70b-8192')\n",
    "llama_8b_8192_generation_model = tgmf.create_instance('llama3-8b-8192')\n",
    "\n",
    "# gpt_35_turbo_generation_model = tgmf.create_instance('gpt-3.5-turbo')\n",
    "# gpt_4_o_generation_model = tgmf.create_instance('gpt-4o')\n",
    "mixtral_87b_instruct_generation_model = tgmf.create_instance('mixtral-8x7b-instruct') \n",
    "kokoro_generation_model = tgmf.create_instance('kokoro') \n",
    "llama_318b_generation_model = tgmf.create_instance('llama-3.1-8b-instruct')  \n",
    "mistral_7b_generation_model = tgmf.create_instance('mistral-7b-instruct')  \n",
    "\n",
    "# dsp_v2_7b_generation_model = tgmf.create_instance('DeepSeek-Prover-V2-7B') \n"
   ]
  },
  {
   "cell_type": "markdown",
   "id": "50f78c6a",
   "metadata": {},
   "source": [
    "## Base Templates for Domain Predictions"
   ]
  },
  {
   "cell_type": "code",
   "execution_count": 3,
   "id": "4d32edc7",
   "metadata": {},
   "outputs": [],
   "source": [
    "full_prediction_template = \"\"\"{prediction_properties}\n",
    "\n",
    "{prediction_requirements}\n",
    "\n",
    "{prediction_templates}\n",
    "\n",
    "{prediction_examples}\n",
    "\"\"\"\n",
    "\n",
    "full_prediction_prompt = PromptTemplate.from_template(full_prediction_template)"
   ]
  },
  {
   "cell_type": "code",
   "execution_count": 4,
   "id": "3d420e85",
   "metadata": {},
   "outputs": [],
   "source": [
    "prediction_properties_template = \"\"\"A prediction <p> = (<p_s>, <p_t>, <p_d>, <p_a>), where it consists of the following four properties:\n",
    "\n",
    "    1. <p_s>, any source entity in the {prediction_domain} domain.\n",
    "        - Can be a person (with a name) or a {prediction_domain} person such as a {prediction_domain} reporter, {prediction_domain} analyst, {prediction_domain} expert, {prediction_domain} top executive, {prediction_domain} senior level person, etc), civilian.\n",
    "        - Can only be an organization that is associated with the {prediction_domain} prediction.\n",
    "    2. <p_t>, any target entity in the {prediction_domain} domain.\n",
    "\t    - Can be a person (with a name) or a {prediction_domain} person such as a {prediction_domain} reporter, {prediction_domain} analyst, {prediction_domain} expert, {prediction_domain} top executive, {prediction_domain} senior level person, etc).\n",
    "        - Can only be an organization that is associated with the {prediction_domain} prediction.\n",
    "    3. <p_d>, date or time range when <p> is expected to come to fruition or when one should observe the <p>.\n",
    "        - Forecast can range from a second to anytime in the future.\n",
    "        - Answers the questions: \"How far to go out from today?\" or \"Where to stop?\".\n",
    "    4. <p_a>, {prediction_domain} prediction attribute.\n",
    "        - Characteristics of a domain-specific attributes such as various quantifiable metrics relevant to the {prediction_domain} domain.\n",
    "        - Some examples are {prediction_domain_attribute}.  \n",
    "\"\"\"\n",
    "prediction_properties_prompt = PromptTemplate.from_template(prediction_properties_template)"
   ]
  },
  {
   "cell_type": "code",
   "execution_count": 5,
   "id": "95548954",
   "metadata": {},
   "outputs": [],
   "source": [
    "prediction_requirements_template = \"\"\"{prediction_domain} requirements to use for each prediction:\n",
    "\n",
    "    - Should be based on real-world {prediction_domain} data and not hallucinate.\n",
    "    - Only a simple sentence (prediction) (and NOT compounding using \"and\" or \"or\").\n",
    "    - Should diversify all four properties of the prediction (<p>) as in change and not use same for <p_s>, <p_t>, <p_d>, <p_a>.\n",
    "    - Should use synonyms to predict such as forecasts, speculates, foresee, envision, etc., and not use any of them more than ten times.\n",
    "    - The prediction should be unique and not repeated.\n",
    "    - Do not number the predictions.\n",
    "    - Do not say, \"As the {prediction_domain}, I will generate company-based {prediction_domain} predictions using the provided templates.\" or anything similar.\n",
    "    - Use the five different templates and examples provided.\n",
    "    - Change how the current date (<p_d>) written in the prediction with examples of (1) Wednesday, August 21, 2024; (2) Wed, August 21, 2024; (3) 08/21/2024; (4) 08/21/2024; (5) 21/08/2024; (6) 21 August 2024; (7) 2024/08/21; (8) 2024-08-21; (9) August 21, 2024; (10) Aug 21, 2024; (11) 21 August 2024, (12) 21 Aug 2024, Q3 of 2027, 2029 of Q3, etc (with removing day of week).\n",
    "    {domain_requirements}\n",
    "    - Do not say, \"Here are {predictions_N} unique {prediction_domain} predictions based on the provided templates and examples:\" in the prompt.\n",
    "    - Do not use any of the examples in the prompt.\n",
    "    - In front of every prodiction, put the template number in the format of \"T1:\", \"T2:\", etc. and do not number them like \"1.\", \"2.\", etc. Should have template number and generated prediction matching.\n",
    "    - Do not put template number on line by itself. Always pair with a prediction.\n",
    "    - Disregard brackets: \"<>\"\n",
    "    - Should never say \"Here are {predictions_N} unique {prediction_domain} predictions based on the provided templates and examples:\" or \"Note: I've made sure to follow the guidelines and templates provided, and generated unique predictions that meet the requirements.\"\n",
    "    - Do not use person name of entity name more than once as in don't use name Joe as both the <p_s> and <p_t>, unless like Mr. Sach and Goldman Sach or Mr. Sam Walton and Sam's Club, etc.\n",
    "    - The source entity (<p_s>) is rarely the same as the target entity (<p_t>) and if same, the <p_s> is making a prediction on itself in the <p_t>.\n",
    "    - Should variate the slope of rise/increase/as much as, fall/decrease/as little as, change, stay stable, high/low chance/probability/degree of, etc.\n",
    "    - Should variate the prediction verbs such as will, would, be going to, should, etc.\n",
    "\"\"\"\n",
    "prediction_requirements_prompt = PromptTemplate.from_template(prediction_requirements_template)"
   ]
  },
  {
   "cell_type": "code",
   "execution_count": 6,
   "id": "07129ae1",
   "metadata": {},
   "outputs": [],
   "source": [
    "prediction_templates_template = \"\"\"Here are some {prediction_domain} templates:\n",
    "\n",
    "    - {prediction_domain} template 1: <p_s> forecasts that the <p_a> at <p_t> potentially decrease in <p_d>.\n",
    "    - {prediction_domain} template 2: On <p_d>, <p_s> speculates the <p_a> at <p_t> will likely increase.\n",
    "    - {prediction_domain} template 3: <p_s> predicts on <p_d>, the <p_t> <p_a> may rise.\n",
    "    - {prediction_domain} template 4: According to <p_s>, the <p_a> at <p_t> would fall in <p_d>.\n",
    "    - {prediction_domain} template 5: In <p_d>, <p_s> envisions that <p_t> <p_a> has some probability to remain stable.\n",
    "    - {prediction_domain} template 6: <p_t> <p_a> should stay same <p_d>, according to <p_s>. \n",
    "\n",
    "\"\"\"\n",
    "prediction_templates_prompt = PromptTemplate.from_template(prediction_templates_template)"
   ]
  },
  {
   "cell_type": "code",
   "execution_count": 7,
   "id": "e559ea64",
   "metadata": {},
   "outputs": [],
   "source": [
    "prediction_examples_template = \"\"\"Here are some examples of {prediction_domain} predictions:\n",
    "{domain_examples}\n",
    "\n",
    "With the above, generate a unique set of {predictions_N} predictions per template following the examples. Think from the perspective of an {prediction_domain} analyst, expert, top executive, or senior level person and even a college student, professional, research advisor, etc.\"\"\"\n",
    "prediction_examples_prompt = PromptTemplate.from_template(prediction_examples_template)"
   ]
  },
  {
   "cell_type": "code",
   "execution_count": 8,
   "id": "ad59deb9",
   "metadata": {},
   "outputs": [
    {
     "name": "stderr",
     "output_type": "stream",
     "text": [
      "/var/folders/78/9z0b45fx1xqbwxh8vk97lcfh0000gn/T/ipykernel_57393/3566428802.py:8: LangChainDeprecationWarning: This class is deprecated. Please see the docstring below or at the link for a replacement option: https://python.langchain.com/api_reference/core/prompts/langchain_core.prompts.pipeline.PipelinePromptTemplate.html\n",
      "  pipeline_prompt = PipelinePromptTemplate(\n"
     ]
    }
   ],
   "source": [
    "prediction_input_prompts = [\n",
    "    (\"prediction_properties\", prediction_properties_prompt),\n",
    "    (\"prediction_requirements\", prediction_requirements_prompt),\n",
    "    (\"prediction_templates\", prediction_templates_prompt),\n",
    "    (\"prediction_examples\", prediction_examples_prompt),\n",
    "]\n",
    "\n",
    "pipeline_prompt = PipelinePromptTemplate(\n",
    "    final_prompt=full_prediction_prompt, pipeline_prompts=prediction_input_prompts\n",
    ")"
   ]
  },
  {
   "cell_type": "markdown",
   "id": "099b1ddb",
   "metadata": {},
   "source": [
    "## Specific Templates for Domain Predictions"
   ]
  },
  {
   "cell_type": "markdown",
   "id": "1f51c614",
   "metadata": {},
   "source": [
    "- For now, generating 1 prediction per template. From here, I'll try 3 and increase by increments/multiples of 3.\n",
    "\n",
    "- With 1 prediction per template,\n",
    "    - 1 prediction per template x 6 examples per domain so 6 predictions per domain\n",
    "    - 6 predictions per domain x 4 domains = 24 predictions per model\n",
    "    - 24 predictions per model x 2 models = 48 predictions across all models\n",
    "    - 48 predictions across all models x 2 batches = 96 across all batches"
   ]
  },
  {
   "cell_type": "code",
   "execution_count": 9,
   "id": "be6a146d",
   "metadata": {},
   "outputs": [],
   "source": [
    "examples_per_template = 1\n",
    "generate_N_predictions_per_template = 1 * examples_per_template"
   ]
  },
  {
   "cell_type": "markdown",
   "id": "28d7e7c8",
   "metadata": {},
   "source": [
    "- All\n",
    "1. `will` to `may`\n",
    "2. Use different entity names\n",
    "    1. `Detravious`, `Morgan Stanley`, etc too many times\n",
    "3. "
   ]
  },
  {
   "cell_type": "markdown",
   "id": "dd133022",
   "metadata": {},
   "source": [
    "### Template for Financial Predictions"
   ]
  },
  {
   "cell_type": "code",
   "execution_count": 10,
   "id": "5e2ddf01",
   "metadata": {},
   "outputs": [
    {
     "name": "stdout",
     "output_type": "stream",
     "text": [
      "A prediction <p> = (<p_s>, <p_t>, <p_d>, <p_a>), where it consists of the following four properties:\n",
      "\n",
      "    1. <p_s>, any source entity in the financial domain.\n",
      "        - Can be a person (with a name) or a financial person such as a financial reporter, financial analyst, financial expert, financial top executive, financial senior level person, etc), civilian.\n",
      "        - Can only be an organization that is associated with the financial prediction.\n",
      "    2. <p_t>, any target entity in the financial domain.\n",
      "\t    - Can be a person (with a name) or a financial person such as a financial reporter, financial analyst, financial expert, financial top executive, financial senior level person, etc).\n",
      "        - Can only be an organization that is associated with the financial prediction.\n",
      "    3. <p_d>, date or time range when <p> is expected to come to fruition or when one should observe the <p>.\n",
      "        - Forecast can range from a second to anytime in the future.\n",
      "        - Answers the questions: \"How far to go out from today?\" or \"Where to stop?\".\n",
      "    4. <p_a>, financial prediction attribute.\n",
      "        - Characteristics of a domain-specific attributes such as various quantifiable metrics relevant to the financial domain.\n",
      "        - Some examples are stock price, net profit, revenue, operating cash flow, research and development expenses, operating income, gross profit..  \n",
      "\n",
      "\n",
      "financial requirements to use for each prediction:\n",
      "\n",
      "    - Should be based on real-world financial data and not hallucinate.\n",
      "    - Only a simple sentence (prediction) (and NOT compounding using \"and\" or \"or\").\n",
      "    - Should diversify all four properties of the prediction (<p>) as in change and not use same for <p_s>, <p_t>, <p_d>, <p_a>.\n",
      "    - Should use synonyms to predict such as forecasts, speculates, foresee, envision, etc., and not use any of them more than ten times.\n",
      "    - The prediction should be unique and not repeated.\n",
      "    - Do not number the predictions.\n",
      "    - Do not say, \"As the financial, I will generate company-based financial predictions using the provided templates.\" or anything similar.\n",
      "    - Use the five different templates and examples provided.\n",
      "    - Change how the current date (<p_d>) written in the prediction with examples of (1) Wednesday, August 21, 2024; (2) Wed, August 21, 2024; (3) 08/21/2024; (4) 08/21/2024; (5) 21/08/2024; (6) 21 August 2024; (7) 2024/08/21; (8) 2024-08-21; (9) August 21, 2024; (10) Aug 21, 2024; (11) 21 August 2024, (12) 21 Aug 2024, Q3 of 2027, 2029 of Q3, etc (with removing day of week).\n",
      "    - Should be based on real-world financial earnings reports.\n",
      "    - Suppose the time when $p$ was made is during any earning season.\n",
      "    - Include stocks from all sectors such as consumer staples, energy, finance, health care, industrials, materials, media, real estate, retail, technology, utilities, defense, etc.\n",
      "    - Include the US Dollar sign ($) before or USD after the amount of the financial attribute.\n",
      "    - Do not say, \"Here are 1 unique financial predictions based on the provided templates and examples:\" in the prompt.\n",
      "    - Do not use any of the examples in the prompt.\n",
      "    - In front of every prodiction, put the template number in the format of \"T1:\", \"T2:\", etc. and do not number them like \"1.\", \"2.\", etc. Should have template number and generated prediction matching.\n",
      "    - Do not put template number on line by itself. Always pair with a prediction.\n",
      "    - Disregard brackets: \"<>\"\n",
      "    - Should never say \"Here are 1 unique financial predictions based on the provided templates and examples:\" or \"Note: I've made sure to follow the guidelines and templates provided, and generated unique predictions that meet the requirements.\"\n",
      "    - Do not use person name of entity name more than once as in don't use name Joe as both the <p_s> and <p_t>, unless like Mr. Sach and Goldman Sach or Mr. Sam Walton and Sam's Club, etc.\n",
      "    - The source entity (<p_s>) is rarely the same as the target entity (<p_t>) and if same, the <p_s> is making a prediction on itself in the <p_t>.\n",
      "    - Should variate the slope of rise/increase/as much as, fall/decrease/as little as, change, stay stable, high/low chance/probability/degree of, etc.\n",
      "    - Should variate the prediction verbs such as will, would, be going to, should, etc.\n",
      "\n",
      "\n",
      "Here are some financial templates:\n",
      "\n",
      "    - financial template 1: <p_s> forecasts that the <p_a> at <p_t> potentially decrease in <p_d>.\n",
      "    - financial template 2: On <p_d>, <p_s> speculates the <p_a> at <p_t> will likely increase.\n",
      "    - financial template 3: <p_s> predicts on <p_d>, the <p_t> <p_a> may rise.\n",
      "    - financial template 4: According to <p_s>, the <p_a> at <p_t> would fall in <p_d>.\n",
      "    - financial template 5: In <p_d>, <p_s> envisions that <p_t> <p_a> has some probability to remain stable.\n",
      "    - financial template 6: <p_t> <p_a> should stay same <p_d>, according to <p_s>. \n",
      "\n",
      "\n",
      "\n",
      "Here are some examples of financial predictions:\n",
      "\n",
      "   - financial examples for template 1:\n",
      "    1. Detravious, an investor forecasts that the stock price at Apple will decrease in 2025 Q1.\n",
      "    2. Ava Lee predicts that the operating cash flow at ExxonMobil should decrease in 03/21/2025 to 08/21/2025.\n",
      "    3. Detravious, an investor predicts that the stocks he has will increase in 4/08/21.\n",
      " - financial examples for template 2:\n",
      "    1. On March 15, 2025 to March 16, 2026, Goldman Sachs speculates that the interest rates at the Federal Reserve could rise.\n",
      "    2. On April 2, 2000, Morgan Stanley forecasts that the stock value at Tesla should fall.\n",
      "    3. On 1/23/2012, Chase analysts foresee that their stock prices may increase.\n",
      " - financial examples for template 3:\n",
      "    1. Morgan Stanley anticipates that on 3/2/2025, the NASDAQ composite index could climb moderately.\n",
      "    2. BlackRock foresees that on April 22, 2025, the value of Bitcoin has a high probability of rising sharply.\n",
      "    3. Morgan Stanley predicts that on the 3 of May, 2025, there stock price might rise.\n",
      " - financial examples for template 4:\n",
      "    1. According to Chase Bank, the expected returns at emerging market equities could fall in May 2035.\n",
      "    2. According to Ryan, the projected revenue at Meta Platforms should fall in Q2 2025.\n",
      "    3. According to Apple, the trading volume it has will increase in 1/2/2020.\n",
      " - financial examples for template 5:\n",
      "    1. In 4/16/2025, Wells Fargo expects that U.S. Treasury yields might stay stable.\n",
      "    2. In 5/5/2025, Bob envisions that the inflation rate in Wells Fargo could stay stable.\n",
      "    3. In 7/5/2026, Bob predicts that the stocks he has will stay stable.\n",
      " - financial examples for template 6:\n",
      "    1. Apple stock price will decrease in February 2025, according to Roger.\n",
      "    2. The NASDAQ index is expected to rise in June 2025, according to Bank of America.\n",
      "    3. Roger foresees the stock price increasing in July 2025, according to his projections.\n",
      " \n",
      "\n",
      "With the above, generate a unique set of 1 predictions per template following the examples. Think from the perspective of an financial analyst, expert, top executive, or senior level person and even a college student, professional, research advisor, etc.\n",
      "\n"
     ]
    }
   ],
   "source": [
    "financial_attributes = \"\"\"stock price, net profit, revenue, operating cash flow, research and development expenses, operating income, gross profit.\"\"\"\n",
    "financial_requirements = \"\"\"- Should be based on real-world financial earnings reports.\n",
    "    - Suppose the time when $p$ was made is during any earning season.\n",
    "    - Include stocks from all sectors such as consumer staples, energy, finance, health care, industrials, materials, media, real estate, retail, technology, utilities, defense, etc.\n",
    "    - Include the US Dollar sign ($) before or USD after the amount of the financial attribute.\"\"\"\n",
    "\n",
    "financial_examples = \"\"\"\n",
    "   - financial examples for template 1:\n",
    "    1. Detravious, an investor forecasts that the stock price at Apple will decrease in 2025 Q1.\n",
    "    2. Ava Lee predicts that the operating cash flow at ExxonMobil should decrease in 03/21/2025 to 08/21/2025.\n",
    "    3. Detravious, an investor predicts that the stocks he has will increase in 4/08/21.\n",
    " - financial examples for template 2:\n",
    "    1. On March 15, 2025 to March 16, 2026, Goldman Sachs speculates that the interest rates at the Federal Reserve could rise.\n",
    "    2. On April 2, 2000, Morgan Stanley forecasts that the stock value at Tesla should fall.\n",
    "    3. On 1/23/2012, Chase analysts foresee that their stock prices may increase.\n",
    " - financial examples for template 3:\n",
    "    1. Morgan Stanley anticipates that on 3/2/2025, the NASDAQ composite index could climb moderately.\n",
    "    2. BlackRock foresees that on April 22, 2025, the value of Bitcoin has a high probability of rising sharply.\n",
    "    3. Morgan Stanley predicts that on the 3 of May, 2025, there stock price might rise.\n",
    " - financial examples for template 4:\n",
    "    1. According to Chase Bank, the expected returns at emerging market equities could fall in May 2035.\n",
    "    2. According to Ryan, the projected revenue at Meta Platforms should fall in Q2 2025.\n",
    "    3. According to Apple, the trading volume it has will increase in 1/2/2020.\n",
    " - financial examples for template 5:\n",
    "    1. In 4/16/2025, Wells Fargo expects that U.S. Treasury yields might stay stable.\n",
    "    2. In 5/5/2025, Bob envisions that the inflation rate in Wells Fargo could stay stable.\n",
    "    3. In 7/5/2026, Bob predicts that the stocks he has will stay stable.\n",
    " - financial examples for template 6:\n",
    "    1. Apple stock price will decrease in February 2025, according to Roger.\n",
    "    2. The NASDAQ index is expected to rise in June 2025, according to Bank of America.\n",
    "    3. Roger foresees the stock price increasing in July 2025, according to his projections.\n",
    " \"\"\"\n",
    "\n",
    "financial_input_dict = {\n",
    "    \"prediction_domain\": \"financial\",\n",
    "    \"prediction_domain_attribute\": financial_attributes,\n",
    "    \"domain_requirements\": financial_requirements,\n",
    "    \"domain_examples\": financial_examples,\n",
    "    \"predictions_N\": generate_N_predictions_per_template\n",
    "}\n",
    "financial_prompt_output = pipeline_prompt.format(**financial_input_dict)\n",
    "print(financial_prompt_output)\n"
   ]
  },
  {
   "cell_type": "markdown",
   "id": "7bf6df7a",
   "metadata": {},
   "source": [
    "###  Template for Health Predictions"
   ]
  },
  {
   "cell_type": "markdown",
   "id": "93be2402",
   "metadata": {},
   "source": [
    "\n",
    "Want these tied to specific campaigns, regions, or health studies? Yeah, that's a good idea.  In regions, could include national, state, and local.  Be sure with the health study ex that it's still a prediction instead of it being data already collected and analyzed. \n",
    "\n",
    "- Template: According to <p_s>, the <p_a> at <p_t> would fall in <p_d>.\n",
    "- Mappings: According to a <study by UF>, the <obesity rate> in <Gainesville, FL> should rapidly decrease between <9.8.2026 to 12.19.2026> (don't include in code; only showing relation to template. \n",
    "- Example: According to  study by UF, the obesity rate in Gainesville would  fall between 9.8.2026 to 12.19.2026\n",
    "\n",
    "I'm cool with some examples not  exactly matching the template. The only exact matchings should be the variables. Every other word can be a synonym."
   ]
  },
  {
   "cell_type": "code",
   "execution_count": 11,
   "id": "7d766f1f",
   "metadata": {},
   "outputs": [],
   "source": [
    "health_attributes = \"\"\"obesity rates, prevalence of chronic illnesses, average physical activity levels, nutritional intake, etc.\"\"\"\n",
    "health_requirements = \"\"\"- Should be based on real-world health reports.\n",
    "    - Suppose the time when $p$ was made is during any season such as flu season, allergy season, pandemic, epidemic, etc.\n",
    "    - Include reports from all Health organization, researcher, doctor, physical therapist, physician assistant, nurse practictioners, fitness expert, etc.\"\"\"\n",
    "\n",
    "health_examples = \"\"\"\n",
    "- health examples for template 1:\n",
    "    1. I predicts that the obesity rates at the national level should fall in late 2025.\n",
    "    2. CDC forecasts that the prevalence of chronic illnesses at urban health centers will decrease in Q3 2030.\n",
    "    3. Chase Thinks that the average physical activity levels he does may increase in 2035.\n",
    "- health examples for template 2:\n",
    "    1. On 1/2/2015, the CDC speculates that the average physical activity levels at U.S. high schools will change.\n",
    "    2. On June 1, 2035, Sam speculates that the nutritional intake at rural clinics in America may increase.\n",
    "    3. On the 1st of July, 2025, Sam predicts that the obesity rates at the national level might decrease.\n",
    "- health examples for template 3:\n",
    "    1. The NIH predicts that on 6/22/2015, public engagement in preventative health screenings will decline.\n",
    "    2. Alex suspects that on June 15, 2075, the obesity rates at the national level could decrease.\n",
    "    3. Talon envisions that on 3, January 2025, the average physical activity levels for him potentially change.\n",
    "- health examples for template 4:\n",
    "    1. According to the Study conducted at UF, the obesity rates at U.S. elementary schools might fall in Fall 2035.\n",
    "    2. According to the Me, the average sugar consumption at public school cafeterias will fall in 9/1/2025.\n",
    "    3. According to James Study of physical activity, the average physical activity levels for him could fall in  Q2, 2029.\n",
    "- health examples for template 5:\n",
    "    1. In 5/2/2025, Dr. Maria Thompson envisions that national obesity rates could decrease.\n",
    "    2. In August 2054, Professor James Liu envisions that average physical activity levels among teenagers will increase.\n",
    "    3. In Q3 2026, Dr. Aisha Reynolds envisions that her nutritional intake can potentially stay stable.\n",
    "- health examples for template 6:\n",
    "    1. Physical activity levels among seniors could fall in 8/7/2015, according to Dr. Elena Morales study.\n",
    "    2. Nutritional awareness in Asia will become more apparant in the 3rd of September 2014, according to Me.\n",
    "    3. Sarah's health screening participation should rise in late 2024 Q3, according to Sarah.\n",
    "\n",
    "Want these tied to specific campaigns, regions, or health studies?\n",
    "\"\"\"\n",
    "\n",
    "health_input_dict = {\n",
    "    \"prediction_domain\": \"health\",\n",
    "    \"prediction_domain_attribute\": health_attributes,\n",
    "    \"domain_requirements\": health_requirements,\n",
    "    \"domain_examples\": health_examples,\n",
    "    \"predictions_N\": generate_N_predictions_per_template\n",
    "}\n",
    "\n",
    "health_prompt_output = pipeline_prompt.format(**health_input_dict)\n"
   ]
  },
  {
   "cell_type": "markdown",
   "id": "0d0959d8",
   "metadata": {},
   "source": [
    "###  Template for Policy Predictions"
   ]
  },
  {
   "cell_type": "markdown",
   "id": "e8bc848a",
   "metadata": {},
   "source": [
    "Change <e_s> to be first person in some cases\n",
    "\n",
    "- T1. 3. Angela Cortez forcasts that data privacy laws in the technology sector will likely stay stable in the public, in late 2025, according to expert Angela Cortez. \n",
    "    - I forcast that data privacy laws in the technology sector will likely stay stable in the public, in late 2025, according to expert Angela Cortez.\n",
    "\n",
    "- T6. 3. Rachel Alvarez's voter participation in local elections will likely stay the same in November 2025, according to Rachel Alvarez.\n",
    "    - My voter participation in local elections will likely stay the same in November 2025, according to Rachel Alvarez."
   ]
  },
  {
   "cell_type": "code",
   "execution_count": 12,
   "id": "79c8c628",
   "metadata": {},
   "outputs": [],
   "source": [
    "policy_attributes = \"\"\"election outcomes, economic reforms, legislative impacts.\"\"\"\n",
    "policy_requirements = \"\"\"- Should be based on real-world policy reports.\n",
    "    - Suppose the time when $p$ was made is during an election cycle or non-election cycles.\n",
    "    - Include policies & laws, from all sectors such as consumer staples, energy, finance, health care, industrials, materials, media, real estate, retail, technology, utilities, defense, etc.\"\"\"\n",
    "\n",
    "policy_examples = \"\"\"\n",
    "    - policy examples for template 1:\n",
    "    1. Election outcomes in key swing states should rise in national importance in the 1st of November 2011, according to analyst Rachel Lin.\n",
    "    2. Economic reforms in the energy sector will increase in visibility in Q3 2021, according to Dr. Marcus Grant from the Brookings Institution.\n",
    "    3. I forcast that data privacy laws in the technology sector could stay stable in the public, in late 2025, according to expert Angela Cortez.\n",
    " - policy examples for template 2:\n",
    "    1. On 4/5/2029, the Brookings Institution speculates that voter turnout at battleground states might stay stable.\n",
    "    2. On May 12, 2020, the International Monetary Fund speculates that investment activity at emerging markets will rise.\n",
    "    3. On the 1st of June, 2025, policy analyst Rachel Kim speculates that regulatory scrutiny in Rachels large tech firms may decrease.\n",
    " - policy examples for template 3:\n",
    "    1. Representative Angela Brooks predicts that on October 15, 2027, the defense budget allocation potentially can be stay stable.\n",
    "    2. Economist Dr. Henry Zhao predicts that on 6/4/2026, the corporate tax rate in the finance sector should rise.\n",
    "    3. Senator Michael Greene predicts that on 3, November 2025, his voter engagement in suburban districts will fall.\n",
    " - policy examples for template 4:\n",
    "    1. According to Senator Alicia Ramirez, the public trust at federal institutions may increase in late 2015.\n",
    "    2. According to Thomas Nguyen, the investment confidence at the real estate sector will fall in Q3 2035.\n",
    "    3. According to policy advisor Natalie Chen, the employment rate at at her company firms shall stay stable in September 2025.\n",
    " - policy examples for template 5:\n",
    "    1. In 3/2/2023, Senator Jordan Ellis envisions that healthcare spending could stay stable.\n",
    "    2. In June 2025, economist Dr. Priya Nandakumar envisions that inflation rates in the consumer staples sector will increase.\n",
    "    3. In Q2 of 2021, policy strategist Kevin Adler envisions that his defense contract approvals may decline.\n",
    " - policy examples for template 6:\n",
    "    1. Renewable energy investments are expected to inflate in Q3 2025, according to Dr. Elena Foster.\n",
    "    2. Healthcare subsidies will decrease in September 2055, according to Senator Marcus Lee.\n",
    "    3. My voter participation in local elections may stay the same in 11/3/2022, according to Rachel Alvarez.\n",
    "\"\"\"\n",
    "policy_input_dict = {\n",
    "    \"prediction_domain\": \"policy\",\n",
    "    \"prediction_domain_attribute\": policy_attributes,\n",
    "    \"domain_requirements\": policy_requirements,\n",
    "    \"domain_examples\": policy_examples,\n",
    "    \"predictions_N\": generate_N_predictions_per_template\n",
    "}\n",
    "policy_prompt_output = pipeline_prompt.format(**policy_input_dict)"
   ]
  },
  {
   "cell_type": "markdown",
   "id": "bad02107",
   "metadata": {},
   "source": [
    "###  Template for Weather Predictions"
   ]
  },
  {
   "cell_type": "markdown",
   "id": "c27237ad",
   "metadata": {},
   "source": [
    "I updated <p_d> for: \n",
    "- T2 1.\n",
    "- T2 3."
   ]
  },
  {
   "cell_type": "code",
   "execution_count": 13,
   "id": "cc4bdd74",
   "metadata": {},
   "outputs": [],
   "source": [
    "weather_attributes = \"\"\"temperature, precipitation, wind speed, humidity, etc.\"\"\"\n",
    "weather_requirements = \"\"\"- Should be based on real-world weather reports.\n",
    "    - Suppose the time when $p$ was made is during any season and any location (ie: Florida known for hurricanes, California known for wildfires, etc).\n",
    "    - Include reports from all meteorologists, weather organizations, or any type of weather entity..\"\"\"\n",
    "\n",
    "weather_examples = \"\"\"\n",
    "- weather examples for template 1:\n",
    "    1. The National Weather Service forecasts that the precipitation levels at Miami may increase in September 5, 2025.\n",
    "    2. AccuWeather forecasts that the humidity at Phoenix will stay stable in early fall 2025.\n",
    "    3. Sam a weather expert forecasts that the wind speed at his house could decrease in 3/4/2025.\n",
    "- weather examples for template 2:\n",
    "    1. On 1/1/2025, Meteorologist Lisa Park speculates that the temperature at Los Angeles will rise.\n",
    "    2. On 2025 of June, Dr. Mark Williams speculates that the humidity at Houston shall become lower.\n",
    "    3. On July 5, 2025, San Francisco's meteorological team speculates that the wind speed in San Francisco potentially could stay stable.\n",
    "- weather examples for template 3:\n",
    "    1. Anna Lee, PH.D predicts that on May 2025, the temperature at Denver can decrease.\n",
    "    2. Meteorologist John Roberts predicts that on July 1, 2025, the wind speed at New York will rise.\n",
    "    3. The Miami Weather Bureau predicts that on 7/2/2025, the humidity at Miami might stay the same.\n",
    "- weather examples for template 4:\n",
    "    1. According to Dr. Linda Garcia, the temperature at Boston shall increase in November 2025.\n",
    "    2. According to Meteorologist Jake Wilson, the precipitation levels at Seattle will stay stable in January 1, 2025.\n",
    "    3. According to Dylan, the wind speed at Dylans home may fall in 10/5/2025.\n",
    "- weather examples for template 5:\n",
    "    1. In 3, December 2025, Meteorologist Claire Thompson envisions that the temperature at Chicago could stay increase.\n",
    "    2. In 5/2/2025, Dr. Robert Harris envisions that the humidity at Phoenix will stay stable.\n",
    "    3. In the month of July, the San Francisco Weather Bureau envisions that the precipitation levels in San Francisco should fall.\n",
    "- weather examples for template 6:\n",
    "    1. Temperature in Las Vegas has a low chance to rise in July 2025, according to Meteorologist Nina Patel.\n",
    "    2. Humidity in Houston will decline in 2025, Aug 3, according to Dr. Kevin Morales.\n",
    "    3. Wind speed in Miami could stay stable in 10/1/2025, according to the Miami Weather Bureau.\n",
    "\"\"\"\n",
    "\n",
    "weather_input_dict = {\n",
    "    \"prediction_domain\": \"weather\",\n",
    "    \"prediction_domain_attribute\": weather_attributes,\n",
    "    \"domain_requirements\": weather_requirements,\n",
    "    \"domain_examples\": weather_examples,\n",
    "    \"predictions_N\": generate_N_predictions_per_template\n",
    "}\n",
    "weather_prompt_output = pipeline_prompt.format(**weather_input_dict)"
   ]
  },
  {
   "cell_type": "markdown",
   "id": "42ac413b",
   "metadata": {},
   "source": [
    "### Generate Sports Predictions"
   ]
  },
  {
   "cell_type": "code",
   "execution_count": 14,
   "id": "60d3a0bb",
   "metadata": {},
   "outputs": [],
   "source": [
    "sport_attributes = \"\"\"score, touchdown, goal, points, win, lose, etc.\"\"\"\n",
    "sport_requirements = \"\"\"- Should be based on real-world sports.\n",
    "    - Suppose the time when $p$ was made is during any season of sports.\n",
    "    - Include reports from all sports professionals, coaches, or any type of sport entity..\"\"\"\n",
    "\n",
    "sport_examples = \"\"\"\n",
    "- sport examples for template 1:\n",
    "    1. Coach Lisa Martinez predicts that the touchdown rate at the Miami Dolphins will fall in 2020 of October.\n",
    "    2. Analyst Mark Johnson forecasts that the goal average at Manchester United will stay the same in November 2025.\n",
    "    3. Ryan forecasts win percentage he has for soccer will go up in 12/25/2016.\n",
    "- sport examples for template 2:\n",
    "    1. On Sep 20, 2100, Coach Maria Lopez suggests that the score average at the Chicago Bulls is climbing.\n",
    "    2. On 9/12/2025, Analyst David Kim anticipates the touchdown rate at the Kansas City Chiefs will likely surge.\n",
    "    3. On October 8, 2123, Detravious foresees that the win probability he has for rugby is expected to trend downward.\n",
    "- sport examples for template 3:\n",
    "    1. Coach Elena Ruiz predicts on 9/22/2025, the goal count at Real Madrid will climb.\n",
    "    2. Analyst Marcus Lee forecasts that on Sep 30, 2055, the point average at the Golden State Warriors will be higher.\n",
    "    3. George Jr. estimates that on October 15, 2035, the win ratio for games he has will disimprove.\n",
    "- sport examples for template 4:\n",
    "    1. According to Coach Sarah Nguyen, the scoring average at the Dallas Mavericks is expected to dip in Sep 2021.\n",
    "    2. According to Analyst Trevor Simmons, the touchdown rate at the Green Bay Packers will increase in 10/2025.\n",
    "    3. According to Manchester United, the win percentage at Manchester United is projected to drop in October 2034.\n",
    "- sport examples for template 5:\n",
    "    1. In 9/2025, Coach Miguel Torres envisions that the goal average at Paris Saint-Germain will hold steady.\n",
    "    2. In October 2056, Analyst Fiona Bennett anticipates that the win rate at the Toronto Raptors will decrease slightly.\n",
    "    3. In Sep 2086, Calvin foresees that the points per game he has in football will gradually increase.\n",
    "- sport examples for template 6:\n",
    "    1. The goal count at Liverpool FC will surge in Sep 2012, according to Coach Daniel Alvarez.\n",
    "    2. The win percentage at the Chicago Bears will taper off in October 2025, according to Analyst Priya Sharma.\n",
    "    3. The scoring average on Arnolds footbal team will remain steady in 10/2034, according to Arnold.\n",
    "\"\"\"\n",
    "sport_input_dict = {\n",
    "    \"prediction_domain\": \"sport\",\n",
    "    \"prediction_domain_attribute\": sport_attributes,\n",
    "    \"domain_requirements\": sport_requirements,\n",
    "    \"domain_examples\": sport_examples,\n",
    "    \"predictions_N\": generate_N_predictions_per_template\n",
    "}\n",
    "sport_prompt_output = pipeline_prompt.format(**sport_input_dict)"
   ]
  },
  {
   "cell_type": "markdown",
   "id": "ae362c9f",
   "metadata": {},
   "source": [
    "### Generate Miscellaneous Predictions"
   ]
  },
  {
   "cell_type": "code",
   "execution_count": 15,
   "id": "10194195",
   "metadata": {},
   "outputs": [],
   "source": [
    "miscellaneous_attributes = \"\"\"These attributes will take in any random attribute relating ot any real world situation.\"\"\"\n",
    "miscellaneous_requirements = \"\"\"These attributes will take in any random attribute relating ot any real world situation.\n",
    "    - Suppose the time when $p$ was made is during any season or part of the year.\n",
    "    - Include any type of entity..\"\"\"\n",
    "\n",
    "miscellaneous_examples = \"\"\"\n",
    "- miscellaneous examples for template 1:\n",
    "    1. Professor Laura White forecasts that the final exam scores at Crestwood Academy will drop in May 2023.\n",
    "    2. Chef Alberto Reyes predicts that the sweetness level in the bakery’s pastries will decline in fall 2027.\n",
    "    3. Gaming expert Jordan Lee foresees that the chances of rolling a seven at game night will decrease in October 2025.\n",
    "- miscellaneous examples for template 2:\n",
    "    1. On 9/18/2000, Professor Maria Jackson speculates that the GPA at Eastwood College will go up.\n",
    "    2. On November 2, 2020, Chef Gabrielle Moreau suggests that the saltiness in the soup at Le Petit Bistro will rise.\n",
    "    3. On December 10, 2025, Dungeons & Dragons master Oliver Cheng speculates that the chance of rolling a natural 20 will increase.\n",
    "- miscellaneous examples for template 3:\n",
    "    1. Dr. Sarah McDonald predicts that on Dec 15, 2029, the average student grade at Jefferson High will rise.\n",
    "    2. Coach Tony Roberts predicts that on 10/25/2015, the batting average at the Boston Red Sox will improve.\n",
    "    3. Sarah predicts that on January 5, 2026, the odds of drawing a joker from the deck will rise.\n",
    "- miscellaneous examples for template 4:\n",
    "    1. According to Coach Andre Collins, the three-point shooting percentage at Phoenix Suns will fall in January 2010.\n",
    "    2. According to Chef Emily Gonzalez, the bitterness of the coffee at The Brew Café will likely decrease in Winter 2012.\n",
    "    3. According to game analyst Tom Spencer, the chance of rolling doubles in the Monopoly game will trend upward in September 2028.\n",
    "- miscellaneous examples for template 5:\n",
    "    1. In fall 2029, Professor Kim Tansley envisions that the test scores at Riverbrook University will stay stable\n",
    "    2. In 12/2019, Chef Michael Harris envisions that the spice level at Curry King will remain steady.\n",
    "    3. In March of 2026, ChatGPT envisions that the dice rolling outcomes for a 6 will stay consistent.\n",
    "- miscellaneous examples for template 6:\n",
    "    1. Student performance will improve in Spring 2028, according to Professor B.T.\n",
    "    2. The flavor of the tomato sauce will increase in October 2015, according to Chef Veronica Miller.\n",
    "    3. FD's chances of rolling a 12 will stay the same on 1/11/2025, according to FD.\n",
    "\"\"\"\n",
    "miscellaneous_input_dict = {\n",
    "    \"prediction_domain\": \"miscellaneous\",\n",
    "    \"prediction_domain_attribute\": miscellaneous_attributes,\n",
    "    \"domain_requirements\": miscellaneous_requirements,\n",
    "    \"domain_examples\": miscellaneous_examples,\n",
    "    \"predictions_N\": generate_N_predictions_per_template\n",
    "}\n",
    "miscellaneous_prompt_output = pipeline_prompt.format(**miscellaneous_input_dict)"
   ]
  },
  {
   "cell_type": "markdown",
   "id": "012d23d7",
   "metadata": {},
   "source": [
    "## Generate Predictions"
   ]
  },
  {
   "cell_type": "code",
   "execution_count": 16,
   "id": "1d02699a",
   "metadata": {},
   "outputs": [
    {
     "name": "stderr",
     "output_type": "stream",
     "text": [
      "  0%|          | 0/1 [00:00<?, ?it/s]"
     ]
    },
    {
     "name": "stdout",
     "output_type": "stream",
     "text": [
      "===================================== Batch 0 ===============================================\n",
      "finance --- llama-3.1-8b-instruct --- NAVI_GATOR\n",
      "    generates: T1: Morgan Stanley forecasts that the stock price at Amazon will decrease in 2027 Q3.\n",
      "\n",
      "T2: On 08/21/2024, Goldman Sachs speculates that the operating cash flow at Microsoft will likely increase.\n",
      "\n",
      "T3: Morgan Stanley predicts on 2024-08-21, the stock value at Alphabet may rise.\n",
      "\n",
      "T4: According to Ryan, the projected revenue at Facebook would fall in Q4 2025.\n",
      "\n",
      "T5: In 2024/08/21, Wells Fargo envisions that the inflation rate in the US could stay stable.\n",
      "\n",
      "T6: Alphabet stock price will stay same in Q2 2027, according to Google's projections.\n",
      "> \u001b[32m/Users/detraviousjamaribrinkley/Documents/Development/research_labs/uf_ds/predictions/text_generation_models.py\u001b[39m(\u001b[92m181\u001b[39m)\u001b[36mgenerate_predictions\u001b[39m\u001b[34m()\u001b[39m\n",
      "\u001b[32m    180\u001b[39m         \u001b[38;5;66;03m# Parse the raw text into structured data (assuming a consistent format)\u001b[39;00m\n",
      "\u001b[32m--> 181\u001b[39m         predictions = []\n",
      "\u001b[32m    182\u001b[39m         \u001b[38;5;28;01mfor\u001b[39;00m line \u001b[38;5;28;01min\u001b[39;00m raw_text.split(\u001b[33m\"\\n\"\u001b[39m):\n",
      "\n"
     ]
    },
    {
     "name": "stderr",
     "output_type": "stream",
     "text": [
      "  0%|          | 0/1 [00:11<?, ?it/s]\n"
     ]
    }
   ],
   "source": [
    "N_batches = 1\n",
    "# text_generation_models = [llama_versatile_generation_model, llama_instant_generation_model, llama_70b_8192_generation_model, \n",
    "#                           llama_8b_8192_generation_model, gpt_35_turbo_generation_model, gpt_4_o_generation_model, \n",
    "#                           mixtral_87b_instruct_generation_model]\n",
    "# text_generation_models_navigator = [mixtral_87b_instruct_generation_model]\n",
    "text_generation_models_navigator = [llama_318b_generation_model, mistral_7b_generation_model]\n",
    "\n",
    "prediction_domains = [\"finance\", \"health\", \"policy\", \"weather\", \"sport\", \"miscellaneous\"]\n",
    "prediction_prompt_outputs = {\n",
    "    \"finance\": financial_prompt_output,\n",
    "    \"health\": health_prompt_output,\n",
    "    \"policy\": policy_prompt_output,\n",
    "    \"weather\": weather_prompt_output,\n",
    "    \"sport\": sport_prompt_output,\n",
    "    \"miscellaneous\": miscellaneous_prompt_output,\n",
    "}\n",
    "prediction_label = 1\n",
    "\n",
    "batched_predictions_df = tgmf.batch_generate_data(N_batches=N_batches, \n",
    "                                text_generation_models=text_generation_models_navigator, \n",
    "                                domains=prediction_domains,\n",
    "                                prompt_outputs=prediction_prompt_outputs,\n",
    "                                sentence_label=prediction_label)"
   ]
  },
  {
   "cell_type": "code",
   "execution_count": null,
   "id": "1546368e",
   "metadata": {},
   "outputs": [],
   "source": []
  },
  {
   "cell_type": "code",
   "execution_count": null,
   "id": "ff382f01",
   "metadata": {},
   "outputs": [],
   "source": [
    "pd.set_option('max_colwidth', 800)\n",
    "pd.set_option('display.max_columns', None)\n",
    "pd.set_option('display.max_rows', None)\n",
    "batched_predictions_df"
   ]
  },
  {
   "cell_type": "code",
   "execution_count": null,
   "id": "ca9cf637",
   "metadata": {},
   "outputs": [],
   "source": []
  }
 ],
 "metadata": {
  "kernelspec": {
   "display_name": ".venv_predictions",
   "language": "python",
   "name": "python3"
  },
  "language_info": {
   "codemirror_mode": {
    "name": "ipython",
    "version": 3
   },
   "file_extension": ".py",
   "mimetype": "text/x-python",
   "name": "python",
   "nbconvert_exporter": "python",
   "pygments_lexer": "ipython3",
   "version": "3.11.12"
  }
 },
 "nbformat": 4,
 "nbformat_minor": 5
}
