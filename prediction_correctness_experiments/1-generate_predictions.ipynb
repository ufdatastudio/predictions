{
 "cells": [
  {
   "cell_type": "markdown",
   "id": "5fc9e2f4",
   "metadata": {},
   "source": [
    "# 1-Generate Predictions using LangChain\n",
    "\n",
    "- **Goal:** Prediction Recognition\n",
    "\n",
    "- **Purpose:** To implement step 1 with sub steps of prediction recognition pipeline. See steps\n",
    "    1. Generate predictions\n",
    "        1. Create several prediction prompts templates\n",
    "        2. Utilize open-source LLMs to generate predictions\n",
    "\n",
    "- **Misc:**\n",
    "    - `%store`: Cell magic will store the variable of interest so we can load in another notebook"
   ]
  },
  {
   "cell_type": "markdown",
   "id": "b26029c3",
   "metadata": {},
   "source": [
    "Entities: You already have Representative Angela, Economist Dr. Henry, Meteorologist Nina, etc. Can we have at least one example per template? Other ex are analyst, expert, top executive,  senior level person, college student, research advisor, professional, military member, etc\n",
    "- Alex, a health expert\n",
    "- Angela Cortez, a member of Congress\n",
    "- Dr. Anna Lee --> Anna Lee, Ph.D.\n",
    "\n",
    "Future verb tense: A more balanced distribution/usage of the below\n",
    "- Update \"will likely\" to will (without likely) may, would, be going to, should, etc (can google more)\n",
    "- Can use rise/increase/as much as, fall/decrease/as little as, change, stay stable, high/low chance/probability/degree of, etc. (can google more)\n",
    "\n",
    "Date: We write the date differently in many cases below. Want this to be represented in the dataset.  Try to  disperse the same usage to other templates and other domains. For example: T2 for Health all have [Month, date, year] and similarly for T5 in Health [Month Year] are all grouped within one template.  See example dates below\n",
    "- (1) Wednesday, August 21, 2024; (2) Wed, August 21, 2024; (3) 08/21/2024; (4) 08/21/2024; (5) 21/08/2024; (6) 21 August 2024; (7) 2024/08/21; (8) 2024-08-21; (9) August 21, 2024; (10) Aug 21, 2024; (11) 21 August 2024, (12) 21 Aug 2024, Q3 of 2027, 2029 of Q3, etc (with removing day of week), first week of Fall, Q2 of 2033, 2045 Q3, etc.\n",
    "- Differentiate the month, date, and year. "
   ]
  },
  {
   "cell_type": "code",
   "execution_count": 1,
   "id": "01a3b011",
   "metadata": {},
   "outputs": [],
   "source": [
    "import os, sys\n",
    "\n",
    "import pandas as pd\n",
    "\n",
    "from tqdm import tqdm\n",
    "from langchain_core.prompts import PipelinePromptTemplate, PromptTemplate\n",
    "\n",
    "# Get the current working directory of the notebook\n",
    "notebook_dir = os.getcwd()\n",
    "# Add the parent directory to the system path\n",
    "sys.path.append(os.path.join(notebook_dir, '../'))\n",
    "\n",
    "from log_files import LogData\n",
    "from data_processing import DataProcessing\n",
    "from text_generation_models import TextGenerationModelFactory"
   ]
  },
  {
   "cell_type": "markdown",
   "id": "a598b119",
   "metadata": {},
   "source": [
    "## Text Generation Models"
   ]
  },
  {
   "cell_type": "code",
   "execution_count": 2,
   "id": "b6f573fb",
   "metadata": {},
   "outputs": [],
   "source": [
    "tgmf = TextGenerationModelFactory()\n",
    "\n",
    "llama_versatile_generation_model = tgmf.create_instance(model_name='llama-3.3-70b-versatile')\n",
    "llama_instant_generation_model = tgmf.create_instance('llama-3.1-8b-instant')\n",
    "llama_70b_8192_generation_model = tgmf.create_instance('llama3-70b-8192')\n",
    "llama_8b_8192_generation_model = tgmf.create_instance('llama3-8b-8192')\n",
    "\n",
    "gpt_35_turbo_generation_model = tgmf.create_instance('gpt-3.5-turbo')\n",
    "gpt_4_o_generation_model = tgmf.create_instance('gpt-4o')\n",
    "mixtral_87b_instruct_generation_model = tgmf.create_instance('mixtral-8x7b-instruct') "
   ]
  },
  {
   "cell_type": "markdown",
   "id": "50f78c6a",
   "metadata": {},
   "source": [
    "## Base Templates for Domain Predictions"
   ]
  },
  {
   "cell_type": "code",
   "execution_count": 3,
   "id": "4d32edc7",
   "metadata": {},
   "outputs": [],
   "source": [
    "full_prediction_template = \"\"\"{prediction_properties}\n",
    "\n",
    "{prediction_requirements}\n",
    "\n",
    "{prediction_templates}\n",
    "\n",
    "{prediction_examples}\n",
    "\"\"\"\n",
    "\n",
    "full_prediction_prompt = PromptTemplate.from_template(full_prediction_template)"
   ]
  },
  {
   "cell_type": "code",
   "execution_count": 4,
   "id": "3d420e85",
   "metadata": {},
   "outputs": [],
   "source": [
    "prediction_properties_template = \"\"\"A prediction <p> = (<p_s>, <p_t>, <p_d>, <p_a>), where it consists of the following four properties:\n",
    "\n",
    "    1. <p_s>, any source entity in the {prediction_domain} domain.\n",
    "        - Can be a person (with a name) or a {prediction_domain} person such as a {prediction_domain} reporter, {prediction_domain} analyst, {prediction_domain} expert, {prediction_domain} top executive, {prediction_domain} senior level person, etc), civilian.\n",
    "        - Can only be an organization that is associated with the {prediction_domain} prediction.\n",
    "    2. <p_t>, any target entity in the {prediction_domain} domain.\n",
    "\t    - Can be a person (with a name) or a {prediction_domain} person such as a {prediction_domain} reporter, {prediction_domain} analyst, {prediction_domain} expert, {prediction_domain} top executive, {prediction_domain} senior level person, etc).\n",
    "        - Can only be an organization that is associated with the {prediction_domain} prediction.\n",
    "    3. <p_d>, date or time range when <p> is expected to come to fruition or when one should observe the <p>.\n",
    "        - Forecast can range from a second to anytime in the future.\n",
    "        - Answers the questions: \"How far to go out from today?\" or \"Where to stop?\".\n",
    "    4. <p_a>, {prediction_domain} prediction attribute.\n",
    "        - Characteristics of a domain-specific attributes such as various quantifiable metrics relevant to the {prediction_domain} domain.\n",
    "        - Some examples are {prediction_domain_attribute}.  \n",
    "\"\"\"\n",
    "prediction_properties_prompt = PromptTemplate.from_template(prediction_properties_template)"
   ]
  },
  {
   "cell_type": "code",
   "execution_count": 5,
   "id": "95548954",
   "metadata": {},
   "outputs": [],
   "source": [
    "prediction_requirements_template = \"\"\"{prediction_domain} requirements to use for each prediction:\n",
    "\n",
    "    - Should be based on real-world {prediction_domain} data and not hallucinate.\n",
    "    - Only a simple sentence (prediction) (and NOT compounding using \"and\" or \"or\").\n",
    "    - Should diversify all four properties of the prediction (<p>) as in change and not use same for <p_s>, <p_t>, <p_d>, <p_a>.\n",
    "    - Should use synonyms to predict such as forecasts, speculates, foresee, envision, etc., and not use any of them more than ten times.\n",
    "    - The prediction should be unique and not repeated.\n",
    "    - Do not number the predictions.\n",
    "    - Do not say, \"As the {prediction_domain}, I will generate company-based {prediction_domain} predictions using the provided templates.\" or anything similar.\n",
    "    - Use the five different templates and examples provided.\n",
    "    - Change how the current date (<p_d>) written in the prediction with examples of (1) Wednesday, August 21, 2024; (2) Wed, August 21, 2024; (3) 08/21/2024; (4) 08/21/2024; (5) 21/08/2024; (6) 21 August 2024; (7) 2024/08/21; (8) 2024-08-21; (9) August 21, 2024; (10) Aug 21, 2024; (11) 21 August 2024, (12) 21 Aug 2024, Q3 of 2027, 2029 of Q3, etc (with removing day of week).\n",
    "    {domain_requirements}\n",
    "    - Do not say, \"Here are {predictions_N} unique {prediction_domain} predictions based on the provided templates and examples:\" in the prompt.\n",
    "    - Do not use any of the examples in the prompt.\n",
    "    - In front of every prodiction, put the template number in the format of \"T1:\", \"T2:\", etc. and do not number them like \"1.\", \"2.\", etc. Should have template number and generated prediction matching.\n",
    "    - Do not put template number on line by itself. Always pair with a prediction.\n",
    "    - Disregard brackets: \"<>\"\n",
    "    - Should never say \"Here are {predictions_N} unique {prediction_domain} predictions based on the provided templates and examples:\" or \"Note: I've made sure to follow the guidelines and templates provided, and generated unique predictions that meet the requirements.\"\n",
    "    - Do not use person name of entity name more than once as in don't use name Joe as both the <p_s> and <p_t>, unless like Mr. Sach and Goldman Sach or Mr. Sam Walton and Sam's Club, etc.\n",
    "    - The source entity (<p_s>) is rarely the same as the target entity (<p_t>) and if same, the <p_s> is making a prediction on itself in the <p_t>. Thus, can be first person and use first person pronouns. \n",
    "    - Should variate the slope of rise/increase/as much as, fall/decrease/as little as, change, stay stable, high/low chance/probability/degree of, etc and can be dramatic like drastic, exponential, etc\n",
    "    - Should variate the prediction verbs such as will, would, be going to, should, has potential to, etc.\n",
    "\"\"\"\n",
    "prediction_requirements_prompt = PromptTemplate.from_template(prediction_requirements_template)"
   ]
  },
  {
   "cell_type": "code",
   "execution_count": 6,
   "id": "07129ae1",
   "metadata": {},
   "outputs": [],
   "source": [
    "prediction_templates_template = \"\"\"Here are some {prediction_domain} templates:\n",
    "\n",
    "    - {prediction_domain} template 1: <p_s> forecasts that the <p_a> at <p_t> potentially decrease in <p_d>.\n",
    "    - {prediction_domain} template 2: On <p_d>, <p_s> speculates the <p_a> at <p_t> will likely increase.\n",
    "    - {prediction_domain} template 3: <p_s> predicts on <p_d>, the <p_t> <p_a> may rise.\n",
    "    - {prediction_domain} template 4: According to <p_s>, the <p_a> at <p_t> would fall in <p_d>.\n",
    "    - {prediction_domain} template 5: In <p_d>, <p_s> envisions that <p_t> <p_a> has some probability to remain stable.\n",
    "    - {prediction_domain} template 6: <p_t> <p_a> should stay same <p_d>, according to <p_s>. \n",
    "\n",
    "\"\"\"\n",
    "prediction_templates_prompt = PromptTemplate.from_template(prediction_templates_template)"
   ]
  },
  {
   "cell_type": "code",
   "execution_count": 7,
   "id": "e559ea64",
   "metadata": {},
   "outputs": [],
   "source": [
    "prediction_examples_template = \"\"\"Here are some examples of {prediction_domain} predictions:\n",
    "\n",
    "{domain_examples}\n",
    "\n",
    "With the above, generate a unique set of {predictions_N} predictions per template following the examples. Think from the perspective of an {prediction_domain} analyst, expert, top executive, or senior level person and even a college student, professional, research advisor, etc.\"\"\"\n",
    "prediction_examples_prompt = PromptTemplate.from_template(prediction_examples_template)"
   ]
  },
  {
   "cell_type": "code",
   "execution_count": 8,
   "id": "ad59deb9",
   "metadata": {},
   "outputs": [
    {
     "name": "stderr",
     "output_type": "stream",
     "text": [
      "/var/folders/78/9z0b45fx1xqbwxh8vk97lcfh0000gn/T/ipykernel_51531/3566428802.py:8: LangChainDeprecationWarning: This class is deprecated. Please see the docstring below or at the link for a replacement option: https://python.langchain.com/api_reference/core/prompts/langchain_core.prompts.pipeline.PipelinePromptTemplate.html\n",
      "  pipeline_prompt = PipelinePromptTemplate(\n"
     ]
    }
   ],
   "source": [
    "prediction_input_prompts = [\n",
    "    (\"prediction_properties\", prediction_properties_prompt),\n",
    "    (\"prediction_requirements\", prediction_requirements_prompt),\n",
    "    (\"prediction_templates\", prediction_templates_prompt),\n",
    "    (\"prediction_examples\", prediction_examples_prompt),\n",
    "]\n",
    "\n",
    "pipeline_prompt = PipelinePromptTemplate(\n",
    "    final_prompt=full_prediction_prompt, pipeline_prompts=prediction_input_prompts\n",
    ")"
   ]
  },
  {
   "cell_type": "markdown",
   "id": "099b1ddb",
   "metadata": {},
   "source": [
    "## Specific Templates for Domain Predictions"
   ]
  },
  {
   "cell_type": "markdown",
   "id": "1f51c614",
   "metadata": {},
   "source": [
    "- For now, generating 1 prediction per template. From here, I'll try 3 and increase by increments/multiples of 3.\n",
    "\n",
    "- With 1 prediction per template,\n",
    "    - 1 prediction per template x 6 examples per domain so 6 predictions per domain\n",
    "    - 6 predictions per domain x 4 domains = 24 predictions per model\n",
    "    - 24 predictions per model x 2 models = 48 predictions across all models\n",
    "    - 48 predictions across all models x 2 batches = 96 across all batches"
   ]
  },
  {
   "cell_type": "code",
   "execution_count": 9,
   "id": "be6a146d",
   "metadata": {},
   "outputs": [],
   "source": [
    "examples_per_template = 1\n",
    "generate_N_predictions_per_template = 1 * examples_per_template"
   ]
  },
  {
   "cell_type": "markdown",
   "id": "dd133022",
   "metadata": {},
   "source": [
    "### Template for Financial Predictions"
   ]
  },
  {
   "cell_type": "code",
   "execution_count": 10,
   "id": "5e2ddf01",
   "metadata": {},
   "outputs": [
    {
     "name": "stdout",
     "output_type": "stream",
     "text": [
      "A prediction <p> = (<p_s>, <p_t>, <p_d>, <p_a>), where it consists of the following four properties:\n",
      "\n",
      "    1. <p_s>, any source entity in the financial domain.\n",
      "        - Can be a person (with a name) or a financial person such as a financial reporter, financial analyst, financial expert, financial top executive, financial senior level person, etc), civilian.\n",
      "        - Can only be an organization that is associated with the financial prediction.\n",
      "    2. <p_t>, any target entity in the financial domain.\n",
      "\t    - Can be a person (with a name) or a financial person such as a financial reporter, financial analyst, financial expert, financial top executive, financial senior level person, etc).\n",
      "        - Can only be an organization that is associated with the financial prediction.\n",
      "    3. <p_d>, date or time range when <p> is expected to come to fruition or when one should observe the <p>.\n",
      "        - Forecast can range from a second to anytime in the future.\n",
      "        - Answers the questions: \"How far to go out from today?\" or \"Where to stop?\".\n",
      "    4. <p_a>, financial prediction attribute.\n",
      "        - Characteristics of a domain-specific attributes such as various quantifiable metrics relevant to the financial domain.\n",
      "        - Some examples are stock price, net profit, revenue, operating cash flow, research and development expenses, operating income, gross profit..  \n",
      "\n",
      "\n",
      "financial requirements to use for each prediction:\n",
      "\n",
      "    - Should be based on real-world financial data and not hallucinate.\n",
      "    - Only a simple sentence (prediction) (and NOT compounding using \"and\" or \"or\").\n",
      "    - Should diversify all four properties of the prediction (<p>) as in change and not use same for <p_s>, <p_t>, <p_d>, <p_a>.\n",
      "    - Should use synonyms to predict such as forecasts, speculates, foresee, envision, etc., and not use any of them more than ten times.\n",
      "    - The prediction should be unique and not repeated.\n",
      "    - Do not number the predictions.\n",
      "    - Do not say, \"As the financial, I will generate company-based financial predictions using the provided templates.\" or anything similar.\n",
      "    - Use the five different templates and examples provided.\n",
      "    - Change how the current date (<p_d>) written in the prediction with examples of (1) Wednesday, August 21, 2024; (2) Wed, August 21, 2024; (3) 08/21/2024; (4) 08/21/2024; (5) 21/08/2024; (6) 21 August 2024; (7) 2024/08/21; (8) 2024-08-21; (9) August 21, 2024; (10) Aug 21, 2024; (11) 21 August 2024, (12) 21 Aug 2024, Q3 of 2027, 2029 of Q3, etc (with removing day of week).\n",
      "    - Should be based on real-world financial earnings reports.\n",
      "    - Suppose the time when $p$ was made is during any earning season.\n",
      "    - Include stocks from all sectors such as consumer staples, energy, finance, health care, industrials, materials, media, real estate, retail, technology, utilities, defense, etc.\n",
      "    - Include the US Dollar sign ($) before or USD after the amount of the financial attribute.\n",
      "    - Do not say, \"Here are 1 unique financial predictions based on the provided templates and examples:\" in the prompt.\n",
      "    - Do not use any of the examples in the prompt.\n",
      "    - In front of every prodiction, put the template number in the format of \"T1:\", \"T2:\", etc. and do not number them like \"1.\", \"2.\", etc. Should have template number and generated prediction matching.\n",
      "    - Do not put template number on line by itself. Always pair with a prediction.\n",
      "    - Disregard brackets: \"<>\"\n",
      "    - Should never say \"Here are 1 unique financial predictions based on the provided templates and examples:\" or \"Note: I've made sure to follow the guidelines and templates provided, and generated unique predictions that meet the requirements.\"\n",
      "    - Do not use person name of entity name more than once as in don't use name Joe as both the <p_s> and <p_t>, unless like Mr. Sach and Goldman Sach or Mr. Sam Walton and Sam's Club, etc.\n",
      "    - The source entity (<p_s>) is rarely the same as the target entity (<p_t>) and if same, the <p_s> is making a prediction on itself in the <p_t>. Thus, can be first person and use first person pronouns. \n",
      "    - Should variate the slope of rise/increase/as much as, fall/decrease/as little as, change, stay stable, high/low chance/probability/degree of, etc and can be dramatic like drastic, exponential, etc\n",
      "    - Should variate the prediction verbs such as will, would, be going to, should, has potential to, etc.\n",
      "\n",
      "\n",
      "Here are some financial templates:\n",
      "\n",
      "    - financial template 1: <p_s> forecasts that the <p_a> at <p_t> potentially decrease in <p_d>.\n",
      "    - financial template 2: On <p_d>, <p_s> speculates the <p_a> at <p_t> will likely increase.\n",
      "    - financial template 3: <p_s> predicts on <p_d>, the <p_t> <p_a> may rise.\n",
      "    - financial template 4: According to <p_s>, the <p_a> at <p_t> would fall in <p_d>.\n",
      "    - financial template 5: In <p_d>, <p_s> envisions that <p_t> <p_a> has some probability to remain stable.\n",
      "    - financial template 6: <p_t> <p_a> should stay same <p_d>, according to <p_s>. \n",
      "\n",
      "\n",
      "\n",
      "Here are some examples of financial predictions:\n",
      "\n",
      "\n",
      "   - financial examples for template 1:\n",
      "      1. Detravious, an investor forecasts that the stock price at Apple will likely decrease in 2025 Q1.\n",
      "      2. Ava Lee predicts that the operating cash flow at ExxonMobil should decrease in 03/21/2025 to 08/21/2025.\n",
      "      3. Joe predicts that the stocks he has will likely increase in 2024/08/21.\n",
      "   - financial examples for template 2:\n",
      "      1. On March 15, 2025, Goldman Sachs speculates that the interest rates at the Federal Reserve will likely increase.\n",
      "      2. On April 2, 2025, Morgan Stanley forecasts that the stock value at Tesla will likely increase.\n",
      "      3. On January 28, 2025, Chase analysts foresee that there stock prices will likely increase.\n",
      "   - financial examples for template 3:\n",
      "      1. Morgan Stanley anticipates that on May 3, 2025, the NASDAQ composite index could climb moderately.\n",
      "      2. BlackRock foresees that on April 22, 2025, the value of Bitcoin has a high probability of rising sharply.\n",
      "      3. Morgan Stanley predicts that on May 3, 2025, there stock price will likely rise.\n",
      "   - financial examples for template 4:\n",
      "      1. According to Chase Bank, the expected returns at emerging market equities will likely fall in May 2025.\n",
      "      2. According to Ryan, the projected revenue at Meta Platforms will likely fall in Q2 2025.\n",
      "      3. According to Apple, the trading volume it has will likely increase in Q1 2025\n",
      "   - financial examples for template 5:\n",
      "      1. In April 2025, Wells Fargo expects that U.S. Treasury yields will likely stay stable.\n",
      "      2. In May 2025, Bob envisions that the inflation rate in Wells Fargo will likely stay stable.\n",
      "      3. In August 2025, Bob predicts that the stocks he has will likely stay stable.\n",
      "   - financial examples for template 6:\n",
      "      1. Apple stock price will decrease in February 2025, accordeing to Roger.\n",
      "      2. The NASDAQ index is expected to rise in June 2025, according to Bank of America.\n",
      "      3. Roger foresees the stock price increasing in July 2025, according to his projections.\n",
      " \n",
      "\n",
      "With the above, generate a unique set of 1 predictions per template following the examples. Think from the perspective of an financial analyst, expert, top executive, or senior level person and even a college student, professional, research advisor, etc.\n",
      "\n"
     ]
    }
   ],
   "source": [
    "financial_attributes = \"\"\"stock price, net profit, revenue, operating cash flow, research and development expenses, operating income, gross profit.\"\"\"\n",
    "financial_requirements = \"\"\"- Should be based on real-world financial earnings reports.\n",
    "    - Suppose the time when $p$ was made is during any earning season.\n",
    "    - Include stocks from all sectors such as consumer staples, energy, finance, health care, industrials, materials, media, real estate, retail, technology, utilities, defense, etc.\n",
    "    - Include the US Dollar sign ($) before or USD after the amount of the financial attribute.\"\"\"\n",
    "\n",
    "financial_examples = \"\"\"\n",
    "   - financial examples for template 1:\n",
    "      1. Detravious, an investor forecasts that the stock price at Apple will likely decrease in 2025 Q1.\n",
    "      2. Ava Lee predicts that the operating cash flow at ExxonMobil should decrease in 03/21/2025 to 08/21/2025.\n",
    "      3. Joe predicts that the stocks he has will likely increase in 2024/08/21.\n",
    "   - financial examples for template 2:\n",
    "      1. On March 15, 2025, Goldman Sachs speculates that the interest rates at the Federal Reserve will likely increase.\n",
    "      2. On April 2, 2025, Morgan Stanley forecasts that the stock value at Tesla will likely increase.\n",
    "      3. On January 28, 2025, Chase analysts foresee that there stock prices will likely increase.\n",
    "   - financial examples for template 3:\n",
    "      1. Morgan Stanley anticipates that on May 3, 2025, the NASDAQ composite index could climb moderately.\n",
    "      2. BlackRock foresees that on April 22, 2025, the value of Bitcoin has a high probability of rising sharply.\n",
    "      3. Morgan Stanley predicts that on May 3, 2025, there stock price will likely rise.\n",
    "   - financial examples for template 4:\n",
    "      1. According to Chase Bank, the expected returns at emerging market equities will likely fall in May 2025.\n",
    "      2. According to Ryan, the projected revenue at Meta Platforms will likely fall in Q2 2025.\n",
    "      3. According to Apple, the trading volume it has will likely increase in Q1 2025\n",
    "   - financial examples for template 5:\n",
    "      1. In April 2025, Wells Fargo expects that U.S. Treasury yields will likely stay stable.\n",
    "      2. In May 2025, Bob envisions that the inflation rate in Wells Fargo will likely stay stable.\n",
    "      3. In August 2025, Bob predicts that the stocks he has will likely stay stable.\n",
    "   - financial examples for template 6:\n",
    "      1. Apple stock price will decrease in February 2025, accordeing to Roger.\n",
    "      2. The NASDAQ index is expected to rise in June 2025, according to Bank of America.\n",
    "      3. Roger foresees the stock price increasing in July 2025, according to his projections.\n",
    " \"\"\"\n",
    "\n",
    "financial_input_dict = {\n",
    "    \"prediction_domain\": \"financial\",\n",
    "    \"prediction_domain_attribute\": financial_attributes,\n",
    "    \"domain_requirements\": financial_requirements,\n",
    "    \"domain_examples\": financial_examples,\n",
    "    \"predictions_N\": generate_N_predictions_per_template\n",
    "}\n",
    "financial_prompt_output = pipeline_prompt.format(**financial_input_dict)\n",
    "print(financial_prompt_output)\n"
   ]
  },
  {
   "cell_type": "markdown",
   "id": "7bf6df7a",
   "metadata": {},
   "source": [
    "###  Template for Health Predictions"
   ]
  },
  {
   "cell_type": "markdown",
   "id": "93be2402",
   "metadata": {},
   "source": [
    "\n",
    "Want these tied to specific campaigns, regions, or health studies? Yeah, that's a good idea.  In regions, could include national, state, and local.  Be sure with the health study ex that it's still a prediction instead of it being data already collected and analyzed. \n",
    "\n",
    "- Template: According to <p_s>, the <p_a> at <p_t> would fall in <p_d>.\n",
    "- Mappings: According to a <study by UF>, the <obesity rate> in <Gainesville, FL> should rapidly decrease between <9.8.2026 to 12.19.2026> (don't include in code; only showing relation to template. \n",
    "- Example: According to  study by UF, the obesity rate in Gainesville would  fall between 9.8.2026 to 12.19.2026\n",
    "\n",
    "I'm cool with some examples not  exactly matching the template. The only exact matchings should be the variables. Every other word can be a synonym."
   ]
  },
  {
   "cell_type": "code",
   "execution_count": 11,
   "id": "7d766f1f",
   "metadata": {},
   "outputs": [],
   "source": [
    "health_attributes = \"\"\"obesity rates, prevalence of chronic illnesses, average physical activity levels, nutritional intake, etc.\"\"\"\n",
    "health_requirements = \"\"\"- Should be based on real-world health reports.\n",
    "    - Suppose the time when $p$ was made is during any season such as flu season, allergy season, pandemic, epidemic, etc.\n",
    "    - Include reports from all Health organization, researcher, doctor, physical therapist, physician assistant, nurse practictioners, fitness expert, etc.\"\"\"\n",
    "\n",
    "health_examples = \"\"\"\n",
    "- health examples for template 1:\n",
    "    1. CDC predicts that the obesity rates at the national level will likely decrease in late 2025.\n",
    "    2. CDC forecasts that the prevalence of chronic illnesses at urban health centers will likely decrease in Q3 2025.\n",
    "    3. Chase Thinks that the average physical activity levels he does will likely increase in 2025.\n",
    "- health examples for template 2:\n",
    "    1. On May 15, 2025, the CDC speculates that the average physical activity levels at U.S. high schools will likely increase.\n",
    "    2. On June 1, 2025, Sam speculates that the nutritional intake at rural clinics in America will likely increase.\n",
    "    3. On July 1, 2025, Sam predicts that the obesity rates at the national level will likely increase.\n",
    "- health examples for template 3:\n",
    "    1. The NIH predicts that on July 5, 2025, public engagement in preventative health screenings will likely rise.\n",
    "    2. Alex suspects that on June 15, 2025, the obesity rates at the national level will likely decrease.\n",
    "    3. Talon envisions that on Januaruy 3, 2025, the average physical activity levels for him will likely rise.\n",
    "- health examples for template 4:\n",
    "    1. According to the CDC, the obesity rates at U.S. elementary schools will likely fall in Fall 2025.\n",
    "    2. According to the NIH, the average sugar consumption at public school cafeterias will likely fall in September 2025.\n",
    "    3. According to James, the average physical activity levels for him will likely fall in 2025.\n",
    "- health examples for template 5:\n",
    "    1. In June 2025, Dr. Maria Thompson envisions that national obesity rates will likely decrease.\n",
    "    2. In August 2025, Professor James Liu envisions that average physical activity levels among teenagers will likely increase.\n",
    "    3. In July 2025, Dr. Aisha Reynolds envisions that her nutritional intake will likely stay stable.\n",
    "- health examples for template 6:\n",
    "    1. Physical activity levels among seniors will likely rise in July 2025, according to Dr. Elena Morales.\n",
    "    2. Nutritional awareness in public schools will likely rise in September 2025, according to Professor Daniel Kim.\n",
    "    3. Sarah's health screening participation will likely rise in late 2025, according to Sarah.\n",
    "\"\"\"\n",
    "\n",
    "health_input_dict = {\n",
    "    \"prediction_domain\": \"health\",\n",
    "    \"prediction_domain_attribute\": health_attributes,\n",
    "    \"domain_requirements\": health_requirements,\n",
    "    \"domain_examples\": health_examples,\n",
    "    \"predictions_N\": generate_N_predictions_per_template\n",
    "}\n",
    "health_prompt_output = pipeline_prompt.format(**health_input_dict)\n"
   ]
  },
  {
   "cell_type": "markdown",
   "id": "0d0959d8",
   "metadata": {},
   "source": [
    "###  Template for Policy Predictions"
   ]
  },
  {
   "cell_type": "markdown",
   "id": "e8bc848a",
   "metadata": {},
   "source": [
    "Change <e_s> to be first person in some cases\n",
    "\n",
    "- T1. 3. Angela Cortez forcasts that data privacy laws in the technology sector will likely stay stable in the public, in late 2025, according to expert Angela Cortez. \n",
    "    - I forcast that data privacy laws in the technology sector will likely stay stable in the public, in late 2025, according to expert Angela Cortez.\n",
    "\n",
    "- T6. 3. Rachel Alvarez's voter participation in local elections will likely stay the same in November 2025, according to Rachel Alvarez.\n",
    "    - My voter participation in local elections will likely stay the same in November 2025, according to Rachel Alvarez."
   ]
  },
  {
   "cell_type": "code",
   "execution_count": 12,
   "id": "79c8c628",
   "metadata": {},
   "outputs": [],
   "source": [
    "policy_attributes = \"\"\"election outcomes, economic reforms, legislative impacts.\"\"\"\n",
    "policy_requirements = \"\"\"- Should be based on real-world policy reports.\n",
    "    - Suppose the time when $p$ was made is during an election cycle or non-election cycles.\n",
    "    - Include policies & laws, from all sectors such as consumer staples, energy, finance, health care, industrials, materials, media, real estate, retail, technology, utilities, defense, etc.\"\"\"\n",
    "\n",
    "policy_examples = \"\"\"\n",
    "   - policy examples for template 1:\n",
    "      1. Election outcomes in key swing states will likely rise in national importance in November 2025, according to analyst Rachel Lin.\n",
    "      2. Economic reforms in the energy sector will likely increase in visibility in Q3 2025, according to Dr. Marcus Grant from the Brookings Institution.\n",
    "      3. I forcast that data privacy laws in the technology sector will likely stay stable in the public, in late 2025, according to expert Angela Cortez.\n",
    "   - policy examples for template 2:\n",
    "      1. On April 5, 2025, the Brookings Institution speculates that voter turnout at battleground states will likely stay stable.\n",
    "      2. On May 12, 2025, the International Monetary Fund speculates that investment activity at emerging markets will likely increase.\n",
    "      3. On June 1, 2025, policy analyst Rachel Kim speculates that regulatory scrutiny in Rachels large tech firms will likely decrease.\n",
    "   - policy examples for template 3:\n",
    "      1. Representative Angela Brooks predicts that on October 15, 2025, the defense budget allocation will likely stay stable.\n",
    "      2. Economist Dr. Henry Zhao predicts that on July 1, 2025, the corporate tax rate in the finance sector will likely rise.\n",
    "      3. Senator Michael Greene predicts that on November 3, 2025, his voter engagement in suburban districts will likely decrease.\n",
    "   - policy examples for template 4:\n",
    "      1. According to Senator Alicia Ramirez, the public trust at federal institutions will likely increase in late 2025.\n",
    "      2. According to Thomas Nguyen, the investment confidence at the real estate sector will likely fall in Q3 2025.\n",
    "      3. According to policy advisor Natalie Chen, the employment rate at at her company firms will likely stay stable in September 2025.\n",
    "   - policy examples for template 5:\n",
    "      1. In August 2025, Senator Jordan Ellis envisions that healthcare spending will likely stay stable.\n",
    "      2. In June 2025, economist Dr. Priya Nandakumar envisions that inflation rates in the consumer staples sector will likely increase.\n",
    "      3. In October 2025, policy strategist Kevin Adler envisions that his defense contract approvals will likely decrease.\n",
    "   - policy examples for template 6:\n",
    "      1. Renewable energy investments are expected to rise in Q3 2025, according to Dr. Elena Foster.\n",
    "      2. Healthcare subsidies will likely decrease in September 2025, according to Senator Marcus Lee.\n",
    "      3. My voter participation in local elections will likely stay the same in November 2025, according to Rachel Alvarez.\n",
    "\"\"\"\n",
    "\n",
    "policy_input_dict = {\n",
    "    \"prediction_domain\": \"policy\",\n",
    "    \"prediction_domain_attribute\": policy_attributes,\n",
    "    \"domain_requirements\": policy_requirements,\n",
    "    \"domain_examples\": policy_examples,\n",
    "    \"predictions_N\": generate_N_predictions_per_template\n",
    "}\n",
    "policy_prompt_output = pipeline_prompt.format(**policy_input_dict)"
   ]
  },
  {
   "cell_type": "markdown",
   "id": "bad02107",
   "metadata": {},
   "source": [
    "###  Template for Weather Predictions"
   ]
  },
  {
   "cell_type": "markdown",
   "id": "c27237ad",
   "metadata": {},
   "source": [
    "I updated <p_d> for: \n",
    "- T2 1.\n",
    "- T2 3."
   ]
  },
  {
   "cell_type": "code",
   "execution_count": 13,
   "id": "cc4bdd74",
   "metadata": {},
   "outputs": [],
   "source": [
    "weather_attributes = \"\"\"temperature, precipitation, wind speed, humidity, etc.\"\"\"\n",
    "weather_requirements = \"\"\"- Should be based on real-world weather reports.\n",
    "    - Suppose the time when $p$ was made is during any season and any location (ie: Florida known for hurricanes, California known for wildfires, etc).\n",
    "    - Include reports from all meteorologists, weather organizations, or any type of weather entity..\"\"\"\n",
    "\n",
    "weather_examples = \"\"\"\n",
    "    - weather examples for template 1:\n",
    "        1. The National Weather Service forecasts that the precipitation levels at Miami will likely increase in September 2025.\n",
    "        2. AccuWeather forecasts that the humidity at Phoenix will likely stay stable in early fall 2025.\n",
    "        3. Sam forecasts that the wind speed at his house will likely decrease in November 2025.\n",
    "    - weather examples for template 2:\n",
    "        1. On 08/21/2024, Meteorologist Lisa Park speculates that the temperature at Los Angeles will likely increase.\n",
    "        2. On June 15, 2025, Dr. Mark Williams speculates that the humidity at Houston will likely decrease.\n",
    "        3. Third week in January, San Francisco's meteorological team speculates that the wind speed in San Francisco will likely stay stable.\n",
    "    - weather examples for template 3:\n",
    "        1. Dr. Anna Lee predicts that on May 20, 2025, the temperature at Denver will likely decrease.\n",
    "        2. Meteorologist John Roberts predicts that on July 1, 2025, the wind speed at New York will likely rise.\n",
    "        3. The Miami Weather Bureau predicts that on August 10, 2025, the humidity at Miami will likely stay stable.\n",
    "    - weather examples for template 4:\n",
    "        1. According to Dr. Linda Garcia, the temperature at Boston will likely increase in November 2025.\n",
    "        2. According to Meteorologist Jake Wilson, the precipitation levels at Seattle will likely stay stable in January 2025.\n",
    "        3. According to Dylan, the wind speed at Dylans home will likely fall in October 2025.\n",
    "    - weather examples for template 5:\n",
    "        1. In December 2025, Meteorologist Claire Thompson envisions that the temperature at Chicago will likely stay increase.\n",
    "        2. In May 2025, Dr. Robert Harris envisions that the humidity at Phoenix will likely stay stable.\n",
    "        3. In July 2025, the San Francisco Weather Bureau envisions that the precipitation levels in San Francisco will likely decrease.\n",
    "    - weather examples for template 6:\n",
    "        1. Temperature in Las Vegas will likely rise in July 2025, according to Meteorologist Nina Patel.\n",
    "        2. Humidity in Houston will likely decrease in August 2025, according to Dr. Kevin Morales.\n",
    "        3. Wind speed in Miami will likely stay stable in October 2025, according to the Miami Weather Bureau.\n",
    "\"\"\"\n",
    "\n",
    "weather_input_dict = {\n",
    "    \"prediction_domain\": \"weather\",\n",
    "    \"prediction_domain_attribute\": weather_attributes,\n",
    "    \"domain_requirements\": weather_requirements,\n",
    "    \"domain_examples\": weather_examples,\n",
    "    \"predictions_N\": generate_N_predictions_per_template\n",
    "}\n",
    "weather_prompt_output = pipeline_prompt.format(**weather_input_dict)\n"
   ]
  },
  {
   "cell_type": "markdown",
   "id": "012d23d7",
   "metadata": {},
   "source": [
    "## Generate Predictions"
   ]
  },
  {
   "cell_type": "markdown",
   "id": "9a718296",
   "metadata": {},
   "source": [
    "I updated `batch_generate_predictions` to `batch_generate_data`. Same function, different name. Use the one that goes with the code you have. "
   ]
  },
  {
   "cell_type": "code",
   "execution_count": 14,
   "id": "1546368e",
   "metadata": {},
   "outputs": [
    {
     "name": "stderr",
     "output_type": "stream",
     "text": [
      "  0%|          | 0/1 [00:00<?, ?it/s]\n"
     ]
    },
    {
     "name": "stdout",
     "output_type": "stream",
     "text": [
      "===================================== Batch 0 ===============================================\n",
      "finance --- gpt-3.5-turbo --- NAVI_GATOR\n"
     ]
    },
    {
     "ename": "BadRequestError",
     "evalue": "Error code: 400 - {'error': {'message': 'ExceededBudget: User=dj.brinkley@ufl.edu over budget. Spend=5.007422400000013, Budget=5.0', 'type': 'budget_exceeded', 'param': None, 'code': '400'}}",
     "output_type": "error",
     "traceback": [
      "\u001b[31m---------------------------------------------------------------------------\u001b[39m",
      "\u001b[31mBadRequestError\u001b[39m                           Traceback (most recent call last)",
      "\u001b[36mCell\u001b[39m\u001b[36m \u001b[39m\u001b[32mIn[14]\u001b[39m\u001b[32m, line 16\u001b[39m\n\u001b[32m      8\u001b[39m prediction_prompt_outputs = {\n\u001b[32m      9\u001b[39m     \u001b[33m\"\u001b[39m\u001b[33mfinance\u001b[39m\u001b[33m\"\u001b[39m: financial_prompt_output,\n\u001b[32m     10\u001b[39m     \u001b[33m\"\u001b[39m\u001b[33mhealth\u001b[39m\u001b[33m\"\u001b[39m: health_prompt_output,\n\u001b[32m     11\u001b[39m     \u001b[33m\"\u001b[39m\u001b[33mpolicy\u001b[39m\u001b[33m\"\u001b[39m: policy_prompt_output,\n\u001b[32m     12\u001b[39m     \u001b[33m\"\u001b[39m\u001b[33mweather\u001b[39m\u001b[33m\"\u001b[39m: weather_prompt_output,\n\u001b[32m     13\u001b[39m }\n\u001b[32m     14\u001b[39m prediction_label = \u001b[32m1\u001b[39m\n\u001b[32m---> \u001b[39m\u001b[32m16\u001b[39m batched_predictions_df = \u001b[43mtgmf\u001b[49m\u001b[43m.\u001b[49m\u001b[43mbatch_generate_data\u001b[49m\u001b[43m(\u001b[49m\u001b[43mN_batches\u001b[49m\u001b[43m=\u001b[49m\u001b[43mN_batches\u001b[49m\u001b[43m,\u001b[49m\u001b[43m \u001b[49m\n\u001b[32m     17\u001b[39m \u001b[43m                                \u001b[49m\u001b[43mtext_generation_models\u001b[49m\u001b[43m=\u001b[49m\u001b[43mtext_generation_models_navigator\u001b[49m\u001b[43m,\u001b[49m\u001b[43m \u001b[49m\n\u001b[32m     18\u001b[39m \u001b[43m                                \u001b[49m\u001b[43mdomains\u001b[49m\u001b[43m=\u001b[49m\u001b[43mprediction_domains\u001b[49m\u001b[43m,\u001b[49m\n\u001b[32m     19\u001b[39m \u001b[43m                                \u001b[49m\u001b[43mprompt_outputs\u001b[49m\u001b[43m=\u001b[49m\u001b[43mprediction_prompt_outputs\u001b[49m\u001b[43m,\u001b[49m\n\u001b[32m     20\u001b[39m \u001b[43m                                \u001b[49m\u001b[43msentence_label\u001b[49m\u001b[43m=\u001b[49m\u001b[43mprediction_label\u001b[49m\u001b[43m)\u001b[49m\n",
      "\u001b[36mFile \u001b[39m\u001b[32m~/Documents/Development/research_labs/uf_ds/predictions/prediction_correctness_experiments/../text_generation_models.py:254\u001b[39m, in \u001b[36mTextGenerationModelFactory.batch_generate_data\u001b[39m\u001b[34m(self, N_batches, text_generation_models, domains, prompt_outputs, sentence_label)\u001b[39m\n\u001b[32m    251\u001b[39m \u001b[38;5;28mprint\u001b[39m(\u001b[33mf\u001b[39m\u001b[33m\"\u001b[39m\u001b[38;5;132;01m{\u001b[39;00mdomain\u001b[38;5;132;01m}\u001b[39;00m\u001b[33m --- \u001b[39m\u001b[38;5;132;01m{\u001b[39;00mtext_generation_model.\u001b[34m__name__\u001b[39m()\u001b[38;5;132;01m}\u001b[39;00m\u001b[33m --- \u001b[39m\u001b[38;5;132;01m{\u001b[39;00mtext_generation_model.api_name\u001b[38;5;132;01m}\u001b[39;00m\u001b[33m\"\u001b[39m)\n\u001b[32m    253\u001b[39m prompt_output = prompt_outputs[domain]\n\u001b[32m--> \u001b[39m\u001b[32m254\u001b[39m model_df = \u001b[43mtext_generation_model\u001b[49m\u001b[43m.\u001b[49m\u001b[43mgenerate_predictions\u001b[49m\u001b[43m(\u001b[49m\u001b[43mprompt_output\u001b[49m\u001b[43m,\u001b[49m\u001b[43m \u001b[49m\u001b[43mlabel\u001b[49m\u001b[43m=\u001b[49m\u001b[43msentence_label\u001b[49m\u001b[43m,\u001b[49m\u001b[43m \u001b[49m\u001b[43mdomain\u001b[49m\u001b[43m=\u001b[49m\u001b[43mdomain\u001b[49m\u001b[43m,\u001b[49m\u001b[43m \u001b[49m\u001b[43mbatch_id\u001b[49m\u001b[43m=\u001b[49m\u001b[43mbatch_idx\u001b[49m\u001b[43m)\u001b[49m\n\u001b[32m    256\u001b[39m batch_dfs.append(model_df)\n\u001b[32m    257\u001b[39m batch_predictions_df = DataProcessing.concat_dfs(batch_dfs)\n",
      "\u001b[36mFile \u001b[39m\u001b[32m~/Documents/Development/research_labs/uf_ds/predictions/prediction_correctness_experiments/../text_generation_models.py:163\u001b[39m, in \u001b[36mTextGenerationModelFactory.generate_predictions\u001b[39m\u001b[34m(self, prompt_template, label, domain, batch_id)\u001b[39m\n\u001b[32m    140\u001b[39m \u001b[38;5;250m\u001b[39m\u001b[33;03m\"\"\"Generate a completion response and return as a DataFrame.\u001b[39;00m\n\u001b[32m    141\u001b[39m \n\u001b[32m    142\u001b[39m \u001b[33;03mParameters:\u001b[39;00m\n\u001b[32m   (...)\u001b[39m\u001b[32m    159\u001b[39m \u001b[33;03m    The generated completion response formatted as a DataFrame.\u001b[39;00m\n\u001b[32m    160\u001b[39m \u001b[33;03m\"\"\"\u001b[39;00m\n\u001b[32m    161\u001b[39m \u001b[38;5;66;03m# Generate the raw prediction text\u001b[39;00m\n\u001b[32m    162\u001b[39m \u001b[38;5;66;03m# print(f\"\\nprompt_template: {prompt_template}\\n\\n\")\u001b[39;00m\n\u001b[32m--> \u001b[39m\u001b[32m163\u001b[39m raw_text = \u001b[38;5;28;43mself\u001b[39;49m\u001b[43m.\u001b[49m\u001b[43mchat_completion\u001b[49m\u001b[43m(\u001b[49m\u001b[43m[\u001b[49m\u001b[38;5;28;43mself\u001b[39;49m\u001b[43m.\u001b[49m\u001b[43muser\u001b[49m\u001b[43m(\u001b[49m\u001b[43mprompt_template\u001b[49m\u001b[43m)\u001b[49m\u001b[43m]\u001b[49m\u001b[43m)\u001b[49m\n\u001b[32m    164\u001b[39m \u001b[38;5;66;03m# print(f\"{self.model_name} + {domain} generates: {raw_text}\")\u001b[39;00m\n\u001b[32m    165\u001b[39m \n\u001b[32m    166\u001b[39m \u001b[38;5;66;03m# Parse the raw text into structured data (assuming a consistent format)\u001b[39;00m\n\u001b[32m    167\u001b[39m predictions = []\n",
      "\u001b[36mFile \u001b[39m\u001b[32m~/Documents/Development/research_labs/uf_ds/predictions/prediction_correctness_experiments/../text_generation_models.py:131\u001b[39m, in \u001b[36mTextGenerationModelFactory.chat_completion\u001b[39m\u001b[34m(self, messages)\u001b[39m\n\u001b[32m    108\u001b[39m \u001b[38;5;28;01mdef\u001b[39;00m\u001b[38;5;250m \u001b[39m\u001b[34mchat_completion\u001b[39m(\u001b[38;5;28mself\u001b[39m, messages: List[Dict]) -> \u001b[38;5;28mstr\u001b[39m:\n\u001b[32m    109\u001b[39m \u001b[38;5;250m    \u001b[39m\u001b[33;03m\"\"\"Generate a chat completion response.\u001b[39;00m\n\u001b[32m    110\u001b[39m \u001b[33;03m    \u001b[39;00m\n\u001b[32m    111\u001b[39m \u001b[33;03m    Parameters:\u001b[39;00m\n\u001b[32m   (...)\u001b[39m\u001b[32m    128\u001b[39m \u001b[33;03m        The generated chat completion response.\u001b[39;00m\n\u001b[32m    129\u001b[39m \u001b[33;03m    \"\"\"\u001b[39;00m\n\u001b[32m--> \u001b[39m\u001b[32m131\u001b[39m     response = \u001b[38;5;28;43mself\u001b[39;49m\u001b[43m.\u001b[49m\u001b[43mclient\u001b[49m\u001b[43m.\u001b[49m\u001b[43mchat\u001b[49m\u001b[43m.\u001b[49m\u001b[43mcompletions\u001b[49m\u001b[43m.\u001b[49m\u001b[43mcreate\u001b[49m\u001b[43m(\u001b[49m\n\u001b[32m    132\u001b[39m \u001b[43m        \u001b[49m\u001b[43mmessages\u001b[49m\u001b[43m=\u001b[49m\u001b[43mmessages\u001b[49m\u001b[43m,\u001b[49m\n\u001b[32m    133\u001b[39m \u001b[43m        \u001b[49m\u001b[43mmodel\u001b[49m\u001b[43m=\u001b[49m\u001b[38;5;28;43mself\u001b[39;49m\u001b[43m.\u001b[49m\u001b[43mmodel_name\u001b[49m\u001b[43m,\u001b[49m\n\u001b[32m    134\u001b[39m \u001b[43m        \u001b[49m\u001b[43mtemperature\u001b[49m\u001b[43m=\u001b[49m\u001b[38;5;28;43mself\u001b[39;49m\u001b[43m.\u001b[49m\u001b[43mtemperature\u001b[49m\u001b[43m,\u001b[49m\n\u001b[32m    135\u001b[39m \u001b[43m        \u001b[49m\u001b[43mtop_p\u001b[49m\u001b[43m=\u001b[49m\u001b[38;5;28;43mself\u001b[39;49m\u001b[43m.\u001b[49m\u001b[43mtop_p\u001b[49m\u001b[43m,\u001b[49m\n\u001b[32m    136\u001b[39m \u001b[43m    \u001b[49m\u001b[43m)\u001b[49m\n\u001b[32m    137\u001b[39m     \u001b[38;5;28;01mreturn\u001b[39;00m response.choices[\u001b[32m0\u001b[39m].message.content\n",
      "\u001b[36mFile \u001b[39m\u001b[32m~/Documents/Development/research_labs/uf_ds/predictions/.venv_predictions/lib/python3.11/site-packages/openai/_utils/_utils.py:279\u001b[39m, in \u001b[36mrequired_args.<locals>.inner.<locals>.wrapper\u001b[39m\u001b[34m(*args, **kwargs)\u001b[39m\n\u001b[32m    277\u001b[39m             msg = \u001b[33mf\u001b[39m\u001b[33m\"\u001b[39m\u001b[33mMissing required argument: \u001b[39m\u001b[38;5;132;01m{\u001b[39;00mquote(missing[\u001b[32m0\u001b[39m])\u001b[38;5;132;01m}\u001b[39;00m\u001b[33m\"\u001b[39m\n\u001b[32m    278\u001b[39m     \u001b[38;5;28;01mraise\u001b[39;00m \u001b[38;5;167;01mTypeError\u001b[39;00m(msg)\n\u001b[32m--> \u001b[39m\u001b[32m279\u001b[39m \u001b[38;5;28;01mreturn\u001b[39;00m \u001b[43mfunc\u001b[49m\u001b[43m(\u001b[49m\u001b[43m*\u001b[49m\u001b[43margs\u001b[49m\u001b[43m,\u001b[49m\u001b[43m \u001b[49m\u001b[43m*\u001b[49m\u001b[43m*\u001b[49m\u001b[43mkwargs\u001b[49m\u001b[43m)\u001b[49m\n",
      "\u001b[36mFile \u001b[39m\u001b[32m~/Documents/Development/research_labs/uf_ds/predictions/.venv_predictions/lib/python3.11/site-packages/openai/resources/chat/completions/completions.py:929\u001b[39m, in \u001b[36mCompletions.create\u001b[39m\u001b[34m(self, messages, model, audio, frequency_penalty, function_call, functions, logit_bias, logprobs, max_completion_tokens, max_tokens, metadata, modalities, n, parallel_tool_calls, prediction, presence_penalty, reasoning_effort, response_format, seed, service_tier, stop, store, stream, stream_options, temperature, tool_choice, tools, top_logprobs, top_p, user, web_search_options, extra_headers, extra_query, extra_body, timeout)\u001b[39m\n\u001b[32m    886\u001b[39m \u001b[38;5;129m@required_args\u001b[39m([\u001b[33m\"\u001b[39m\u001b[33mmessages\u001b[39m\u001b[33m\"\u001b[39m, \u001b[33m\"\u001b[39m\u001b[33mmodel\u001b[39m\u001b[33m\"\u001b[39m], [\u001b[33m\"\u001b[39m\u001b[33mmessages\u001b[39m\u001b[33m\"\u001b[39m, \u001b[33m\"\u001b[39m\u001b[33mmodel\u001b[39m\u001b[33m\"\u001b[39m, \u001b[33m\"\u001b[39m\u001b[33mstream\u001b[39m\u001b[33m\"\u001b[39m])\n\u001b[32m    887\u001b[39m \u001b[38;5;28;01mdef\u001b[39;00m\u001b[38;5;250m \u001b[39m\u001b[34mcreate\u001b[39m(\n\u001b[32m    888\u001b[39m     \u001b[38;5;28mself\u001b[39m,\n\u001b[32m   (...)\u001b[39m\u001b[32m    926\u001b[39m     timeout: \u001b[38;5;28mfloat\u001b[39m | httpx.Timeout | \u001b[38;5;28;01mNone\u001b[39;00m | NotGiven = NOT_GIVEN,\n\u001b[32m    927\u001b[39m ) -> ChatCompletion | Stream[ChatCompletionChunk]:\n\u001b[32m    928\u001b[39m     validate_response_format(response_format)\n\u001b[32m--> \u001b[39m\u001b[32m929\u001b[39m     \u001b[38;5;28;01mreturn\u001b[39;00m \u001b[38;5;28;43mself\u001b[39;49m\u001b[43m.\u001b[49m\u001b[43m_post\u001b[49m\u001b[43m(\u001b[49m\n\u001b[32m    930\u001b[39m \u001b[43m        \u001b[49m\u001b[33;43m\"\u001b[39;49m\u001b[33;43m/chat/completions\u001b[39;49m\u001b[33;43m\"\u001b[39;49m\u001b[43m,\u001b[49m\n\u001b[32m    931\u001b[39m \u001b[43m        \u001b[49m\u001b[43mbody\u001b[49m\u001b[43m=\u001b[49m\u001b[43mmaybe_transform\u001b[49m\u001b[43m(\u001b[49m\n\u001b[32m    932\u001b[39m \u001b[43m            \u001b[49m\u001b[43m{\u001b[49m\n\u001b[32m    933\u001b[39m \u001b[43m                \u001b[49m\u001b[33;43m\"\u001b[39;49m\u001b[33;43mmessages\u001b[39;49m\u001b[33;43m\"\u001b[39;49m\u001b[43m:\u001b[49m\u001b[43m \u001b[49m\u001b[43mmessages\u001b[49m\u001b[43m,\u001b[49m\n\u001b[32m    934\u001b[39m \u001b[43m                \u001b[49m\u001b[33;43m\"\u001b[39;49m\u001b[33;43mmodel\u001b[39;49m\u001b[33;43m\"\u001b[39;49m\u001b[43m:\u001b[49m\u001b[43m \u001b[49m\u001b[43mmodel\u001b[49m\u001b[43m,\u001b[49m\n\u001b[32m    935\u001b[39m \u001b[43m                \u001b[49m\u001b[33;43m\"\u001b[39;49m\u001b[33;43maudio\u001b[39;49m\u001b[33;43m\"\u001b[39;49m\u001b[43m:\u001b[49m\u001b[43m \u001b[49m\u001b[43maudio\u001b[49m\u001b[43m,\u001b[49m\n\u001b[32m    936\u001b[39m \u001b[43m                \u001b[49m\u001b[33;43m\"\u001b[39;49m\u001b[33;43mfrequency_penalty\u001b[39;49m\u001b[33;43m\"\u001b[39;49m\u001b[43m:\u001b[49m\u001b[43m \u001b[49m\u001b[43mfrequency_penalty\u001b[49m\u001b[43m,\u001b[49m\n\u001b[32m    937\u001b[39m \u001b[43m                \u001b[49m\u001b[33;43m\"\u001b[39;49m\u001b[33;43mfunction_call\u001b[39;49m\u001b[33;43m\"\u001b[39;49m\u001b[43m:\u001b[49m\u001b[43m \u001b[49m\u001b[43mfunction_call\u001b[49m\u001b[43m,\u001b[49m\n\u001b[32m    938\u001b[39m \u001b[43m                \u001b[49m\u001b[33;43m\"\u001b[39;49m\u001b[33;43mfunctions\u001b[39;49m\u001b[33;43m\"\u001b[39;49m\u001b[43m:\u001b[49m\u001b[43m \u001b[49m\u001b[43mfunctions\u001b[49m\u001b[43m,\u001b[49m\n\u001b[32m    939\u001b[39m \u001b[43m                \u001b[49m\u001b[33;43m\"\u001b[39;49m\u001b[33;43mlogit_bias\u001b[39;49m\u001b[33;43m\"\u001b[39;49m\u001b[43m:\u001b[49m\u001b[43m \u001b[49m\u001b[43mlogit_bias\u001b[49m\u001b[43m,\u001b[49m\n\u001b[32m    940\u001b[39m \u001b[43m                \u001b[49m\u001b[33;43m\"\u001b[39;49m\u001b[33;43mlogprobs\u001b[39;49m\u001b[33;43m\"\u001b[39;49m\u001b[43m:\u001b[49m\u001b[43m \u001b[49m\u001b[43mlogprobs\u001b[49m\u001b[43m,\u001b[49m\n\u001b[32m    941\u001b[39m \u001b[43m                \u001b[49m\u001b[33;43m\"\u001b[39;49m\u001b[33;43mmax_completion_tokens\u001b[39;49m\u001b[33;43m\"\u001b[39;49m\u001b[43m:\u001b[49m\u001b[43m \u001b[49m\u001b[43mmax_completion_tokens\u001b[49m\u001b[43m,\u001b[49m\n\u001b[32m    942\u001b[39m \u001b[43m                \u001b[49m\u001b[33;43m\"\u001b[39;49m\u001b[33;43mmax_tokens\u001b[39;49m\u001b[33;43m\"\u001b[39;49m\u001b[43m:\u001b[49m\u001b[43m \u001b[49m\u001b[43mmax_tokens\u001b[49m\u001b[43m,\u001b[49m\n\u001b[32m    943\u001b[39m \u001b[43m                \u001b[49m\u001b[33;43m\"\u001b[39;49m\u001b[33;43mmetadata\u001b[39;49m\u001b[33;43m\"\u001b[39;49m\u001b[43m:\u001b[49m\u001b[43m \u001b[49m\u001b[43mmetadata\u001b[49m\u001b[43m,\u001b[49m\n\u001b[32m    944\u001b[39m \u001b[43m                \u001b[49m\u001b[33;43m\"\u001b[39;49m\u001b[33;43mmodalities\u001b[39;49m\u001b[33;43m\"\u001b[39;49m\u001b[43m:\u001b[49m\u001b[43m \u001b[49m\u001b[43mmodalities\u001b[49m\u001b[43m,\u001b[49m\n\u001b[32m    945\u001b[39m \u001b[43m                \u001b[49m\u001b[33;43m\"\u001b[39;49m\u001b[33;43mn\u001b[39;49m\u001b[33;43m\"\u001b[39;49m\u001b[43m:\u001b[49m\u001b[43m \u001b[49m\u001b[43mn\u001b[49m\u001b[43m,\u001b[49m\n\u001b[32m    946\u001b[39m \u001b[43m                \u001b[49m\u001b[33;43m\"\u001b[39;49m\u001b[33;43mparallel_tool_calls\u001b[39;49m\u001b[33;43m\"\u001b[39;49m\u001b[43m:\u001b[49m\u001b[43m \u001b[49m\u001b[43mparallel_tool_calls\u001b[49m\u001b[43m,\u001b[49m\n\u001b[32m    947\u001b[39m \u001b[43m                \u001b[49m\u001b[33;43m\"\u001b[39;49m\u001b[33;43mprediction\u001b[39;49m\u001b[33;43m\"\u001b[39;49m\u001b[43m:\u001b[49m\u001b[43m \u001b[49m\u001b[43mprediction\u001b[49m\u001b[43m,\u001b[49m\n\u001b[32m    948\u001b[39m \u001b[43m                \u001b[49m\u001b[33;43m\"\u001b[39;49m\u001b[33;43mpresence_penalty\u001b[39;49m\u001b[33;43m\"\u001b[39;49m\u001b[43m:\u001b[49m\u001b[43m \u001b[49m\u001b[43mpresence_penalty\u001b[49m\u001b[43m,\u001b[49m\n\u001b[32m    949\u001b[39m \u001b[43m                \u001b[49m\u001b[33;43m\"\u001b[39;49m\u001b[33;43mreasoning_effort\u001b[39;49m\u001b[33;43m\"\u001b[39;49m\u001b[43m:\u001b[49m\u001b[43m \u001b[49m\u001b[43mreasoning_effort\u001b[49m\u001b[43m,\u001b[49m\n\u001b[32m    950\u001b[39m \u001b[43m                \u001b[49m\u001b[33;43m\"\u001b[39;49m\u001b[33;43mresponse_format\u001b[39;49m\u001b[33;43m\"\u001b[39;49m\u001b[43m:\u001b[49m\u001b[43m \u001b[49m\u001b[43mresponse_format\u001b[49m\u001b[43m,\u001b[49m\n\u001b[32m    951\u001b[39m \u001b[43m                \u001b[49m\u001b[33;43m\"\u001b[39;49m\u001b[33;43mseed\u001b[39;49m\u001b[33;43m\"\u001b[39;49m\u001b[43m:\u001b[49m\u001b[43m \u001b[49m\u001b[43mseed\u001b[49m\u001b[43m,\u001b[49m\n\u001b[32m    952\u001b[39m \u001b[43m                \u001b[49m\u001b[33;43m\"\u001b[39;49m\u001b[33;43mservice_tier\u001b[39;49m\u001b[33;43m\"\u001b[39;49m\u001b[43m:\u001b[49m\u001b[43m \u001b[49m\u001b[43mservice_tier\u001b[49m\u001b[43m,\u001b[49m\n\u001b[32m    953\u001b[39m \u001b[43m                \u001b[49m\u001b[33;43m\"\u001b[39;49m\u001b[33;43mstop\u001b[39;49m\u001b[33;43m\"\u001b[39;49m\u001b[43m:\u001b[49m\u001b[43m \u001b[49m\u001b[43mstop\u001b[49m\u001b[43m,\u001b[49m\n\u001b[32m    954\u001b[39m \u001b[43m                \u001b[49m\u001b[33;43m\"\u001b[39;49m\u001b[33;43mstore\u001b[39;49m\u001b[33;43m\"\u001b[39;49m\u001b[43m:\u001b[49m\u001b[43m \u001b[49m\u001b[43mstore\u001b[49m\u001b[43m,\u001b[49m\n\u001b[32m    955\u001b[39m \u001b[43m                \u001b[49m\u001b[33;43m\"\u001b[39;49m\u001b[33;43mstream\u001b[39;49m\u001b[33;43m\"\u001b[39;49m\u001b[43m:\u001b[49m\u001b[43m \u001b[49m\u001b[43mstream\u001b[49m\u001b[43m,\u001b[49m\n\u001b[32m    956\u001b[39m \u001b[43m                \u001b[49m\u001b[33;43m\"\u001b[39;49m\u001b[33;43mstream_options\u001b[39;49m\u001b[33;43m\"\u001b[39;49m\u001b[43m:\u001b[49m\u001b[43m \u001b[49m\u001b[43mstream_options\u001b[49m\u001b[43m,\u001b[49m\n\u001b[32m    957\u001b[39m \u001b[43m                \u001b[49m\u001b[33;43m\"\u001b[39;49m\u001b[33;43mtemperature\u001b[39;49m\u001b[33;43m\"\u001b[39;49m\u001b[43m:\u001b[49m\u001b[43m \u001b[49m\u001b[43mtemperature\u001b[49m\u001b[43m,\u001b[49m\n\u001b[32m    958\u001b[39m \u001b[43m                \u001b[49m\u001b[33;43m\"\u001b[39;49m\u001b[33;43mtool_choice\u001b[39;49m\u001b[33;43m\"\u001b[39;49m\u001b[43m:\u001b[49m\u001b[43m \u001b[49m\u001b[43mtool_choice\u001b[49m\u001b[43m,\u001b[49m\n\u001b[32m    959\u001b[39m \u001b[43m                \u001b[49m\u001b[33;43m\"\u001b[39;49m\u001b[33;43mtools\u001b[39;49m\u001b[33;43m\"\u001b[39;49m\u001b[43m:\u001b[49m\u001b[43m \u001b[49m\u001b[43mtools\u001b[49m\u001b[43m,\u001b[49m\n\u001b[32m    960\u001b[39m \u001b[43m                \u001b[49m\u001b[33;43m\"\u001b[39;49m\u001b[33;43mtop_logprobs\u001b[39;49m\u001b[33;43m\"\u001b[39;49m\u001b[43m:\u001b[49m\u001b[43m \u001b[49m\u001b[43mtop_logprobs\u001b[49m\u001b[43m,\u001b[49m\n\u001b[32m    961\u001b[39m \u001b[43m                \u001b[49m\u001b[33;43m\"\u001b[39;49m\u001b[33;43mtop_p\u001b[39;49m\u001b[33;43m\"\u001b[39;49m\u001b[43m:\u001b[49m\u001b[43m \u001b[49m\u001b[43mtop_p\u001b[49m\u001b[43m,\u001b[49m\n\u001b[32m    962\u001b[39m \u001b[43m                \u001b[49m\u001b[33;43m\"\u001b[39;49m\u001b[33;43muser\u001b[39;49m\u001b[33;43m\"\u001b[39;49m\u001b[43m:\u001b[49m\u001b[43m \u001b[49m\u001b[43muser\u001b[49m\u001b[43m,\u001b[49m\n\u001b[32m    963\u001b[39m \u001b[43m                \u001b[49m\u001b[33;43m\"\u001b[39;49m\u001b[33;43mweb_search_options\u001b[39;49m\u001b[33;43m\"\u001b[39;49m\u001b[43m:\u001b[49m\u001b[43m \u001b[49m\u001b[43mweb_search_options\u001b[49m\u001b[43m,\u001b[49m\n\u001b[32m    964\u001b[39m \u001b[43m            \u001b[49m\u001b[43m}\u001b[49m\u001b[43m,\u001b[49m\n\u001b[32m    965\u001b[39m \u001b[43m            \u001b[49m\u001b[43mcompletion_create_params\u001b[49m\u001b[43m.\u001b[49m\u001b[43mCompletionCreateParamsStreaming\u001b[49m\n\u001b[32m    966\u001b[39m \u001b[43m            \u001b[49m\u001b[38;5;28;43;01mif\u001b[39;49;00m\u001b[43m \u001b[49m\u001b[43mstream\u001b[49m\n\u001b[32m    967\u001b[39m \u001b[43m            \u001b[49m\u001b[38;5;28;43;01melse\u001b[39;49;00m\u001b[43m \u001b[49m\u001b[43mcompletion_create_params\u001b[49m\u001b[43m.\u001b[49m\u001b[43mCompletionCreateParamsNonStreaming\u001b[49m\u001b[43m,\u001b[49m\n\u001b[32m    968\u001b[39m \u001b[43m        \u001b[49m\u001b[43m)\u001b[49m\u001b[43m,\u001b[49m\n\u001b[32m    969\u001b[39m \u001b[43m        \u001b[49m\u001b[43moptions\u001b[49m\u001b[43m=\u001b[49m\u001b[43mmake_request_options\u001b[49m\u001b[43m(\u001b[49m\n\u001b[32m    970\u001b[39m \u001b[43m            \u001b[49m\u001b[43mextra_headers\u001b[49m\u001b[43m=\u001b[49m\u001b[43mextra_headers\u001b[49m\u001b[43m,\u001b[49m\u001b[43m \u001b[49m\u001b[43mextra_query\u001b[49m\u001b[43m=\u001b[49m\u001b[43mextra_query\u001b[49m\u001b[43m,\u001b[49m\u001b[43m \u001b[49m\u001b[43mextra_body\u001b[49m\u001b[43m=\u001b[49m\u001b[43mextra_body\u001b[49m\u001b[43m,\u001b[49m\u001b[43m \u001b[49m\u001b[43mtimeout\u001b[49m\u001b[43m=\u001b[49m\u001b[43mtimeout\u001b[49m\n\u001b[32m    971\u001b[39m \u001b[43m        \u001b[49m\u001b[43m)\u001b[49m\u001b[43m,\u001b[49m\n\u001b[32m    972\u001b[39m \u001b[43m        \u001b[49m\u001b[43mcast_to\u001b[49m\u001b[43m=\u001b[49m\u001b[43mChatCompletion\u001b[49m\u001b[43m,\u001b[49m\n\u001b[32m    973\u001b[39m \u001b[43m        \u001b[49m\u001b[43mstream\u001b[49m\u001b[43m=\u001b[49m\u001b[43mstream\u001b[49m\u001b[43m \u001b[49m\u001b[38;5;129;43;01mor\u001b[39;49;00m\u001b[43m \u001b[49m\u001b[38;5;28;43;01mFalse\u001b[39;49;00m\u001b[43m,\u001b[49m\n\u001b[32m    974\u001b[39m \u001b[43m        \u001b[49m\u001b[43mstream_cls\u001b[49m\u001b[43m=\u001b[49m\u001b[43mStream\u001b[49m\u001b[43m[\u001b[49m\u001b[43mChatCompletionChunk\u001b[49m\u001b[43m]\u001b[49m\u001b[43m,\u001b[49m\n\u001b[32m    975\u001b[39m \u001b[43m    \u001b[49m\u001b[43m)\u001b[49m\n",
      "\u001b[36mFile \u001b[39m\u001b[32m~/Documents/Development/research_labs/uf_ds/predictions/.venv_predictions/lib/python3.11/site-packages/openai/_base_client.py:1276\u001b[39m, in \u001b[36mSyncAPIClient.post\u001b[39m\u001b[34m(self, path, cast_to, body, options, files, stream, stream_cls)\u001b[39m\n\u001b[32m   1262\u001b[39m \u001b[38;5;28;01mdef\u001b[39;00m\u001b[38;5;250m \u001b[39m\u001b[34mpost\u001b[39m(\n\u001b[32m   1263\u001b[39m     \u001b[38;5;28mself\u001b[39m,\n\u001b[32m   1264\u001b[39m     path: \u001b[38;5;28mstr\u001b[39m,\n\u001b[32m   (...)\u001b[39m\u001b[32m   1271\u001b[39m     stream_cls: \u001b[38;5;28mtype\u001b[39m[_StreamT] | \u001b[38;5;28;01mNone\u001b[39;00m = \u001b[38;5;28;01mNone\u001b[39;00m,\n\u001b[32m   1272\u001b[39m ) -> ResponseT | _StreamT:\n\u001b[32m   1273\u001b[39m     opts = FinalRequestOptions.construct(\n\u001b[32m   1274\u001b[39m         method=\u001b[33m\"\u001b[39m\u001b[33mpost\u001b[39m\u001b[33m\"\u001b[39m, url=path, json_data=body, files=to_httpx_files(files), **options\n\u001b[32m   1275\u001b[39m     )\n\u001b[32m-> \u001b[39m\u001b[32m1276\u001b[39m     \u001b[38;5;28;01mreturn\u001b[39;00m cast(ResponseT, \u001b[38;5;28;43mself\u001b[39;49m\u001b[43m.\u001b[49m\u001b[43mrequest\u001b[49m\u001b[43m(\u001b[49m\u001b[43mcast_to\u001b[49m\u001b[43m,\u001b[49m\u001b[43m \u001b[49m\u001b[43mopts\u001b[49m\u001b[43m,\u001b[49m\u001b[43m \u001b[49m\u001b[43mstream\u001b[49m\u001b[43m=\u001b[49m\u001b[43mstream\u001b[49m\u001b[43m,\u001b[49m\u001b[43m \u001b[49m\u001b[43mstream_cls\u001b[49m\u001b[43m=\u001b[49m\u001b[43mstream_cls\u001b[49m\u001b[43m)\u001b[49m)\n",
      "\u001b[36mFile \u001b[39m\u001b[32m~/Documents/Development/research_labs/uf_ds/predictions/.venv_predictions/lib/python3.11/site-packages/openai/_base_client.py:949\u001b[39m, in \u001b[36mSyncAPIClient.request\u001b[39m\u001b[34m(self, cast_to, options, remaining_retries, stream, stream_cls)\u001b[39m\n\u001b[32m    946\u001b[39m \u001b[38;5;28;01melse\u001b[39;00m:\n\u001b[32m    947\u001b[39m     retries_taken = \u001b[32m0\u001b[39m\n\u001b[32m--> \u001b[39m\u001b[32m949\u001b[39m \u001b[38;5;28;01mreturn\u001b[39;00m \u001b[38;5;28;43mself\u001b[39;49m\u001b[43m.\u001b[49m\u001b[43m_request\u001b[49m\u001b[43m(\u001b[49m\n\u001b[32m    950\u001b[39m \u001b[43m    \u001b[49m\u001b[43mcast_to\u001b[49m\u001b[43m=\u001b[49m\u001b[43mcast_to\u001b[49m\u001b[43m,\u001b[49m\n\u001b[32m    951\u001b[39m \u001b[43m    \u001b[49m\u001b[43moptions\u001b[49m\u001b[43m=\u001b[49m\u001b[43moptions\u001b[49m\u001b[43m,\u001b[49m\n\u001b[32m    952\u001b[39m \u001b[43m    \u001b[49m\u001b[43mstream\u001b[49m\u001b[43m=\u001b[49m\u001b[43mstream\u001b[49m\u001b[43m,\u001b[49m\n\u001b[32m    953\u001b[39m \u001b[43m    \u001b[49m\u001b[43mstream_cls\u001b[49m\u001b[43m=\u001b[49m\u001b[43mstream_cls\u001b[49m\u001b[43m,\u001b[49m\n\u001b[32m    954\u001b[39m \u001b[43m    \u001b[49m\u001b[43mretries_taken\u001b[49m\u001b[43m=\u001b[49m\u001b[43mretries_taken\u001b[49m\u001b[43m,\u001b[49m\n\u001b[32m    955\u001b[39m \u001b[43m\u001b[49m\u001b[43m)\u001b[49m\n",
      "\u001b[36mFile \u001b[39m\u001b[32m~/Documents/Development/research_labs/uf_ds/predictions/.venv_predictions/lib/python3.11/site-packages/openai/_base_client.py:1057\u001b[39m, in \u001b[36mSyncAPIClient._request\u001b[39m\u001b[34m(self, cast_to, options, retries_taken, stream, stream_cls)\u001b[39m\n\u001b[32m   1054\u001b[39m         err.response.read()\n\u001b[32m   1056\u001b[39m     log.debug(\u001b[33m\"\u001b[39m\u001b[33mRe-raising status error\u001b[39m\u001b[33m\"\u001b[39m)\n\u001b[32m-> \u001b[39m\u001b[32m1057\u001b[39m     \u001b[38;5;28;01mraise\u001b[39;00m \u001b[38;5;28mself\u001b[39m._make_status_error_from_response(err.response) \u001b[38;5;28;01mfrom\u001b[39;00m\u001b[38;5;250m \u001b[39m\u001b[38;5;28;01mNone\u001b[39;00m\n\u001b[32m   1059\u001b[39m \u001b[38;5;28;01mreturn\u001b[39;00m \u001b[38;5;28mself\u001b[39m._process_response(\n\u001b[32m   1060\u001b[39m     cast_to=cast_to,\n\u001b[32m   1061\u001b[39m     options=options,\n\u001b[32m   (...)\u001b[39m\u001b[32m   1065\u001b[39m     retries_taken=retries_taken,\n\u001b[32m   1066\u001b[39m )\n",
      "\u001b[31mBadRequestError\u001b[39m: Error code: 400 - {'error': {'message': 'ExceededBudget: User=dj.brinkley@ufl.edu over budget. Spend=5.007422400000013, Budget=5.0', 'type': 'budget_exceeded', 'param': None, 'code': '400'}}"
     ]
    }
   ],
   "source": [
    "N_batches = 1\n",
    "# text_generation_models = [llama_versatile_generation_model, llama_instant_generation_model, llama_70b_8192_generation_model, \n",
    "#                           llama_8b_8192_generation_model, gpt_35_turbo_generation_model, gpt_4_o_generation_model, \n",
    "#                           mixtral_87b_instruct_generation_model]\n",
    "text_generation_models_navigator = [gpt_35_turbo_generation_model, gpt_4_o_generation_model, \n",
    "                          mixtral_87b_instruct_generation_model]\n",
    "prediction_domains = [\"finance\", \"health\", \"policy\", \"weather\"]\n",
    "prediction_prompt_outputs = {\n",
    "    \"finance\": financial_prompt_output,\n",
    "    \"health\": health_prompt_output,\n",
    "    \"policy\": policy_prompt_output,\n",
    "    \"weather\": weather_prompt_output,\n",
    "}\n",
    "prediction_label = 1\n",
    "\n",
    "batched_predictions_df = tgmf.batch_generate_data(N_batches=N_batches, \n",
    "                                text_generation_models=text_generation_models_navigator, \n",
    "                                domains=prediction_domains,\n",
    "                                prompt_outputs=prediction_prompt_outputs,\n",
    "                                sentence_label=prediction_label)"
   ]
  },
  {
   "cell_type": "code",
   "execution_count": null,
   "id": "ff382f01",
   "metadata": {},
   "outputs": [],
   "source": [
    "pd.set_option('max_colwidth', 800)\n",
    "pd.set_option('display.max_columns', None)\n",
    "pd.set_option('display.max_rows', None)\n",
    "batched_predictions_df"
   ]
  },
  {
   "cell_type": "code",
   "execution_count": null,
   "id": "a70dcd18",
   "metadata": {},
   "outputs": [],
   "source": []
  }
 ],
 "metadata": {
  "kernelspec": {
   "display_name": ".venv_predictions",
   "language": "python",
   "name": "python3"
  },
  "language_info": {
   "codemirror_mode": {
    "name": "ipython",
    "version": 3
   },
   "file_extension": ".py",
   "mimetype": "text/x-python",
   "name": "python",
   "nbconvert_exporter": "python",
   "pygments_lexer": "ipython3",
   "version": "3.11.12"
  }
 },
 "nbformat": 4,
 "nbformat_minor": 5
}
