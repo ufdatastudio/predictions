{
 "cells": [
  {
   "cell_type": "markdown",
   "id": "125574b8",
   "metadata": {},
   "source": [
    "# Extract Features\n",
    "\n",
    "1. Read csv files and load as dfs\n",
    "2. Combine dfs\n",
    "3. Get semantic cosine similarity"
   ]
  },
  {
   "cell_type": "code",
   "execution_count": 21,
   "id": "8be1bdb0",
   "metadata": {},
   "outputs": [],
   "source": [
    "import os, sys\n",
    "\n",
    "import pandas as pd\n",
    "\n",
    "# Get the current working directory of the notebook\n",
    "notebook_dir = os.getcwd()\n",
    "# Add the parent directory to the system path\n",
    "sys.path.append(os.path.join(notebook_dir, '../'))\n",
    "\n",
    "import log_files\n",
    "from log_files import LogData\n",
    "from data_processing import DataProcessing\n",
    "from feature_extraction import SpacyFeatureExtraction\n",
    "from text_generation_models import TextGenerationModelFactory"
   ]
  },
  {
   "cell_type": "code",
   "execution_count": 22,
   "id": "809d6a5c",
   "metadata": {},
   "outputs": [],
   "source": [
    "pd.set_option('max_colwidth', 800)\n",
    "pd.set_option('display.max_columns', None)\n",
    "pd.set_option('display.max_rows', None)"
   ]
  },
  {
   "cell_type": "markdown",
   "id": "90d6fff7",
   "metadata": {},
   "source": [
    "## Predictions\n",
    "\n",
    "- Use the structure from `1-generate_predictions-all_domains.ipynb`"
   ]
  },
  {
   "cell_type": "code",
   "execution_count": 23,
   "id": "a6be64ae",
   "metadata": {},
   "outputs": [
    {
     "name": "stdout",
     "output_type": "stream",
     "text": [
      "Start logging batch\n",
      "log_directory: /Users/detraviousjamaribrinkley/Documents/Development/research_labs/uf_ds/predictions/misc_experiments/../data/prediction_logs\n",
      "save_batch_directory: /Users/detraviousjamaribrinkley/Documents/Development/research_labs/uf_ds/predictions/misc_experiments/../data/prediction_logs/batch_1-prediction\n",
      "CSV to DF\n",
      "Load saved csv: /Users/detraviousjamaribrinkley/Documents/Development/research_labs/uf_ds/predictions/misc_experiments/../data/prediction_logs/batch_1-prediction/batch_1-from_df.csv\n",
      "save_batch_directory: /Users/detraviousjamaribrinkley/Documents/Development/research_labs/uf_ds/predictions/misc_experiments/../data/prediction_logs/batch_2-prediction\n",
      "CSV to DF\n",
      "Load saved csv: /Users/detraviousjamaribrinkley/Documents/Development/research_labs/uf_ds/predictions/misc_experiments/../data/prediction_logs/batch_2-prediction/batch_2-from_df.csv\n",
      "save_batch_directory: /Users/detraviousjamaribrinkley/Documents/Development/research_labs/uf_ds/predictions/misc_experiments/../data/prediction_logs/batch_3-prediction\n",
      "CSV to DF\n",
      "Load saved csv: /Users/detraviousjamaribrinkley/Documents/Development/research_labs/uf_ds/predictions/misc_experiments/../data/prediction_logs/batch_3-prediction/batch_3-from_df.csv\n"
     ]
    },
    {
     "data": {
      "text/html": [
       "<div>\n",
       "<style scoped>\n",
       "    .dataframe tbody tr th:only-of-type {\n",
       "        vertical-align: middle;\n",
       "    }\n",
       "\n",
       "    .dataframe tbody tr th {\n",
       "        vertical-align: top;\n",
       "    }\n",
       "\n",
       "    .dataframe thead th {\n",
       "        text-align: right;\n",
       "    }\n",
       "</style>\n",
       "<table border=\"1\" class=\"dataframe\">\n",
       "  <thead>\n",
       "    <tr style=\"text-align: right;\">\n",
       "      <th></th>\n",
       "      <th>Base Sentence</th>\n",
       "      <th>Sentence Label</th>\n",
       "      <th>Domain</th>\n",
       "      <th>Model Name</th>\n",
       "      <th>API Name</th>\n",
       "      <th>Batch ID</th>\n",
       "      <th>Template Number</th>\n",
       "    </tr>\n",
       "  </thead>\n",
       "  <tbody>\n",
       "    <tr>\n",
       "      <th>0</th>\n",
       "      <td>JPMorgan Chase forecasts that the net profit at Amazon potentially decrease in Q3 of 2027.</td>\n",
       "      <td>1</td>\n",
       "      <td>finance</td>\n",
       "      <td>llama-3.1-70b-instruct</td>\n",
       "      <td>NAVI_GATOR</td>\n",
       "      <td>0</td>\n",
       "      <td>1</td>\n",
       "    </tr>\n",
       "    <tr>\n",
       "      <th>1</th>\n",
       "      <td>On August 21, 2024, Bank of America speculates the revenue at Microsoft will likely increase.</td>\n",
       "      <td>1</td>\n",
       "      <td>finance</td>\n",
       "      <td>llama-3.1-70b-instruct</td>\n",
       "      <td>NAVI_GATOR</td>\n",
       "      <td>0</td>\n",
       "      <td>2</td>\n",
       "    </tr>\n",
       "    <tr>\n",
       "      <th>2</th>\n",
       "      <td>Citigroup predicts on 2024-08-21, the operating income at Alphabet may rise.</td>\n",
       "      <td>1</td>\n",
       "      <td>finance</td>\n",
       "      <td>llama-3.1-70b-instruct</td>\n",
       "      <td>NAVI_GATOR</td>\n",
       "      <td>0</td>\n",
       "      <td>3</td>\n",
       "    </tr>\n",
       "    <tr>\n",
       "      <th>3</th>\n",
       "      <td>According to Goldman Sachs, the research and development expenses at Facebook would fall in 2025.</td>\n",
       "      <td>1</td>\n",
       "      <td>finance</td>\n",
       "      <td>llama-3.1-70b-instruct</td>\n",
       "      <td>NAVI_GATOR</td>\n",
       "      <td>0</td>\n",
       "      <td>4</td>\n",
       "    </tr>\n",
       "    <tr>\n",
       "      <th>4</th>\n",
       "      <td>In 21 August 2024, Morgan Stanley envisions that the gross profit at Johnson &amp; Johnson has some probability to remain stable.</td>\n",
       "      <td>1</td>\n",
       "      <td>finance</td>\n",
       "      <td>llama-3.1-70b-instruct</td>\n",
       "      <td>NAVI_GATOR</td>\n",
       "      <td>0</td>\n",
       "      <td>5</td>\n",
       "    </tr>\n",
       "    <tr>\n",
       "      <th>5</th>\n",
       "      <td>The stock price at Visa should stay same in Q2 of 2026, according to Wells Fargo.</td>\n",
       "      <td>1</td>\n",
       "      <td>finance</td>\n",
       "      <td>llama-3.1-70b-instruct</td>\n",
       "      <td>NAVI_GATOR</td>\n",
       "      <td>0</td>\n",
       "      <td>6</td>\n",
       "    </tr>\n",
       "    <tr>\n",
       "      <th>6</th>\n",
       "      <td>JPMorgan forecasts that the revenue at Microsoft potentially decrease in Q3 of 2027.</td>\n",
       "      <td>1</td>\n",
       "      <td>finance</td>\n",
       "      <td>llama-3.3-70b-instruct</td>\n",
       "      <td>NAVI_GATOR</td>\n",
       "      <td>0</td>\n",
       "      <td>1</td>\n",
       "    </tr>\n",
       "  </tbody>\n",
       "</table>\n",
       "</div>"
      ],
      "text/plain": [
       "                                                                                                                   Base Sentence  \\\n",
       "0                                     JPMorgan Chase forecasts that the net profit at Amazon potentially decrease in Q3 of 2027.   \n",
       "1                                  On August 21, 2024, Bank of America speculates the revenue at Microsoft will likely increase.   \n",
       "2                                                   Citigroup predicts on 2024-08-21, the operating income at Alphabet may rise.   \n",
       "3                              According to Goldman Sachs, the research and development expenses at Facebook would fall in 2025.   \n",
       "4  In 21 August 2024, Morgan Stanley envisions that the gross profit at Johnson & Johnson has some probability to remain stable.   \n",
       "5                                              The stock price at Visa should stay same in Q2 of 2026, according to Wells Fargo.   \n",
       "6                                           JPMorgan forecasts that the revenue at Microsoft potentially decrease in Q3 of 2027.   \n",
       "\n",
       "   Sentence Label   Domain              Model Name    API Name  Batch ID  \\\n",
       "0               1  finance  llama-3.1-70b-instruct  NAVI_GATOR         0   \n",
       "1               1  finance  llama-3.1-70b-instruct  NAVI_GATOR         0   \n",
       "2               1  finance  llama-3.1-70b-instruct  NAVI_GATOR         0   \n",
       "3               1  finance  llama-3.1-70b-instruct  NAVI_GATOR         0   \n",
       "4               1  finance  llama-3.1-70b-instruct  NAVI_GATOR         0   \n",
       "5               1  finance  llama-3.1-70b-instruct  NAVI_GATOR         0   \n",
       "6               1  finance  llama-3.3-70b-instruct  NAVI_GATOR         0   \n",
       "\n",
       "   Template Number  \n",
       "0                1  \n",
       "1                2  \n",
       "2                3  \n",
       "3                4  \n",
       "4                5  \n",
       "5                6  \n",
       "6                1  "
      ]
     },
     "execution_count": 23,
     "metadata": {},
     "output_type": "execute_result"
    }
   ],
   "source": [
    "log_file_path = \"data/prediction_logs\"\n",
    "predictions = True\n",
    "predictions_df = log_files.read_data(notebook_dir, log_file_path, predictions)\n",
    "predictions_df.head(7)"
   ]
  },
  {
   "cell_type": "markdown",
   "id": "01c376fa",
   "metadata": {},
   "source": [
    "## Observations"
   ]
  },
  {
   "cell_type": "code",
   "execution_count": 24,
   "id": "7c874e2c",
   "metadata": {},
   "outputs": [
    {
     "name": "stdout",
     "output_type": "stream",
     "text": [
      "Start logging batch\n",
      "log_directory: /Users/detraviousjamaribrinkley/Documents/Development/research_labs/uf_ds/predictions/misc_experiments/../data/observation_logs\n",
      "save_batch_directory: /Users/detraviousjamaribrinkley/Documents/Development/research_labs/uf_ds/predictions/misc_experiments/../data/observation_logs/batch_1-observation\n",
      "CSV to DF\n",
      "Load saved csv: /Users/detraviousjamaribrinkley/Documents/Development/research_labs/uf_ds/predictions/misc_experiments/../data/observation_logs/batch_1-observation/batch_1-from_df.csv\n",
      "save_batch_directory: /Users/detraviousjamaribrinkley/Documents/Development/research_labs/uf_ds/predictions/misc_experiments/../data/observation_logs/batch_2-observation\n",
      "CSV to DF\n",
      "Load saved csv: /Users/detraviousjamaribrinkley/Documents/Development/research_labs/uf_ds/predictions/misc_experiments/../data/observation_logs/batch_2-observation/batch_2-from_df.csv\n",
      "save_batch_directory: /Users/detraviousjamaribrinkley/Documents/Development/research_labs/uf_ds/predictions/misc_experiments/../data/observation_logs/batch_3-observation\n",
      "CSV to DF\n",
      "Load saved csv: /Users/detraviousjamaribrinkley/Documents/Development/research_labs/uf_ds/predictions/misc_experiments/../data/observation_logs/batch_3-observation/batch_3-from_df.csv\n",
      "save_batch_directory: /Users/detraviousjamaribrinkley/Documents/Development/research_labs/uf_ds/predictions/misc_experiments/../data/observation_logs/batch_4-observation\n",
      "CSV to DF\n",
      "Load saved csv: /Users/detraviousjamaribrinkley/Documents/Development/research_labs/uf_ds/predictions/misc_experiments/../data/observation_logs/batch_4-observation/batch_4-from_df.csv\n",
      "save_batch_directory: /Users/detraviousjamaribrinkley/Documents/Development/research_labs/uf_ds/predictions/misc_experiments/../data/observation_logs/batch_5-observation\n",
      "CSV to DF\n",
      "Load saved csv: /Users/detraviousjamaribrinkley/Documents/Development/research_labs/uf_ds/predictions/misc_experiments/../data/observation_logs/batch_5-observation/batch_5-from_df.csv\n",
      "save_batch_directory: /Users/detraviousjamaribrinkley/Documents/Development/research_labs/uf_ds/predictions/misc_experiments/../data/observation_logs/batch_6-observation\n",
      "CSV to DF\n",
      "Load saved csv: /Users/detraviousjamaribrinkley/Documents/Development/research_labs/uf_ds/predictions/misc_experiments/../data/observation_logs/batch_6-observation/batch_6-from_df.csv\n",
      "save_batch_directory: /Users/detraviousjamaribrinkley/Documents/Development/research_labs/uf_ds/predictions/misc_experiments/../data/observation_logs/batch_7-observation\n",
      "CSV to DF\n",
      "Load saved csv: /Users/detraviousjamaribrinkley/Documents/Development/research_labs/uf_ds/predictions/misc_experiments/../data/observation_logs/batch_7-observation/batch_7-from_df.csv\n",
      "save_batch_directory: /Users/detraviousjamaribrinkley/Documents/Development/research_labs/uf_ds/predictions/misc_experiments/../data/observation_logs/batch_8-observation\n",
      "CSV to DF\n",
      "Load saved csv: /Users/detraviousjamaribrinkley/Documents/Development/research_labs/uf_ds/predictions/misc_experiments/../data/observation_logs/batch_8-observation/batch_8-from_df.csv\n"
     ]
    },
    {
     "data": {
      "text/html": [
       "<div>\n",
       "<style scoped>\n",
       "    .dataframe tbody tr th:only-of-type {\n",
       "        vertical-align: middle;\n",
       "    }\n",
       "\n",
       "    .dataframe tbody tr th {\n",
       "        vertical-align: top;\n",
       "    }\n",
       "\n",
       "    .dataframe thead th {\n",
       "        text-align: right;\n",
       "    }\n",
       "</style>\n",
       "<table border=\"1\" class=\"dataframe\">\n",
       "  <thead>\n",
       "    <tr style=\"text-align: right;\">\n",
       "      <th></th>\n",
       "      <th>Base Sentence</th>\n",
       "      <th>Sentence Label</th>\n",
       "      <th>Domain</th>\n",
       "      <th>Model Name</th>\n",
       "      <th>API Name</th>\n",
       "      <th>Batch ID</th>\n",
       "      <th>Template Number</th>\n",
       "    </tr>\n",
       "  </thead>\n",
       "  <tbody>\n",
       "    <tr>\n",
       "      <th>0</th>\n",
       "      <td>The financial analyst at Goldman Sachs observed that the operating income at Tesla had increased in the first quarter of 2024.</td>\n",
       "      <td>0</td>\n",
       "      <td>finance</td>\n",
       "      <td>llama-3.1-70b-instruct</td>\n",
       "      <td>NAVI_GATOR</td>\n",
       "      <td>0</td>\n",
       "      <td>1</td>\n",
       "    </tr>\n",
       "    <tr>\n",
       "      <th>1</th>\n",
       "      <td>On 2024-08-20 to 2025-08-20, Morgan Stanley speculates the stock price at Amazon will likely rise.</td>\n",
       "      <td>0</td>\n",
       "      <td>finance</td>\n",
       "      <td>llama-3.1-70b-instruct</td>\n",
       "      <td>NAVI_GATOR</td>\n",
       "      <td>0</td>\n",
       "      <td>2</td>\n",
       "    </tr>\n",
       "    <tr>\n",
       "      <th>2</th>\n",
       "      <td>A young investor predicts on 2025-03-15, the S&amp;P 500 index may rise.</td>\n",
       "      <td>0</td>\n",
       "      <td>finance</td>\n",
       "      <td>llama-3.1-70b-instruct</td>\n",
       "      <td>NAVI_GATOR</td>\n",
       "      <td>0</td>\n",
       "      <td>3</td>\n",
       "    </tr>\n",
       "    <tr>\n",
       "      <th>3</th>\n",
       "      <td>According to Bank of America, the net profit at Microsoft would fall in the second quarter of 2026.</td>\n",
       "      <td>0</td>\n",
       "      <td>finance</td>\n",
       "      <td>llama-3.1-70b-instruct</td>\n",
       "      <td>NAVI_GATOR</td>\n",
       "      <td>0</td>\n",
       "      <td>4</td>\n",
       "    </tr>\n",
       "    <tr>\n",
       "      <th>4</th>\n",
       "      <td>In 2027-01-01 to 2027-12-31, Wells Fargo envisions that the interest rates at the Federal Reserve have some probability to remain stable.</td>\n",
       "      <td>0</td>\n",
       "      <td>finance</td>\n",
       "      <td>llama-3.1-70b-instruct</td>\n",
       "      <td>NAVI_GATOR</td>\n",
       "      <td>0</td>\n",
       "      <td>5</td>\n",
       "    </tr>\n",
       "    <tr>\n",
       "      <th>5</th>\n",
       "      <td>The trading volume at Apple should stay same in the fourth quarter of 2025, according to a financial expert at JPMorgan Chase.</td>\n",
       "      <td>0</td>\n",
       "      <td>finance</td>\n",
       "      <td>llama-3.1-70b-instruct</td>\n",
       "      <td>NAVI_GATOR</td>\n",
       "      <td>0</td>\n",
       "      <td>6</td>\n",
       "    </tr>\n",
       "    <tr>\n",
       "      <th>6</th>\n",
       "      <td>JPMorgan observed that the net profit at Microsoft had risen in September 2023.</td>\n",
       "      <td>0</td>\n",
       "      <td>finance</td>\n",
       "      <td>llama-3.3-70b-instruct</td>\n",
       "      <td>NAVI_GATOR</td>\n",
       "      <td>0</td>\n",
       "      <td>1</td>\n",
       "    </tr>\n",
       "  </tbody>\n",
       "</table>\n",
       "</div>"
      ],
      "text/plain": [
       "                                                                                                                               Base Sentence  \\\n",
       "0             The financial analyst at Goldman Sachs observed that the operating income at Tesla had increased in the first quarter of 2024.   \n",
       "1                                         On 2024-08-20 to 2025-08-20, Morgan Stanley speculates the stock price at Amazon will likely rise.   \n",
       "2                                                                       A young investor predicts on 2025-03-15, the S&P 500 index may rise.   \n",
       "3                                        According to Bank of America, the net profit at Microsoft would fall in the second quarter of 2026.   \n",
       "4  In 2027-01-01 to 2027-12-31, Wells Fargo envisions that the interest rates at the Federal Reserve have some probability to remain stable.   \n",
       "5             The trading volume at Apple should stay same in the fourth quarter of 2025, according to a financial expert at JPMorgan Chase.   \n",
       "6                                                            JPMorgan observed that the net profit at Microsoft had risen in September 2023.   \n",
       "\n",
       "   Sentence Label   Domain              Model Name    API Name  Batch ID  \\\n",
       "0               0  finance  llama-3.1-70b-instruct  NAVI_GATOR         0   \n",
       "1               0  finance  llama-3.1-70b-instruct  NAVI_GATOR         0   \n",
       "2               0  finance  llama-3.1-70b-instruct  NAVI_GATOR         0   \n",
       "3               0  finance  llama-3.1-70b-instruct  NAVI_GATOR         0   \n",
       "4               0  finance  llama-3.1-70b-instruct  NAVI_GATOR         0   \n",
       "5               0  finance  llama-3.1-70b-instruct  NAVI_GATOR         0   \n",
       "6               0  finance  llama-3.3-70b-instruct  NAVI_GATOR         0   \n",
       "\n",
       "   Template Number  \n",
       "0                1  \n",
       "1                2  \n",
       "2                3  \n",
       "3                4  \n",
       "4                5  \n",
       "5                6  \n",
       "6                1  "
      ]
     },
     "execution_count": 24,
     "metadata": {},
     "output_type": "execute_result"
    }
   ],
   "source": [
    "log_file_path = \"data/observation_logs\"\n",
    "predictions = False\n",
    "observations_df = log_files.read_data(notebook_dir, log_file_path, predictions)\n",
    "observations_df.head(7)"
   ]
  },
  {
   "cell_type": "markdown",
   "id": "4a1b2594",
   "metadata": {},
   "source": [
    "## Both\n",
    "\n",
    "- Create a knowledge graph\n",
    "    - Nodes: words\n",
    "    - Edges: connection to other words (same/diff sentence)\n",
    "- Look at code from Graphbreeding project on 2019 Mac"
   ]
  },
  {
   "cell_type": "code",
   "execution_count": 25,
   "id": "c0713636",
   "metadata": {},
   "outputs": [
    {
     "data": {
      "text/html": [
       "<div>\n",
       "<style scoped>\n",
       "    .dataframe tbody tr th:only-of-type {\n",
       "        vertical-align: middle;\n",
       "    }\n",
       "\n",
       "    .dataframe tbody tr th {\n",
       "        vertical-align: top;\n",
       "    }\n",
       "\n",
       "    .dataframe thead th {\n",
       "        text-align: right;\n",
       "    }\n",
       "</style>\n",
       "<table border=\"1\" class=\"dataframe\">\n",
       "  <thead>\n",
       "    <tr style=\"text-align: right;\">\n",
       "      <th></th>\n",
       "      <th>Base Sentence</th>\n",
       "      <th>Sentence Label</th>\n",
       "      <th>Domain</th>\n",
       "      <th>Model Name</th>\n",
       "      <th>API Name</th>\n",
       "      <th>Batch ID</th>\n",
       "      <th>Template Number</th>\n",
       "    </tr>\n",
       "  </thead>\n",
       "  <tbody>\n",
       "    <tr>\n",
       "      <th>0</th>\n",
       "      <td>JPMorgan Chase forecasts that the net profit at Amazon potentially decrease in Q3 of 2027.</td>\n",
       "      <td>1</td>\n",
       "      <td>finance</td>\n",
       "      <td>llama-3.1-70b-instruct</td>\n",
       "      <td>NAVI_GATOR</td>\n",
       "      <td>0</td>\n",
       "      <td>1</td>\n",
       "    </tr>\n",
       "    <tr>\n",
       "      <th>1</th>\n",
       "      <td>On August 21, 2024, Bank of America speculates the revenue at Microsoft will likely increase.</td>\n",
       "      <td>1</td>\n",
       "      <td>finance</td>\n",
       "      <td>llama-3.1-70b-instruct</td>\n",
       "      <td>NAVI_GATOR</td>\n",
       "      <td>0</td>\n",
       "      <td>2</td>\n",
       "    </tr>\n",
       "    <tr>\n",
       "      <th>2</th>\n",
       "      <td>Citigroup predicts on 2024-08-21, the operating income at Alphabet may rise.</td>\n",
       "      <td>1</td>\n",
       "      <td>finance</td>\n",
       "      <td>llama-3.1-70b-instruct</td>\n",
       "      <td>NAVI_GATOR</td>\n",
       "      <td>0</td>\n",
       "      <td>3</td>\n",
       "    </tr>\n",
       "  </tbody>\n",
       "</table>\n",
       "</div>"
      ],
      "text/plain": [
       "                                                                                   Base Sentence  \\\n",
       "0     JPMorgan Chase forecasts that the net profit at Amazon potentially decrease in Q3 of 2027.   \n",
       "1  On August 21, 2024, Bank of America speculates the revenue at Microsoft will likely increase.   \n",
       "2                   Citigroup predicts on 2024-08-21, the operating income at Alphabet may rise.   \n",
       "\n",
       "   Sentence Label   Domain              Model Name    API Name  Batch ID  \\\n",
       "0               1  finance  llama-3.1-70b-instruct  NAVI_GATOR         0   \n",
       "1               1  finance  llama-3.1-70b-instruct  NAVI_GATOR         0   \n",
       "2               1  finance  llama-3.1-70b-instruct  NAVI_GATOR         0   \n",
       "\n",
       "   Template Number  \n",
       "0                1  \n",
       "1                2  \n",
       "2                3  "
      ]
     },
     "execution_count": 25,
     "metadata": {},
     "output_type": "execute_result"
    }
   ],
   "source": [
    "df = DataProcessing.concat_dfs([predictions_df, observations_df])\n",
    "df.head(3)"
   ]
  },
  {
   "cell_type": "code",
   "execution_count": 26,
   "id": "6e6a0f5c",
   "metadata": {},
   "outputs": [],
   "source": [
    "predictions = DataProcessing.df_to_list(predictions_df, \"Base Sentence\")\n",
    "observations = DataProcessing.df_to_list(observations_df, \"Base Sentence\")"
   ]
  },
  {
   "cell_type": "code",
   "execution_count": 20,
   "id": "b68b84f9",
   "metadata": {},
   "outputs": [],
   "source": [
    "tgmf = TextGenerationModelFactory()\n",
    "\n",
    "# Groq Cloud (https://console.groq.com/docs/overview)\n",
    "gemma_29b_generation_model = tgmf.create_instance('gemma2-9b-it') \n",
    "llama_318b_instant_generation_model = tgmf.create_instance('llama-3.1-8b-instant') \n",
    "llama_3370b_versatile_generation_model = tgmf.create_instance('llama-3.3-70b-versatile')  \n",
    "# llama_guard_4_12b_generation_model = tgmf.create_instance('meta-llama/llama-guard-4-12b')  \n",
    "\n",
    "models = [gemma_29b_generation_model, llama_318b_instant_generation_model]"
   ]
  },
  {
   "cell_type": "code",
   "execution_count": 34,
   "id": "b13fcd12",
   "metadata": {},
   "outputs": [
    {
     "data": {
      "text/plain": [
       "'JPMorgan Chase forecasts that the net profit at Amazon potentially decrease in Q3 of 2027.'"
      ]
     },
     "execution_count": 34,
     "metadata": {},
     "output_type": "execute_result"
    }
   ],
   "source": [
    "predictions[0]"
   ]
  },
  {
   "cell_type": "code",
   "execution_count": 35,
   "id": "69d0c86f",
   "metadata": {},
   "outputs": [
    {
     "data": {
      "text/plain": [
       "'The financial analyst at Goldman Sachs observed that the operating income at Tesla had increased in the first quarter of 2024.'"
      ]
     },
     "execution_count": 35,
     "metadata": {},
     "output_type": "execute_result"
    }
   ],
   "source": [
    "observations[0]"
   ]
  },
  {
   "cell_type": "code",
   "execution_count": 33,
   "id": "2cd80f72",
   "metadata": {},
   "outputs": [
    {
     "name": "stdout",
     "output_type": "stream",
     "text": [
      "{'gemma2-9b-it': [\"Here's a breakdown of why we can't directly classify the truth of the prediction based on the observation, and how we'd approach this problem:\", '**Understanding the Problem**', \"* **Different Companies:** The prediction concerns Amazon's net profit in 2027, while the observation focuses on Tesla's operating income in 2024. These are distinct companies in different industries.\", \"* **Different Metrics:** Net profit and operating income are different financial measures.  While related, they don't directly correlate.\", \"* **Timeframe:** The prediction and observation are separated by time. A positive trend in Tesla's operating income doesn't necessarily indicate anything about Amazon's future performance.\", \"**Why We Can't Classify**\", 'We cannot definitively say whether the observation \"supports\" or \"refutes\" the prediction.  There\\'s simply not enough connection between the two pieces of information.', '**How to Approach This**', \"To determine if JPMorgan Chase's prediction is likely to be true or false, we'd need:\", '1. **More Information about Amazon:**', \"* **Amazon's Recent Performance:** Analyze Amazon's past financial reports, looking for trends in revenue, expenses, and profitability.\", '* **Industry Factors:** Consider the overall health of the e-commerce industry and any potential headwinds or tailwinds facing Amazon.', \"* **Amazon's Strategy:**  Understand Amazon's plans for growth, investment, and cost management.\", '2. **Expert Analysis:**', '* **Financial Analysts:**  Review forecasts and analyses from multiple reputable financial institutions.', '* **Industry Experts:** Seek insights from analysts who specialize in the e-commerce sector.', '3. **Quantitative Modeling:**', \"* **Predictive Analytics:** Use historical data and statistical models to forecast Amazon's future profitability.\", '**Tuple Example (Illustrative)**', \"While we can't classify the truth of the prediction based on the observation, here's a tuple representing the lack of direct connection:\", '(', '\"JPMorgan Chase forecasts that the net profit at Amazon potentially decrease in Q3 of 2027.\",', '\"The financial analyst at Goldman Sachs observed that the operating income at Tesla had increased in the first quarter of 2024.\",', '\"Insufficient Information\",', '\"No Direct Relationship\"', ')', \"Let me know if you have any other scenarios you'd like to explore!\"], 'llama-3.1-8b-instant': ['To determine which observations match with the prediction and if the observations are enough to classify the prediction as true or false, we need to make some assumptions.', \"Let's assume we have the following observations:\", '- Observation 1: (JPMorgan Chase forecasts that the net profit at Amazon potentially decrease in Q3 of 2027.)', '- Observation 2: (The financial analyst at Goldman Sachs observed that the operating income at Tesla had increased in the first quarter of 2024.)', \"- Prediction: Amazon's net profit may decrease in Q3 of 2027.\", 'Based on the given observations, we can make the following classification:', \"- Observation 1 does not match with the prediction as it is about Amazon's net profit, but the observation is about a forecast, which does not directly relate to the prediction. However, it is about Amazon's net profit, which is relevant. So we can say it partially matches.\", \"- Observation 2 does not match with the prediction as it is about Tesla's operating income, which is not related to the prediction about Amazon's net profit.\", \"Now, let's assume we have a model that classifies the prediction as true or false based on the observations. The model can be a simple one, such as:\", '- If the observation is about the same company (Amazon) and the same metric (net profit), classify the prediction as true.', '- If the observation is about a different company (Tesla) or a different metric, classify the prediction as false.', 'Based on this model, we can make the following classification:', '- Observation 1: (Amazon, net profit), Partial match, Insufficient information to classify as true or false.', '- Observation 2: (Tesla, operating income), No match, False.', \"Here's the tuple you requested:\", '```python', 'predictions = [', '(\"Amazon\\'s net profit may decrease in Q3 of 2027.\",', '\"The financial analyst at Goldman Sachs observed that the operating income at Tesla had increased in the first quarter of 2024.\",', '\"Insufficient information\",', '\"Simple model\")', ']', '```']}\n"
     ]
    },
    {
     "data": {
      "text/plain": [
       "dict_keys(['gemma2-9b-it', 'llama-3.1-8b-instant'])"
      ]
     },
     "execution_count": 33,
     "metadata": {},
     "output_type": "execute_result"
    }
   ],
   "source": [
    "prompt = f\"I have a prediction: ({predictions[0]}) and an observation: ({observations[0]}). I want to know which observations match with the prediction along with if the observations is enough to say the classification is true or false. Generate a tuple with (prediction[0], observation[o], classification, model).\"\n",
    "input_prompt = gemma_29b_generation_model.user(prompt)\n",
    "# print(input_prompt)\n",
    "\n",
    "# df = pd.DataFrame(columns=[\"Model\", \"Prompt\", \"Response\"])\n",
    "model_certify = {}\n",
    "for model in models:    \n",
    "    \n",
    "    raw_text = model.chat_completion([input_prompt])\n",
    "    output = []\n",
    "    for line in raw_text.split(\"\\n\"):\n",
    "        if line.strip():  # Skip empty lines\n",
    "            output.append(line.strip())\n",
    "    # print(output)\n",
    "    model_certify[model.model_name] = output\n",
    "\n",
    "print(model_certify)\n",
    "model_certify.keys()\n",
    "\n",
    "# data = []\n",
    "# for model, output in model_certify.items():\n",
    "#     for output in output:\n",
    "#         data.append([model, output])\n",
    "\n",
    "# # Create the DataFrame\n",
    "# df = pd.DataFrame(data, columns=['Model', 'Output'])\n",
    "# df"
   ]
  },
  {
   "cell_type": "code",
   "execution_count": null,
   "id": "22e77823",
   "metadata": {},
   "outputs": [],
   "source": [
    "\n",
    "\n",
    "# https://huggingface.co/mistralai/Mistral-7B-Instruct-v0.3\n",
    "# from transformers import pipeline"
   ]
  },
  {
   "cell_type": "code",
   "execution_count": null,
   "id": "5ec24fbe",
   "metadata": {},
   "outputs": [],
   "source": [
    "\n",
    "# prompt = f\"Return top 5 list of the observations ({observations}) that certify this prediction ({predictions[0]})?\"\n",
    "\n",
    "# messages = [\n",
    "#     {\"role\": \"system\", \"content\": prompt},\n",
    "#     {\"role\": \"user\", \"content\": prompt},\n",
    "# ]\n",
    "# chatbot = pipeline(\"text-generation\", model=\"mistralai/Mistral-7B-Instruct-v0.3\")\n",
    "# chatbot(messages)"
   ]
  },
  {
   "cell_type": "code",
   "execution_count": null,
   "id": "cd8e61b4",
   "metadata": {},
   "outputs": [],
   "source": []
  }
 ],
 "metadata": {
  "kernelspec": {
   "display_name": ".venv_predictions",
   "language": "python",
   "name": "python3"
  },
  "language_info": {
   "codemirror_mode": {
    "name": "ipython",
    "version": 3
   },
   "file_extension": ".py",
   "mimetype": "text/x-python",
   "name": "python",
   "nbconvert_exporter": "python",
   "pygments_lexer": "ipython3",
   "version": "3.11.12"
  }
 },
 "nbformat": 4,
 "nbformat_minor": 5
}
