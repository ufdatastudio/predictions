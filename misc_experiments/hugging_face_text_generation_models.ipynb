{
 "cells": [
  {
   "cell_type": "code",
   "execution_count": 1,
   "id": "25354f46",
   "metadata": {},
   "outputs": [],
   "source": [
    "# !pip install sentencepiece"
   ]
  },
  {
   "cell_type": "code",
   "execution_count": null,
   "id": "2e775317",
   "metadata": {},
   "outputs": [],
   "source": []
  },
  {
   "cell_type": "code",
   "execution_count": null,
   "id": "13fb6879",
   "metadata": {},
   "outputs": [
    {
     "data": {
      "application/vnd.jupyter.widget-view+json": {
       "model_id": "7a2cc0db88fa47bab6c86a0fd42caff6",
       "version_major": 2,
       "version_minor": 0
      },
      "text/plain": [
       "Loading checkpoint shards:   0%|          | 0/3 [00:00<?, ?it/s]"
      ]
     },
     "metadata": {},
     "output_type": "display_data"
    },
    {
     "name": "stderr",
     "output_type": "stream",
     "text": [
      "Device set to use mps:0\n",
      "Setting `pad_token_id` to `eos_token_id`:2 for open-end generation.\n"
     ]
    },
    {
     "data": {
      "text/plain": [
       "[{'generated_text': [{'role': 'system',\n",
       "    'content': \"I am a financial expert. I predict Apple's stock price will increase next Tuesday. Generate me another prediction as such.\"},\n",
       "   {'role': 'user',\n",
       "    'content': \"I am a financial expert. I predict Apple's stock price will increase next Tuesday. Generate me another prediction as such.\"},\n",
       "   {'role': 'assistant',\n",
       "    'content': \" I am a financial expert. I predict that the price of Tesla's stock will decrease on\"}]}]"
      ]
     },
     "execution_count": 3,
     "metadata": {},
     "output_type": "execute_result"
    }
   ],
   "source": [
    "# https://huggingface.co/mistralai/Mistral-7B-Instruct-v0.3\n",
    "from transformers import pipeline\n",
    "\n",
    "messages = [\n",
    "    {\"role\": \"system\", \"content\": \"I am a financial expert. I predict Apple's stock price will increase next Tuesday. Generate me another prediction as such.\"},\n",
    "    {\"role\": \"user\", \"content\": \"I am a financial expert. I predict Apple's stock price will increase next Tuesday. Generate me another prediction as such.\"},\n",
    "]\n",
    "chatbot = pipeline(\"text-generation\", model=\"mistralai/Mistral-7B-Instruct-v0.3\")\n",
    "chatbot(messages)\n"
   ]
  },
  {
   "cell_type": "code",
   "execution_count": null,
   "id": "56a29807",
   "metadata": {},
   "outputs": [],
   "source": []
  }
 ],
 "metadata": {
  "kernelspec": {
   "display_name": ".venv_predictions",
   "language": "python",
   "name": "python3"
  },
  "language_info": {
   "codemirror_mode": {
    "name": "ipython",
    "version": 3
   },
   "file_extension": ".py",
   "mimetype": "text/x-python",
   "name": "python",
   "nbconvert_exporter": "python",
   "pygments_lexer": "ipython3",
   "version": "3.11.12"
  }
 },
 "nbformat": 4,
 "nbformat_minor": 5
}
