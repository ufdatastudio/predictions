{
 "cells": [
  {
   "cell_type": "markdown",
   "id": "c6443b15",
   "metadata": {},
   "source": [
    "# Term-Document Matrix"
   ]
  },
  {
   "cell_type": "code",
   "execution_count": 1,
   "id": "345690b4",
   "metadata": {},
   "outputs": [],
   "source": [
    "import os, sys, spacy\n",
    "\n",
    "import pandas as pd\n",
    "# import gensim.downloader as api\n",
    "\n",
    "# Get the current working directory of the notebook\n",
    "notebook_dir = os.getcwd()\n",
    "# Add the parent directory to the system path\n",
    "sys.path.append(os.path.join(notebook_dir, '../'))\n",
    "\n",
    "from data_processing import DataProcessing"
   ]
  },
  {
   "cell_type": "code",
   "execution_count": 16,
   "id": "f1cf1aa2",
   "metadata": {},
   "outputs": [],
   "source": [
    "def extract_terms(doc):\n",
    "    \"\"\"Extract terms (also called words) from a document (text file or string).\n",
    "\n",
    "    Parameters:\n",
    "    -----------\n",
    "    doc: `str`\n",
    "        A document with words\n",
    "\n",
    "    Returns:\n",
    "    --------\n",
    "    words_in_doc_df: `pd.DataFrame\n",
    "        The doc \n",
    "    \"\"\"\n",
    "\n",
    "    # Logic\n",
    "    word_dic = {}\n",
    "    words = doc.split()\n",
    "    df = pd.DataFrame(words, columns=[\"Words\"])\n",
    "    return df"
   ]
  },
  {
   "cell_type": "code",
   "execution_count": 17,
   "id": "707153b7",
   "metadata": {},
   "outputs": [],
   "source": [
    "document_1 = \"Hey, I'm a Kingdom Man\"\n",
    "document_2 = \"Hey, I'm a Kingdom Man\""
   ]
  },
  {
   "cell_type": "code",
   "execution_count": 19,
   "id": "46dd0d20",
   "metadata": {},
   "outputs": [
    {
     "data": {
      "text/html": [
       "<div>\n",
       "<style scoped>\n",
       "    .dataframe tbody tr th:only-of-type {\n",
       "        vertical-align: middle;\n",
       "    }\n",
       "\n",
       "    .dataframe tbody tr th {\n",
       "        vertical-align: top;\n",
       "    }\n",
       "\n",
       "    .dataframe thead th {\n",
       "        text-align: right;\n",
       "    }\n",
       "</style>\n",
       "<table border=\"1\" class=\"dataframe\">\n",
       "  <thead>\n",
       "    <tr style=\"text-align: right;\">\n",
       "      <th></th>\n",
       "      <th>Words</th>\n",
       "    </tr>\n",
       "  </thead>\n",
       "  <tbody>\n",
       "    <tr>\n",
       "      <th>0</th>\n",
       "      <td>Hey,</td>\n",
       "    </tr>\n",
       "    <tr>\n",
       "      <th>1</th>\n",
       "      <td>I'm</td>\n",
       "    </tr>\n",
       "    <tr>\n",
       "      <th>2</th>\n",
       "      <td>a</td>\n",
       "    </tr>\n",
       "    <tr>\n",
       "      <th>3</th>\n",
       "      <td>Kingdom</td>\n",
       "    </tr>\n",
       "    <tr>\n",
       "      <th>4</th>\n",
       "      <td>Man</td>\n",
       "    </tr>\n",
       "  </tbody>\n",
       "</table>\n",
       "</div>"
      ],
      "text/plain": [
       "     Words\n",
       "0     Hey,\n",
       "1      I'm\n",
       "2        a\n",
       "3  Kingdom\n",
       "4      Man"
      ]
     },
     "execution_count": 19,
     "metadata": {},
     "output_type": "execute_result"
    }
   ],
   "source": [
    "words_in_d1 = extract_terms(document_1)\n",
    "words_in_d1\n",
    "# words_in_d2 = extract_terms(document_2)\n",
    "\n",
    "# DataProcessing.concat_dfs([words_in_d1, words_in_d2])"
   ]
  },
  {
   "cell_type": "code",
   "execution_count": null,
   "id": "4bb83d2d",
   "metadata": {},
   "outputs": [],
   "source": []
  }
 ],
 "metadata": {
  "kernelspec": {
   "display_name": ".venv_predictions",
   "language": "python",
   "name": "python3"
  },
  "language_info": {
   "codemirror_mode": {
    "name": "ipython",
    "version": 3
   },
   "file_extension": ".py",
   "mimetype": "text/x-python",
   "name": "python",
   "nbconvert_exporter": "python",
   "pygments_lexer": "ipython3",
   "version": "3.11.12"
  }
 },
 "nbformat": 4,
 "nbformat_minor": 5
}
