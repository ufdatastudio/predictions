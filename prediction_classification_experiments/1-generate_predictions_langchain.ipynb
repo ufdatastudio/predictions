{
 "cells": [
  {
   "cell_type": "markdown",
   "metadata": {},
   "source": [
    "# 1-Generate Predictions using LangChain\n",
    "\n",
    "- **Goal:** Prediction Recognition\n",
    "\n",
    "- **Purpose:** To implement step 1 with sub steps of prediction recognition pipeline. See steps\n",
    "    1. Generate predictions\n",
    "        1. Create several prediction prompts templates\n",
    "        2. Utilize open-source LLMs to generate predictions\n",
    "\n",
    "- **Misc:**\n",
    "    - `%store`: Cell magic will store the variable of interest so we can load in another notebook"
   ]
  },
  {
   "cell_type": "code",
   "execution_count": null,
   "metadata": {},
   "outputs": [],
   "source": [
    "import os\n",
    "import sys\n",
    "\n",
    "import pandas as pd\n",
    "\n",
    "from langchain_core.prompts import PipelinePromptTemplate, PromptTemplate\n",
    "\n",
    "# Get the current working directory of the notebook\n",
    "notebook_dir = os.getcwd()\n",
    "# Add the parent directory to the system path\n",
    "sys.path.append(os.path.join(notebook_dir, '../'))\n",
    "\n",
    "from data_processing import DataProcessing\n",
    "from text_generation_models import LlamaTextGenerationModel\n",
    "# DeepScaleRTextGenerationModel\n"
   ]
  },
  {
   "cell_type": "code",
   "execution_count": null,
   "metadata": {},
   "outputs": [],
   "source": [
    "pd.set_option('max_colwidth', 800)\n",
    "\n",
    "llama_generation_model = LlamaTextGenerationModel()\n",
    "# deepscaler_generation_model = DeepScaleRTextGenerationModel()"
   ]
  },
  {
   "cell_type": "markdown",
   "metadata": {},
   "source": [
    "## LangChain Templates for Domain Predictions"
   ]
  },
  {
   "cell_type": "code",
   "execution_count": null,
   "metadata": {},
   "outputs": [],
   "source": [
    "full_prediction_template = \"\"\"{prediction_properties}\n",
    "\n",
    "{prediction_requirements}\n",
    "\n",
    "{prediction_templates}\n",
    "\n",
    "{prediction_examples}\"\"\"\n",
    "full_prediction_prompt = PromptTemplate.from_template(full_prediction_template)"
   ]
  },
  {
   "cell_type": "markdown",
   "metadata": {},
   "source": [
    "Google predictive spelling/autocomplete "
   ]
  },
  {
   "cell_type": "code",
   "execution_count": null,
   "metadata": {},
   "outputs": [],
   "source": [
    "prediction_properties_template = \"\"\"A prediction ($p$) consists of the following nine properties:\n",
    "\n",
    "    1. $p_p$, {prediction_domain} person that predicted $p$\n",
    "        - Can be a person (with a name) or a {prediction_domain} person such as a {prediction_domain} reporter, {prediction_domain} analyst, {prediction_domain} expert, {prediction_domain} top executive, {prediction_domain} senior level person, etc).\n",
    "    2. $p_o$, {prediction_domain} organization \n",
    "        - Can only be an organization or entity that is associated with the {prediction_domain} prediction.\n",
    "    3. $p_t$, current time when $p$ was made\n",
    "        - Time is the exact moment that can be measured in day, hour, minute, second, etc.\n",
    "    4. $p_f$, forecast time when $p$ is expected to come to fruition\n",
    "        - Forecast can be from a second to anytime in the future.\n",
    "        - Answers the questions: \"How far to go out?\" or \"Where to stop?\".\n",
    "    5. $p_a$, {prediction_domain} prediction attribute\n",
    "        - Measurable domain-specific attributes such as various quantifiable metrics relevant to the {prediction_domain} domain.\n",
    "        - Some examples are {prediction_domain_attribute}.\n",
    "    6. $p_s$, slope that indicates the direction of change in $p_a$\n",
    "        - Change of directions can be rise/increase/as much as, fall/decrease/as little as, change, stay stable, high/low chance/probability/degree of, etc.\n",
    "    7. $p_m$, metric outcome\n",
    "        - How much will the $p_a$ $p_s$?\n",
    "    8. $p_v$, future verb tense\n",
    "        - A verb that is associated with the future such as will, would, be going to, should, etc.\n",
    "    9. $p_l$, location\n",
    "        - The location is attached to attribute $p_a$ if {prediction_domain} == 'weather'\n",
    "    \"\"\"\n",
    "prediction_properties_prompt = PromptTemplate.from_template(prediction_properties_template)"
   ]
  },
  {
   "cell_type": "markdown",
   "metadata": {},
   "source": [
    "    - Keep the brackets around the prediction properties when generating predictions and be sure to include brackets around dates such as \"2024-10-15\", \"2024/08/20\", \"Q4 of 2024\", \"2025\", \"2027 Q1\", \"Q3 2027\", \"On 21 Aug 2024\"."
   ]
  },
  {
   "cell_type": "code",
   "execution_count": null,
   "metadata": {},
   "outputs": [],
   "source": [
    "prediction_requirements_template = \"\"\"{prediction_domain} requirements to use for each prediction:\n",
    "\n",
    "    - Should be based on real-world {prediction_domain} data and not hallucinate.\n",
    "    - Only a simple sentence (prediction) (and NOT compounding using \"and\" or \"or\").\n",
    "    - Should diversify all nine properties of the prediction ($p$).\n",
    "    - Should use synonyms of predicts such as forecasts, speculates, foresee, envision, etc., and not use any of them more than ten times.\n",
    "    - The prediction should be unique and not repeated.\n",
    "    - The forecast time ($p_f$) should always be after current time ($p_t$) of when forecast ($p$) was made.\n",
    "    - Do not number the predictions.\n",
    "    - Do not say, \"As the {prediction_domain} at organization ($p_o$), I will generate company-based {prediction_domain} predictions using the provided templates.\" or anything similar.\n",
    "    - Should have a forecast time ($p_f$) when $p$ is expected to come to fruition between 2025 to 2050.\n",
    "    - Use the five different templates and examples provided.\n",
    "    - Change how the current time ($p_t$) and forecast time ($p_f$) are written in the prediction with examples of (1) Wednesday, August 21, 2024; (2) Wed, August 21, 2024; (3) 08/21/2024; (4) 08/21/2024; (5) 21/08/2024; (6) 21 August 2024; (7) 2024/08/21; (8) 2024-08-21; (9) August 21, 2024; (10) Aug 21, 2024; (11) 21 August 2024, (12) 21 Aug 2024, Q3 of 2027, 2029 of Q3, etc (with removing day of week).\n",
    "    {domain_requirements}\n",
    "    - Do not say, \"Here are 10 unique weather predictions based on the provided templates and examples:\" in the prompt.\n",
    "    - Do not use any of the examples in the prompt.\n",
    "    - In front of every prodiction, put the template number in the format of \"T1:\", \"T2:\", etc.\"\"\"\n",
    "prediction_requirements_prompt = PromptTemplate.from_template(prediction_requirements_template)"
   ]
  },
  {
   "cell_type": "code",
   "execution_count": null,
   "metadata": {},
   "outputs": [],
   "source": [
    "prediction_templates_template = \"\"\"Here are some {prediction_domain} templates:\n",
    "\n",
    "- {prediction_domain} template 1: On [ $p_t$ ], [ $p_p$ ] predicts that the [ $p_a$ ] at [ $p_o$ ] [ $p_v$ ] [ $p_s$ ] by [ $p_m$ ] in [ $p_f$ ].\n",
    "- {prediction_domain} template 2: In [ $p_t$ ], [ $p_p$ ] from [ $p_o$ ], predicts that the [ $p_a$ ] [ $p_v$ ] [ $p_s$ ] from [ $p_m$ ] in [ $p_f$ ].\n",
    "- {prediction_domain} template 3: [ $p_p $] predicts on [ $p_t$ ] that the [ $p_a$ ] at [ $p_o$ ] [ $p_v$ ] [ $p_s$ ] under [ $p_m$ ] in [ $p_f$ ].\n",
    "- {prediction_domain} template 4: According to a [ $p_p$ ] from [ $p_o$ ], on [ $p_t$ ], the [ $p_a$ ] [ $p_v$ ] [ $p_s$ ] beyond [ $p_m$ ] in the time frame of [ $p_f$ ].\n",
    "- {prediction_domain} template 5: In [ $p_f$ ], the [ $p_a$ ] at [ $p_o$ ] [ $p_v$ ] a [ $p_m$ ] [ $p_s$ ], as predicted by [ $p_p$ ] on [ $p_t$ ].\"\"\"\n",
    "prediction_templates_prompt = PromptTemplate.from_template(prediction_templates_template)"
   ]
  },
  {
   "cell_type": "code",
   "execution_count": null,
   "metadata": {},
   "outputs": [],
   "source": [
    "prediction_examples_template = \"\"\"Here are some examples of {prediction_domain} predictions:\n",
    "\n",
    "{domain_examples}\n",
    "\n",
    "With the above, generate a unique set of {predictions_N} predictions. Think from the perspective of an {prediction_domain} analyst, expert, top executive, or senior level person.\"\"\"\n",
    "prediction_examples_prompt = PromptTemplate.from_template(prediction_examples_template)"
   ]
  },
  {
   "cell_type": "code",
   "execution_count": null,
   "metadata": {},
   "outputs": [],
   "source": [
    "prediction_input_prompts = [\n",
    "    (\"prediction_properties\", prediction_properties_prompt),\n",
    "    (\"prediction_requirements\", prediction_requirements_prompt),\n",
    "    (\"prediction_templates\", prediction_templates_prompt),\n",
    "    (\"prediction_examples\", prediction_examples_prompt),\n",
    "]\n",
    "\n",
    "pipeline_prompt = PipelinePromptTemplate(\n",
    "    final_prompt=full_prediction_prompt, pipeline_prompts=prediction_input_prompts\n",
    ")"
   ]
  },
  {
   "cell_type": "markdown",
   "metadata": {},
   "source": [
    "## Generate Domain Predictions"
   ]
  },
  {
   "cell_type": "code",
   "execution_count": null,
   "metadata": {},
   "outputs": [],
   "source": [
    "predictions_N = 5"
   ]
  },
  {
   "cell_type": "markdown",
   "metadata": {},
   "source": [
    "### Generate Financial Predictions"
   ]
  },
  {
   "cell_type": "code",
   "execution_count": null,
   "metadata": {},
   "outputs": [],
   "source": [
    "financial_attributes = \"\"\"stock price, net profit, revenue, operating cash flow, research and development expenses, operating income, gross profit.\"\"\"\n",
    "financial_requirements = \"\"\"- Should be based on real-world financial earnings reports.\n",
    "    - Suppose the time when $p$ was made is during any earning season.\n",
    "    - Include stocks from all sectors such as consumer staples, energy, finance, health care, industrials, materials, media, real estate, retail, technology, utilities, defense, etc.\n",
    "    - Include the US Dollar sign ($) before or USD after the amount of the financial attribute.\"\"\"\n",
    "\n",
    "# For each template, have a rise, fall, or stable example, respectively.\n",
    "financial_examples = \"\"\"\n",
    "- financial examples for template 1:\n",
    "    1. On [Monday, December 16, 2024], [Detravious, an investor] forecasts that the [revenue] at [Apple] [will likely] [decrease] from [$87B to $50 billion] in [2025 Q1].\n",
    "    2. On [Tue, November 19, 2024], [Ava Lee] predicts that the [operating cash flow] at [ExxonMobil] [should] [decrease] by [5 percent to $20 billion] in [08/21/2025].\n",
    "- financial examples for template 2:\n",
    "    3. In [October 2024], [Julian Hall] from [Yahoo Finance], envisions that the [stock price] [will] [rise] from [$800 to $1,000 per share] in [Quarter 3 of 2028].\n",
    "    4. In [8/15/2027], [Mrs. Kalia] from [McDonald's], predicts that the [net profit] [will] [fall] under [5% to $5 billion] in [January of 2029].\n",
    "- financial examples for template 3:\n",
    "    5. [Dija Gabe, a financial expert] predicts on [23 October 2024] that the [research and development expenses] at [Alphabet] [may] [stay stable] at [$20 million] in [2027 Quarter 4].\n",
    "    6. [Mr. Mike] predicts in [Q2 2026] that the [operating income] at [Microsoft] [will] [fall] by [407 percent to $50M] on [Monday, Nov 18, 2026].\n",
    "- financial examples for template 4:\n",
    "    7. According to a [top executive] from [Chevron], on [08/21/2024], the [net profit] [is expected to] [increase] beyond [10,000 USD] in the time frame of [Q3 of 2029].\n",
    "    8. According to [Brittany] from [Tesla], on [Fri, July 12, 2024], the [gross profit] [may] [increase] as much as [$30,000,000, reflecting a 1209 percent increase] by [21 Aug 2024].\n",
    "- financial examples for template 5:\n",
    "    9. In [2025-08-21], the [net profit] at [Amazon] has a [probability] of [11 percent to reach $30k] [decrease], as predicted by [Emily Davis, a financial reporter] on [21 Oct 24].\n",
    "    10. In [Quarter of 2027], the [revenue] at [Facebook] [is expected] to be [$30 billion, which is a 15%] [rise], as predicted by [a financial analyst] on [Sun, February 20, 2024].\"\"\""
   ]
  },
  {
   "cell_type": "code",
   "execution_count": null,
   "metadata": {},
   "outputs": [],
   "source": [
    "financial_input_dict = {\n",
    "    \"prediction_domain\": \"financial\",\n",
    "    \"prediction_domain_attribute\": financial_attributes,\n",
    "    \"domain_requirements\": financial_requirements,\n",
    "    \"domain_examples\": financial_examples,\n",
    "    \"predictions_N\": predictions_N\n",
    "}\n",
    "financial_prompt_output = pipeline_prompt.format(**financial_input_dict)\n",
    "# print(financial_prompt_output)\n",
    "# prompt_template = \"Your prompt here\"\n",
    "# label = 1  # or \"0\" for non-prediction\n",
    "# domain = \"finance\" \n",
    "\n",
    "\n",
    "# financial_df = llama_generation_model.generate_predictions(financial_prompt_output, label, domain)\n",
    "# financial_df"
   ]
  },
  {
   "cell_type": "markdown",
   "metadata": {},
   "source": [
    "### Generate Weather Predictions"
   ]
  },
  {
   "cell_type": "code",
   "execution_count": null,
   "metadata": {},
   "outputs": [],
   "source": [
    "weather_prediction_templates_template = \"\"\"Here are some {prediction_domain} templates:\n",
    "\n",
    "- {prediction_domain} template 1: On [ $p_t$ ], [ $p_p$ ] predicts that the [ $p_a$ ] at [ $p_o$ ] in [ $p_l$ ] [ $p_v$ ] [ $p_s$ ] by [ $p_m$ ] in [ $p_f$ ].\n",
    "- {prediction_domain} template 2: In [ $p_t$ ], [ $p_p$ ] from [ $p_o$ ] in [ $p_l$ ], predicts that the [ $p_a$ ] [ $p_v$ ] [ $p_s$ ] from [ $p_m$ ] in [ $p_f$ ].\n",
    "- {prediction_domain} template 3: [ $p_p $] predicts on [ $p_t$ ] that the [ $p_a$ ] at [ $p_o$ ] in [ $p_l$ ] [ $p_v$ ] [ $p_s$ ] under [ $p_m$ ] in [ $p_f$ ].\n",
    "- {prediction_domain} template 4: According to a [ $p_p$ ] from [ $p_o$ ] in [ $p_l$ ], on [ $p_t$ ], the [ $p_a$ ] [ $p_v$ ] [ $p_s$ ] beyond [ $p_m$ ] in the time frame of [ $p_f$ ].\n",
    "- {prediction_domain} template 5: In [ $p_f$ ], the [ $p_a$ ] at [ $p_o$ ] in [ $p_l$ ] [ $p_v$ ] a [ $p_m$ ] [ $p_s$ ], as predicted by [ $p_p$ ] on [ $p_t$ ].\"\"\"\n",
    "weather_prediction_templates_prompt = PromptTemplate.from_template(weather_prediction_templates_template)"
   ]
  },
  {
   "cell_type": "code",
   "execution_count": null,
   "metadata": {},
   "outputs": [],
   "source": [
    "weather_attributes = \"\"\"temperature, precipitation, wind speed, humidity, etc.\"\"\"\n",
    "weather_requirements = \"\"\"- Should be based on real-world weather reports.\n",
    "    - Suppose the time when $p$ was made is during any season and any location (ie: Florida known for hurricanes, California known for wildfires, etc).\n",
    "    - Include reports from all meteorologists, weather organizations, or any type of weather entity..\"\"\"\n",
    "\n",
    "# For each template, have a rise, fall, or stable example, respectively.?\n",
    "weather_examples = \"\"\"\n",
    "- weather examples for template 1:\n",
    "    1. On [Monday, December 16, 2024], [Dr. Melissa Carter] a weather expert at the [National Weather Service], forecasts that the [temperature], in [New York City] [will likely] [decrease] from [5°C to 3°C] on [February 16, 2025 (Fri)].\n",
    "    2. On [Tue, 19 November 2024], [Ethan James] at the [US Weather Center] predicts that the [precipitation levels], in [San Francisco] [are likely to] [increase] by [20%] in the time frame of [08/21/2025].\n",
    "- weather examples for template 2:\n",
    "    3. In [October 2024], [Samantha Lin] from [NOAA], envisions that the [wind speed] [should] [decrease] by [15 mph] in [Chicago] by [Friday, March 22, 2025].\n",
    "    4. In [8/15/2027], [Carlos Rivera] from [Weather.com] predicts that the [humidity] [will] [rise] by [30%] in [Miami] in [July of 2025].\n",
    "- weather examples for template 3:\n",
    "    5. [Amanda Green], a weather reporter from [Bureau of Meteorology]  predicts on [23 October 2024] that the [temperature] in [Seattle], [will] [fall] by [10°F] in [2025 Quarter 1].\n",
    "    6. [Mr. Tommy Wu], from [US Weather Center] predicts in [Q2 2026] that [snowfall levels], in [Denver] [will likely] [increase] by [8 inches] in [Monday, Nov 18, 2026].\n",
    "- weather examples for template 4:\n",
    "    7. According to a [top executive] from [AccuWeather], on [12/21/2024], the [rainfall] in [Portland] [is expected to] [increase] beyond [10 percent] in the time frame of [early 2025].\n",
    "    8. According to [David Harper] from [Weather Underground, on [Fri, August 9, 2024], the [air quality index] in [Los Angeles] [is likely to] [improve] by [20%] in [21 Aug 2024].\n",
    "- weather examples for template 5:\n",
    "    9. In [2025-08-21], the [average temperature] in [Houston] has a [probability] of [5 percent to] [decrease], as predicted by [King, a weather reporter] from [Meteorological Department] on [21 Oct 24].\n",
    "    10. In [Quarter of 2027], wind chill] in [Minneapolis] [is expected] to be [10°F, which is a 15%] [rise], as predicted by [a weather analyst named Ortiz] on [Sun, February 20, 2024].\"\"\""
   ]
  },
  {
   "cell_type": "code",
   "execution_count": null,
   "metadata": {},
   "outputs": [],
   "source": [
    "weather_input_prompts = [\n",
    "    (\"prediction_properties\", prediction_properties_prompt),\n",
    "    (\"prediction_requirements\", prediction_requirements_prompt),\n",
    "    (\"prediction_templates\", weather_prediction_templates_prompt),\n",
    "    (\"prediction_examples\", prediction_examples_prompt),\n",
    "]\n",
    "\n",
    "weather_pipeline_prompt = PipelinePromptTemplate(\n",
    "    final_prompt=full_prediction_prompt, pipeline_prompts=weather_input_prompts\n",
    ")\n",
    "\n",
    "weather_input_dict = {\n",
    "    \"prediction_domain\": \"weather\",\n",
    "    \"prediction_domain_attribute\": weather_attributes,\n",
    "    \"domain_requirements\": weather_requirements,\n",
    "    \"domain_examples\": weather_examples,\n",
    "    \"predictions_N\": predictions_N\n",
    "}\n",
    "weather_prompt_output = weather_pipeline_prompt.format(**weather_input_dict)\n",
    "# print(weather_prompt_output)\n",
    "\n",
    "\n",
    "# domain = \"weather\" \n",
    "\n",
    "# weather_df = llama_generation_model.generate_predictions(weather_prompt_output, label, domain)\n",
    "# weather_df"
   ]
  },
  {
   "cell_type": "markdown",
   "metadata": {},
   "source": [
    "### Generate Health Predictions"
   ]
  },
  {
   "cell_type": "code",
   "execution_count": null,
   "metadata": {},
   "outputs": [],
   "source": [
    "health_attributes = \"\"\"obesity rates, prevalence of chronic illnesses, average physical activity levels, nutritional intake, etc.\"\"\"\n",
    "health_requirements = \"\"\"- Should be based on real-world health reports.\n",
    "    - Suppose the time when $p$ was made is during any season such as flu season, allergy season, pandemic, epidemic, etc.\n",
    "    - Include reports from all Health organization, researcher, doctor, physical therapist, physician assistant, nurse practictioners, fitness expert, etc.\"\"\"\n",
    "\n",
    "# For each template, have a rise, fall, or stable example, respectively.?\n",
    "health_examples = \"\"\"\n",
    "- health examples for template 1:\n",
    "    1. On [Monday, December 16, 2024], [Detravious, an investor] forecasts that the [obesity rate] at the [United States] [will likely] [decrease] by [5%] in [2025 Q1].\n",
    "    2. On [Tue, November 19, 2024], [medical professional Sophia Rodriguez] predicts that the [cancer rate] in [Georgia] [should] [decrease] by [4 percent] in [08/21/2025].\n",
    "- health examples for template 2:\n",
    "    3. In [October 2024], [Arjun Patel, Ph.D] from [Florida Department of Health] envisions that the [average daily caloric intake] [may] [rise] from [100 to 300] in [Quarter 3 of 2028].\n",
    "    4. In [8/15/2027], [Dr. Michael Brown] from the [Centers for Disease Control and Prevention], foresee that the [average daily caloric intake] [will] [fall] [8 percent] in [2027]\n",
    "- Examples for template 3: .\n",
    "- health examples for template 3:\n",
    "    5. [A trusted expert] predicts on [23 October 2024] that the [global vaccination rate for measles] in the [US] [should] [stay stable] at [100K people] in [2027 Quarter 4].\n",
    "    6. [Dr. Sarah Johnson] foresee in [Q2 2026] that the [prevalence of hypertension] in [California] [will] [fall] by [407 percent] by [Monday, Nov 18, 2026].\n",
    "- health examples for template 4:\n",
    "    7. According to a [Olivia Martinez] from [Stanford University], on [08/21/2024], the prevalence of [type 2 diabetes in adults] [is expected to] [increase] beyond [8.5 percent] in the time frame of [Q3 of 2029].\n",
    "    8. According to [Rachel Kim, MD] from the [University of California], on [Fri, July 12, 2024], the prevalence of [type 2 diabetes in adults] [may] [increase] as much as [30,000,000, reflecting a 1209 percent increase] by [21 Aug 2024].\n",
    "- health examples for template 5:\n",
    "    9. In [2025-08-21], the [average weekly exercise hours] in [United States] has a [probability] of [20 percent to reach 30k], as predicted by [Emily Davis, Harvard School of Public Health] on [21 Oct 24].\n",
    "    10. In [Quarter of 2027], the [average weekly walking hours] in [Atlanta] is [expected to rise] by [15%], as predicted by the [Monique, National Institutes of Health] on [Sun, February 20, 2024].\"\"\""
   ]
  },
  {
   "cell_type": "code",
   "execution_count": null,
   "metadata": {},
   "outputs": [],
   "source": [
    "health_input_dict = {\n",
    "    \"prediction_domain\": \"health\",\n",
    "    \"prediction_domain_attribute\": health_attributes,\n",
    "    \"domain_requirements\": health_requirements,\n",
    "    \"domain_examples\": health_examples,\n",
    "    \"predictions_N\": predictions_N\n",
    "}\n",
    "\n",
    "health_prompt_output = pipeline_prompt.format(**health_input_dict)\n",
    "# print(health_prompt_output)\n",
    "\n",
    "# domain = \"health\" \n",
    "\n",
    "\n",
    "# health_df = llama_generation_model.generate_predictions(health_prompt_output, label, domain)\n",
    "# weather_df"
   ]
  },
  {
   "cell_type": "markdown",
   "metadata": {},
   "source": [
    "### Generate Policy Predictions"
   ]
  },
  {
   "cell_type": "code",
   "execution_count": null,
   "metadata": {},
   "outputs": [],
   "source": [
    "policy_attributes = \"\"\"election outcomes, economic reforms, legislative impacts.\"\"\"\n",
    "policy_requirements = \"\"\"- Should be based on real-world policy reports.\n",
    "    - Suppose the time when $p$ was made is during an election cycle or non-election cycles.\n",
    "    - Include policies & laws, from all sectors such as consumer staples, energy, finance, health care, industrials, materials, media, real estate, retail, technology, utilities, defense, etc.\"\"\"\n",
    "\n",
    "policy_examples = \"\"\"\n",
    "- policy examples for template 1:\n",
    "    1. On [Monday, December 16, 2024], [President John Doe] forecasts that the [unemployment rate] at [the United States] [will likely] [decrease] by [2%] in [2025 Q1].\n",
    "    2. On [Tue, November 19, 2024], [Dr. Jane Smith] foresee that the [population growth rate] in [California] [is likely to] [decrease] by [5 percent to 20 billion] in [08/21/2025].\n",
    "- policy examples for template 2:\n",
    "    3. In [October 2024], [Senator Emily Johnson] from [the Senate Committee on Finance], envisions that the [inflation rate] [should] [rise] from [1.3 percent to 89 percen] in [Quarter 3 of 2028].\n",
    "    4. In [8/15/2027], [Governor Michael Brown] from [the State of Texas], predicts that the [number of registered voters] [will] [fall] under [5B] in [Dec of 2029].\n",
    "- policy examples for template 3:\n",
    "    5. [Dija Gabe in the Congressional Budget Office] predicts on [23 October 2024] that [national debt] in [USA] [may] [stay stable] at [20 million] in [2027 Quarter 4].\n",
    "    6. [Dr. Sarah Lee] foresee in [Q2 2026] that the [median household income] in [NY] [should] [fall] by [629 percent to $15,000] on [Monday, Nov 18, 2026].\n",
    "- policy examples for template 4:\n",
    "    7. According to a [General Robert Williams] from [the Department of Defense], on [08/21/2024], the [number of active-duty soldiers] [is expected to] [increase] beyond [$10,000] in the time frame of [Q3 of 2029].\n",
    "    8. According to [Dr. Olivia Martinez] from [the Census Bureau], on [Fri, July 12, 2024], the [population density] in [urban areas] [is likely to] [increase] as much as [100,000,000, reflecting a 1209 percent increase] by [21 Aug 2024].\n",
    "- policy examples for template 5:\n",
    "    9. In [2025-08-21], the [number of citizens] in [Thomson, GA, 30824] has a [probability] of [92 percent to reach 30k] [decrease], as predicted by [Shirly Tisdale, a policy reporter] on [21 Oct 24].\n",
    "    10. In [Quarter of 2027], the  [number of Navy members] in [the United States] [is expected] to be [300K, which is a 15%] [rise], as predicted by [a policy analyst] on [Sun, February 20, 2024].\"\"\""
   ]
  },
  {
   "cell_type": "code",
   "execution_count": null,
   "metadata": {},
   "outputs": [],
   "source": [
    "policy_input_dict = {\n",
    "    \"prediction_domain\": \"policy\",\n",
    "    \"prediction_domain_attribute\": policy_attributes,\n",
    "    \"domain_requirements\": policy_requirements,\n",
    "    \"domain_examples\": policy_examples,\n",
    "    \"predictions_N\": predictions_N\n",
    "}\n",
    "\n",
    "policy_prompt_output = pipeline_prompt.format(**policy_input_dict)\n",
    "# print(policy_prompt_output)\n",
    "# domain = \"policy\" \n",
    "\n",
    "# policy_df = llama_generation_model.generate_predictions(policy_prompt_output, label, domain)\n",
    "# policy_df"
   ]
  },
  {
   "cell_type": "markdown",
   "metadata": {},
   "source": [
    "### Combine Domain Predictions"
   ]
  },
  {
   "cell_type": "code",
   "execution_count": null,
   "metadata": {},
   "outputs": [],
   "source": [
    "# predictions_df = DataProcessing.concat_dfs([financial_df, weather_df, health_df, policy_df])\n",
    "# predictions_df"
   ]
  },
  {
   "cell_type": "code",
   "execution_count": null,
   "metadata": {},
   "outputs": [],
   "source": [
    "# updated_predictions_df = DataProcessing.reformat_df_with_template_number(predictions_df, col_name=\"Base Sentence\")\n",
    "# updated_predictions_df"
   ]
  },
  {
   "cell_type": "markdown",
   "metadata": {},
   "source": [
    "## LangChain Templates for Any Domain Non-Predictions"
   ]
  },
  {
   "cell_type": "code",
   "execution_count": null,
   "metadata": {},
   "outputs": [],
   "source": [
    "full_non_prediction_template = \"\"\"{non_prediction_properties}\n",
    "\n",
    "{non_prediction_requirements}\n",
    "\n",
    "{non_prediction_examples}\"\"\"\n",
    "full_non_prediction_prompt = PromptTemplate.from_template(full_non_prediction_template)"
   ]
  },
  {
   "cell_type": "code",
   "execution_count": null,
   "metadata": {},
   "outputs": [],
   "source": [
    "non_prediction_properties_template = \"\"\"Generate any sentence that's not a prediction, which we name non-prediction. A prediction is below with variables\n",
    "    1. $p_p$, {prediction_domain} person that predicted $p$\n",
    "        - Can be a person (with a name) or a {prediction_domain} person such as a {prediction_domain} reporter, {prediction_domain} analyst, {prediction_domain} expert, {prediction_domain} top executive, {prediction_domain} senior level person, etc).\n",
    "    2. $p_o$, {prediction_domain} organization \n",
    "        - Can only be an organization or entity that is associated with the {prediction_domain} prediction.\n",
    "    3. $p_t$, current time when $p$ was made\n",
    "        - Time is the exact moment that can be measured in day, hour, minute, second, etc.\n",
    "    4. $p_f$, forecast time when $p$ is expected to come to fruition\n",
    "        - Forecast can be from a second to anytime in the future.\n",
    "        - Answers the questions: \"How far to go out?\" or \"Where to stop?\".\n",
    "    5. $p_a$, {prediction_domain} prediction attribute\n",
    "        - Measurable domain-specific attributes such as various quantifiable metrics relevant to the {prediction_domain} domain.\n",
    "    6. $p_s$, slope that indicates the direction of change in $p_a$\n",
    "        - Change of directions can be rise/increase/as much as, fall/decrease/as little as, change, stay stable, high/low chance/probability/degree of, etc.\n",
    "    7. $p_m$, metric outcome\n",
    "        - How much will the $p_a$ $p_s$?\n",
    "    8. $p_v$, future verb tense\n",
    "        - A verb that is associated with the future such as will, would, be going to, should, etc.\n",
    "    9. $p_l$, location\n",
    "        - The location is attached to attribute $p_a$ if {prediction_domain} == 'weather'\n",
    "    \"\"\"\n",
    "non_prediction_properties_prompt = PromptTemplate.from_template(non_prediction_properties_template)"
   ]
  },
  {
   "cell_type": "code",
   "execution_count": null,
   "metadata": {},
   "outputs": [],
   "source": [
    "non_prediction_requirements = \"\"\" requirements to use for each non-prediction:\n",
    "\n",
    "    - Should be based on real-world {prediction_domain} data and not hallucinate.\n",
    "    - Should be a simple sentence (non-prediction) (and NOT compounding using \"and\" or \"or\").\n",
    "    - The prediction should be unique and not repeated.\n",
    "    - Do not number the non-predictions.\n",
    "    - Do not say, \"Here are 10 unique non-predictions based on the provided templates and examples:\" in the prompt.\n",
    "    - Do not use any of the examples in the prompt.\n",
    "    - In front of every non-prodiction, put the template number in the format of \"T0:\" and only use \"T0:\" as the template number.\n",
    "    - Should be between 10 to 30 words.\"\"\"\n",
    "non_prediction_requirements_prompt = PromptTemplate.from_template(non_prediction_requirements)"
   ]
  },
  {
   "cell_type": "code",
   "execution_count": null,
   "metadata": {},
   "outputs": [],
   "source": [
    "non_prediction_examples_template = \"\"\"Here are some examples of {prediction_domain} non-predictions:\n",
    "\n",
    "{domain_examples}\n",
    "\n",
    "With the above, generate a unique set of {non_predictions_N} non-predictions. Think from the perspective of an {prediction_domain} person.\"\"\"\n",
    "non_prediction_examples_prompt = PromptTemplate.from_template(non_prediction_examples_template)"
   ]
  },
  {
   "cell_type": "code",
   "execution_count": null,
   "metadata": {},
   "outputs": [],
   "source": [
    "non_prediction_input_prompts = [\n",
    "    (\"non_prediction_properties\", non_prediction_properties_prompt),\n",
    "    (\"non_prediction_requirements\", non_prediction_requirements_prompt),\n",
    "    (\"non_prediction_examples\", non_prediction_examples_prompt),\n",
    "]\n",
    "\n",
    "non_prediction_pipeline_prompt = PipelinePromptTemplate(\n",
    "    final_prompt=full_non_prediction_prompt, pipeline_prompts=non_prediction_input_prompts\n",
    ")"
   ]
  },
  {
   "cell_type": "markdown",
   "metadata": {},
   "source": [
    "## Generate Non-Predictions\n",
    "\n",
    "- Model isn't generating the specified amount, so will loop for amount wanted."
   ]
  },
  {
   "cell_type": "code",
   "execution_count": null,
   "metadata": {},
   "outputs": [],
   "source": [
    "non_predictions_N = 5"
   ]
  },
  {
   "cell_type": "code",
   "execution_count": null,
   "metadata": {},
   "outputs": [],
   "source": [
    "non_prediction_attributes = \"\"\"Any sentence that does not include prediction variables such as $p$, $p_s$, $p_t$, $p_f$, $p_a$, $p_m$, $p_v$.\"\"\"\n",
    "\n",
    "non_prediction_examples = \"\"\"\n",
    "- non-prediction examples for template 0:\n",
    "    1. The cat sat on the mat and looked out the window.\n",
    "    2. She enjoys reading books on a rainy afternoon.\n",
    "    3. The quick brown fox jumps over the lazy dog.\n",
    "    4. He likes to play basketball with his friends on weekends.\n",
    "    5. The sun sets in the west, painting the sky with hues of orange.\n",
    "    6. They went for a hike in the mountains and enjoyed the view.\n",
    "    7. The coffee shop on the corner serves the best lattes in town.\n",
    "    8. She baked a cake for her friend's birthday party.\n",
    "    9. The children played in the park until it got dark.\n",
    "    10. He wrote a letter to his grandmother, telling her about his new job.\"\"\"\n"
   ]
  },
  {
   "cell_type": "code",
   "execution_count": null,
   "metadata": {},
   "outputs": [],
   "source": [
    "non_predictions_input_dict = {\n",
    "    \"prediction_domain\": \"any\",\n",
    "    \"any_non_prediction_domain_attribute\": non_prediction_attributes,\n",
    "    \"domain_examples\": non_prediction_examples,\n",
    "    \"non_predictions_N\": non_predictions_N\n",
    "}\n",
    "\n",
    "non_prediction_prompt_output = non_prediction_pipeline_prompt.format(**non_predictions_input_dict)\n",
    "# print(non_prediction_prompt_output)\n",
    "\n",
    "# label = 0\n",
    "# domain = \"any\"\n",
    "\n",
    "# non_predictions_df = llama_generation_model.generate_predictions(non_prediction_prompt_output, label, domain)\n",
    "# non_predictions_df"
   ]
  },
  {
   "cell_type": "code",
   "execution_count": null,
   "metadata": {},
   "outputs": [],
   "source": [
    "# updated_non_predictions_df = DataProcessing.reformat_df_with_template_number(non_predictions_df, col_name=\"Base Sentence\")\n",
    "# updated_non_predictions_df"
   ]
  },
  {
   "cell_type": "code",
   "execution_count": null,
   "metadata": {},
   "outputs": [],
   "source": [
    "text_generation_models  = [llama_generation_model]\n",
    "\n",
    "\n",
    "# Number of predictions per model\n",
    "total_predictions = 10\n",
    "\n",
    "# Batch size\n",
    "batch_size = 10\n",
    "dfs = []\n",
    "# Outer loop: Iterate until total predictions per model is reached\n",
    "for batch_idx in range(total_predictions // batch_size):\n",
    "    print(batch_idx)\n",
    "    batch_dfs = []\n",
    "    for text_generation_model in text_generation_models:\n",
    "        financial_df = text_generation_model.generate_predictions(financial_prompt_output, label=1, domain=\"finance\")\n",
    "        financial_df[\"Batch Index\"] = batch_idx\n",
    "        batch_dfs.append(financial_df)\n",
    "\n",
    "        weather_df = text_generation_model.generate_predictions(weather_prompt_output, label=1, domain=\"weather\")\n",
    "        weather_df[\"Batch Index\"] = batch_idx\n",
    "        batch_dfs.append(weather_df)\n",
    "        \n",
    "        health_df = text_generation_model.generate_predictions(health_prompt_output, label=1, domain=\"health\")\n",
    "        health_df[\"Batch Index\"] = batch_idx\n",
    "        batch_dfs.append(health_df)\n",
    "        \n",
    "        policy_df = text_generation_model.generate_predictions(policy_prompt_output, label=1, domain=\"policy\")\n",
    "        policy_df[\"Batch Index\"] = batch_idx\n",
    "        batch_dfs.append(policy_df)\n",
    "    \n",
    "    dfs.extend(batch_dfs)\n",
    "    \n",
    "\n",
    "\n",
    "    # print(updated_predictions_df)\n",
    "    # print(updated_non_predictions_df)\n",
    "\n",
    "# non_predictions_dfs = []\n",
    "# for i in range(4):\n",
    "#     non_predictions_df = LlamaTextGenerationModel.generate_predictions(text=non_prediction_template, label=non_prediction_label, domain=\"any\")\n",
    "#     non_predictions_dfs.extend([non_predictions_df])\n",
    "\n",
    "# non_predictions_df = data_processing.concat_dfs(non_predictions_dfs, ignore_index=True)\n",
    "# non_predictions_df\n",
    "dfs\n"
   ]
  },
  {
   "cell_type": "code",
   "execution_count": null,
   "metadata": {},
   "outputs": [],
   "source": [
    "pd.set_option('display.max_columns', None)\n",
    "pd.set_option('display.max_rows', None)\n",
    "DataProcessing.concat_dfs(dfs)"
   ]
  },
  {
   "cell_type": "markdown",
   "metadata": {},
   "source": [
    "## Store Predictions and Non-Predictions"
   ]
  },
  {
   "cell_type": "code",
   "execution_count": null,
   "metadata": {},
   "outputs": [],
   "source": [
    "%store updated_predictions_df\n",
    "%store updated_non_predictions_df"
   ]
  },
  {
   "cell_type": "markdown",
   "metadata": {},
   "source": [
    "## Further Explaination\n",
    "\n",
    "- Need to optimize code\n",
    "- Include multiple models next"
   ]
  },
  {
   "cell_type": "markdown",
   "metadata": {},
   "source": [
    "### Multiple Models to Generate Predictions"
   ]
  },
  {
   "cell_type": "code",
   "execution_count": null,
   "metadata": {},
   "outputs": [],
   "source": [
    "# domains = [\"financial\", \"weather\", \"health care\"]\n",
    "# llama_model = LlamaTextGenerationModel()\n",
    "# model_2 = SomeModel()\n",
    "\n",
    "# # Should all model dfs be a list of dataframes? Then we can concatenate them all together with pd.concat()\n",
    "# for domain in domains:\n",
    "#     llama_df = llama_model.generate_predictions(financial_prompt_output, 1, domain)\n",
    "#     model_2_df = model_2.generate_predictions(financial_prompt_output, 1, domain)\n",
    "\n",
    "\n",
    "# # or \n",
    "\n",
    "# llama_df = llama_model.generate_predictions(financial_prompt_output, 1, \"financial\")\n",
    "# model_2_df = model_2.generate_predictions(financial_prompt_output, 1, \"financial\")\n",
    "\n",
    "# llama_df = llama_model.generate_predictions(financial_prompt_output, 1, \"weather\")\n",
    "# model_2_df = model_2.generate_predictions(financial_prompt_output, 1, \"weather\")\n",
    "\n",
    "# llama_df = llama_model.generate_predictions(financial_prompt_output, 1, \"health care\")\n",
    "# model_2_df = model_2.generate_predictions(financial_prompt_output, 1, \"health care\")"
   ]
  }
 ],
 "metadata": {
  "kernelspec": {
   "display_name": "predictions",
   "language": "python",
   "name": "python3"
  },
  "language_info": {
   "codemirror_mode": {
    "name": "ipython",
    "version": 3
   },
   "file_extension": ".py",
   "mimetype": "text/x-python",
   "name": "python",
   "nbconvert_exporter": "python",
   "pygments_lexer": "ipython3",
   "version": "3.11.0"
  }
 },
 "nbformat": 4,
 "nbformat_minor": 2
}
